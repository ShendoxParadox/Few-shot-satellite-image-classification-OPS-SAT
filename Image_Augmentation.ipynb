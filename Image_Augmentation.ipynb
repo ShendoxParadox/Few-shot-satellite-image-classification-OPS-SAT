{
 "cells": [
  {
   "cell_type": "code",
   "execution_count": 1,
   "id": "8f80d63d",
   "metadata": {
    "ExecuteTime": {
     "end_time": "2022-10-30T19:36:13.058993Z",
     "start_time": "2022-10-30T19:36:13.049279Z"
    }
   },
   "outputs": [
    {
     "data": {
      "text/plain": [
       "'3.9.16 (main, Mar  8 2023, 14:00:05) \\n[GCC 11.2.0]'"
      ]
     },
     "execution_count": 1,
     "metadata": {},
     "output_type": "execute_result"
    }
   ],
   "source": [
    "import sys\n",
    "sys.version"
   ]
  },
  {
   "cell_type": "code",
   "execution_count": 2,
   "id": "e5dd64cc",
   "metadata": {
    "ExecuteTime": {
     "end_time": "2022-10-30T19:36:13.345326Z",
     "start_time": "2022-10-30T19:36:13.231707Z"
    }
   },
   "outputs": [
    {
     "name": "stdout",
     "output_type": "stream",
     "text": [
      "/usr/bin/zsh: /home/ramez/miniconda3/envs/thesis/lib/libtinfo.so.6: no version information available (required by /usr/bin/zsh)\n",
      "Python 3.9.16\n"
     ]
    }
   ],
   "source": [
    "! python --version"
   ]
  },
  {
   "cell_type": "code",
   "execution_count": 3,
   "id": "b5a9b2ae",
   "metadata": {
    "ExecuteTime": {
     "end_time": "2022-10-30T19:36:13.417884Z",
     "start_time": "2022-10-30T19:36:13.415511Z"
    }
   },
   "outputs": [],
   "source": [
    "# !pip install scikit-image"
   ]
  },
  {
   "cell_type": "code",
   "execution_count": 4,
   "id": "87c54ffe",
   "metadata": {
    "ExecuteTime": {
     "end_time": "2022-10-30T19:36:14.366039Z",
     "start_time": "2022-10-30T19:36:13.591009Z"
    }
   },
   "outputs": [],
   "source": [
    "from skimage import transform"
   ]
  },
  {
   "cell_type": "code",
   "execution_count": 5,
   "id": "cd412fe4",
   "metadata": {
    "ExecuteTime": {
     "end_time": "2022-10-30T19:36:14.386804Z",
     "start_time": "2022-10-30T19:36:14.367754Z"
    }
   },
   "outputs": [],
   "source": [
    "import imageio as iio"
   ]
  },
  {
   "cell_type": "code",
   "execution_count": 6,
   "id": "c344eeea",
   "metadata": {
    "ExecuteTime": {
     "end_time": "2022-10-30T19:36:14.682459Z",
     "start_time": "2022-10-30T19:36:14.388323Z"
    }
   },
   "outputs": [],
   "source": [
    "import matplotlib.pyplot as plt"
   ]
  },
  {
   "cell_type": "code",
   "execution_count": 7,
   "id": "eb8d378d",
   "metadata": {
    "ExecuteTime": {
     "end_time": "2022-10-30T19:36:14.700017Z",
     "start_time": "2022-10-30T19:36:14.684158Z"
    }
   },
   "outputs": [],
   "source": [
    "import cv2\n",
    "import os"
   ]
  },
  {
   "cell_type": "code",
   "execution_count": 8,
   "id": "1bf5c353",
   "metadata": {
    "ExecuteTime": {
     "end_time": "2022-10-30T19:36:14.711849Z",
     "start_time": "2022-10-30T19:36:14.701318Z"
    }
   },
   "outputs": [],
   "source": [
    "import Augmentor"
   ]
  },
  {
   "cell_type": "code",
   "execution_count": 9,
   "id": "c795e42e",
   "metadata": {
    "ExecuteTime": {
     "end_time": "2022-10-30T19:36:14.908958Z",
     "start_time": "2022-10-30T19:36:14.714215Z"
    }
   },
   "outputs": [],
   "source": [
    "import albumentations as A"
   ]
  },
  {
   "cell_type": "code",
   "execution_count": 10,
   "id": "07ce5b79",
   "metadata": {
    "ExecuteTime": {
     "end_time": "2022-10-30T19:36:14.914332Z",
     "start_time": "2022-10-30T19:36:14.911508Z"
    }
   },
   "outputs": [],
   "source": [
    "from imgaug import augmenters as iaa"
   ]
  },
  {
   "cell_type": "markdown",
   "id": "8cc2642d",
   "metadata": {},
   "source": [
    "# Rotations"
   ]
  },
  {
   "cell_type": "code",
   "execution_count": 21,
   "id": "746419ff",
   "metadata": {
    "ExecuteTime": {
     "end_time": "2022-10-30T19:36:18.795802Z",
     "start_time": "2022-10-30T19:36:18.793373Z"
    }
   },
   "outputs": [],
   "source": [
    "rotations = [90, 180, 270]"
   ]
  },
  {
   "cell_type": "code",
   "execution_count": 22,
   "id": "a6e769a0",
   "metadata": {
    "ExecuteTime": {
     "end_time": "2022-10-30T19:36:22.077980Z",
     "start_time": "2022-10-30T19:36:22.075440Z"
    }
   },
   "outputs": [],
   "source": [
    "dirs = os.listdir(\"../Data/Variation_Augmentation/train/\")"
   ]
  },
  {
   "cell_type": "code",
   "execution_count": 26,
   "id": "baafd13d",
   "metadata": {
    "ExecuteTime": {
     "end_time": "2022-10-30T19:36:33.611472Z",
     "start_time": "2022-10-30T19:36:23.261957Z"
    }
   },
   "outputs": [
    {
     "name": "stdout",
     "output_type": "stream",
     "text": [
      "Natural_002.png\n",
      "Natural_002.png\n",
      "Natural_002.png\n",
      "Natural_009.png\n",
      "Natural_009.png\n",
      "Natural_009.png\n",
      "Natural_003.png\n",
      "Natural_003.png\n",
      "Natural_003.png\n",
      "Natural_005.png\n",
      "Natural_005.png\n",
      "Natural_005.png\n",
      "Natural_007.png\n",
      "Natural_007.png\n",
      "Natural_007.png\n",
      "Snow_001.png\n",
      "Snow_001.png\n",
      "Snow_001.png\n",
      "Snow_002.png\n",
      "Snow_002.png\n",
      "Snow_002.png\n",
      "Snow_003.png\n",
      "Snow_003.png\n",
      "Snow_003.png\n",
      "Snow_007.png\n",
      "Snow_007.png\n",
      "Snow_007.png\n",
      "Snow_006.png\n",
      "Snow_006.png\n",
      "Snow_006.png\n",
      "River_009.png\n",
      "River_009.png\n",
      "River_009.png\n",
      "River_006.png\n",
      "River_006.png\n",
      "River_006.png\n",
      "River_005.png\n",
      "River_005.png\n",
      "River_005.png\n",
      "River_001.png\n",
      "River_001.png\n",
      "River_001.png\n",
      "River_002.png\n",
      "River_002.png\n",
      "River_002.png\n",
      "Mountain_005.png\n",
      "Mountain_005.png\n",
      "Mountain_005.png\n",
      "Mountain_001.png\n",
      "Mountain_001.png\n",
      "Mountain_001.png\n",
      "Mountain_002.png\n",
      "Mountain_002.png\n",
      "Mountain_002.png\n",
      "Mountain_003.png\n",
      "Mountain_003.png\n",
      "Mountain_003.png\n",
      "Mountain_010.png\n",
      "Mountain_010.png\n",
      "Mountain_010.png\n",
      "Agricultural_007.png\n",
      "Agricultural_007.png\n",
      "Agricultural_007.png\n",
      "Agricultural_006.png\n",
      "Agricultural_006.png\n",
      "Agricultural_006.png\n",
      "Agricultural_001.png\n",
      "Agricultural_001.png\n",
      "Agricultural_001.png\n",
      "Agricultural_002.png\n",
      "Agricultural_002.png\n",
      "Agricultural_002.png\n",
      "Agricultural_003.png\n",
      "Agricultural_003.png\n",
      "Agricultural_003.png\n",
      "Cloud_010.png\n",
      "Cloud_010.png\n",
      "Cloud_010.png\n",
      "Cloud_001.png\n",
      "Cloud_001.png\n",
      "Cloud_001.png\n",
      "Cloud_009.png\n",
      "Cloud_009.png\n",
      "Cloud_009.png\n",
      "Cloud_008.png\n",
      "Cloud_008.png\n",
      "Cloud_008.png\n",
      "Cloud_007.png\n",
      "Cloud_007.png\n",
      "Cloud_007.png\n",
      "Sea_ice_001.png\n",
      "Sea_ice_001.png\n",
      "Sea_ice_001.png\n",
      "Sea_ice_002.png\n",
      "Sea_ice_002.png\n",
      "Sea_ice_002.png\n",
      "Sea_ice_010.png\n",
      "Sea_ice_010.png\n",
      "Sea_ice_010.png\n",
      "Sea_ice_007.png\n",
      "Sea_ice_007.png\n",
      "Sea_ice_007.png\n",
      "Sea_ice_005.png\n",
      "Sea_ice_005.png\n",
      "Sea_ice_005.png\n",
      "Water_008.png\n",
      "Water_008.png\n",
      "Water_008.png\n",
      "Water_003.png\n",
      "Water_003.png\n",
      "Water_003.png\n",
      "Water_006.png\n",
      "Water_006.png\n",
      "Water_006.png\n",
      "Water_002.png\n",
      "Water_002.png\n",
      "Water_002.png\n",
      "Water_001.png\n",
      "Water_001.png\n",
      "Water_001.png\n"
     ]
    }
   ],
   "source": [
    "for directory in dirs:\n",
    "    \n",
    "    path = \"../Data/Variation_Augmentation/train/\" + directory + \"/\"\n",
    "    files = os.listdir(path)\n",
    "    \n",
    "    \n",
    "    for file in files:\n",
    "        \n",
    "        img = cv2.imread(path + file)\n",
    "        \n",
    "        for r in rotations:\n",
    "            rotated_img = transform.rotate(img,\n",
    "                                  angle = r,\n",
    "                                  resize=False)\n",
    "        \n",
    "            file_write = file[:-4]\n",
    "            rotated_img = cv2.convertScaleAbs(rotated_img, alpha=(255.0))\n",
    "            cv2.imwrite(\"../Data/Variation_Augmentation/train/\" + directory + \"/\" + file_write + \"_\" + \"rotated_\" + str(r) + \".png\", rotated_img)\n",
    "            # print(\"../Data/Variation_Augmentation/train/\" + directory + \"/\" + file + \"_\" + \"rotated_\" + str(r) + \".png\")\n",
    "            # print(file)"
   ]
  },
  {
   "cell_type": "markdown",
   "id": "f2eb775e",
   "metadata": {},
   "source": [
    "# Flip"
   ]
  },
  {
   "cell_type": "code",
   "execution_count": 27,
   "id": "4f080e67",
   "metadata": {
    "ExecuteTime": {
     "end_time": "2022-10-30T19:36:38.255474Z",
     "start_time": "2022-10-30T19:36:38.252733Z"
    }
   },
   "outputs": [],
   "source": [
    "dirs = os.listdir(\"../Data/Variation_Augmentation/train/\")"
   ]
  },
  {
   "cell_type": "code",
   "execution_count": 28,
   "id": "fa364341",
   "metadata": {
    "ExecuteTime": {
     "end_time": "2022-10-30T19:36:47.592656Z",
     "start_time": "2022-10-30T19:36:38.887387Z"
    }
   },
   "outputs": [
    {
     "name": "stdout",
     "output_type": "stream",
     "text": [
      "Initialised with 20 image(s) found.\n",
      "Output directory set to ../Data/Variation_Augmentation/train/Natural/output."
     ]
    },
    {
     "name": "stderr",
     "output_type": "stream",
     "text": [
      "Processing <PIL.Image.Image image mode=RGB size=200x200 at 0x7FC0E7A3E880>: 100%\n",
      "Processing <PIL.Image.Image image mode=RGB size=200x200 at 0x7FC0E7A3E0D0>: 100%\n"
     ]
    },
    {
     "name": "stdout",
     "output_type": "stream",
     "text": [
      "Initialised with 20 image(s) found.\n",
      "Output directory set to ../Data/Variation_Augmentation/train/Snow/output."
     ]
    },
    {
     "name": "stderr",
     "output_type": "stream",
     "text": [
      "Processing <PIL.Image.Image image mode=RGB size=200x200 at 0x7FC0E7011970>: 100%\n",
      "Processing <PIL.Image.Image image mode=RGB size=200x200 at 0x7FC0E75973A0>: 100%\n"
     ]
    },
    {
     "name": "stdout",
     "output_type": "stream",
     "text": [
      "Initialised with 20 image(s) found.\n",
      "Output directory set to ../Data/Variation_Augmentation/train/River/output."
     ]
    },
    {
     "name": "stderr",
     "output_type": "stream",
     "text": [
      "Processing <PIL.Image.Image image mode=RGB size=200x200 at 0x7FC0E79EFCA0>: 100%\n",
      "Processing <PIL.Image.Image image mode=RGB size=200x200 at 0x7FC0E75973D0>: 100%\n"
     ]
    },
    {
     "name": "stdout",
     "output_type": "stream",
     "text": [
      "Initialised with 20 image(s) found.\n",
      "Output directory set to ../Data/Variation_Augmentation/train/Mountain/output."
     ]
    },
    {
     "name": "stderr",
     "output_type": "stream",
     "text": [
      "Processing <PIL.Image.Image image mode=RGB size=200x200 at 0x7FC0E79EF760>: 100%\n",
      "Processing <PIL.Image.Image image mode=RGB size=200x200 at 0x7FC0E7A3E310>: 100%\n"
     ]
    },
    {
     "name": "stdout",
     "output_type": "stream",
     "text": [
      "Initialised with 20 image(s) found.\n",
      "Output directory set to ../Data/Variation_Augmentation/train/Agricultural/output."
     ]
    },
    {
     "name": "stderr",
     "output_type": "stream",
     "text": [
      "Processing <PIL.Image.Image image mode=RGB size=200x200 at 0x7FC0E7597850>: 100%\n",
      "Processing <PIL.Image.Image image mode=RGB size=200x200 at 0x7FC0E7A30790>: 100%\n"
     ]
    },
    {
     "name": "stdout",
     "output_type": "stream",
     "text": [
      "Initialised with 20 image(s) found.\n",
      "Output directory set to ../Data/Variation_Augmentation/train/Cloud/output."
     ]
    },
    {
     "name": "stderr",
     "output_type": "stream",
     "text": [
      "Processing <PIL.Image.Image image mode=RGB size=200x200 at 0x7FC0E7A3E460>: 100%\n",
      "Processing <PIL.Image.Image image mode=RGB size=200x200 at 0x7FC0E76C8C40>: 100%\n"
     ]
    },
    {
     "name": "stdout",
     "output_type": "stream",
     "text": [
      "Initialised with 20 image(s) found.\n",
      "Output directory set to ../Data/Variation_Augmentation/train/Sea_ice/output."
     ]
    },
    {
     "name": "stderr",
     "output_type": "stream",
     "text": [
      "Processing <PIL.Image.Image image mode=RGB size=200x200 at 0x7FC0E79EF760>: 100%\n",
      "Processing <PIL.Image.Image image mode=RGB size=200x200 at 0x7FC0E76C8C10>: 100%\n"
     ]
    },
    {
     "name": "stdout",
     "output_type": "stream",
     "text": [
      "Initialised with 20 image(s) found.\n",
      "Output directory set to ../Data/Variation_Augmentation/train/Water/output."
     ]
    },
    {
     "name": "stderr",
     "output_type": "stream",
     "text": [
      "Processing <PIL.Image.Image image mode=RGB size=200x200 at 0x7FC0E75A98B0>: 100%\n",
      "Processing <PIL.Image.Image image mode=RGB size=200x200 at 0x7FC0E75BCAC0>: 100%\n"
     ]
    }
   ],
   "source": [
    "for directory in dirs:\n",
    "    \n",
    "    path = \"../Data/Variation_Augmentation/train/\" + directory + \"/\"\n",
    "    files = os.listdir(path)\n",
    "#     n_samples = len(files)\n",
    "    \n",
    "    p = Augmentor.Pipeline(path)\n",
    "    p.flip_left_right(probability=1)\n",
    "    p.process()\n",
    "    p.flip_top_bottom(probability=1)\n",
    "    p.process()\n",
    "    \n",
    "    "
   ]
  },
  {
   "cell_type": "markdown",
   "id": "af8fbca1",
   "metadata": {},
   "source": [
    "# Brightness Contrast"
   ]
  },
  {
   "cell_type": "code",
   "execution_count": 29,
   "id": "b36703d9",
   "metadata": {
    "ExecuteTime": {
     "end_time": "2022-10-30T19:38:16.056696Z",
     "start_time": "2022-10-30T19:38:16.054403Z"
    }
   },
   "outputs": [],
   "source": [
    "dirs = os.listdir(\"../Data/Variation_Augmentation/train/\")"
   ]
  },
  {
   "cell_type": "code",
   "execution_count": 31,
   "id": "9a7ae295",
   "metadata": {
    "ExecuteTime": {
     "end_time": "2022-10-30T19:38:29.302193Z",
     "start_time": "2022-10-30T19:38:18.629377Z"
    }
   },
   "outputs": [],
   "source": [
    "# variations = [1,2,3]\n",
    "for directory in dirs:\n",
    "    \n",
    "    path = \"../Data/Variation_Augmentation/train/\" + directory + \"/\"\n",
    "    files = os.listdir(path)\n",
    "    \n",
    "    \n",
    "    for file in files:\n",
    "        \n",
    "        img = cv2.imread(path + file)\n",
    "        \n",
    "            \n",
    "        transform = A.Compose([A.RandomBrightnessContrast(p=1, brightness_by_max=False)])\n",
    "        transformed = transform(image = img)\n",
    "        transformed_img = transformed[\"image\"]\n",
    "\n",
    "        file_write = file[:-4]\n",
    "#             cv2.imwrite(\"../Data/ops_sat_train_old_augmented/\" + directory + \"/\" + file + \"_\" + \"bright_contrast_\" + str(v) + \".png\", cv2.cvtColor(transformed_img, cv2.COLOR_RGB2BGR))\n",
    "        cv2.imwrite(\"../Data/Variation_Augmentation/train/\" + directory + \"/\" + file_write + \"_bright_contrast_\" + \".png\", transformed_img)"
   ]
  },
  {
   "cell_type": "markdown",
   "id": "265e14b7",
   "metadata": {},
   "source": [
    "# Noise"
   ]
  },
  {
   "cell_type": "code",
   "execution_count": 32,
   "id": "e7247149",
   "metadata": {
    "ExecuteTime": {
     "end_time": "2022-10-30T19:38:36.642185Z",
     "start_time": "2022-10-30T19:38:36.640061Z"
    }
   },
   "outputs": [],
   "source": [
    "dirs = os.listdir(\"../Data/Variation_Augmentation/train/\")"
   ]
  },
  {
   "cell_type": "code",
   "execution_count": 33,
   "id": "5f1948ac",
   "metadata": {
    "ExecuteTime": {
     "end_time": "2022-10-30T19:39:06.450874Z",
     "start_time": "2022-10-30T19:38:37.835298Z"
    }
   },
   "outputs": [
    {
     "name": "stderr",
     "output_type": "stream",
     "text": [
      "/tmp/ipykernel_7481/3955894668.py:10: DeprecationWarning: Starting with ImageIO v3 the behavior of this function will switch to that of iio.v3.imread. To keep the current behavior (and make this warning disappear) use `import imageio.v2 as imageio` or call `imageio.v2.imread` directly.\n",
      "  img = iio.imread(path + file)\n"
     ]
    }
   ],
   "source": [
    "# variations = [1,2,3]\n",
    "for directory in dirs:\n",
    "    \n",
    "    path = \"../Data/Variation_Augmentation/train/\" + directory + \"/\"\n",
    "    files = os.listdir(path)\n",
    "    \n",
    "    \n",
    "    for file in files:\n",
    "        \n",
    "        img = iio.imread(path + file)\n",
    "        \n",
    "            \n",
    "        transform = iaa.Sequential([iaa.AdditiveGaussianNoise(scale=(1,3))])\n",
    "        transformed_img = transform(image = img)\n",
    "\n",
    "        file_write = file[:-4]\n",
    "#             cv2.imwrite(\"../Data/ops_sat_train_old_augmented/\" + directory + \"/\" + file + \"_\" + \"bright_contrast_\" + str(v) + \".png\", cv2.cvtColor(transformed_img, cv2.COLOR_RGB2BGR))\n",
    "        cv2.imwrite(\"../Data/Variation_Augmentation/train/\" + directory + \"/\" + file_write + \"_\" + \"noise\" + \".png\", cv2.cvtColor(transformed_img, cv2.COLOR_RGB2BGR))"
   ]
  },
  {
   "cell_type": "code",
   "execution_count": null,
   "id": "87660371",
   "metadata": {},
   "outputs": [],
   "source": []
  }
 ],
 "metadata": {
  "kernelspec": {
   "display_name": "Python 3 (ipykernel)",
   "language": "python",
   "name": "python3"
  },
  "language_info": {
   "codemirror_mode": {
    "name": "ipython",
    "version": 3
   },
   "file_extension": ".py",
   "mimetype": "text/x-python",
   "name": "python",
   "nbconvert_exporter": "python",
   "pygments_lexer": "ipython3",
   "version": "3.9.16"
  },
  "toc": {
   "base_numbering": 1,
   "nav_menu": {},
   "number_sections": true,
   "sideBar": true,
   "skip_h1_title": false,
   "title_cell": "Table of Contents",
   "title_sidebar": "Contents",
   "toc_cell": false,
   "toc_position": {},
   "toc_section_display": true,
   "toc_window_display": false
  }
 },
 "nbformat": 4,
 "nbformat_minor": 5
}
