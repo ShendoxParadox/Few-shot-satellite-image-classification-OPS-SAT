{
 "cells": [
  {
   "cell_type": "code",
   "execution_count": 1,
   "id": "8f80d63d",
   "metadata": {
    "ExecuteTime": {
     "end_time": "2022-10-30T19:36:13.058993Z",
     "start_time": "2022-10-30T19:36:13.049279Z"
    }
   },
   "outputs": [
    {
     "data": {
      "text/plain": [
       "'3.9.15 (main, Oct 12 2022, 19:14:37) \\n[GCC 11.2.0]'"
      ]
     },
     "execution_count": 1,
     "metadata": {},
     "output_type": "execute_result"
    }
   ],
   "source": [
    "import sys\n",
    "sys.version"
   ]
  },
  {
   "cell_type": "code",
   "execution_count": 2,
   "id": "e5dd64cc",
   "metadata": {
    "ExecuteTime": {
     "end_time": "2022-10-30T19:36:13.345326Z",
     "start_time": "2022-10-30T19:36:13.231707Z"
    }
   },
   "outputs": [
    {
     "name": "stdout",
     "output_type": "stream",
     "text": [
      "/usr/bin/zsh: /home/ramez/anaconda3/lib/libtinfo.so.6: no version information available (required by /usr/bin/zsh)\r\n",
      "Python 3.9.15\r\n"
     ]
    }
   ],
   "source": [
    "! python --version"
   ]
  },
  {
   "cell_type": "code",
   "execution_count": 3,
   "id": "b5a9b2ae",
   "metadata": {
    "ExecuteTime": {
     "end_time": "2022-10-30T19:36:13.417884Z",
     "start_time": "2022-10-30T19:36:13.415511Z"
    }
   },
   "outputs": [],
   "source": [
    "# !pip install scikit-image"
   ]
  },
  {
   "cell_type": "code",
   "execution_count": 4,
   "id": "87c54ffe",
   "metadata": {
    "ExecuteTime": {
     "end_time": "2022-10-30T19:36:14.366039Z",
     "start_time": "2022-10-30T19:36:13.591009Z"
    }
   },
   "outputs": [],
   "source": [
    "from skimage import transform"
   ]
  },
  {
   "cell_type": "code",
   "execution_count": 5,
   "id": "cd412fe4",
   "metadata": {
    "ExecuteTime": {
     "end_time": "2022-10-30T19:36:14.386804Z",
     "start_time": "2022-10-30T19:36:14.367754Z"
    }
   },
   "outputs": [],
   "source": [
    "import imageio as iio"
   ]
  },
  {
   "cell_type": "code",
   "execution_count": 6,
   "id": "c344eeea",
   "metadata": {
    "ExecuteTime": {
     "end_time": "2022-10-30T19:36:14.682459Z",
     "start_time": "2022-10-30T19:36:14.388323Z"
    }
   },
   "outputs": [],
   "source": [
    "import matplotlib.pyplot as plt"
   ]
  },
  {
   "cell_type": "code",
   "execution_count": 7,
   "id": "eb8d378d",
   "metadata": {
    "ExecuteTime": {
     "end_time": "2022-10-30T19:36:14.700017Z",
     "start_time": "2022-10-30T19:36:14.684158Z"
    }
   },
   "outputs": [],
   "source": [
    "import cv2\n",
    "import os"
   ]
  },
  {
   "cell_type": "code",
   "execution_count": 8,
   "id": "1bf5c353",
   "metadata": {
    "ExecuteTime": {
     "end_time": "2022-10-30T19:36:14.711849Z",
     "start_time": "2022-10-30T19:36:14.701318Z"
    }
   },
   "outputs": [],
   "source": [
    "import Augmentor"
   ]
  },
  {
   "cell_type": "code",
   "execution_count": 9,
   "id": "c795e42e",
   "metadata": {
    "ExecuteTime": {
     "end_time": "2022-10-30T19:36:14.908958Z",
     "start_time": "2022-10-30T19:36:14.714215Z"
    }
   },
   "outputs": [],
   "source": [
    "import albumentations as A"
   ]
  },
  {
   "cell_type": "code",
   "execution_count": 10,
   "id": "07ce5b79",
   "metadata": {
    "ExecuteTime": {
     "end_time": "2022-10-30T19:36:14.914332Z",
     "start_time": "2022-10-30T19:36:14.911508Z"
    }
   },
   "outputs": [],
   "source": [
    "from imgaug import augmenters as iaa"
   ]
  },
  {
   "cell_type": "code",
   "execution_count": 11,
   "id": "bafdaa51",
   "metadata": {
    "ExecuteTime": {
     "end_time": "2022-10-30T19:36:15.052079Z",
     "start_time": "2022-10-30T19:36:15.049177Z"
    }
   },
   "outputs": [],
   "source": [
    "# !pip install imgaug"
   ]
  },
  {
   "cell_type": "code",
   "execution_count": 12,
   "id": "69acfae6",
   "metadata": {
    "ExecuteTime": {
     "end_time": "2022-10-30T19:36:15.461954Z",
     "start_time": "2022-10-30T19:36:15.458996Z"
    }
   },
   "outputs": [],
   "source": [
    "# !pip install albumentations"
   ]
  },
  {
   "cell_type": "code",
   "execution_count": 13,
   "id": "738702a8",
   "metadata": {
    "ExecuteTime": {
     "end_time": "2022-10-30T19:36:17.928143Z",
     "start_time": "2022-10-30T19:36:17.925976Z"
    }
   },
   "outputs": [],
   "source": [
    "# !pip install augmentor"
   ]
  },
  {
   "cell_type": "code",
   "execution_count": 14,
   "id": "637d3956",
   "metadata": {
    "ExecuteTime": {
     "end_time": "2022-10-30T19:36:18.125082Z",
     "start_time": "2022-10-30T19:36:18.122572Z"
    }
   },
   "outputs": [],
   "source": [
    "# !pip install matplotlib"
   ]
  },
  {
   "cell_type": "markdown",
   "id": "8cc2642d",
   "metadata": {},
   "source": [
    "# Rotations"
   ]
  },
  {
   "cell_type": "code",
   "execution_count": 15,
   "id": "746419ff",
   "metadata": {
    "ExecuteTime": {
     "end_time": "2022-10-30T19:36:18.795802Z",
     "start_time": "2022-10-30T19:36:18.793373Z"
    }
   },
   "outputs": [],
   "source": [
    "rotations = [90, 180, 270]"
   ]
  },
  {
   "cell_type": "code",
   "execution_count": 16,
   "id": "a6e769a0",
   "metadata": {
    "ExecuteTime": {
     "end_time": "2022-10-30T19:36:22.077980Z",
     "start_time": "2022-10-30T19:36:22.075440Z"
    }
   },
   "outputs": [],
   "source": [
    "dirs = os.listdir(\"../Data/Train_Aug/\")"
   ]
  },
  {
   "cell_type": "code",
   "execution_count": 17,
   "id": "baafd13d",
   "metadata": {
    "ExecuteTime": {
     "end_time": "2022-10-30T19:36:33.611472Z",
     "start_time": "2022-10-30T19:36:23.261957Z"
    }
   },
   "outputs": [],
   "source": [
    "for directory in dirs:\n",
    "    \n",
    "    path = \"../Data/Train_Aug/\" + directory + \"/\"\n",
    "    files = os.listdir(path)\n",
    "    \n",
    "    \n",
    "    for file in files:\n",
    "        \n",
    "        img = cv2.imread(path + file)\n",
    "        \n",
    "        for r in rotations:\n",
    "            rotated_img = transform.rotate(img,\n",
    "                                  angle = r,\n",
    "                                  resize=False)\n",
    "        \n",
    "            file = file[:-4]\n",
    "            rotated_img = cv2.convertScaleAbs(rotated_img, alpha=(255.0))\n",
    "            cv2.imwrite(\"../Data/Train_Aug/\" + directory + \"/\" + file + \"_\" + \"rotated\" + str(r) + \".png\", rotated_img)"
   ]
  },
  {
   "cell_type": "code",
   "execution_count": 17,
   "id": "40c23270",
   "metadata": {
    "ExecuteTime": {
     "end_time": "2022-10-29T07:56:36.086261Z",
     "start_time": "2022-10-29T07:56:36.083509Z"
    }
   },
   "outputs": [],
   "source": [
    "dirs = os.listdir(\"../Data/images_augmented_processed_train/\")"
   ]
  },
  {
   "cell_type": "code",
   "execution_count": 18,
   "id": "513f1178",
   "metadata": {
    "ExecuteTime": {
     "end_time": "2022-10-29T07:56:58.659137Z",
     "start_time": "2022-10-29T07:56:55.069354Z"
    }
   },
   "outputs": [],
   "source": [
    "for directory in dirs:\n",
    "    \n",
    "    path = \"../Data/images_augmented_processed_train/\" + directory + \"/\"\n",
    "    files = os.listdir(path)\n",
    "    \n",
    "    \n",
    "    for file in files:\n",
    "        \n",
    "        img = cv2.imread(path + file)\n",
    "        \n",
    "        for r in rotations:\n",
    "            rotated_img = transform.rotate(img,\n",
    "                                  angle = r,\n",
    "                                  resize=False)\n",
    "        \n",
    "            file = file[:-4]\n",
    "            rotated_img = cv2.convertScaleAbs(rotated_img, alpha=(255.0))\n",
    "            cv2.imwrite(\"../Data/images_augmented_processed_train/\" + directory + \"/\" + file + \"_\" + \"rotated\" + str(r) + \".png\", rotated_img)"
   ]
  },
  {
   "cell_type": "code",
   "execution_count": null,
   "id": "f32ca6a1",
   "metadata": {},
   "outputs": [],
   "source": []
  },
  {
   "cell_type": "markdown",
   "id": "f2eb775e",
   "metadata": {},
   "source": [
    "# Flip"
   ]
  },
  {
   "cell_type": "code",
   "execution_count": 18,
   "id": "4f080e67",
   "metadata": {
    "ExecuteTime": {
     "end_time": "2022-10-30T19:36:38.255474Z",
     "start_time": "2022-10-30T19:36:38.252733Z"
    }
   },
   "outputs": [],
   "source": [
    "dirs = os.listdir(\"../Data/Train_Aug/\")"
   ]
  },
  {
   "cell_type": "code",
   "execution_count": 19,
   "id": "fa364341",
   "metadata": {
    "ExecuteTime": {
     "end_time": "2022-10-30T19:36:47.592656Z",
     "start_time": "2022-10-30T19:36:38.887387Z"
    }
   },
   "outputs": [
    {
     "name": "stdout",
     "output_type": "stream",
     "text": [
      "Initialised with 126 image(s) found.\n",
      "Output directory set to ../Data/Train_Aug/Natural/output."
     ]
    },
    {
     "name": "stderr",
     "output_type": "stream",
     "text": [
      "Processing <PIL.Image.Image image mode=RGB size=200x200 at 0x7F364C473070>: 100%\n",
      "Processing <PIL.Image.Image image mode=RGB size=200x200 at 0x7F364C4737F0>: 100%\n"
     ]
    },
    {
     "name": "stdout",
     "output_type": "stream",
     "text": [
      "Initialised with 128 image(s) found.\n",
      "Output directory set to ../Data/Train_Aug/Snow/output."
     ]
    },
    {
     "name": "stderr",
     "output_type": "stream",
     "text": [
      "Processing <PIL.Image.Image image mode=RGB size=200x200 at 0x7F364C44AC70>: 100%\n",
      "Processing <PIL.Image.Image image mode=RGB size=200x200 at 0x7F364C4601C0>: 100%\n"
     ]
    },
    {
     "name": "stdout",
     "output_type": "stream",
     "text": [
      "Initialised with 144 image(s) found.\n",
      "Output directory set to ../Data/Train_Aug/River/output."
     ]
    },
    {
     "name": "stderr",
     "output_type": "stream",
     "text": [
      "Processing <PIL.Image.Image image mode=RGB size=200x200 at 0x7F364CCD9130>: 100%\n",
      "Processing <PIL.Image.Image image mode=RGB size=200x200 at 0x7F364C418FA0>: 100%\n"
     ]
    },
    {
     "name": "stdout",
     "output_type": "stream",
     "text": [
      "Initialised with 234 image(s) found.\n",
      "Output directory set to ../Data/Train_Aug/Mountain/output."
     ]
    },
    {
     "name": "stderr",
     "output_type": "stream",
     "text": [
      "Processing <PIL.Image.Image image mode=RGB size=200x200 at 0x7F364EE4EB50>: 100%\n",
      "Processing <PIL.Image.Image image mode=RGB size=200x200 at 0x7F364C3EE6D0>: 100%\n"
     ]
    },
    {
     "name": "stdout",
     "output_type": "stream",
     "text": [
      "Initialised with 112 image(s) found.\n",
      "Output directory set to ../Data/Train_Aug/Agricultural/output."
     ]
    },
    {
     "name": "stderr",
     "output_type": "stream",
     "text": [
      "Processing <PIL.Image.Image image mode=RGB size=200x200 at 0x7F364C46FCD0>: 100%\n",
      "Processing <PIL.Image.Image image mode=RGB size=200x200 at 0x7F364C441040>: 100%\n"
     ]
    },
    {
     "name": "stdout",
     "output_type": "stream",
     "text": [
      "Initialised with 230 image(s) found.\n",
      "Output directory set to ../Data/Train_Aug/Cloud/output."
     ]
    },
    {
     "name": "stderr",
     "output_type": "stream",
     "text": [
      "Processing <PIL.Image.Image image mode=RGB size=200x200 at 0x7F364EE4E580>: 100%\n",
      "Processing <PIL.Image.Image image mode=RGB size=200x200 at 0x7F364C41ABB0>: 100%\n"
     ]
    },
    {
     "name": "stdout",
     "output_type": "stream",
     "text": [
      "Initialised with 114 image(s) found.\n",
      "Output directory set to ../Data/Train_Aug/Sea_ice/output."
     ]
    },
    {
     "name": "stderr",
     "output_type": "stream",
     "text": [
      "Processing <PIL.Image.Image image mode=RGB size=200x200 at 0x7F364C4639A0>: 100%\n",
      "Processing <PIL.Image.Image image mode=RGB size=200x200 at 0x7F364C463610>: 100%\n"
     ]
    },
    {
     "name": "stdout",
     "output_type": "stream",
     "text": [
      "Initialised with 168 image(s) found.\n",
      "Output directory set to ../Data/Train_Aug/Water/output."
     ]
    },
    {
     "name": "stderr",
     "output_type": "stream",
     "text": [
      "Processing <PIL.Image.Image image mode=RGB size=200x200 at 0x7F364C479850>: 100%\n",
      "Processing <PIL.Image.Image image mode=RGB size=200x200 at 0x7F364C385130>: 100%\n"
     ]
    }
   ],
   "source": [
    "for directory in dirs:\n",
    "    \n",
    "    path = \"../Data/Train_Aug/\" + directory + \"/\"\n",
    "    files = os.listdir(path)\n",
    "#     n_samples = len(files)\n",
    "    \n",
    "    p = Augmentor.Pipeline(path)\n",
    "    p.flip_left_right(probability=1)\n",
    "    p.process()\n",
    "    p.flip_top_bottom(probability=1)\n",
    "    p.process()\n",
    "    \n",
    "    "
   ]
  },
  {
   "cell_type": "code",
   "execution_count": null,
   "id": "d5c68fa0",
   "metadata": {},
   "outputs": [],
   "source": []
  },
  {
   "cell_type": "code",
   "execution_count": 19,
   "id": "8d2b5879",
   "metadata": {
    "ExecuteTime": {
     "end_time": "2022-10-29T07:57:28.463454Z",
     "start_time": "2022-10-29T07:57:28.460520Z"
    }
   },
   "outputs": [],
   "source": [
    "dirs = os.listdir(\"../Data/images_augmented_processed_train/\")"
   ]
  },
  {
   "cell_type": "code",
   "execution_count": 20,
   "id": "05ddc4dc",
   "metadata": {
    "ExecuteTime": {
     "end_time": "2022-10-29T07:57:32.138456Z",
     "start_time": "2022-10-29T07:57:28.990069Z"
    }
   },
   "outputs": [
    {
     "name": "stdout",
     "output_type": "stream",
     "text": [
      "Initialised with 54 image(s) found.\n",
      "Output directory set to ../Data/images_augmented_processed_train/Natural/output."
     ]
    },
    {
     "name": "stderr",
     "output_type": "stream",
     "text": [
      "Processing <PIL.Image.Image image mode=RGB size=200x200 at 0x7FE9ADA9B760>: 100%\n",
      "Processing <PIL.Image.Image image mode=RGB size=200x200 at 0x7FE9ABA64940>: 100%\n"
     ]
    },
    {
     "name": "stdout",
     "output_type": "stream",
     "text": [
      "Initialised with 50 image(s) found.\n",
      "Output directory set to ../Data/images_augmented_processed_train/Snow/output."
     ]
    },
    {
     "name": "stderr",
     "output_type": "stream",
     "text": [
      "Processing <PIL.Image.Image image mode=RGB size=200x200 at 0x7FE9ABA677C0>: 100%\n",
      "Processing <PIL.Image.Image image mode=RGB size=200x200 at 0x7FE9ADAB5820>: 100%\n"
     ]
    },
    {
     "name": "stdout",
     "output_type": "stream",
     "text": [
      "Initialised with 58 image(s) found.\n",
      "Output directory set to ../Data/images_augmented_processed_train/River/output."
     ]
    },
    {
     "name": "stderr",
     "output_type": "stream",
     "text": [
      "Processing <PIL.Image.Image image mode=RGB size=200x200 at 0x7FE9ADB2FA30>: 100%\n",
      "Processing <PIL.Image.Image image mode=RGB size=200x200 at 0x7FE9ADA55C70>: 100%\n"
     ]
    },
    {
     "name": "stdout",
     "output_type": "stream",
     "text": [
      "Initialised with 88 image(s) found.\n",
      "Output directory set to ../Data/images_augmented_processed_train/Mountain/output."
     ]
    },
    {
     "name": "stderr",
     "output_type": "stream",
     "text": [
      "Processing <PIL.Image.Image image mode=RGB size=200x200 at 0x7FE9ADA55EB0>: 100%\n",
      "Processing <PIL.Image.Image image mode=RGB size=200x200 at 0x7FE9ABA4AD90>: 100%\n"
     ]
    },
    {
     "name": "stdout",
     "output_type": "stream",
     "text": [
      "Initialised with 24 image(s) found.\n",
      "Output directory set to ../Data/images_augmented_processed_train/Agricultural/output."
     ]
    },
    {
     "name": "stderr",
     "output_type": "stream",
     "text": [
      "Processing <PIL.Image.Image image mode=RGB size=200x200 at 0x7FE9ADA7A610>: 100%\n",
      "Processing <PIL.Image.Image image mode=RGB size=200x200 at 0x7FE9ABA64C10>: 100%\n"
     ]
    },
    {
     "name": "stdout",
     "output_type": "stream",
     "text": [
      "Initialised with 112 image(s) found.\n",
      "Output directory set to ../Data/images_augmented_processed_train/Cloud/output."
     ]
    },
    {
     "name": "stderr",
     "output_type": "stream",
     "text": [
      "Processing <PIL.Image.Image image mode=RGB size=200x200 at 0x7FE9ADAAC850>: 100%\n",
      "Processing <PIL.Image.Image image mode=RGB size=200x200 at 0x7FE9ABA65C10>: 100%\n"
     ]
    },
    {
     "name": "stdout",
     "output_type": "stream",
     "text": [
      "Initialised with 18 image(s) found.\n",
      "Output directory set to ../Data/images_augmented_processed_train/Sea_ice/output."
     ]
    },
    {
     "name": "stderr",
     "output_type": "stream",
     "text": [
      "Processing <PIL.Image.Image image mode=RGB size=200x200 at 0x7FE9ADBABD60>: 100%\n",
      "Processing <PIL.Image.Image image mode=RGB size=200x200 at 0x7FE9ADA9B310>: 100%\n"
     ]
    },
    {
     "name": "stdout",
     "output_type": "stream",
     "text": [
      "Initialised with 66 image(s) found.\n",
      "Output directory set to ../Data/images_augmented_processed_train/Water/output."
     ]
    },
    {
     "name": "stderr",
     "output_type": "stream",
     "text": [
      "Processing <PIL.Image.Image image mode=RGB size=200x200 at 0x7FE9ADAFE940>: 100%\n",
      "Processing <PIL.Image.Image image mode=RGB size=200x200 at 0x7FE9ABA67610>: 100%\n"
     ]
    }
   ],
   "source": [
    "for directory in dirs:\n",
    "    \n",
    "    path = \"../Data/images_augmented_processed_train/\" + directory + \"/\"\n",
    "    files = os.listdir(path)\n",
    "#     n_samples = len(files)\n",
    "    \n",
    "    p = Augmentor.Pipeline(path)\n",
    "    p.flip_left_right(probability=1)\n",
    "    p.process()\n",
    "    p.flip_top_bottom(probability=1)\n",
    "    p.process()\n",
    "    \n",
    "    "
   ]
  },
  {
   "cell_type": "code",
   "execution_count": null,
   "id": "5545033d",
   "metadata": {},
   "outputs": [],
   "source": []
  },
  {
   "cell_type": "markdown",
   "id": "af8fbca1",
   "metadata": {},
   "source": [
    "# Brightness Contrast"
   ]
  },
  {
   "cell_type": "code",
   "execution_count": 20,
   "id": "b36703d9",
   "metadata": {
    "ExecuteTime": {
     "end_time": "2022-10-30T19:38:16.056696Z",
     "start_time": "2022-10-30T19:38:16.054403Z"
    }
   },
   "outputs": [],
   "source": [
    "dirs = os.listdir(\"../Data/Train_Aug/\")"
   ]
  },
  {
   "cell_type": "code",
   "execution_count": 21,
   "id": "9a7ae295",
   "metadata": {
    "ExecuteTime": {
     "end_time": "2022-10-30T19:38:29.302193Z",
     "start_time": "2022-10-30T19:38:18.629377Z"
    }
   },
   "outputs": [],
   "source": [
    "# variations = [1,2,3]\n",
    "for directory in dirs:\n",
    "    \n",
    "    path = \"../Data/Train_Aug/\" + directory + \"/\"\n",
    "    files = os.listdir(path)\n",
    "    \n",
    "    \n",
    "    for file in files:\n",
    "        \n",
    "        img = cv2.imread(path + file)\n",
    "        \n",
    "            \n",
    "        transform = A.Compose([A.RandomBrightnessContrast(p=1, brightness_by_max=1)])\n",
    "        transformed = transform(image = img)\n",
    "        transformed_img = transformed[\"image\"]\n",
    "\n",
    "        file = file[:-4]\n",
    "#             cv2.imwrite(\"../Data/ops_sat_train_old_augmented/\" + directory + \"/\" + file + \"_\" + \"bright_contrast_\" + str(v) + \".png\", cv2.cvtColor(transformed_img, cv2.COLOR_RGB2BGR))\n",
    "        cv2.imwrite(\"../Data/Train_Aug/\" + directory + \"/\" + file + \"_\" + \"bright_contrast_\" + \".png\", transformed_img)"
   ]
  },
  {
   "cell_type": "code",
   "execution_count": null,
   "id": "108889a9",
   "metadata": {
    "ExecuteTime": {
     "end_time": "2022-10-28T22:17:06.774125Z",
     "start_time": "2022-10-28T22:17:06.771294Z"
    }
   },
   "outputs": [],
   "source": [
    "dirs = os.listdir(\"../Data/Test_Aug/\")"
   ]
  },
  {
   "cell_type": "code",
   "execution_count": null,
   "id": "a835f3ab",
   "metadata": {
    "ExecuteTime": {
     "end_time": "2022-10-28T22:17:09.970754Z",
     "start_time": "2022-10-28T22:17:07.680946Z"
    }
   },
   "outputs": [],
   "source": [
    "# variations = [1,2,3]\n",
    "for directory in dirs:\n",
    "    \n",
    "    path = \"../Data/Test_Aug/\" + directory + \"/\"\n",
    "    files = os.listdir(path)\n",
    "    \n",
    "    \n",
    "    for file in files:\n",
    "        \n",
    "        img = cv2.imread(path + file)\n",
    "        \n",
    "            \n",
    "        transform = A.Compose([A.RandomBrightnessContrast(p=1, brightness_by_max=1)])\n",
    "        transformed = transform(image = img)\n",
    "        transformed_img = transformed[\"image\"]\n",
    "\n",
    "        file = file[:-4]\n",
    "#             cv2.imwrite(\"../Data/ops_sat_train_old_augmented/\" + directory + \"/\" + file + \"_\" + \"bright_contrast_\" + str(v) + \".png\", cv2.cvtColor(transformed_img, cv2.COLOR_RGB2BGR))\n",
    "        cv2.imwrite(\"../Data/Test_Aug/\" + directory + \"/\" + file + \"_\" + \"bright_contrast_\" + \".png\", transformed_img)"
   ]
  },
  {
   "cell_type": "code",
   "execution_count": null,
   "id": "dd0ea12a",
   "metadata": {},
   "outputs": [],
   "source": []
  },
  {
   "cell_type": "code",
   "execution_count": null,
   "id": "e21515b4",
   "metadata": {},
   "outputs": [],
   "source": []
  },
  {
   "cell_type": "markdown",
   "id": "265e14b7",
   "metadata": {},
   "source": [
    "# Noise"
   ]
  },
  {
   "cell_type": "code",
   "execution_count": 22,
   "id": "e7247149",
   "metadata": {
    "ExecuteTime": {
     "end_time": "2022-10-30T19:38:36.642185Z",
     "start_time": "2022-10-30T19:38:36.640061Z"
    }
   },
   "outputs": [],
   "source": [
    "dirs = os.listdir(\"../Data/Train_Aug/\")"
   ]
  },
  {
   "cell_type": "code",
   "execution_count": 23,
   "id": "5f1948ac",
   "metadata": {
    "ExecuteTime": {
     "end_time": "2022-10-30T19:39:06.450874Z",
     "start_time": "2022-10-30T19:38:37.835298Z"
    }
   },
   "outputs": [
    {
     "name": "stderr",
     "output_type": "stream",
     "text": [
      "/tmp/ipykernel_5592/2219357631.py:10: DeprecationWarning: Starting with ImageIO v3 the behavior of this function will switch to that of iio.v3.imread. To keep the current behavior (and make this warning disappear) use `import imageio.v2 as imageio` or call `imageio.v2.imread` directly.\n",
      "  img = iio.imread(path + file)\n"
     ]
    }
   ],
   "source": [
    "# variations = [1,2,3]\n",
    "for directory in dirs:\n",
    "    \n",
    "    path = \"../Data/Train_Aug/\" + directory + \"/\"\n",
    "    files = os.listdir(path)\n",
    "    \n",
    "    \n",
    "    for file in files:\n",
    "        \n",
    "        img = iio.imread(path + file)\n",
    "        \n",
    "            \n",
    "        transform = iaa.Sequential([iaa.AdditiveGaussianNoise(scale=(1,3))])\n",
    "        transformed_img = transform(image = img)\n",
    "\n",
    "        file = file[:-4]\n",
    "#             cv2.imwrite(\"../Data/ops_sat_train_old_augmented/\" + directory + \"/\" + file + \"_\" + \"bright_contrast_\" + str(v) + \".png\", cv2.cvtColor(transformed_img, cv2.COLOR_RGB2BGR))\n",
    "        cv2.imwrite(\"../Data/Train_Aug/\" + directory + \"/\" + file + \"_\" + \"noise\" + \".png\", cv2.cvtColor(transformed_img, cv2.COLOR_RGB2BGR))"
   ]
  },
  {
   "cell_type": "code",
   "execution_count": null,
   "id": "f4d1dfb6",
   "metadata": {},
   "outputs": [],
   "source": []
  },
  {
   "cell_type": "code",
   "execution_count": null,
   "id": "68dcbb51",
   "metadata": {
    "ExecuteTime": {
     "end_time": "2022-10-28T22:18:09.099594Z",
     "start_time": "2022-10-28T22:18:09.096564Z"
    }
   },
   "outputs": [],
   "source": [
    "dirs = os.listdir(\"../Data/Test_Aug/\")"
   ]
  },
  {
   "cell_type": "code",
   "execution_count": null,
   "id": "a895ae09",
   "metadata": {
    "ExecuteTime": {
     "end_time": "2022-10-28T22:18:18.231745Z",
     "start_time": "2022-10-28T22:18:11.110561Z"
    }
   },
   "outputs": [],
   "source": [
    "# variations = [1,2,3]\n",
    "for directory in dirs:\n",
    "    \n",
    "    path = \"../Data/Test_Aug/\" + directory + \"/\"\n",
    "    files = os.listdir(path)\n",
    "    \n",
    "    \n",
    "    for file in files:\n",
    "        \n",
    "        img = iio.imread(path + file)\n",
    "        \n",
    "            \n",
    "        transform = iaa.Sequential([iaa.AdditiveGaussianNoise(scale=(2,8))])\n",
    "        transformed_img = transform(image = img)\n",
    "\n",
    "        file = file[:-4]\n",
    "#             cv2.imwrite(\"../Data/ops_sat_train_old_augmented/\" + directory + \"/\" + file + \"_\" + \"bright_contrast_\" + str(v) + \".png\", cv2.cvtColor(transformed_img, cv2.COLOR_RGB2BGR))\n",
    "        cv2.imwrite(\"../Data/Test_Aug/\" + directory + \"/\" + file + \"_\" + \"noise\" + \".png\", cv2.cvtColor(transformed_img, cv2.COLOR_RGB2BGR))"
   ]
  },
  {
   "cell_type": "code",
   "execution_count": null,
   "id": "87660371",
   "metadata": {},
   "outputs": [],
   "source": []
  }
 ],
 "metadata": {
  "kernelspec": {
   "display_name": "Python 3 (ipykernel)",
   "language": "python",
   "name": "python3"
  },
  "language_info": {
   "codemirror_mode": {
    "name": "ipython",
    "version": 3
   },
   "file_extension": ".py",
   "mimetype": "text/x-python",
   "name": "python",
   "nbconvert_exporter": "python",
   "pygments_lexer": "ipython3",
   "version": "3.10.8"
  },
  "toc": {
   "base_numbering": 1,
   "nav_menu": {},
   "number_sections": true,
   "sideBar": true,
   "skip_h1_title": false,
   "title_cell": "Table of Contents",
   "title_sidebar": "Contents",
   "toc_cell": false,
   "toc_position": {},
   "toc_section_display": true,
   "toc_window_display": false
  }
 },
 "nbformat": 4,
 "nbformat_minor": 5
}
