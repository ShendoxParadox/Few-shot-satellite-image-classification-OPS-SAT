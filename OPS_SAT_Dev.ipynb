{
 "cells": [
  {
   "cell_type": "markdown",
   "id": "fcdcd3ca",
   "metadata": {},
   "source": [
    "# OPS-SAT case starter-kit notebook"
   ]
  },
  {
   "cell_type": "markdown",
   "id": "a3ad0860",
   "metadata": {},
   "source": [
    "ESA's [Kelvins](https://kelvins.esa.int) competition \"[the OPS-SAT case](https://kelvins.esa.int/opssat/home/)\" is a novel data-centric challenge that asks you to work with the raw data of a satellite and very few provided labels to find the best parameters for a given machine learning model. Compared to previous competitions on Kelvins (like the [Pose Estimation](https://kelvins.esa.int/pose-estimation-2021/) or the [Proba-V Super-resolution challenge](https://kelvins.esa.int/proba-v-super-resolution/)) where the test-set is provided and the infered results are submitted, for the OPS-SAT case, we will run inference on the Kelvins server directly! This notebooks contains examples on how you can load your data and train an **EfficientNetLite0** model by only using the 80-labeled images provided. Therefore, the directory `images`, containing unlabeld patches and included in the training dataset is not used for this notebook. However, competitors are encouraged to use these patches to improve the model accuracy."
   ]
  },
  {
   "cell_type": "markdown",
   "id": "403eeb5a",
   "metadata": {},
   "source": [
    "# 1. Module imports"
   ]
  },
  {
   "cell_type": "markdown",
   "id": "91d88f44",
   "metadata": {},
   "source": [
    "If you do not have a GPU, uncomment and run the next commands.\n"
   ]
  },
  {
   "cell_type": "code",
   "execution_count": 1,
   "id": "1f3f6cde",
   "metadata": {
    "ExecuteTime": {
     "end_time": "2023-04-09T20:42:31.525217Z",
     "start_time": "2023-04-09T20:42:31.521341Z"
    },
    "scrolled": true,
    "tags": []
   },
   "outputs": [
    {
     "data": {
      "text/plain": [
       "'3.9.16 (main, Mar  8 2023, 14:00:05) \\n[GCC 11.2.0]'"
      ]
     },
     "execution_count": 1,
     "metadata": {},
     "output_type": "execute_result"
    }
   ],
   "source": [
    "import sys\n",
    "sys.version"
   ]
  },
  {
   "cell_type": "code",
   "execution_count": 2,
   "id": "c7c8f9d8",
   "metadata": {
    "ExecuteTime": {
     "end_time": "2023-04-09T20:42:31.887841Z",
     "start_time": "2023-04-09T20:42:31.711974Z"
    },
    "tags": []
   },
   "outputs": [
    {
     "name": "stdout",
     "output_type": "stream",
     "text": [
      "/usr/bin/zsh: /home/ramez/miniconda3/envs/thesis/lib/libtinfo.so.6: no version information available (required by /usr/bin/zsh)\n",
      "Python 3.9.16\n"
     ]
    }
   ],
   "source": [
    "! python --version"
   ]
  },
  {
   "cell_type": "code",
   "execution_count": 3,
   "id": "cb8fddce",
   "metadata": {
    "ExecuteTime": {
     "end_time": "2023-04-09T20:42:32.267814Z",
     "start_time": "2023-04-09T20:42:32.094731Z"
    },
    "tags": []
   },
   "outputs": [
    {
     "name": "stdout",
     "output_type": "stream",
     "text": [
      "/usr/bin/zsh: /home/ramez/miniconda3/envs/thesis/lib/libtinfo.so.6: no version information available (required by /usr/bin/zsh)\n",
      "/home/ramez/miniconda3/envs/thesis/bin/python\n"
     ]
    }
   ],
   "source": [
    "! which python"
   ]
  },
  {
   "cell_type": "code",
   "execution_count": 4,
   "id": "c3aecaa6",
   "metadata": {
    "ExecuteTime": {
     "end_time": "2023-04-09T20:42:33.914315Z",
     "start_time": "2023-04-09T20:42:33.911985Z"
    },
    "tags": []
   },
   "outputs": [],
   "source": [
    "import tensorflow as tf"
   ]
  },
  {
   "cell_type": "markdown",
   "id": "4fc1fd19-d4ef-4a54-877e-9d06a9049737",
   "metadata": {},
   "source": [
    "#### GPU Check"
   ]
  },
  {
   "cell_type": "code",
   "execution_count": 5,
   "id": "b1e02f8b",
   "metadata": {
    "ExecuteTime": {
     "end_time": "2023-04-09T20:42:36.255529Z",
     "start_time": "2023-04-09T20:42:34.328075Z"
    },
    "tags": []
   },
   "outputs": [
    {
     "name": "stdout",
     "output_type": "stream",
     "text": [
      "/usr/bin/zsh: /home/ramez/miniconda3/envs/thesis/lib/libtinfo.so.6: no version information available (required by /usr/bin/zsh)\n",
      "[PhysicalDevice(name='/physical_device:GPU:0', device_type='GPU')]\n"
     ]
    }
   ],
   "source": [
    "!python3 -c \"import tensorflow as tf; print(tf.config.list_physical_devices('GPU'))\""
   ]
  },
  {
   "cell_type": "code",
   "execution_count": 6,
   "id": "234eba6e",
   "metadata": {
    "ExecuteTime": {
     "end_time": "2023-04-09T20:42:36.260638Z",
     "start_time": "2023-04-09T20:42:36.257966Z"
    },
    "tags": []
   },
   "outputs": [],
   "source": [
    "from tensorflow import keras"
   ]
  },
  {
   "cell_type": "code",
   "execution_count": 7,
   "id": "ea21b9b7",
   "metadata": {
    "ExecuteTime": {
     "end_time": "2023-04-09T20:42:36.327202Z",
     "start_time": "2023-04-09T20:42:36.262029Z"
    },
    "tags": []
   },
   "outputs": [],
   "source": [
    "import numpy as np"
   ]
  },
  {
   "cell_type": "code",
   "execution_count": 8,
   "id": "f73af189",
   "metadata": {
    "ExecuteTime": {
     "end_time": "2023-04-09T20:42:36.336400Z",
     "start_time": "2023-04-09T20:42:36.333721Z"
    },
    "tags": []
   },
   "outputs": [],
   "source": [
    "from sklearn.metrics import cohen_kappa_score"
   ]
  },
  {
   "cell_type": "code",
   "execution_count": 9,
   "id": "80fbbb42",
   "metadata": {
    "ExecuteTime": {
     "end_time": "2023-04-09T20:42:36.345491Z",
     "start_time": "2023-04-09T20:42:36.343286Z"
    },
    "tags": []
   },
   "outputs": [],
   "source": [
    "## Local EfficientNetLite (Customized by the Competition)\n",
    "from efficientnet_lite import EfficientNetLiteB0"
   ]
  },
  {
   "cell_type": "code",
   "execution_count": 10,
   "id": "c6face98",
   "metadata": {
    "ExecuteTime": {
     "end_time": "2023-04-09T20:42:36.349008Z",
     "start_time": "2023-04-09T20:42:36.346850Z"
    },
    "tags": []
   },
   "outputs": [],
   "source": [
    "from sklearn.model_selection import KFold"
   ]
  },
  {
   "cell_type": "code",
   "execution_count": 11,
   "id": "fb004876",
   "metadata": {
    "ExecuteTime": {
     "end_time": "2023-04-09T20:42:36.353039Z",
     "start_time": "2023-04-09T20:42:36.350804Z"
    },
    "tags": []
   },
   "outputs": [],
   "source": [
    "from tensorflow.keras.models import Model\n",
    "from tensorflow.keras.layers import GlobalAveragePooling2D, Dense, Dropout"
   ]
  },
  {
   "cell_type": "code",
   "execution_count": 12,
   "id": "22d591c0",
   "metadata": {
    "ExecuteTime": {
     "end_time": "2023-04-09T20:42:36.719018Z",
     "start_time": "2023-04-09T20:42:36.716802Z"
    },
    "tags": []
   },
   "outputs": [],
   "source": [
    "from tensorflow.keras.callbacks import TensorBoard"
   ]
  },
  {
   "cell_type": "code",
   "execution_count": 13,
   "id": "a7cffd18-bb07-4455-8292-3cd846d3139e",
   "metadata": {
    "tags": []
   },
   "outputs": [],
   "source": [
    "from keras.callbacks import EarlyStopping, ModelCheckpoint"
   ]
  },
  {
   "cell_type": "code",
   "execution_count": 14,
   "id": "6d5167dd-ad8d-41ab-9c7c-ace8e0c7c765",
   "metadata": {
    "tags": []
   },
   "outputs": [],
   "source": [
    "import matplotlib.pyplot as plt"
   ]
  },
  {
   "cell_type": "code",
   "execution_count": 15,
   "id": "bdcaf42f-1499-4cde-a474-ee694d25d7eb",
   "metadata": {
    "tags": []
   },
   "outputs": [],
   "source": [
    "from itertools import accumulate"
   ]
  },
  {
   "cell_type": "code",
   "execution_count": null,
   "id": "262ab8b0-57fa-4a40-9ebc-fd2e9809942f",
   "metadata": {},
   "outputs": [],
   "source": []
  },
  {
   "cell_type": "markdown",
   "id": "539eda62",
   "metadata": {},
   "source": [
    "# 2. Utility Functions"
   ]
  },
  {
   "cell_type": "markdown",
   "id": "eec32f1b",
   "metadata": {},
   "source": [
    "You can use this function to load your training data."
   ]
  },
  {
   "cell_type": "code",
   "execution_count": 16,
   "id": "9f270337",
   "metadata": {
    "ExecuteTime": {
     "end_time": "2023-04-09T20:42:37.464808Z",
     "start_time": "2023-04-09T20:42:37.461420Z"
    },
    "tags": []
   },
   "outputs": [],
   "source": [
    "def get_images_from_path(dataset_path):\n",
    "    \"\"\" Get images from path and normalize them applying channel-level normalization. \"\"\"\n",
    "\n",
    "    # loading all images in one large batch\n",
    "    tf_eval_data = tf.keras.utils.image_dataset_from_directory(dataset_path, image_size=input_shape[:2], shuffle=False, \n",
    "                                                               batch_size=100000)\n",
    "\n",
    "    # extract images and targets\n",
    "    for tf_eval_images, tf_eval_targets in tf_eval_data:\n",
    "        break\n",
    "\n",
    "    return tf.convert_to_tensor(tf_eval_images), tf_eval_targets"
   ]
  },
  {
   "cell_type": "markdown",
   "id": "a6cec9e1",
   "metadata": {},
   "source": [
    "# 4. Loading data"
   ]
  },
  {
   "cell_type": "code",
   "execution_count": 17,
   "id": "3939168c",
   "metadata": {
    "ExecuteTime": {
     "end_time": "2023-04-09T20:42:42.576907Z",
     "start_time": "2023-04-09T20:42:42.574308Z"
    },
    "tags": []
   },
   "outputs": [],
   "source": [
    "# dataset_path_train=\"/home/ramez/Politechnika_Slaska_MSc/Thesis/Competition/Data/images_copy_processed/\"\n",
    "dataset_path_train_val = \"/home/ramez/Politechnika_Slaska_MSc/Thesis/Competition/Data/ops_sat_train/\""
   ]
  },
  {
   "cell_type": "code",
   "execution_count": 18,
   "id": "4e57cb03",
   "metadata": {
    "ExecuteTime": {
     "end_time": "2023-04-09T20:42:43.086890Z",
     "start_time": "2023-04-09T20:42:43.084818Z"
    },
    "tags": []
   },
   "outputs": [],
   "source": [
    "dataset_path_test = \"/home/ramez/Politechnika_Slaska_MSc/Thesis/Competition/Data/ops_sat_test/\""
   ]
  },
  {
   "cell_type": "markdown",
   "id": "ad7277b8",
   "metadata": {},
   "source": [
    "In this notebook, classical supervised learning is used. Therefore, remember to remove the subdirectory `images` containing unlabeled patches before loading the dataset to perform training correctly."
   ]
  },
  {
   "cell_type": "code",
   "execution_count": 19,
   "id": "c5fe37a5",
   "metadata": {
    "ExecuteTime": {
     "end_time": "2023-04-09T20:42:38.494116Z",
     "start_time": "2023-04-09T20:42:38.491962Z"
    },
    "tags": []
   },
   "outputs": [],
   "source": [
    "input_shape = (200, 200, 3)   # input_shape is (height, width, number of channels) for images\n",
    "num_classes = 8"
   ]
  },
  {
   "cell_type": "code",
   "execution_count": 20,
   "id": "535d9f57",
   "metadata": {
    "ExecuteTime": {
     "end_time": "2023-04-09T20:42:44.029535Z",
     "start_time": "2023-04-09T20:42:43.904140Z"
    },
    "tags": []
   },
   "outputs": [
    {
     "name": "stdout",
     "output_type": "stream",
     "text": [
      "Found 227 files belonging to 8 classes.\n"
     ]
    }
   ],
   "source": [
    "#Loading dataset\n",
    "x_train_val, y_train_val = get_images_from_path(dataset_path_train_val)"
   ]
  },
  {
   "cell_type": "code",
   "execution_count": 21,
   "id": "176ad7e8",
   "metadata": {
    "ExecuteTime": {
     "end_time": "2023-04-09T20:42:44.501742Z",
     "start_time": "2023-04-09T20:42:44.458845Z"
    },
    "tags": []
   },
   "outputs": [
    {
     "name": "stdout",
     "output_type": "stream",
     "text": [
      "Found 40 files belonging to 8 classes.\n"
     ]
    }
   ],
   "source": [
    "#Loading dataset\n",
    "x_test, y_test = get_images_from_path(dataset_path_test)"
   ]
  },
  {
   "cell_type": "markdown",
   "id": "6ed865db",
   "metadata": {},
   "source": [
    "# 5. Model training"
   ]
  },
  {
   "cell_type": "markdown",
   "id": "55f4a84c-e53f-42e5-b7ea-12893a82a5d1",
   "metadata": {},
   "source": [
    "The network architecture used for OPS-SAT is **EfficientNetLite0**. We would like to thank Sebastian for making a Keras implementation of EfficientNetLite publicly available under the Apache 2.0 License: https://github.com/sebastian-sz/efficientnet-lite-keras. Our Version of this code has been modified to better fit our purposes. For example, we removed the ReLU \"stem_activation\" to better match a related efficientnet pytorch implementation. In any way, **you have to use the model architecture that we provide in our [starter-kit](https://gitlab.com/EuropeanSpaceAgency/the_opssat_case_starter_kit).**"
   ]
  },
  {
   "cell_type": "markdown",
   "id": "54a9bc3a-67ab-4e37-9a2f-aab98c8c5b25",
   "metadata": {},
   "source": [
    "### Load The Model With ImageNet Weights"
   ]
  },
  {
   "cell_type": "markdown",
   "id": "ba86fe85-998e-4704-bb76-18af67274166",
   "metadata": {
    "tags": []
   },
   "source": [
    "### Compile The model"
   ]
  },
  {
   "cell_type": "markdown",
   "id": "00c29753-9cbf-4149-a938-ceec8435dce0",
   "metadata": {},
   "source": [
    "### Early Stopping and Best Model Callbacks "
   ]
  },
  {
   "cell_type": "markdown",
   "id": "340a085b-c09c-4892-968a-8eeb2c556ce1",
   "metadata": {},
   "source": [
    "We provide now an example on how you can train your model by using standard supervised learning. Training loss (`SparseCategoricalCrossentropy`) and `Accuracy` are shown for simplicity and for an easier interpretation of the training outcome, despite your submission will be evaluated by using the metric **1 - Cohen's kappa** [metric](https://en.wikipedia.org/wiki/Cohen's_kappa). For more information on scoring, please refer to [Scoring](https://kelvins.esa.int/opssat/scoring/)."
   ]
  },
  {
   "cell_type": "code",
   "execution_count": 53,
   "id": "593c7f99-4e05-4b40-8cc7-e7c4b84e3452",
   "metadata": {},
   "outputs": [],
   "source": [
    "def model_init():\n",
    "    global model\n",
    "    global early_stopping\n",
    "    global checkpoint\n",
    "    \n",
    "    model = EfficientNetLiteB0(classes=num_classes, weights='imagenet', input_shape=input_shape, classifier_activation=None, include_top = False)\n",
    "    x = model.output\n",
    "    x = GlobalAveragePooling2D()(x)\n",
    "    x = Dropout(0.5)(x)\n",
    "    output_layer = Dense(num_classes, activation='softmax')(x)\n",
    "    model = Model(inputs=model.input, outputs=output_layer)\n",
    "    # model.summary()\n",
    "    \n",
    "    model.compile(optimizer='adam',\n",
    "              loss=tf.keras.losses.SparseCategoricalCrossentropy(from_logits=False), \n",
    "              metrics=[keras.metrics.SparseCategoricalAccuracy()])\n",
    "    \n",
    "    early_stopping = EarlyStopping(monitor='val_sparse_categorical_accuracy', patience=9)\n",
    "    checkpoint = ModelCheckpoint('best_weights.h5', monitor='val_sparse_categorical_accuracy', save_best_only=True)"
   ]
  },
  {
   "cell_type": "markdown",
   "id": "8bc53411-de66-41a5-bdfe-47e6b2b94462",
   "metadata": {
    "tags": []
   },
   "source": [
    "### Without K fold Cross Validation but with TensorBoard (With Early Stopping)"
   ]
  },
  {
   "cell_type": "code",
   "execution_count": 54,
   "id": "9ae962a9",
   "metadata": {
    "ExecuteTime": {
     "end_time": "2023-04-09T20:42:49.259862Z",
     "start_time": "2023-04-09T20:42:49.257217Z"
    },
    "tags": []
   },
   "outputs": [],
   "source": [
    "# tensorboard_callback = TensorBoard(log_dir='./logs')"
   ]
  },
  {
   "cell_type": "code",
   "execution_count": 55,
   "id": "24568775",
   "metadata": {
    "ExecuteTime": {
     "end_time": "2023-04-09T20:43:38.960294Z",
     "start_time": "2023-04-09T20:42:50.924320Z"
    },
    "tags": []
   },
   "outputs": [],
   "source": [
    "# early_stopping = keras.callbacks.EarlyStopping(monitor='val_loss', patience=5)\n",
    "# history = model.fit(x_train_val, y_train_val, validation_data=(x_test, y_test), epochs= 100, verbose=1, batch_size=8, \n",
    "#                         callbacks=[early_stopping, tensorboard_callback])"
   ]
  },
  {
   "cell_type": "code",
   "execution_count": 56,
   "id": "faa7c10b",
   "metadata": {
    "ExecuteTime": {
     "end_time": "2023-04-09T20:45:36.527054Z",
     "start_time": "2023-04-09T20:44:17.923419Z"
    },
    "tags": []
   },
   "outputs": [],
   "source": [
    "# !tensorboard --logdir=./logs"
   ]
  },
  {
   "cell_type": "markdown",
   "id": "9c9899b0-587d-4c9a-b9b5-ec61295e2e48",
   "metadata": {},
   "source": [
    "### With K fold Cross Validation but without TensorBoard (With Early Stopping)"
   ]
  },
  {
   "cell_type": "code",
   "execution_count": 57,
   "id": "12efbbf9",
   "metadata": {
    "ExecuteTime": {
     "end_time": "2023-04-09T20:42:47.226837Z",
     "start_time": "2023-04-09T20:42:47.224186Z"
    },
    "tags": []
   },
   "outputs": [],
   "source": [
    "k = 5\n",
    "kf = KFold(n_splits=k, shuffle=True)"
   ]
  },
  {
   "cell_type": "code",
   "execution_count": 58,
   "id": "9a930432",
   "metadata": {
    "ExecuteTime": {
     "end_time": "2023-04-09T20:43:57.248568Z",
     "start_time": "2023-04-09T20:43:57.245137Z"
    },
    "tags": []
   },
   "outputs": [
    {
     "name": "stdout",
     "output_type": "stream",
     "text": [
      "block1a_ same\n",
      "block2a_ ((1, 1), (1, 1))\n",
      "block2a_ valid\n",
      "block2b_ same\n",
      "block3a_ ((2, 2), (2, 2))\n",
      "block3a_ valid\n",
      "block3b_ same\n",
      "block4a_ ((1, 1), (1, 1))\n",
      "block4a_ valid\n",
      "block4b_ same\n",
      "block4c_ same\n",
      "block5a_ same\n",
      "block5b_ same\n",
      "block5c_ same\n",
      "block6a_ ((2, 2), (2, 2))\n",
      "block6a_ valid\n",
      "block6b_ same\n",
      "block6c_ same\n",
      "block6d_ same\n",
      "block7a_ same\n",
      "Epoch 1/100\n",
      "23/23 [==============================] - 7s 173ms/step - loss: 1.7067 - sparse_categorical_accuracy: 0.4088 - val_loss: 3.8142 - val_sparse_categorical_accuracy: 0.1522\n",
      "Epoch 2/100\n",
      "23/23 [==============================] - 3s 144ms/step - loss: 0.8337 - sparse_categorical_accuracy: 0.7182 - val_loss: 7.7240 - val_sparse_categorical_accuracy: 0.2174\n",
      "Epoch 3/100\n",
      "23/23 [==============================] - 3s 145ms/step - loss: 0.5853 - sparse_categorical_accuracy: 0.7956 - val_loss: 5.4901 - val_sparse_categorical_accuracy: 0.3478\n",
      "Epoch 4/100\n",
      "23/23 [==============================] - 3s 147ms/step - loss: 0.5664 - sparse_categorical_accuracy: 0.8066 - val_loss: 2.9526 - val_sparse_categorical_accuracy: 0.5652\n",
      "Epoch 5/100\n",
      "23/23 [==============================] - 3s 122ms/step - loss: 0.6474 - sparse_categorical_accuracy: 0.7901 - val_loss: 4.2783 - val_sparse_categorical_accuracy: 0.3696\n",
      "Epoch 6/100\n",
      "23/23 [==============================] - 3s 122ms/step - loss: 0.5991 - sparse_categorical_accuracy: 0.8066 - val_loss: 3.6155 - val_sparse_categorical_accuracy: 0.4783\n",
      "Epoch 7/100\n",
      "23/23 [==============================] - 3s 123ms/step - loss: 0.4137 - sparse_categorical_accuracy: 0.8508 - val_loss: 1.9297 - val_sparse_categorical_accuracy: 0.5435\n",
      "Epoch 8/100\n",
      "23/23 [==============================] - 3s 144ms/step - loss: 0.3657 - sparse_categorical_accuracy: 0.8840 - val_loss: 1.6889 - val_sparse_categorical_accuracy: 0.6522\n",
      "Epoch 9/100\n",
      "23/23 [==============================] - 3s 123ms/step - loss: 0.3061 - sparse_categorical_accuracy: 0.9171 - val_loss: 2.0911 - val_sparse_categorical_accuracy: 0.6304\n",
      "Epoch 10/100\n",
      "23/23 [==============================] - 3s 123ms/step - loss: 0.5215 - sparse_categorical_accuracy: 0.8011 - val_loss: 1.8830 - val_sparse_categorical_accuracy: 0.5000\n",
      "Epoch 11/100\n",
      "23/23 [==============================] - 3s 123ms/step - loss: 0.4473 - sparse_categorical_accuracy: 0.8729 - val_loss: 1.4357 - val_sparse_categorical_accuracy: 0.5870\n",
      "Epoch 12/100\n",
      "23/23 [==============================] - 3s 123ms/step - loss: 0.3874 - sparse_categorical_accuracy: 0.8508 - val_loss: 1.9839 - val_sparse_categorical_accuracy: 0.6304\n",
      "Epoch 13/100\n",
      "23/23 [==============================] - 3s 149ms/step - loss: 0.3179 - sparse_categorical_accuracy: 0.8895 - val_loss: 1.3665 - val_sparse_categorical_accuracy: 0.7174\n",
      "Epoch 14/100\n",
      "23/23 [==============================] - 3s 123ms/step - loss: 0.3523 - sparse_categorical_accuracy: 0.8950 - val_loss: 1.3882 - val_sparse_categorical_accuracy: 0.6522\n",
      "Epoch 15/100\n",
      "23/23 [==============================] - 3s 123ms/step - loss: 0.4031 - sparse_categorical_accuracy: 0.8785 - val_loss: 1.6936 - val_sparse_categorical_accuracy: 0.6087\n",
      "Epoch 16/100\n",
      "23/23 [==============================] - 3s 146ms/step - loss: 0.3123 - sparse_categorical_accuracy: 0.9116 - val_loss: 1.0937 - val_sparse_categorical_accuracy: 0.7609\n",
      "Epoch 17/100\n",
      "23/23 [==============================] - 3s 124ms/step - loss: 0.1832 - sparse_categorical_accuracy: 0.9558 - val_loss: 1.7598 - val_sparse_categorical_accuracy: 0.6522\n",
      "Epoch 18/100\n",
      "23/23 [==============================] - 3s 124ms/step - loss: 0.2638 - sparse_categorical_accuracy: 0.8950 - val_loss: 0.9945 - val_sparse_categorical_accuracy: 0.7391\n",
      "Epoch 19/100\n",
      "23/23 [==============================] - 3s 124ms/step - loss: 0.3903 - sparse_categorical_accuracy: 0.8895 - val_loss: 1.3687 - val_sparse_categorical_accuracy: 0.6739\n",
      "Epoch 20/100\n",
      "23/23 [==============================] - 3s 124ms/step - loss: 0.2820 - sparse_categorical_accuracy: 0.8950 - val_loss: 1.3884 - val_sparse_categorical_accuracy: 0.6957\n",
      "Epoch 21/100\n",
      "23/23 [==============================] - 3s 124ms/step - loss: 0.1712 - sparse_categorical_accuracy: 0.9392 - val_loss: 1.7414 - val_sparse_categorical_accuracy: 0.6304\n",
      "Epoch 22/100\n",
      "23/23 [==============================] - 3s 124ms/step - loss: 0.1894 - sparse_categorical_accuracy: 0.9392 - val_loss: 1.9001 - val_sparse_categorical_accuracy: 0.5217\n",
      "Epoch 23/100\n",
      "23/23 [==============================] - 3s 125ms/step - loss: 0.3205 - sparse_categorical_accuracy: 0.9006 - val_loss: 1.3602 - val_sparse_categorical_accuracy: 0.6957\n",
      "Epoch 24/100\n",
      "23/23 [==============================] - 3s 126ms/step - loss: 0.1926 - sparse_categorical_accuracy: 0.9337 - val_loss: 1.8006 - val_sparse_categorical_accuracy: 0.6087\n",
      "Epoch 25/100\n",
      "23/23 [==============================] - 3s 127ms/step - loss: 0.2860 - sparse_categorical_accuracy: 0.9006 - val_loss: 1.8212 - val_sparse_categorical_accuracy: 0.5870\n",
      "2/2 [==============================] - 0s 42ms/step - loss: 1.0937 - sparse_categorical_accuracy: 0.7609\n",
      "block1a_ same\n",
      "block2a_ ((1, 1), (1, 1))\n",
      "block2a_ valid\n",
      "block2b_ same\n",
      "block3a_ ((2, 2), (2, 2))\n",
      "block3a_ valid\n",
      "block3b_ same\n",
      "block4a_ ((1, 1), (1, 1))\n",
      "block4a_ valid\n",
      "block4b_ same\n",
      "block4c_ same\n",
      "block5a_ same\n",
      "block5b_ same\n",
      "block5c_ same\n",
      "block6a_ ((2, 2), (2, 2))\n",
      "block6a_ valid\n",
      "block6b_ same\n",
      "block6c_ same\n",
      "block6d_ same\n",
      "block7a_ same\n",
      "Epoch 1/100\n",
      "23/23 [==============================] - 8s 184ms/step - loss: 1.6446 - sparse_categorical_accuracy: 0.4475 - val_loss: 3.7533 - val_sparse_categorical_accuracy: 0.2174\n",
      "Epoch 2/100\n",
      "23/23 [==============================] - 3s 150ms/step - loss: 0.8595 - sparse_categorical_accuracy: 0.7127 - val_loss: 2.3748 - val_sparse_categorical_accuracy: 0.4348\n",
      "Epoch 3/100\n",
      "23/23 [==============================] - 3s 149ms/step - loss: 0.6203 - sparse_categorical_accuracy: 0.7735 - val_loss: 2.8602 - val_sparse_categorical_accuracy: 0.5000\n",
      "Epoch 4/100\n",
      "23/23 [==============================] - 3s 125ms/step - loss: 0.4859 - sparse_categorical_accuracy: 0.8343 - val_loss: 3.4006 - val_sparse_categorical_accuracy: 0.3478\n",
      "Epoch 5/100\n",
      "23/23 [==============================] - 3s 126ms/step - loss: 0.7286 - sparse_categorical_accuracy: 0.7514 - val_loss: 4.5542 - val_sparse_categorical_accuracy: 0.3261\n",
      "Epoch 6/100\n",
      "23/23 [==============================] - 3s 127ms/step - loss: 0.5855 - sparse_categorical_accuracy: 0.8508 - val_loss: 3.0068 - val_sparse_categorical_accuracy: 0.3696\n",
      "Epoch 7/100\n",
      "23/23 [==============================] - 3s 152ms/step - loss: 0.4947 - sparse_categorical_accuracy: 0.8122 - val_loss: 1.9830 - val_sparse_categorical_accuracy: 0.6304\n",
      "Epoch 8/100\n",
      "23/23 [==============================] - 3s 152ms/step - loss: 0.5542 - sparse_categorical_accuracy: 0.8122 - val_loss: 1.9107 - val_sparse_categorical_accuracy: 0.6957\n",
      "Epoch 9/100\n",
      "23/23 [==============================] - 3s 152ms/step - loss: 0.3078 - sparse_categorical_accuracy: 0.9061 - val_loss: 1.7944 - val_sparse_categorical_accuracy: 0.7826\n",
      "Epoch 10/100\n",
      "23/23 [==============================] - 3s 128ms/step - loss: 0.3028 - sparse_categorical_accuracy: 0.8785 - val_loss: 1.8164 - val_sparse_categorical_accuracy: 0.7174\n",
      "Epoch 11/100\n",
      "23/23 [==============================] - 3s 129ms/step - loss: 0.4866 - sparse_categorical_accuracy: 0.8508 - val_loss: 2.0922 - val_sparse_categorical_accuracy: 0.5870\n",
      "Epoch 12/100\n",
      "23/23 [==============================] - 3s 129ms/step - loss: 0.3492 - sparse_categorical_accuracy: 0.8785 - val_loss: 2.7558 - val_sparse_categorical_accuracy: 0.4565\n",
      "Epoch 13/100\n",
      "23/23 [==============================] - 3s 129ms/step - loss: 0.4008 - sparse_categorical_accuracy: 0.8508 - val_loss: 1.7983 - val_sparse_categorical_accuracy: 0.6087\n",
      "Epoch 14/100\n",
      "23/23 [==============================] - 3s 129ms/step - loss: 0.3868 - sparse_categorical_accuracy: 0.8840 - val_loss: 2.0874 - val_sparse_categorical_accuracy: 0.5435\n",
      "Epoch 15/100\n",
      "23/23 [==============================] - 3s 130ms/step - loss: 0.3713 - sparse_categorical_accuracy: 0.9006 - val_loss: 2.6944 - val_sparse_categorical_accuracy: 0.4783\n",
      "Epoch 16/100\n",
      "23/23 [==============================] - 3s 129ms/step - loss: 0.4332 - sparse_categorical_accuracy: 0.8729 - val_loss: 2.8048 - val_sparse_categorical_accuracy: 0.5217\n",
      "Epoch 17/100\n",
      "23/23 [==============================] - 3s 129ms/step - loss: 0.3167 - sparse_categorical_accuracy: 0.8729 - val_loss: 4.1545 - val_sparse_categorical_accuracy: 0.4783\n",
      "Epoch 18/100\n",
      "23/23 [==============================] - 3s 124ms/step - loss: 0.3530 - sparse_categorical_accuracy: 0.8729 - val_loss: 2.1714 - val_sparse_categorical_accuracy: 0.6087\n",
      "2/2 [==============================] - 0s 38ms/step - loss: 1.7944 - sparse_categorical_accuracy: 0.7826\n",
      "block1a_ same\n",
      "block2a_ ((1, 1), (1, 1))\n",
      "block2a_ valid\n",
      "block2b_ same\n",
      "block3a_ ((2, 2), (2, 2))\n",
      "block3a_ valid\n",
      "block3b_ same\n",
      "block4a_ ((1, 1), (1, 1))\n",
      "block4a_ valid\n",
      "block4b_ same\n",
      "block4c_ same\n",
      "block5a_ same\n",
      "block5b_ same\n",
      "block5c_ same\n",
      "block6a_ ((2, 2), (2, 2))\n",
      "block6a_ valid\n",
      "block6b_ same\n",
      "block6c_ same\n",
      "block6d_ same\n",
      "block7a_ same\n",
      "Epoch 1/100\n",
      "23/23 [==============================] - 8s 174ms/step - loss: 1.5517 - sparse_categorical_accuracy: 0.4560 - val_loss: 3.0432 - val_sparse_categorical_accuracy: 0.2667\n",
      "Epoch 2/100\n",
      "23/23 [==============================] - 3s 140ms/step - loss: 0.9190 - sparse_categorical_accuracy: 0.6374 - val_loss: 2.7761 - val_sparse_categorical_accuracy: 0.4222\n",
      "Epoch 3/100\n",
      "23/23 [==============================] - 3s 115ms/step - loss: 0.6615 - sparse_categorical_accuracy: 0.7912 - val_loss: 3.5971 - val_sparse_categorical_accuracy: 0.3333\n",
      "Epoch 4/100\n",
      "23/23 [==============================] - 3s 117ms/step - loss: 0.5179 - sparse_categorical_accuracy: 0.8187 - val_loss: 3.9936 - val_sparse_categorical_accuracy: 0.2667\n",
      "Epoch 5/100\n",
      "23/23 [==============================] - 3s 137ms/step - loss: 0.4769 - sparse_categorical_accuracy: 0.8407 - val_loss: 2.4949 - val_sparse_categorical_accuracy: 0.6000\n",
      "Epoch 6/100\n",
      "23/23 [==============================] - 3s 117ms/step - loss: 0.4073 - sparse_categorical_accuracy: 0.8571 - val_loss: 3.2890 - val_sparse_categorical_accuracy: 0.5556\n",
      "Epoch 7/100\n",
      "23/23 [==============================] - 3s 138ms/step - loss: 0.4418 - sparse_categorical_accuracy: 0.8626 - val_loss: 2.5516 - val_sparse_categorical_accuracy: 0.6444\n",
      "Epoch 8/100\n",
      "23/23 [==============================] - 3s 120ms/step - loss: 0.5455 - sparse_categorical_accuracy: 0.8681 - val_loss: 2.2261 - val_sparse_categorical_accuracy: 0.6000\n",
      "Epoch 9/100\n",
      "23/23 [==============================] - 3s 125ms/step - loss: 0.5398 - sparse_categorical_accuracy: 0.8242 - val_loss: 1.9685 - val_sparse_categorical_accuracy: 0.6222\n",
      "Epoch 10/100\n",
      "23/23 [==============================] - 3s 118ms/step - loss: 0.4739 - sparse_categorical_accuracy: 0.8571 - val_loss: 1.5221 - val_sparse_categorical_accuracy: 0.6444\n",
      "Epoch 11/100\n",
      "23/23 [==============================] - 3s 147ms/step - loss: 0.4588 - sparse_categorical_accuracy: 0.8407 - val_loss: 1.8563 - val_sparse_categorical_accuracy: 0.7333\n",
      "Epoch 12/100\n",
      "23/23 [==============================] - 3s 118ms/step - loss: 0.4477 - sparse_categorical_accuracy: 0.8846 - val_loss: 1.7660 - val_sparse_categorical_accuracy: 0.6444\n",
      "Epoch 13/100\n",
      "23/23 [==============================] - 3s 120ms/step - loss: 0.4608 - sparse_categorical_accuracy: 0.8352 - val_loss: 1.5406 - val_sparse_categorical_accuracy: 0.6444\n",
      "Epoch 14/100\n",
      "23/23 [==============================] - 3s 148ms/step - loss: 0.2748 - sparse_categorical_accuracy: 0.9121 - val_loss: 0.6932 - val_sparse_categorical_accuracy: 0.8000\n",
      "Epoch 15/100\n",
      "23/23 [==============================] - 3s 120ms/step - loss: 0.2864 - sparse_categorical_accuracy: 0.9121 - val_loss: 1.8591 - val_sparse_categorical_accuracy: 0.6000\n",
      "Epoch 16/100\n",
      "23/23 [==============================] - 3s 119ms/step - loss: 0.2923 - sparse_categorical_accuracy: 0.9121 - val_loss: 1.4388 - val_sparse_categorical_accuracy: 0.7111\n",
      "Epoch 17/100\n",
      "23/23 [==============================] - 3s 120ms/step - loss: 0.2305 - sparse_categorical_accuracy: 0.9231 - val_loss: 1.4360 - val_sparse_categorical_accuracy: 0.5778\n",
      "Epoch 18/100\n",
      "23/23 [==============================] - 3s 121ms/step - loss: 0.2330 - sparse_categorical_accuracy: 0.9066 - val_loss: 1.8499 - val_sparse_categorical_accuracy: 0.6444\n",
      "Epoch 19/100\n",
      "23/23 [==============================] - 3s 122ms/step - loss: 0.1865 - sparse_categorical_accuracy: 0.9396 - val_loss: 1.2891 - val_sparse_categorical_accuracy: 0.7111\n",
      "Epoch 20/100\n",
      "23/23 [==============================] - 3s 121ms/step - loss: 0.1508 - sparse_categorical_accuracy: 0.9505 - val_loss: 1.8811 - val_sparse_categorical_accuracy: 0.6000\n",
      "Epoch 21/100\n",
      "23/23 [==============================] - 3s 122ms/step - loss: 0.1853 - sparse_categorical_accuracy: 0.9396 - val_loss: 2.7186 - val_sparse_categorical_accuracy: 0.5111\n",
      "Epoch 22/100\n",
      "23/23 [==============================] - 3s 124ms/step - loss: 0.1703 - sparse_categorical_accuracy: 0.9560 - val_loss: 2.2257 - val_sparse_categorical_accuracy: 0.6222\n",
      "Epoch 23/100\n",
      "23/23 [==============================] - 3s 121ms/step - loss: 0.1768 - sparse_categorical_accuracy: 0.9451 - val_loss: 2.0328 - val_sparse_categorical_accuracy: 0.5556\n",
      "2/2 [==============================] - 0s 40ms/step - loss: 0.6932 - sparse_categorical_accuracy: 0.8000\n",
      "block1a_ same\n",
      "block2a_ ((1, 1), (1, 1))\n",
      "block2a_ valid\n",
      "block2b_ same\n",
      "block3a_ ((2, 2), (2, 2))\n",
      "block3a_ valid\n",
      "block3b_ same\n",
      "block4a_ ((1, 1), (1, 1))\n",
      "block4a_ valid\n",
      "block4b_ same\n",
      "block4c_ same\n",
      "block5a_ same\n",
      "block5b_ same\n",
      "block5c_ same\n",
      "block6a_ ((2, 2), (2, 2))\n",
      "block6a_ valid\n",
      "block6b_ same\n",
      "block6c_ same\n",
      "block6d_ same\n",
      "block7a_ same\n",
      "Epoch 1/100\n",
      "23/23 [==============================] - 9s 191ms/step - loss: 1.5801 - sparse_categorical_accuracy: 0.4396 - val_loss: 7.4587 - val_sparse_categorical_accuracy: 0.2222\n",
      "Epoch 2/100\n",
      "23/23 [==============================] - 3s 142ms/step - loss: 0.8083 - sparse_categorical_accuracy: 0.7473 - val_loss: 8.3070 - val_sparse_categorical_accuracy: 0.2444\n",
      "Epoch 3/100\n",
      "23/23 [==============================] - 3s 138ms/step - loss: 0.6392 - sparse_categorical_accuracy: 0.7582 - val_loss: 3.8197 - val_sparse_categorical_accuracy: 0.4222\n",
      "Epoch 4/100\n",
      "23/23 [==============================] - 3s 140ms/step - loss: 0.5476 - sparse_categorical_accuracy: 0.8132 - val_loss: 3.6893 - val_sparse_categorical_accuracy: 0.4889\n",
      "Epoch 5/100\n",
      "23/23 [==============================] - 3s 117ms/step - loss: 0.6115 - sparse_categorical_accuracy: 0.7637 - val_loss: 2.9722 - val_sparse_categorical_accuracy: 0.4667\n",
      "Epoch 6/100\n",
      "23/23 [==============================] - 3s 120ms/step - loss: 0.5003 - sparse_categorical_accuracy: 0.8462 - val_loss: 2.2875 - val_sparse_categorical_accuracy: 0.4444\n",
      "Epoch 7/100\n",
      "23/23 [==============================] - 3s 118ms/step - loss: 0.6556 - sparse_categorical_accuracy: 0.7912 - val_loss: 2.6764 - val_sparse_categorical_accuracy: 0.4444\n",
      "Epoch 8/100\n",
      "23/23 [==============================] - 3s 142ms/step - loss: 0.4712 - sparse_categorical_accuracy: 0.8462 - val_loss: 3.8270 - val_sparse_categorical_accuracy: 0.6000\n",
      "Epoch 9/100\n",
      "23/23 [==============================] - 3s 147ms/step - loss: 0.3701 - sparse_categorical_accuracy: 0.8956 - val_loss: 1.8885 - val_sparse_categorical_accuracy: 0.6889\n",
      "Epoch 10/100\n",
      "23/23 [==============================] - 3s 119ms/step - loss: 0.4286 - sparse_categorical_accuracy: 0.8626 - val_loss: 2.4613 - val_sparse_categorical_accuracy: 0.5778\n",
      "Epoch 11/100\n",
      "23/23 [==============================] - 3s 117ms/step - loss: 0.3071 - sparse_categorical_accuracy: 0.9011 - val_loss: 1.5819 - val_sparse_categorical_accuracy: 0.6444\n",
      "Epoch 12/100\n",
      "23/23 [==============================] - 3s 119ms/step - loss: 0.3577 - sparse_categorical_accuracy: 0.8901 - val_loss: 1.6169 - val_sparse_categorical_accuracy: 0.6222\n",
      "Epoch 13/100\n",
      "23/23 [==============================] - 3s 119ms/step - loss: 0.2766 - sparse_categorical_accuracy: 0.8791 - val_loss: 1.2043 - val_sparse_categorical_accuracy: 0.6889\n",
      "Epoch 14/100\n",
      "23/23 [==============================] - 3s 131ms/step - loss: 0.3679 - sparse_categorical_accuracy: 0.8956 - val_loss: 1.3857 - val_sparse_categorical_accuracy: 0.6222\n",
      "Epoch 15/100\n",
      "23/23 [==============================] - 3s 132ms/step - loss: 0.2676 - sparse_categorical_accuracy: 0.9176 - val_loss: 1.7376 - val_sparse_categorical_accuracy: 0.6000\n",
      "Epoch 16/100\n",
      "23/23 [==============================] - 3s 133ms/step - loss: 0.1934 - sparse_categorical_accuracy: 0.9341 - val_loss: 1.4042 - val_sparse_categorical_accuracy: 0.6667\n",
      "Epoch 17/100\n",
      "23/23 [==============================] - 3s 132ms/step - loss: 0.2675 - sparse_categorical_accuracy: 0.9286 - val_loss: 2.0923 - val_sparse_categorical_accuracy: 0.6444\n",
      "Epoch 18/100\n",
      "23/23 [==============================] - 3s 132ms/step - loss: 0.1947 - sparse_categorical_accuracy: 0.9451 - val_loss: 3.0542 - val_sparse_categorical_accuracy: 0.5333\n",
      "2/2 [==============================] - 0s 41ms/step - loss: 1.8885 - sparse_categorical_accuracy: 0.6889\n",
      "block1a_ same\n",
      "block2a_ ((1, 1), (1, 1))\n",
      "block2a_ valid\n",
      "block2b_ same\n",
      "block3a_ ((2, 2), (2, 2))\n",
      "block3a_ valid\n",
      "block3b_ same\n",
      "block4a_ ((1, 1), (1, 1))\n",
      "block4a_ valid\n",
      "block4b_ same\n",
      "block4c_ same\n",
      "block5a_ same\n",
      "block5b_ same\n",
      "block5c_ same\n",
      "block6a_ ((2, 2), (2, 2))\n",
      "block6a_ valid\n",
      "block6b_ same\n",
      "block6c_ same\n",
      "block6d_ same\n",
      "block7a_ same\n",
      "Epoch 1/100\n",
      "23/23 [==============================] - 9s 189ms/step - loss: 1.5640 - sparse_categorical_accuracy: 0.4835 - val_loss: 6.0108 - val_sparse_categorical_accuracy: 0.1556\n",
      "Epoch 2/100\n",
      "23/23 [==============================] - 4s 156ms/step - loss: 0.8929 - sparse_categorical_accuracy: 0.6813 - val_loss: 3.3230 - val_sparse_categorical_accuracy: 0.3111\n",
      "Epoch 3/100\n",
      "23/23 [==============================] - 4s 158ms/step - loss: 0.7732 - sparse_categorical_accuracy: 0.6923 - val_loss: 3.2236 - val_sparse_categorical_accuracy: 0.4000\n",
      "Epoch 4/100\n",
      "23/23 [==============================] - 3s 132ms/step - loss: 0.6874 - sparse_categorical_accuracy: 0.7747 - val_loss: 4.3020 - val_sparse_categorical_accuracy: 0.3778\n",
      "Epoch 5/100\n",
      "23/23 [==============================] - 4s 159ms/step - loss: 0.5984 - sparse_categorical_accuracy: 0.8132 - val_loss: 3.4628 - val_sparse_categorical_accuracy: 0.4222\n",
      "Epoch 6/100\n",
      "23/23 [==============================] - 4s 158ms/step - loss: 0.4554 - sparse_categorical_accuracy: 0.8571 - val_loss: 1.7779 - val_sparse_categorical_accuracy: 0.6889\n",
      "Epoch 7/100\n",
      "23/23 [==============================] - 3s 131ms/step - loss: 0.4815 - sparse_categorical_accuracy: 0.8297 - val_loss: 1.2507 - val_sparse_categorical_accuracy: 0.6889\n",
      "Epoch 8/100\n",
      "23/23 [==============================] - 3s 131ms/step - loss: 0.5719 - sparse_categorical_accuracy: 0.7802 - val_loss: 1.6949 - val_sparse_categorical_accuracy: 0.5778\n",
      "Epoch 9/100\n",
      "23/23 [==============================] - 4s 159ms/step - loss: 0.6036 - sparse_categorical_accuracy: 0.7527 - val_loss: 0.9484 - val_sparse_categorical_accuracy: 0.7111\n",
      "Epoch 10/100\n",
      "23/23 [==============================] - 3s 132ms/step - loss: 0.6176 - sparse_categorical_accuracy: 0.8132 - val_loss: 1.1620 - val_sparse_categorical_accuracy: 0.7111\n",
      "Epoch 11/100\n",
      "23/23 [==============================] - 4s 159ms/step - loss: 0.3774 - sparse_categorical_accuracy: 0.8846 - val_loss: 0.9357 - val_sparse_categorical_accuracy: 0.8444\n",
      "Epoch 12/100\n",
      "23/23 [==============================] - 3s 132ms/step - loss: 0.3588 - sparse_categorical_accuracy: 0.8901 - val_loss: 0.9607 - val_sparse_categorical_accuracy: 0.7333\n",
      "Epoch 13/100\n",
      "23/23 [==============================] - 3s 133ms/step - loss: 0.2962 - sparse_categorical_accuracy: 0.9066 - val_loss: 0.4680 - val_sparse_categorical_accuracy: 0.7556\n",
      "Epoch 14/100\n",
      "23/23 [==============================] - 3s 132ms/step - loss: 0.3331 - sparse_categorical_accuracy: 0.8791 - val_loss: 0.8590 - val_sparse_categorical_accuracy: 0.7333\n",
      "Epoch 15/100\n",
      "23/23 [==============================] - 3s 133ms/step - loss: 0.2129 - sparse_categorical_accuracy: 0.9505 - val_loss: 1.1493 - val_sparse_categorical_accuracy: 0.6889\n",
      "Epoch 16/100\n",
      "23/23 [==============================] - 4s 159ms/step - loss: 0.2024 - sparse_categorical_accuracy: 0.9560 - val_loss: 0.4116 - val_sparse_categorical_accuracy: 0.8667\n",
      "Epoch 17/100\n",
      "23/23 [==============================] - 3s 132ms/step - loss: 0.1796 - sparse_categorical_accuracy: 0.9396 - val_loss: 0.5559 - val_sparse_categorical_accuracy: 0.7556\n",
      "Epoch 18/100\n",
      "23/23 [==============================] - 3s 132ms/step - loss: 0.1868 - sparse_categorical_accuracy: 0.9286 - val_loss: 0.8386 - val_sparse_categorical_accuracy: 0.8444\n",
      "Epoch 19/100\n",
      "23/23 [==============================] - 3s 126ms/step - loss: 0.2409 - sparse_categorical_accuracy: 0.9176 - val_loss: 1.0321 - val_sparse_categorical_accuracy: 0.7111\n",
      "Epoch 20/100\n",
      "23/23 [==============================] - 3s 126ms/step - loss: 0.2570 - sparse_categorical_accuracy: 0.9396 - val_loss: 0.5975 - val_sparse_categorical_accuracy: 0.8667\n",
      "Epoch 21/100\n",
      "23/23 [==============================] - 3s 128ms/step - loss: 0.1677 - sparse_categorical_accuracy: 0.9505 - val_loss: 1.1941 - val_sparse_categorical_accuracy: 0.7556\n",
      "Epoch 22/100\n",
      "23/23 [==============================] - 3s 129ms/step - loss: 0.2857 - sparse_categorical_accuracy: 0.8791 - val_loss: 1.2184 - val_sparse_categorical_accuracy: 0.6889\n",
      "Epoch 23/100\n",
      "23/23 [==============================] - 3s 139ms/step - loss: 0.3865 - sparse_categorical_accuracy: 0.9066 - val_loss: 1.6619 - val_sparse_categorical_accuracy: 0.5556\n",
      "Epoch 24/100\n",
      "23/23 [==============================] - 3s 134ms/step - loss: 0.2733 - sparse_categorical_accuracy: 0.9011 - val_loss: 1.0678 - val_sparse_categorical_accuracy: 0.8000\n",
      "Epoch 25/100\n",
      "23/23 [==============================] - 3s 123ms/step - loss: 0.1633 - sparse_categorical_accuracy: 0.9451 - val_loss: 0.9759 - val_sparse_categorical_accuracy: 0.8222\n",
      "2/2 [==============================] - 0s 37ms/step - loss: 0.4116 - sparse_categorical_accuracy: 0.8667\n",
      "block1a_ same\n",
      "block2a_ ((1, 1), (1, 1))\n",
      "block2a_ valid\n",
      "block2b_ same\n",
      "block3a_ ((2, 2), (2, 2))\n",
      "block3a_ valid\n",
      "block3b_ same\n",
      "block4a_ ((1, 1), (1, 1))\n",
      "block4a_ valid\n",
      "block4b_ same\n",
      "block4c_ same\n",
      "block5a_ same\n",
      "block5b_ same\n",
      "block5c_ same\n",
      "block6a_ ((2, 2), (2, 2))\n",
      "block6a_ valid\n",
      "block6b_ same\n",
      "block6c_ same\n",
      "block6d_ same\n",
      "block7a_ same\n"
     ]
    }
   ],
   "source": [
    "# Train and evaluate the model using K-fold cross-validation\n",
    "scores = []\n",
    "training_accuracy = []\n",
    "validation_accuracy = []\n",
    "training_loss = []\n",
    "validation_loss = []\n",
    "\n",
    "## Initializing the model\n",
    "model_init()\n",
    "\n",
    "for train_idx, val_idx in kf.split(x_train_val):\n",
    "    X_train = tf.gather(x_train_val, train_idx)\n",
    "    y_train = tf.gather(y_train_val, train_idx)\n",
    "    X_val = tf.gather(x_train_val, val_idx)\n",
    "    y_val = tf.gather(y_train_val, val_idx)\n",
    "    history = model.fit(X_train, y_train, validation_data=(X_val, y_val), epochs= 100, verbose=1, batch_size=8, \n",
    "                        callbacks=[early_stopping, checkpoint])\n",
    "\n",
    "    training_accuracy.append(history.history['sparse_categorical_accuracy'])\n",
    "    validation_accuracy.append(history.history['val_sparse_categorical_accuracy'])\n",
    "    training_loss.append(history.history['loss'])\n",
    "    validation_loss.append(history.history['val_loss'])\n",
    "    \n",
    "    model.load_weights('best_weights.h5')\n",
    "    score = model.evaluate(X_val, y_val)\n",
    "    scores.append(score[1])\n",
    "    \n",
    "    ## Reseting the model for the next fold\n",
    "    model_init()"
   ]
  },
  {
   "cell_type": "code",
   "execution_count": 59,
   "id": "c3ae736d",
   "metadata": {
    "ExecuteTime": {
     "end_time": "2023-04-09T20:44:00.262059Z",
     "start_time": "2023-04-09T20:44:00.259248Z"
    },
    "tags": []
   },
   "outputs": [
    {
     "name": "stdout",
     "output_type": "stream",
     "text": [
      "Validation accuracy mean: 0.78 (std 0.06)\n"
     ]
    }
   ],
   "source": [
    "# Print the mean validation accuracy\n",
    "print('Validation accuracy mean: {:.2f} (std {:.2f})'.format(np.mean(scores), np.std(scores)))"
   ]
  },
  {
   "cell_type": "markdown",
   "id": "013aa747-2788-4c43-a743-c29c8c378de4",
   "metadata": {},
   "source": [
    "Calculating the **1 - Cohen's kappa** score of the trained model on the trained dataset."
   ]
  },
  {
   "cell_type": "code",
   "execution_count": 60,
   "id": "ee7d5059-eb66-40fb-a848-bd2874e5cd5e",
   "metadata": {
    "tags": []
   },
   "outputs": [],
   "source": [
    "model.load_weights('best_weights.h5')"
   ]
  },
  {
   "cell_type": "code",
   "execution_count": 61,
   "id": "bb08a64b",
   "metadata": {
    "ExecuteTime": {
     "end_time": "2023-04-04T20:10:20.518612Z",
     "start_time": "2023-04-04T20:10:19.125881Z"
    },
    "tags": []
   },
   "outputs": [
    {
     "name": "stdout",
     "output_type": "stream",
     "text": [
      "Score: 0.48571428571428577\n"
     ]
    }
   ],
   "source": [
    "predictions = np.zeros(len(y_test), dtype=np.int8)\n",
    "# inference loop\n",
    "for e, (image, target) in enumerate(zip(x_test, y_test)):\n",
    "    image = np.expand_dims(np.array(image), axis=0)\n",
    "    output = model.predict(image)\n",
    "    predictions[e] = np.squeeze(output).argmax()\n",
    "#Keras model score\n",
    "score_keras = 1 - cohen_kappa_score(y_test.numpy(), predictions)\n",
    "print(\"Score:\",score_keras)"
   ]
  },
  {
   "cell_type": "code",
   "execution_count": 64,
   "id": "9edf174a-54c0-46d0-a710-31b5e4d0b2d9",
   "metadata": {
    "tags": []
   },
   "outputs": [
    {
     "name": "stdout",
     "output_type": "stream",
     "text": [
      "predictions:  [3 0 0 3 0 6 1 1 7 1 3 1 6 4 1 3 0 3 3 7 4 4 6 4 4 5 5 0 5 5 6 6 6 5 4 7 0\n",
      " 7 3 7]\n",
      "Actual:  [0 0 0 0 0 1 1 1 1 1 2 2 2 2 2 3 3 3 3 3 4 4 4 4 4 5 5 5 5 5 6 6 6 6 6 7 7\n",
      " 7 7 7]\n"
     ]
    }
   ],
   "source": [
    "print(\"predictions: \", predictions)\n",
    "print(\"Actual: \", y_test.numpy())"
   ]
  },
  {
   "cell_type": "markdown",
   "id": "a6b9b6db-0771-41f7-9c83-29e26f8a9318",
   "metadata": {},
   "source": [
    "## Train - Validation Visualization"
   ]
  },
  {
   "cell_type": "code",
   "execution_count": 65,
   "id": "eccf8e57-6fb7-443d-ba9a-adc43ba15c43",
   "metadata": {
    "tags": []
   },
   "outputs": [
    {
     "data": {
      "text/plain": [
       "[25, 18, 23, 18, 25]"
      ]
     },
     "execution_count": 65,
     "metadata": {},
     "output_type": "execute_result"
    }
   ],
   "source": [
    "eps_per_fold = [len(sub_list) for sub_list in training_accuracy]\n",
    "eps_per_fold"
   ]
  },
  {
   "cell_type": "code",
   "execution_count": 66,
   "id": "5865317a-83dc-42c1-a4f3-1abe577e63b8",
   "metadata": {
    "tags": []
   },
   "outputs": [],
   "source": [
    "eps_per_fold_cum = list(accumulate(eps_per_fold))"
   ]
  },
  {
   "cell_type": "code",
   "execution_count": 67,
   "id": "154f6fb9-0369-4090-983d-58a4d79f5410",
   "metadata": {
    "tags": []
   },
   "outputs": [],
   "source": [
    "training_accuracy = [element for sublist in training_accuracy for element in sublist]\n",
    "validation_accuracy = [element for sublist in validation_accuracy for element in sublist]\n",
    "training_loss = [element for sublist in training_loss for element in sublist]\n",
    "validation_loss = [element for sublist in validation_loss for element in sublist]"
   ]
  },
  {
   "cell_type": "code",
   "execution_count": 68,
   "id": "c84b0a9c-6f41-444e-ba23-cab449735fb1",
   "metadata": {
    "tags": []
   },
   "outputs": [
    {
     "data": {
      "text/plain": [
       "[25, 43, 66, 84, 109]"
      ]
     },
     "execution_count": 68,
     "metadata": {},
     "output_type": "execute_result"
    }
   ],
   "source": [
    "eps_per_fold_cum"
   ]
  },
  {
   "cell_type": "code",
   "execution_count": 69,
   "id": "a3bdaa28-fd23-4ffc-9174-f51aa4ad8f2a",
   "metadata": {
    "tags": []
   },
   "outputs": [],
   "source": [
    "xs = []\n",
    "ys = []\n",
    "for i in range(k):\n",
    "    xs.append(eps_per_fold_cum[i]+1)\n",
    "    ys.append(training_accuracy[eps_per_fold_cum[0]-1])\n",
    "# xs = [eps_per_fold_cum[0]+1, eps_per_fold_cum[1]+1, eps_per_fold_cum[2]+1, eps_per_fold_cum[3]+1, eps_per_fold_cum[4]+1]\n",
    "# ys = [training_accuracy[eps_per_fold_cum[0]-1], training_accuracy[eps_per_fold_cum[1]-1], training_accuracy[eps_per_fold_cum[2]-1],\n",
    "#          training_accuracy[eps_per_fold_cum[3]-1], training_accuracy[eps_per_fold_cum[4]-1]]"
   ]
  },
  {
   "cell_type": "code",
   "execution_count": 70,
   "id": "f5e2e0b8-4b97-430f-a553-5962477fa2e4",
   "metadata": {
    "tags": []
   },
   "outputs": [
    {
     "data": {
      "image/png": "[encoded data removed]",
      "text/plain": [
       "<Figure size 1500x600 with 1 Axes>"
      ]
     },
     "metadata": {},
     "output_type": "display_data"
    }
   ],
   "source": [
    "x1 = list(range(1, len(training_accuracy) + 1))\n",
    "x2 = list(range(1, len(validation_accuracy) + 1))\n",
    "\n",
    "fig = plt.figure(figsize=(15, 6))\n",
    "\n",
    "# Create the plot\n",
    "plt.plot(x1, training_accuracy, label='Training Accuracy')\n",
    "plt.plot(x2, validation_accuracy, label='Validation Accuracy')\n",
    "\n",
    "\n",
    "\n",
    "# Add points with labels\n",
    "for i in range(k-1):\n",
    "    plt.axvline(x=xs[i], color='red', linestyle='--')\n",
    "# plt.axvline(x=xs[0], color='red', linestyle='--')\n",
    "# plt.axvline(x=xs[1], color='red', linestyle='--')\n",
    "# plt.axvline(x=xs[2], color='red', linestyle='--')\n",
    "# plt.axvline(x=xs[3], color='red', linestyle='--')\n",
    "\n",
    "# Add annotations to the lines\n",
    "for i in range(k-1):\n",
    "    plt.annotate('Fold '+str(i+2), xy=(xs[i], 0.2), xytext=(xs[i]+1, 0.15),\n",
    "             arrowprops=dict(facecolor='black', arrowstyle='->'))\n",
    "\n",
    "# plt.annotate('Fold 2', xy=(xs[0], 0.5), xytext=(xs[0]+1, 0.4),\n",
    "#              arrowprops=dict(facecolor='black', arrowstyle='->'))\n",
    "# plt.annotate('Fold 3', xy=(xs[1], 0.5), xytext=(xs[1]+1, 0.4),\n",
    "#              arrowprops=dict(facecolor='black', arrowstyle='->'))\n",
    "# plt.annotate('Fold 4', xy=(xs[2], 0.5), xytext=(xs[2]+1, 0.4),\n",
    "#              arrowprops=dict(facecolor='black', arrowstyle='->'))\n",
    "# plt.annotate('Fold 5', xy=(xs[3], 0.5), xytext=(xs[3]+1, 0.4),\n",
    "#              arrowprops=dict(facecolor='black', arrowstyle='->'))\n",
    "# plt.axvline(x=xs[4], color='red', linestyle='--')\n",
    "# plt.scatter(xs, ys, color='red')\n",
    "# plt.annotate('Point 1', (2, 4), textcoords=\"offset points\", xytext=(0,10), ha='center')\n",
    "# plt.annotate('Point 2', (4, 8), textcoords=\"offset points\", xytext=(0,10), ha='center')\n",
    "\n",
    "\n",
    "# Add a legend\n",
    "plt.legend()\n",
    "\n",
    "# Enable the grid\n",
    "# plt.grid(True)\n",
    "\n",
    "# Show the plot\n",
    "plt.show()"
   ]
  },
  {
   "cell_type": "code",
   "execution_count": null,
   "id": "85bfe481-c074-4e42-857b-4e0df70be766",
   "metadata": {},
   "outputs": [],
   "source": []
  },
  {
   "cell_type": "code",
   "execution_count": null,
   "id": "f1073ff0-8023-4446-9287-711b255c8486",
   "metadata": {},
   "outputs": [],
   "source": []
  },
  {
   "cell_type": "code",
   "execution_count": null,
   "id": "6914a879-ea49-4d8c-aa12-22231573d2e4",
   "metadata": {},
   "outputs": [],
   "source": []
  },
  {
   "cell_type": "code",
   "execution_count": null,
   "id": "488a741c-626d-4480-acf2-0e18892a05ab",
   "metadata": {},
   "outputs": [],
   "source": []
  },
  {
   "cell_type": "code",
   "execution_count": null,
   "id": "e4480c0e-72c2-418c-af05-2d47ae530e70",
   "metadata": {},
   "outputs": [],
   "source": []
  },
  {
   "cell_type": "code",
   "execution_count": null,
   "id": "ab82b9af-129b-4795-9411-60ba573f9656",
   "metadata": {},
   "outputs": [],
   "source": []
  },
  {
   "cell_type": "code",
   "execution_count": null,
   "id": "d718f5fc",
   "metadata": {
    "ExecuteTime": {
     "end_time": "2023-04-09T20:42:39.783353Z",
     "start_time": "2023-04-09T20:42:39.220320Z"
    },
    "tags": []
   },
   "outputs": [],
   "source": [
    "## Load the Model without any weight initialization\n",
    "# model = EfficientNetLiteB0(classes=num_classes, weights=None, input_shape=input_shape, classifier_activation=None)\n",
    "# model.summary()"
   ]
  },
  {
   "cell_type": "code",
   "execution_count": null,
   "id": "2c9ed0f4-bd3f-45bd-b135-b0332086e2f7",
   "metadata": {},
   "outputs": [],
   "source": []
  },
  {
   "cell_type": "code",
   "execution_count": null,
   "id": "00f6c73b",
   "metadata": {
    "ExecuteTime": {
     "end_time": "2022-10-30T19:46:06.491070Z",
     "start_time": "2022-10-30T19:46:06.274124Z"
    }
   },
   "outputs": [],
   "source": [
    "## Saving model\n",
    "# model.save_weights('/home/ramez/Politechnika_Slaska_MSc/Thesis/Competition/submission/submit_19.h5')"
   ]
  },
  {
   "cell_type": "code",
   "execution_count": null,
   "id": "8b0adb32",
   "metadata": {
    "ExecuteTime": {
     "end_time": "2022-10-30T19:40:44.823406Z",
     "start_time": "2022-10-30T19:40:43.780920Z"
    }
   },
   "outputs": [],
   "source": [
    "# model = EfficientNetLiteB0(classes=num_classes, weights=None, input_shape=input_shape, classifier_activation=None)\n",
    "# # model = EfficientNetLiteB0(include_top=False, classes=num_classes, weights='imagenet', input_shape=input_shape, classifier_activation=None)\n",
    "# model.load_weights('/home/ramez/Politechnika_Slaska_MSc/Thesis/Competition/submission/model_patterns_20epochs.h5')"
   ]
  },
  {
   "cell_type": "markdown",
   "id": "91d26b2b",
   "metadata": {},
   "source": [
    "The model will be now compiled and tested again. You should get the same score as before saving and loading. "
   ]
  },
  {
   "cell_type": "code",
   "execution_count": null,
   "id": "27e0e495",
   "metadata": {
    "ExecuteTime": {
     "end_time": "2022-10-08T14:01:38.000493Z",
     "start_time": "2022-10-08T14:01:36.169912Z"
    }
   },
   "outputs": [],
   "source": [
    "# #Model shall be compiled before testing.\n",
    "# model.compile()\n",
    "\n",
    "# #Creating empty predictions\n",
    "# predictions = np.zeros(len(y_test), dtype=np.int8)\n",
    "# # inference loop\n",
    "# for e, (image, target) in enumerate(zip(x_test, y_test)):\n",
    "#     image = np.expand_dims(np.array(image), axis=0)\n",
    "#     output = model.predict(image)\n",
    "#     predictions[e] = np.squeeze(output).argmax()\n",
    "# #Keras model score\n",
    "# score_keras = 1 - cohen_kappa_score(y_test.numpy(), predictions)\n",
    "# print(\"Score:\",score_keras)"
   ]
  },
  {
   "cell_type": "code",
   "execution_count": null,
   "id": "82416ca4",
   "metadata": {},
   "outputs": [],
   "source": []
  },
  {
   "cell_type": "code",
   "execution_count": null,
   "id": "14eedf3b",
   "metadata": {},
   "outputs": [],
   "source": []
  },
  {
   "cell_type": "code",
   "execution_count": null,
   "id": "786276ad",
   "metadata": {},
   "outputs": [],
   "source": []
  },
  {
   "cell_type": "code",
   "execution_count": null,
   "id": "bf1b71e6",
   "metadata": {
    "ExecuteTime": {
     "end_time": "2022-10-12T18:20:06.668315Z",
     "start_time": "2022-10-12T18:20:06.652610Z"
    }
   },
   "outputs": [],
   "source": []
  },
  {
   "cell_type": "code",
   "execution_count": null,
   "id": "e2dd4279",
   "metadata": {},
   "outputs": [],
   "source": []
  }
 ],
 "metadata": {
  "kernelspec": {
   "display_name": "Python 3 (ipykernel)",
   "language": "python",
   "name": "python3"
  },
  "language_info": {
   "codemirror_mode": {
    "name": "ipython",
    "version": 3
   },
   "file_extension": ".py",
   "mimetype": "text/x-python",
   "name": "python",
   "nbconvert_exporter": "python",
   "pygments_lexer": "ipython3",
   "version": "3.9.16"
  },
  "toc": {
   "base_numbering": 1,
   "nav_menu": {},
   "number_sections": true,
   "sideBar": true,
   "skip_h1_title": false,
   "title_cell": "Table of Contents",
   "title_sidebar": "Contents",
   "toc_cell": false,
   "toc_position": {},
   "toc_section_display": true,
   "toc_window_display": false
  }
 },
 "nbformat": 4,
 "nbformat_minor": 5
}
