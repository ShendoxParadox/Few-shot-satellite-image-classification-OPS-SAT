{
 "cells": [
  {
   "cell_type": "markdown",
   "id": "fcdcd3ca",
   "metadata": {},
   "source": [
    "# OPS-SAT case starter-kit notebook"
   ]
  },
  {
   "cell_type": "markdown",
   "id": "a3ad0860",
   "metadata": {},
   "source": [
    "ESA's [Kelvins](https://kelvins.esa.int) competition \"[the OPS-SAT case](https://kelvins.esa.int/opssat/home/)\" is a novel data-centric challenge that asks you to work with the raw data of a satellite and very few provided labels to find the best parameters for a given machine learning model. Compared to previous competitions on Kelvins (like the [Pose Estimation](https://kelvins.esa.int/pose-estimation-2021/) or the [Proba-V Super-resolution challenge](https://kelvins.esa.int/proba-v-super-resolution/)) where the test-set is provided and the infered results are submitted, for the OPS-SAT case, we will run inference on the Kelvins server directly! This notebooks contains examples on how you can load your data and train an **EfficientNetLite0** model by only using the 80-labeled images provided. Therefore, the directory `images`, containing unlabeld patches and included in the training dataset is not used for this notebook. However, competitors are encouraged to use these patches to improve the model accuracy."
   ]
  },
  {
   "cell_type": "markdown",
   "id": "403eeb5a",
   "metadata": {},
   "source": [
    "# 1. Module imports"
   ]
  },
  {
   "cell_type": "markdown",
   "id": "91d88f44",
   "metadata": {},
   "source": [
    "If you do not have a GPU, uncomment and run the next commands.\n"
   ]
  },
  {
   "cell_type": "code",
   "execution_count": 1,
   "id": "1f3f6cde",
   "metadata": {
    "ExecuteTime": {
     "end_time": "2023-04-09T20:42:31.525217Z",
     "start_time": "2023-04-09T20:42:31.521341Z"
    },
    "scrolled": true,
    "tags": []
   },
   "outputs": [
    {
     "data": {
      "text/plain": [
       "'3.9.16 (main, Mar  8 2023, 14:00:05) \\n[GCC 11.2.0]'"
      ]
     },
     "execution_count": 1,
     "metadata": {},
     "output_type": "execute_result"
    }
   ],
   "source": [
    "import sys\n",
    "sys.version"
   ]
  },
  {
   "cell_type": "code",
   "execution_count": 2,
   "id": "c7c8f9d8",
   "metadata": {
    "ExecuteTime": {
     "end_time": "2023-04-09T20:42:31.887841Z",
     "start_time": "2023-04-09T20:42:31.711974Z"
    },
    "tags": []
   },
   "outputs": [
    {
     "name": "stdout",
     "output_type": "stream",
     "text": [
      "/usr/bin/zsh: /home/ramez/miniconda3/envs/thesis/lib/libtinfo.so.6: no version information available (required by /usr/bin/zsh)\n",
      "Python 3.9.16\n"
     ]
    }
   ],
   "source": [
    "! python --version"
   ]
  },
  {
   "cell_type": "code",
   "execution_count": 3,
   "id": "cb8fddce",
   "metadata": {
    "ExecuteTime": {
     "end_time": "2023-04-09T20:42:32.267814Z",
     "start_time": "2023-04-09T20:42:32.094731Z"
    },
    "tags": []
   },
   "outputs": [
    {
     "name": "stdout",
     "output_type": "stream",
     "text": [
      "/usr/bin/zsh: /home/ramez/miniconda3/envs/thesis/lib/libtinfo.so.6: no version information available (required by /usr/bin/zsh)\n",
      "/home/ramez/miniconda3/envs/thesis/bin/python\n"
     ]
    }
   ],
   "source": [
    "! which python"
   ]
  },
  {
   "cell_type": "code",
   "execution_count": 4,
   "id": "c3aecaa6",
   "metadata": {
    "ExecuteTime": {
     "end_time": "2023-04-09T20:42:33.914315Z",
     "start_time": "2023-04-09T20:42:33.911985Z"
    },
    "tags": []
   },
   "outputs": [],
   "source": [
    "import tensorflow as tf"
   ]
  },
  {
   "cell_type": "markdown",
   "id": "4fc1fd19-d4ef-4a54-877e-9d06a9049737",
   "metadata": {},
   "source": [
    "#### GPU Check"
   ]
  },
  {
   "cell_type": "code",
   "execution_count": 5,
   "id": "b1e02f8b",
   "metadata": {
    "ExecuteTime": {
     "end_time": "2023-04-09T20:42:36.255529Z",
     "start_time": "2023-04-09T20:42:34.328075Z"
    },
    "tags": []
   },
   "outputs": [
    {
     "name": "stdout",
     "output_type": "stream",
     "text": [
      "/usr/bin/zsh: /home/ramez/miniconda3/envs/thesis/lib/libtinfo.so.6: no version information available (required by /usr/bin/zsh)\n",
      "[PhysicalDevice(name='/physical_device:GPU:0', device_type='GPU')]\n"
     ]
    }
   ],
   "source": [
    "!python3 -c \"import tensorflow as tf; print(tf.config.list_physical_devices('GPU'))\""
   ]
  },
  {
   "cell_type": "code",
   "execution_count": 6,
   "id": "234eba6e",
   "metadata": {
    "ExecuteTime": {
     "end_time": "2023-04-09T20:42:36.260638Z",
     "start_time": "2023-04-09T20:42:36.257966Z"
    },
    "tags": []
   },
   "outputs": [],
   "source": [
    "from tensorflow import keras"
   ]
  },
  {
   "cell_type": "code",
   "execution_count": 7,
   "id": "ea21b9b7",
   "metadata": {
    "ExecuteTime": {
     "end_time": "2023-04-09T20:42:36.327202Z",
     "start_time": "2023-04-09T20:42:36.262029Z"
    },
    "tags": []
   },
   "outputs": [],
   "source": [
    "import numpy as np"
   ]
  },
  {
   "cell_type": "code",
   "execution_count": 8,
   "id": "f73af189",
   "metadata": {
    "ExecuteTime": {
     "end_time": "2023-04-09T20:42:36.336400Z",
     "start_time": "2023-04-09T20:42:36.333721Z"
    },
    "tags": []
   },
   "outputs": [],
   "source": [
    "from sklearn.metrics import cohen_kappa_score"
   ]
  },
  {
   "cell_type": "code",
   "execution_count": 9,
   "id": "80fbbb42",
   "metadata": {
    "ExecuteTime": {
     "end_time": "2023-04-09T20:42:36.345491Z",
     "start_time": "2023-04-09T20:42:36.343286Z"
    },
    "tags": []
   },
   "outputs": [],
   "source": [
    "## Local EfficientNetLite (Customized by the Competition)\n",
    "from efficientnet_lite import EfficientNetLiteB0"
   ]
  },
  {
   "cell_type": "code",
   "execution_count": 10,
   "id": "c6face98",
   "metadata": {
    "ExecuteTime": {
     "end_time": "2023-04-09T20:42:36.349008Z",
     "start_time": "2023-04-09T20:42:36.346850Z"
    },
    "tags": []
   },
   "outputs": [],
   "source": [
    "from sklearn.model_selection import KFold"
   ]
  },
  {
   "cell_type": "code",
   "execution_count": 11,
   "id": "fb004876",
   "metadata": {
    "ExecuteTime": {
     "end_time": "2023-04-09T20:42:36.353039Z",
     "start_time": "2023-04-09T20:42:36.350804Z"
    },
    "tags": []
   },
   "outputs": [],
   "source": [
    "from tensorflow.keras.models import Model\n",
    "from tensorflow.keras.layers import GlobalAveragePooling2D, Dense, Dropout"
   ]
  },
  {
   "cell_type": "code",
   "execution_count": 12,
   "id": "22d591c0",
   "metadata": {
    "ExecuteTime": {
     "end_time": "2023-04-09T20:42:36.719018Z",
     "start_time": "2023-04-09T20:42:36.716802Z"
    },
    "tags": []
   },
   "outputs": [],
   "source": [
    "from tensorflow.keras.callbacks import TensorBoard"
   ]
  },
  {
   "cell_type": "code",
   "execution_count": 13,
   "id": "a7cffd18-bb07-4455-8292-3cd846d3139e",
   "metadata": {
    "tags": []
   },
   "outputs": [],
   "source": [
    "from keras.callbacks import EarlyStopping, ModelCheckpoint"
   ]
  },
  {
   "cell_type": "code",
   "execution_count": 14,
   "id": "6d5167dd-ad8d-41ab-9c7c-ace8e0c7c765",
   "metadata": {
    "tags": []
   },
   "outputs": [],
   "source": [
    "import matplotlib.pyplot as plt"
   ]
  },
  {
   "cell_type": "code",
   "execution_count": 15,
   "id": "bdcaf42f-1499-4cde-a474-ee694d25d7eb",
   "metadata": {
    "tags": []
   },
   "outputs": [],
   "source": [
    "from itertools import accumulate"
   ]
  },
  {
   "cell_type": "code",
   "execution_count": 16,
   "id": "262ab8b0-57fa-4a40-9ebc-fd2e9809942f",
   "metadata": {},
   "outputs": [],
   "source": [
    "import os"
   ]
  },
  {
   "cell_type": "markdown",
   "id": "539eda62",
   "metadata": {},
   "source": [
    "# 2. Utility Functions"
   ]
  },
  {
   "cell_type": "markdown",
   "id": "eec32f1b",
   "metadata": {},
   "source": [
    "You can use this function to load your training data."
   ]
  },
  {
   "cell_type": "code",
   "execution_count": 17,
   "id": "9f270337",
   "metadata": {
    "ExecuteTime": {
     "end_time": "2023-04-09T20:42:37.464808Z",
     "start_time": "2023-04-09T20:42:37.461420Z"
    },
    "tags": []
   },
   "outputs": [],
   "source": [
    "def get_images_from_path(dataset_path):\n",
    "    \"\"\" Get images from path and normalize them applying channel-level normalization. \"\"\"\n",
    "\n",
    "    # loading all images in one large batch\n",
    "    tf_eval_data = tf.keras.utils.image_dataset_from_directory(dataset_path, image_size=input_shape[:2], shuffle=False, \n",
    "                                                               batch_size=100000)\n",
    "\n",
    "    # extract images and targets\n",
    "    for tf_eval_images, tf_eval_targets in tf_eval_data:\n",
    "        break\n",
    "\n",
    "    return tf.convert_to_tensor(tf_eval_images), tf_eval_targets"
   ]
  },
  {
   "cell_type": "markdown",
   "id": "a6cec9e1",
   "metadata": {},
   "source": [
    "# 4. Loading data"
   ]
  },
  {
   "cell_type": "code",
   "execution_count": 18,
   "id": "3939168c",
   "metadata": {
    "ExecuteTime": {
     "end_time": "2023-04-09T20:42:42.576907Z",
     "start_time": "2023-04-09T20:42:42.574308Z"
    },
    "tags": []
   },
   "outputs": [],
   "source": [
    "# dataset_path_train=\"/home/ramez/Politechnika_Slaska_MSc/Thesis/Competition/Data/images_copy_processed/\"\n",
    "dataset_path_train_val = \"/home/ramez/Politechnika_Slaska_MSc/Thesis/Competition/Data/ops_sat_train/\""
   ]
  },
  {
   "cell_type": "code",
   "execution_count": 19,
   "id": "4e57cb03",
   "metadata": {
    "ExecuteTime": {
     "end_time": "2023-04-09T20:42:43.086890Z",
     "start_time": "2023-04-09T20:42:43.084818Z"
    },
    "tags": []
   },
   "outputs": [],
   "source": [
    "dataset_path_test = \"/home/ramez/Politechnika_Slaska_MSc/Thesis/Competition/Data/ops_sat_test/\""
   ]
  },
  {
   "cell_type": "markdown",
   "id": "ad7277b8",
   "metadata": {},
   "source": [
    "In this notebook, classical supervised learning is used. Therefore, remember to remove the subdirectory `images` containing unlabeled patches before loading the dataset to perform training correctly."
   ]
  },
  {
   "cell_type": "code",
   "execution_count": 20,
   "id": "c5fe37a5",
   "metadata": {
    "ExecuteTime": {
     "end_time": "2023-04-09T20:42:38.494116Z",
     "start_time": "2023-04-09T20:42:38.491962Z"
    },
    "tags": []
   },
   "outputs": [],
   "source": [
    "input_shape = (200, 200, 3)   # input_shape is (height, width, number of channels) for images\n",
    "num_classes = 8"
   ]
  },
  {
   "cell_type": "code",
   "execution_count": 21,
   "id": "535d9f57",
   "metadata": {
    "ExecuteTime": {
     "end_time": "2023-04-09T20:42:44.029535Z",
     "start_time": "2023-04-09T20:42:43.904140Z"
    },
    "tags": []
   },
   "outputs": [
    {
     "name": "stdout",
     "output_type": "stream",
     "text": [
      "Found 227 files belonging to 8 classes.\n"
     ]
    }
   ],
   "source": [
    "#Loading dataset\n",
    "x_train_val, y_train_val = get_images_from_path(dataset_path_train_val)"
   ]
  },
  {
   "cell_type": "code",
   "execution_count": 22,
   "id": "176ad7e8",
   "metadata": {
    "ExecuteTime": {
     "end_time": "2023-04-09T20:42:44.501742Z",
     "start_time": "2023-04-09T20:42:44.458845Z"
    },
    "tags": []
   },
   "outputs": [
    {
     "name": "stdout",
     "output_type": "stream",
     "text": [
      "Found 40 files belonging to 8 classes.\n"
     ]
    }
   ],
   "source": [
    "#Loading dataset\n",
    "x_test, y_test = get_images_from_path(dataset_path_test)"
   ]
  },
  {
   "cell_type": "markdown",
   "id": "6ed865db",
   "metadata": {},
   "source": [
    "# 5. Model training"
   ]
  },
  {
   "cell_type": "markdown",
   "id": "55f4a84c-e53f-42e5-b7ea-12893a82a5d1",
   "metadata": {},
   "source": [
    "The network architecture used for OPS-SAT is **EfficientNetLite0**. We would like to thank Sebastian for making a Keras implementation of EfficientNetLite publicly available under the Apache 2.0 License: https://github.com/sebastian-sz/efficientnet-lite-keras. Our Version of this code has been modified to better fit our purposes. For example, we removed the ReLU \"stem_activation\" to better match a related efficientnet pytorch implementation. In any way, **you have to use the model architecture that we provide in our [starter-kit](https://gitlab.com/EuropeanSpaceAgency/the_opssat_case_starter_kit).**"
   ]
  },
  {
   "cell_type": "markdown",
   "id": "54a9bc3a-67ab-4e37-9a2f-aab98c8c5b25",
   "metadata": {},
   "source": [
    "### Load The Model With ImageNet Weights"
   ]
  },
  {
   "cell_type": "markdown",
   "id": "ba86fe85-998e-4704-bb76-18af67274166",
   "metadata": {
    "tags": []
   },
   "source": [
    "### Compile The model"
   ]
  },
  {
   "cell_type": "markdown",
   "id": "00c29753-9cbf-4149-a938-ceec8435dce0",
   "metadata": {},
   "source": [
    "### Early Stopping and Best Model Callbacks "
   ]
  },
  {
   "cell_type": "markdown",
   "id": "340a085b-c09c-4892-968a-8eeb2c556ce1",
   "metadata": {},
   "source": [
    "We provide now an example on how you can train your model by using standard supervised learning. Training loss (`SparseCategoricalCrossentropy`) and `Accuracy` are shown for simplicity and for an easier interpretation of the training outcome, despite your submission will be evaluated by using the metric **1 - Cohen's kappa** [metric](https://en.wikipedia.org/wiki/Cohen's_kappa). For more information on scoring, please refer to [Scoring](https://kelvins.esa.int/opssat/scoring/)."
   ]
  },
  {
   "cell_type": "code",
   "execution_count": 23,
   "id": "593c7f99-4e05-4b40-8cc7-e7c4b84e3452",
   "metadata": {},
   "outputs": [],
   "source": [
    "def model_init():\n",
    "    global model\n",
    "    global early_stopping\n",
    "    global checkpoint\n",
    "    \n",
    "    model = EfficientNetLiteB0(classes=num_classes, weights='imagenet', input_shape=input_shape, classifier_activation=None, include_top = False)\n",
    "    x = model.output\n",
    "    x = GlobalAveragePooling2D()(x)\n",
    "    x = Dropout(0.5)(x)\n",
    "    output_layer = Dense(num_classes, activation='softmax')(x)\n",
    "    model = Model(inputs=model.input, outputs=output_layer)\n",
    "    # model.summary()\n",
    "    \n",
    "    model.compile(optimizer='adam',\n",
    "              loss=tf.keras.losses.SparseCategoricalCrossentropy(from_logits=False), \n",
    "              metrics=[keras.metrics.SparseCategoricalAccuracy()])\n",
    "    \n",
    "    early_stopping = EarlyStopping(monitor='val_sparse_categorical_accuracy', patience=20)\n",
    "    checkpoint = ModelCheckpoint('best_weights.h5', monitor='val_sparse_categorical_accuracy', save_best_only=True)"
   ]
  },
  {
   "cell_type": "markdown",
   "id": "8bc53411-de66-41a5-bdfe-47e6b2b94462",
   "metadata": {
    "tags": []
   },
   "source": [
    "### Without K fold Cross Validation but with TensorBoard (With Early Stopping)"
   ]
  },
  {
   "cell_type": "code",
   "execution_count": 24,
   "id": "9ae962a9",
   "metadata": {
    "ExecuteTime": {
     "end_time": "2023-04-09T20:42:49.259862Z",
     "start_time": "2023-04-09T20:42:49.257217Z"
    },
    "tags": []
   },
   "outputs": [],
   "source": [
    "# tensorboard_callback = TensorBoard(log_dir='./logs')"
   ]
  },
  {
   "cell_type": "code",
   "execution_count": 25,
   "id": "24568775",
   "metadata": {
    "ExecuteTime": {
     "end_time": "2023-04-09T20:43:38.960294Z",
     "start_time": "2023-04-09T20:42:50.924320Z"
    },
    "tags": []
   },
   "outputs": [],
   "source": [
    "# early_stopping = keras.callbacks.EarlyStopping(monitor='val_loss', patience=5)\n",
    "# history = model.fit(x_train_val, y_train_val, validation_data=(x_test, y_test), epochs= 100, verbose=1, batch_size=8, \n",
    "#                         callbacks=[early_stopping, tensorboard_callback])"
   ]
  },
  {
   "cell_type": "code",
   "execution_count": 26,
   "id": "faa7c10b",
   "metadata": {
    "ExecuteTime": {
     "end_time": "2023-04-09T20:45:36.527054Z",
     "start_time": "2023-04-09T20:44:17.923419Z"
    },
    "tags": []
   },
   "outputs": [],
   "source": [
    "# !tensorboard --logdir=./logs"
   ]
  },
  {
   "cell_type": "markdown",
   "id": "9c9899b0-587d-4c9a-b9b5-ec61295e2e48",
   "metadata": {},
   "source": [
    "### With K fold Cross Validation but without TensorBoard (With Early Stopping)"
   ]
  },
  {
   "cell_type": "code",
   "execution_count": 27,
   "id": "12efbbf9",
   "metadata": {
    "ExecuteTime": {
     "end_time": "2023-04-09T20:42:47.226837Z",
     "start_time": "2023-04-09T20:42:47.224186Z"
    },
    "tags": []
   },
   "outputs": [],
   "source": [
    "k = 5\n",
    "kf = KFold(n_splits=k, shuffle=True)"
   ]
  },
  {
   "cell_type": "code",
   "execution_count": 28,
   "id": "9a930432",
   "metadata": {
    "ExecuteTime": {
     "end_time": "2023-04-09T20:43:57.248568Z",
     "start_time": "2023-04-09T20:43:57.245137Z"
    },
    "tags": []
   },
   "outputs": [
    {
     "name": "stdout",
     "output_type": "stream",
     "text": [
      "block1a_ same\n",
      "block2a_ ((1, 1), (1, 1))\n",
      "block2a_ valid\n",
      "block2b_ same\n",
      "block3a_ ((2, 2), (2, 2))\n",
      "block3a_ valid\n",
      "block3b_ same\n",
      "block4a_ ((1, 1), (1, 1))\n",
      "block4a_ valid\n",
      "block4b_ same\n",
      "block4c_ same\n",
      "block5a_ same\n",
      "block5b_ same\n",
      "block5c_ same\n",
      "block6a_ ((2, 2), (2, 2))\n",
      "block6a_ valid\n",
      "block6b_ same\n",
      "block6c_ same\n",
      "block6d_ same\n",
      "block7a_ same\n",
      "Epoch 1/100\n"
     ]
    },
    {
     "name": "stderr",
     "output_type": "stream",
     "text": [
      "2023-04-24 19:00:30.277837: W tensorflow/stream_executor/gpu/asm_compiler.cc:111] *** WARNING *** You are using ptxas 9.2.148, which is older than 11.1. ptxas before 11.1 is known to miscompile XLA code, leading to incorrect results or invalid-address errors.\n",
      "\n",
      "You may not need to update to CUDA 11.1; cherry-picking the ptxas binary is often sufficient.\n"
     ]
    },
    {
     "name": "stdout",
     "output_type": "stream",
     "text": [
      "23/23 [==============================] - ETA: 0s - loss: 1.6784 - sparse_categorical_accuracy: 0.3923"
     ]
    },
    {
     "name": "stderr",
     "output_type": "stream",
     "text": [
      "/home/ramez/miniconda3/envs/thesis/lib/python3.9/site-packages/keras/engine/functional.py:1410: CustomMaskWarning: Custom mask layers require a config and must override get_config. When loading, the custom mask layer must be passed to the custom_objects argument.\n",
      "  layer_config = serialize_layer_fn(layer)\n"
     ]
    },
    {
     "name": "stdout",
     "output_type": "stream",
     "text": [
      "23/23 [==============================] - 9s 202ms/step - loss: 1.6784 - sparse_categorical_accuracy: 0.3923 - val_loss: 2.8960 - val_sparse_categorical_accuracy: 0.3043\n",
      "Epoch 2/100\n",
      "23/23 [==============================] - 3s 142ms/step - loss: 0.9751 - sparse_categorical_accuracy: 0.6464 - val_loss: 3.7431 - val_sparse_categorical_accuracy: 0.4130\n",
      "Epoch 3/100\n",
      "23/23 [==============================] - 3s 129ms/step - loss: 0.7876 - sparse_categorical_accuracy: 0.7293 - val_loss: 3.0623 - val_sparse_categorical_accuracy: 0.5000\n",
      "Epoch 4/100\n",
      "23/23 [==============================] - 3s 123ms/step - loss: 0.8164 - sparse_categorical_accuracy: 0.7735 - val_loss: 3.2575 - val_sparse_categorical_accuracy: 0.4348\n",
      "Epoch 5/100\n",
      "23/23 [==============================] - 3s 113ms/step - loss: 0.6845 - sparse_categorical_accuracy: 0.7459 - val_loss: 4.0492 - val_sparse_categorical_accuracy: 0.4130\n",
      "Epoch 6/100\n",
      "23/23 [==============================] - 3s 143ms/step - loss: 0.4876 - sparse_categorical_accuracy: 0.8398 - val_loss: 1.2124 - val_sparse_categorical_accuracy: 0.6522\n",
      "Epoch 7/100\n",
      "23/23 [==============================] - 3s 132ms/step - loss: 0.4760 - sparse_categorical_accuracy: 0.8564 - val_loss: 1.5197 - val_sparse_categorical_accuracy: 0.6957\n",
      "Epoch 8/100\n",
      "23/23 [==============================] - 3s 140ms/step - loss: 0.4758 - sparse_categorical_accuracy: 0.8508 - val_loss: 0.8210 - val_sparse_categorical_accuracy: 0.7609\n",
      "Epoch 9/100\n",
      "23/23 [==============================] - 3s 115ms/step - loss: 0.3699 - sparse_categorical_accuracy: 0.8729 - val_loss: 2.7894 - val_sparse_categorical_accuracy: 0.5435\n",
      "Epoch 10/100\n",
      "23/23 [==============================] - 3s 122ms/step - loss: 0.3837 - sparse_categorical_accuracy: 0.8785 - val_loss: 2.5538 - val_sparse_categorical_accuracy: 0.4565\n",
      "Epoch 11/100\n",
      "23/23 [==============================] - 3s 120ms/step - loss: 0.4398 - sparse_categorical_accuracy: 0.8674 - val_loss: 1.8556 - val_sparse_categorical_accuracy: 0.6522\n",
      "Epoch 12/100\n",
      "23/23 [==============================] - 3s 115ms/step - loss: 0.4318 - sparse_categorical_accuracy: 0.8508 - val_loss: 1.6640 - val_sparse_categorical_accuracy: 0.6522\n",
      "Epoch 13/100\n",
      "23/23 [==============================] - 3s 122ms/step - loss: 0.3671 - sparse_categorical_accuracy: 0.8674 - val_loss: 1.3178 - val_sparse_categorical_accuracy: 0.6522\n",
      "Epoch 14/100\n",
      "23/23 [==============================] - 3s 113ms/step - loss: 0.2868 - sparse_categorical_accuracy: 0.9171 - val_loss: 1.1942 - val_sparse_categorical_accuracy: 0.6739\n",
      "Epoch 15/100\n",
      "23/23 [==============================] - 3s 123ms/step - loss: 0.3413 - sparse_categorical_accuracy: 0.8950 - val_loss: 1.7002 - val_sparse_categorical_accuracy: 0.7174\n",
      "Epoch 16/100\n",
      "23/23 [==============================] - 3s 116ms/step - loss: 0.2771 - sparse_categorical_accuracy: 0.8950 - val_loss: 1.7676 - val_sparse_categorical_accuracy: 0.5652\n",
      "Epoch 17/100\n",
      "23/23 [==============================] - 3s 122ms/step - loss: 0.2769 - sparse_categorical_accuracy: 0.8895 - val_loss: 1.5008 - val_sparse_categorical_accuracy: 0.5870\n",
      "Epoch 18/100\n",
      "23/23 [==============================] - 3s 116ms/step - loss: 0.2579 - sparse_categorical_accuracy: 0.9227 - val_loss: 2.3832 - val_sparse_categorical_accuracy: 0.5652\n",
      "Epoch 19/100\n",
      "23/23 [==============================] - 3s 120ms/step - loss: 0.3194 - sparse_categorical_accuracy: 0.9227 - val_loss: 1.6774 - val_sparse_categorical_accuracy: 0.6522\n",
      "Epoch 20/100\n",
      "23/23 [==============================] - 3s 120ms/step - loss: 0.4282 - sparse_categorical_accuracy: 0.8508 - val_loss: 1.9788 - val_sparse_categorical_accuracy: 0.6087\n",
      "Epoch 21/100\n",
      "23/23 [==============================] - 3s 117ms/step - loss: 0.2613 - sparse_categorical_accuracy: 0.8950 - val_loss: 2.5531 - val_sparse_categorical_accuracy: 0.5652\n",
      "Epoch 22/100\n",
      "23/23 [==============================] - 3s 123ms/step - loss: 0.2194 - sparse_categorical_accuracy: 0.9392 - val_loss: 2.3823 - val_sparse_categorical_accuracy: 0.6522\n",
      "Epoch 23/100\n",
      "23/23 [==============================] - 3s 115ms/step - loss: 0.2751 - sparse_categorical_accuracy: 0.9171 - val_loss: 1.4075 - val_sparse_categorical_accuracy: 0.6739\n",
      "Epoch 24/100\n",
      "23/23 [==============================] - 3s 124ms/step - loss: 0.1446 - sparse_categorical_accuracy: 0.9669 - val_loss: 1.7458 - val_sparse_categorical_accuracy: 0.6304\n",
      "Epoch 25/100\n",
      "23/23 [==============================] - 3s 115ms/step - loss: 0.1286 - sparse_categorical_accuracy: 0.9613 - val_loss: 1.1250 - val_sparse_categorical_accuracy: 0.7391\n",
      "Epoch 26/100\n",
      "23/23 [==============================] - 3s 150ms/step - loss: 0.0643 - sparse_categorical_accuracy: 0.9724 - val_loss: 0.9077 - val_sparse_categorical_accuracy: 0.8261\n",
      "Epoch 27/100\n",
      "23/23 [==============================] - 3s 115ms/step - loss: 0.1595 - sparse_categorical_accuracy: 0.9448 - val_loss: 0.9899 - val_sparse_categorical_accuracy: 0.7391\n",
      "Epoch 28/100\n",
      "23/23 [==============================] - 3s 124ms/step - loss: 0.1058 - sparse_categorical_accuracy: 0.9669 - val_loss: 0.9591 - val_sparse_categorical_accuracy: 0.7609\n",
      "Epoch 29/100\n",
      "23/23 [==============================] - 3s 115ms/step - loss: 0.1396 - sparse_categorical_accuracy: 0.9558 - val_loss: 1.2658 - val_sparse_categorical_accuracy: 0.6739\n",
      "Epoch 30/100\n",
      "23/23 [==============================] - 3s 123ms/step - loss: 0.1170 - sparse_categorical_accuracy: 0.9503 - val_loss: 0.9080 - val_sparse_categorical_accuracy: 0.8043\n",
      "Epoch 31/100\n",
      "23/23 [==============================] - 3s 115ms/step - loss: 0.1611 - sparse_categorical_accuracy: 0.9448 - val_loss: 1.1691 - val_sparse_categorical_accuracy: 0.6957\n",
      "Epoch 32/100\n",
      "23/23 [==============================] - 3s 123ms/step - loss: 0.0878 - sparse_categorical_accuracy: 0.9669 - val_loss: 1.3869 - val_sparse_categorical_accuracy: 0.7174\n",
      "Epoch 33/100\n",
      "23/23 [==============================] - 3s 118ms/step - loss: 0.1731 - sparse_categorical_accuracy: 0.9392 - val_loss: 2.4889 - val_sparse_categorical_accuracy: 0.5652\n",
      "Epoch 34/100\n",
      "23/23 [==============================] - 3s 121ms/step - loss: 0.1749 - sparse_categorical_accuracy: 0.9558 - val_loss: 1.9674 - val_sparse_categorical_accuracy: 0.6087\n",
      "Epoch 35/100\n",
      "23/23 [==============================] - 3s 121ms/step - loss: 0.1566 - sparse_categorical_accuracy: 0.9558 - val_loss: 2.3000 - val_sparse_categorical_accuracy: 0.6087\n",
      "Epoch 36/100\n",
      "23/23 [==============================] - 3s 118ms/step - loss: 0.1461 - sparse_categorical_accuracy: 0.9392 - val_loss: 1.6919 - val_sparse_categorical_accuracy: 0.6957\n",
      "Epoch 37/100\n",
      "23/23 [==============================] - 3s 121ms/step - loss: 0.1067 - sparse_categorical_accuracy: 0.9669 - val_loss: 1.7249 - val_sparse_categorical_accuracy: 0.6739\n",
      "Epoch 38/100\n",
      "23/23 [==============================] - 3s 117ms/step - loss: 0.1335 - sparse_categorical_accuracy: 0.9448 - val_loss: 1.6691 - val_sparse_categorical_accuracy: 0.6522\n",
      "Epoch 39/100\n",
      "23/23 [==============================] - 3s 124ms/step - loss: 0.1458 - sparse_categorical_accuracy: 0.9448 - val_loss: 2.1152 - val_sparse_categorical_accuracy: 0.5870\n",
      "Epoch 40/100\n",
      "23/23 [==============================] - 3s 122ms/step - loss: 0.1302 - sparse_categorical_accuracy: 0.9503 - val_loss: 1.4456 - val_sparse_categorical_accuracy: 0.6304\n",
      "Epoch 41/100\n",
      "23/23 [==============================] - 3s 116ms/step - loss: 0.1538 - sparse_categorical_accuracy: 0.9503 - val_loss: 2.1032 - val_sparse_categorical_accuracy: 0.6087\n",
      "Epoch 42/100\n",
      "23/23 [==============================] - 3s 122ms/step - loss: 0.1460 - sparse_categorical_accuracy: 0.9448 - val_loss: 1.7447 - val_sparse_categorical_accuracy: 0.6087\n",
      "Epoch 43/100\n",
      "23/23 [==============================] - 3s 117ms/step - loss: 0.1197 - sparse_categorical_accuracy: 0.9558 - val_loss: 1.6762 - val_sparse_categorical_accuracy: 0.5435\n",
      "Epoch 44/100\n",
      "23/23 [==============================] - 3s 125ms/step - loss: 0.1241 - sparse_categorical_accuracy: 0.9558 - val_loss: 1.7471 - val_sparse_categorical_accuracy: 0.6522\n",
      "Epoch 45/100\n",
      "23/23 [==============================] - 3s 115ms/step - loss: 0.0951 - sparse_categorical_accuracy: 0.9724 - val_loss: 1.7059 - val_sparse_categorical_accuracy: 0.6522\n",
      "Epoch 46/100\n",
      "23/23 [==============================] - 3s 124ms/step - loss: 0.1419 - sparse_categorical_accuracy: 0.9503 - val_loss: 2.3203 - val_sparse_categorical_accuracy: 0.5217\n",
      "2/2 [==============================] - 1s 401ms/step - loss: 0.9077 - sparse_categorical_accuracy: 0.8261\n",
      "block1a_ same\n",
      "block2a_ ((1, 1), (1, 1))\n",
      "block2a_ valid\n",
      "block2b_ same\n",
      "block3a_ ((2, 2), (2, 2))\n",
      "block3a_ valid\n",
      "block3b_ same\n",
      "block4a_ ((1, 1), (1, 1))\n",
      "block4a_ valid\n",
      "block4b_ same\n",
      "block4c_ same\n",
      "block5a_ same\n",
      "block5b_ same\n",
      "block5c_ same\n",
      "block6a_ ((2, 2), (2, 2))\n",
      "block6a_ valid\n",
      "block6b_ same\n",
      "block6c_ same\n",
      "block6d_ same\n",
      "block7a_ same\n",
      "Epoch 1/100\n",
      "23/23 [==============================] - 8s 175ms/step - loss: 1.6416 - sparse_categorical_accuracy: 0.4199 - val_loss: 2.5373 - val_sparse_categorical_accuracy: 0.1957\n",
      "Epoch 2/100\n",
      "23/23 [==============================] - 3s 142ms/step - loss: 0.9085 - sparse_categorical_accuracy: 0.6796 - val_loss: 3.9293 - val_sparse_categorical_accuracy: 0.2174\n",
      "Epoch 3/100\n",
      "23/23 [==============================] - 3s 135ms/step - loss: 0.8022 - sparse_categorical_accuracy: 0.7569 - val_loss: 2.9613 - val_sparse_categorical_accuracy: 0.5000\n",
      "Epoch 4/100\n",
      "23/23 [==============================] - 3s 143ms/step - loss: 0.5436 - sparse_categorical_accuracy: 0.8287 - val_loss: 2.8664 - val_sparse_categorical_accuracy: 0.5217\n",
      "Epoch 5/100\n",
      "23/23 [==============================] - 3s 137ms/step - loss: 0.5052 - sparse_categorical_accuracy: 0.8398 - val_loss: 1.7813 - val_sparse_categorical_accuracy: 0.6739\n",
      "Epoch 6/100\n",
      "23/23 [==============================] - 3s 123ms/step - loss: 0.6209 - sparse_categorical_accuracy: 0.8011 - val_loss: 3.1222 - val_sparse_categorical_accuracy: 0.5435\n",
      "Epoch 7/100\n",
      "23/23 [==============================] - 3s 137ms/step - loss: 0.4509 - sparse_categorical_accuracy: 0.8398 - val_loss: 1.3770 - val_sparse_categorical_accuracy: 0.6957\n",
      "Epoch 8/100\n",
      "23/23 [==============================] - 3s 147ms/step - loss: 0.3248 - sparse_categorical_accuracy: 0.9006 - val_loss: 0.9249 - val_sparse_categorical_accuracy: 0.7609\n",
      "Epoch 9/100\n",
      "23/23 [==============================] - 3s 115ms/step - loss: 0.3443 - sparse_categorical_accuracy: 0.9006 - val_loss: 2.5228 - val_sparse_categorical_accuracy: 0.6304\n",
      "Epoch 10/100\n",
      "23/23 [==============================] - 3s 123ms/step - loss: 0.2685 - sparse_categorical_accuracy: 0.9171 - val_loss: 2.4032 - val_sparse_categorical_accuracy: 0.5435\n",
      "Epoch 11/100\n",
      "23/23 [==============================] - 3s 113ms/step - loss: 0.3141 - sparse_categorical_accuracy: 0.8619 - val_loss: 1.6168 - val_sparse_categorical_accuracy: 0.6304\n",
      "Epoch 12/100\n",
      "23/23 [==============================] - 3s 123ms/step - loss: 0.3871 - sparse_categorical_accuracy: 0.8729 - val_loss: 2.7920 - val_sparse_categorical_accuracy: 0.5870\n",
      "Epoch 13/100\n",
      "23/23 [==============================] - 3s 118ms/step - loss: 0.4762 - sparse_categorical_accuracy: 0.8840 - val_loss: 1.7892 - val_sparse_categorical_accuracy: 0.7174\n",
      "Epoch 14/100\n",
      "23/23 [==============================] - 3s 120ms/step - loss: 0.3478 - sparse_categorical_accuracy: 0.8674 - val_loss: 1.7156 - val_sparse_categorical_accuracy: 0.6522\n",
      "Epoch 15/100\n",
      "23/23 [==============================] - 3s 125ms/step - loss: 0.3216 - sparse_categorical_accuracy: 0.8840 - val_loss: 2.7562 - val_sparse_categorical_accuracy: 0.5870\n",
      "Epoch 16/100\n",
      "23/23 [==============================] - 3s 121ms/step - loss: 0.3357 - sparse_categorical_accuracy: 0.8619 - val_loss: 1.6099 - val_sparse_categorical_accuracy: 0.6957\n",
      "Epoch 17/100\n",
      "23/23 [==============================] - 3s 123ms/step - loss: 0.3518 - sparse_categorical_accuracy: 0.8619 - val_loss: 1.4139 - val_sparse_categorical_accuracy: 0.6087\n",
      "Epoch 18/100\n",
      "23/23 [==============================] - 3s 125ms/step - loss: 0.5123 - sparse_categorical_accuracy: 0.8729 - val_loss: 1.2639 - val_sparse_categorical_accuracy: 0.7391\n",
      "Epoch 19/100\n",
      "23/23 [==============================] - 3s 116ms/step - loss: 0.4119 - sparse_categorical_accuracy: 0.8674 - val_loss: 1.9123 - val_sparse_categorical_accuracy: 0.6304\n",
      "Epoch 20/100\n",
      "23/23 [==============================] - 3s 126ms/step - loss: 0.2878 - sparse_categorical_accuracy: 0.9116 - val_loss: 2.4520 - val_sparse_categorical_accuracy: 0.5652\n",
      "Epoch 21/100\n",
      "23/23 [==============================] - 3s 116ms/step - loss: 0.2422 - sparse_categorical_accuracy: 0.9227 - val_loss: 1.9692 - val_sparse_categorical_accuracy: 0.6739\n",
      "Epoch 22/100\n",
      "23/23 [==============================] - 3s 152ms/step - loss: 0.1364 - sparse_categorical_accuracy: 0.9613 - val_loss: 0.8126 - val_sparse_categorical_accuracy: 0.7826\n",
      "Epoch 23/100\n",
      "23/23 [==============================] - 3s 116ms/step - loss: 0.1135 - sparse_categorical_accuracy: 0.9669 - val_loss: 1.0757 - val_sparse_categorical_accuracy: 0.7609\n",
      "Epoch 24/100\n",
      "23/23 [==============================] - 3s 126ms/step - loss: 0.1839 - sparse_categorical_accuracy: 0.9503 - val_loss: 0.8932 - val_sparse_categorical_accuracy: 0.7826\n",
      "Epoch 25/100\n",
      "23/23 [==============================] - 3s 118ms/step - loss: 0.1185 - sparse_categorical_accuracy: 0.9724 - val_loss: 1.2070 - val_sparse_categorical_accuracy: 0.6957\n",
      "Epoch 26/100\n",
      "23/23 [==============================] - 3s 148ms/step - loss: 0.0813 - sparse_categorical_accuracy: 0.9779 - val_loss: 0.8193 - val_sparse_categorical_accuracy: 0.8043\n",
      "Epoch 27/100\n",
      "23/23 [==============================] - 3s 142ms/step - loss: 0.0765 - sparse_categorical_accuracy: 0.9834 - val_loss: 0.6956 - val_sparse_categorical_accuracy: 0.8261\n",
      "Epoch 28/100\n",
      "23/23 [==============================] - 3s 124ms/step - loss: 0.1265 - sparse_categorical_accuracy: 0.9613 - val_loss: 0.6233 - val_sparse_categorical_accuracy: 0.7826\n",
      "Epoch 29/100\n",
      "23/23 [==============================] - 3s 118ms/step - loss: 0.0673 - sparse_categorical_accuracy: 0.9834 - val_loss: 1.1629 - val_sparse_categorical_accuracy: 0.7391\n",
      "Epoch 30/100\n",
      "23/23 [==============================] - 3s 122ms/step - loss: 0.1264 - sparse_categorical_accuracy: 0.9669 - val_loss: 0.9430 - val_sparse_categorical_accuracy: 0.7174\n",
      "Epoch 31/100\n",
      "23/23 [==============================] - 3s 122ms/step - loss: 0.3057 - sparse_categorical_accuracy: 0.8785 - val_loss: 1.5575 - val_sparse_categorical_accuracy: 0.6739\n",
      "Epoch 32/100\n",
      "23/23 [==============================] - 3s 124ms/step - loss: 0.2837 - sparse_categorical_accuracy: 0.9227 - val_loss: 1.1417 - val_sparse_categorical_accuracy: 0.6739\n",
      "Epoch 33/100\n",
      "23/23 [==============================] - 3s 124ms/step - loss: 0.2163 - sparse_categorical_accuracy: 0.9282 - val_loss: 1.4454 - val_sparse_categorical_accuracy: 0.5652\n",
      "Epoch 34/100\n",
      "23/23 [==============================] - 3s 119ms/step - loss: 0.2010 - sparse_categorical_accuracy: 0.9282 - val_loss: 1.4775 - val_sparse_categorical_accuracy: 0.6739\n",
      "Epoch 35/100\n",
      "23/23 [==============================] - 3s 127ms/step - loss: 0.1899 - sparse_categorical_accuracy: 0.9392 - val_loss: 1.6328 - val_sparse_categorical_accuracy: 0.6957\n",
      "Epoch 36/100\n",
      "23/23 [==============================] - 3s 116ms/step - loss: 0.1705 - sparse_categorical_accuracy: 0.9337 - val_loss: 0.8009 - val_sparse_categorical_accuracy: 0.7391\n",
      "Epoch 37/100\n",
      "23/23 [==============================] - 3s 127ms/step - loss: 0.2293 - sparse_categorical_accuracy: 0.9392 - val_loss: 1.4100 - val_sparse_categorical_accuracy: 0.7391\n",
      "Epoch 38/100\n",
      "23/23 [==============================] - 3s 116ms/step - loss: 0.0793 - sparse_categorical_accuracy: 0.9779 - val_loss: 1.0829 - val_sparse_categorical_accuracy: 0.6957\n",
      "Epoch 39/100\n",
      "23/23 [==============================] - 3s 127ms/step - loss: 0.0891 - sparse_categorical_accuracy: 0.9779 - val_loss: 0.9022 - val_sparse_categorical_accuracy: 0.7609\n",
      "Epoch 40/100\n",
      "23/23 [==============================] - 3s 116ms/step - loss: 0.0750 - sparse_categorical_accuracy: 0.9779 - val_loss: 1.4076 - val_sparse_categorical_accuracy: 0.7174\n",
      "Epoch 41/100\n",
      "23/23 [==============================] - 3s 127ms/step - loss: 0.1279 - sparse_categorical_accuracy: 0.9613 - val_loss: 0.8696 - val_sparse_categorical_accuracy: 0.7174\n",
      "Epoch 42/100\n",
      "23/23 [==============================] - 3s 118ms/step - loss: 0.0297 - sparse_categorical_accuracy: 0.9945 - val_loss: 1.0305 - val_sparse_categorical_accuracy: 0.7609\n",
      "Epoch 43/100\n",
      "23/23 [==============================] - 3s 125ms/step - loss: 0.1213 - sparse_categorical_accuracy: 0.9558 - val_loss: 1.0469 - val_sparse_categorical_accuracy: 0.7609\n",
      "Epoch 44/100\n",
      "23/23 [==============================] - 3s 118ms/step - loss: 0.1313 - sparse_categorical_accuracy: 0.9558 - val_loss: 1.0211 - val_sparse_categorical_accuracy: 0.7174\n",
      "Epoch 45/100\n",
      "23/23 [==============================] - 3s 128ms/step - loss: 0.0792 - sparse_categorical_accuracy: 0.9779 - val_loss: 0.9712 - val_sparse_categorical_accuracy: 0.7609\n",
      "Epoch 46/100\n",
      "23/23 [==============================] - 3s 119ms/step - loss: 0.0652 - sparse_categorical_accuracy: 0.9779 - val_loss: 0.8723 - val_sparse_categorical_accuracy: 0.8043\n",
      "Epoch 47/100\n",
      "23/23 [==============================] - 3s 127ms/step - loss: 0.1673 - sparse_categorical_accuracy: 0.9448 - val_loss: 1.1365 - val_sparse_categorical_accuracy: 0.6522\n",
      "2/2 [==============================] - 0s 44ms/step - loss: 0.6956 - sparse_categorical_accuracy: 0.8261\n",
      "block1a_ same\n",
      "block2a_ ((1, 1), (1, 1))\n",
      "block2a_ valid\n",
      "block2b_ same\n",
      "block3a_ ((2, 2), (2, 2))\n",
      "block3a_ valid\n",
      "block3b_ same\n",
      "block4a_ ((1, 1), (1, 1))\n",
      "block4a_ valid\n",
      "block4b_ same\n",
      "block4c_ same\n",
      "block5a_ same\n",
      "block5b_ same\n",
      "block5c_ same\n",
      "block6a_ ((2, 2), (2, 2))\n",
      "block6a_ valid\n",
      "block6b_ same\n",
      "block6c_ same\n",
      "block6d_ same\n",
      "block7a_ same\n",
      "Epoch 1/100\n",
      "23/23 [==============================] - 9s 197ms/step - loss: 1.5331 - sparse_categorical_accuracy: 0.4780 - val_loss: 8.2563 - val_sparse_categorical_accuracy: 0.2000\n",
      "Epoch 2/100\n",
      "23/23 [==============================] - 3s 146ms/step - loss: 0.8944 - sparse_categorical_accuracy: 0.6923 - val_loss: 3.9284 - val_sparse_categorical_accuracy: 0.3333\n",
      "Epoch 3/100\n",
      "23/23 [==============================] - 3s 141ms/step - loss: 0.7184 - sparse_categorical_accuracy: 0.8187 - val_loss: 2.7308 - val_sparse_categorical_accuracy: 0.4667\n",
      "Epoch 4/100\n",
      "23/23 [==============================] - 3s 152ms/step - loss: 0.5863 - sparse_categorical_accuracy: 0.7857 - val_loss: 1.6194 - val_sparse_categorical_accuracy: 0.4889\n",
      "Epoch 5/100\n",
      "23/23 [==============================] - 3s 145ms/step - loss: 0.4751 - sparse_categorical_accuracy: 0.8407 - val_loss: 1.5882 - val_sparse_categorical_accuracy: 0.5333\n",
      "Epoch 6/100\n",
      "23/23 [==============================] - 4s 155ms/step - loss: 0.4578 - sparse_categorical_accuracy: 0.8571 - val_loss: 1.0348 - val_sparse_categorical_accuracy: 0.6667\n",
      "Epoch 7/100\n",
      "23/23 [==============================] - 3s 145ms/step - loss: 0.4980 - sparse_categorical_accuracy: 0.8352 - val_loss: 0.8281 - val_sparse_categorical_accuracy: 0.7778\n",
      "Epoch 8/100\n",
      "23/23 [==============================] - 3s 128ms/step - loss: 0.4025 - sparse_categorical_accuracy: 0.8736 - val_loss: 1.6496 - val_sparse_categorical_accuracy: 0.6222\n",
      "Epoch 9/100\n",
      "23/23 [==============================] - 3s 121ms/step - loss: 0.4092 - sparse_categorical_accuracy: 0.8681 - val_loss: 1.9655 - val_sparse_categorical_accuracy: 0.6222\n",
      "Epoch 10/100\n",
      "23/23 [==============================] - 3s 129ms/step - loss: 0.3280 - sparse_categorical_accuracy: 0.8846 - val_loss: 1.3743 - val_sparse_categorical_accuracy: 0.7111\n",
      "Epoch 11/100\n",
      "23/23 [==============================] - 3s 121ms/step - loss: 0.2658 - sparse_categorical_accuracy: 0.9231 - val_loss: 1.6147 - val_sparse_categorical_accuracy: 0.7556\n",
      "Epoch 12/100\n",
      "23/23 [==============================] - 3s 128ms/step - loss: 0.4476 - sparse_categorical_accuracy: 0.8791 - val_loss: 1.2946 - val_sparse_categorical_accuracy: 0.6222\n",
      "Epoch 13/100\n",
      "23/23 [==============================] - 3s 120ms/step - loss: 0.4207 - sparse_categorical_accuracy: 0.8516 - val_loss: 1.7536 - val_sparse_categorical_accuracy: 0.6444\n",
      "Epoch 14/100\n",
      "23/23 [==============================] - 3s 127ms/step - loss: 0.3517 - sparse_categorical_accuracy: 0.9066 - val_loss: 0.8274 - val_sparse_categorical_accuracy: 0.7333\n",
      "Epoch 15/100\n",
      "23/23 [==============================] - 3s 124ms/step - loss: 0.2951 - sparse_categorical_accuracy: 0.9231 - val_loss: 1.6512 - val_sparse_categorical_accuracy: 0.6000\n",
      "Epoch 16/100\n",
      "23/23 [==============================] - 3s 126ms/step - loss: 0.3676 - sparse_categorical_accuracy: 0.8956 - val_loss: 1.7932 - val_sparse_categorical_accuracy: 0.5778\n",
      "Epoch 17/100\n",
      "23/23 [==============================] - 3s 122ms/step - loss: 0.4245 - sparse_categorical_accuracy: 0.8681 - val_loss: 2.1003 - val_sparse_categorical_accuracy: 0.5556\n",
      "Epoch 18/100\n",
      "23/23 [==============================] - 3s 129ms/step - loss: 0.3657 - sparse_categorical_accuracy: 0.8956 - val_loss: 1.7989 - val_sparse_categorical_accuracy: 0.6222\n",
      "Epoch 19/100\n",
      "23/23 [==============================] - 3s 121ms/step - loss: 0.3221 - sparse_categorical_accuracy: 0.8846 - val_loss: 1.4996 - val_sparse_categorical_accuracy: 0.6000\n",
      "Epoch 20/100\n",
      "23/23 [==============================] - 3s 127ms/step - loss: 0.2561 - sparse_categorical_accuracy: 0.9176 - val_loss: 1.4486 - val_sparse_categorical_accuracy: 0.7111\n",
      "Epoch 21/100\n",
      "23/23 [==============================] - 3s 127ms/step - loss: 0.2315 - sparse_categorical_accuracy: 0.9286 - val_loss: 0.9891 - val_sparse_categorical_accuracy: 0.7111\n",
      "Epoch 22/100\n",
      "23/23 [==============================] - 3s 122ms/step - loss: 0.1315 - sparse_categorical_accuracy: 0.9560 - val_loss: 0.7756 - val_sparse_categorical_accuracy: 0.7333\n",
      "Epoch 23/100\n",
      "23/23 [==============================] - 4s 155ms/step - loss: 0.2353 - sparse_categorical_accuracy: 0.9341 - val_loss: 0.7340 - val_sparse_categorical_accuracy: 0.8444\n",
      "Epoch 24/100\n",
      "23/23 [==============================] - 3s 120ms/step - loss: 0.1350 - sparse_categorical_accuracy: 0.9505 - val_loss: 1.3674 - val_sparse_categorical_accuracy: 0.7556\n",
      "Epoch 25/100\n",
      "23/23 [==============================] - 3s 128ms/step - loss: 0.1597 - sparse_categorical_accuracy: 0.9505 - val_loss: 1.3372 - val_sparse_categorical_accuracy: 0.6889\n",
      "Epoch 26/100\n",
      "23/23 [==============================] - 3s 122ms/step - loss: 0.1929 - sparse_categorical_accuracy: 0.9396 - val_loss: 0.5559 - val_sparse_categorical_accuracy: 0.8444\n",
      "Epoch 27/100\n",
      "23/23 [==============================] - 3s 129ms/step - loss: 0.1001 - sparse_categorical_accuracy: 0.9670 - val_loss: 2.4581 - val_sparse_categorical_accuracy: 0.5778\n",
      "Epoch 28/100\n",
      "23/23 [==============================] - 3s 121ms/step - loss: 0.1395 - sparse_categorical_accuracy: 0.9615 - val_loss: 1.1998 - val_sparse_categorical_accuracy: 0.6444\n",
      "Epoch 29/100\n",
      "23/23 [==============================] - 3s 130ms/step - loss: 0.1343 - sparse_categorical_accuracy: 0.9505 - val_loss: 0.9960 - val_sparse_categorical_accuracy: 0.7333\n",
      "Epoch 30/100\n",
      "23/23 [==============================] - 3s 121ms/step - loss: 0.1180 - sparse_categorical_accuracy: 0.9725 - val_loss: 0.9743 - val_sparse_categorical_accuracy: 0.7556\n",
      "Epoch 31/100\n",
      "23/23 [==============================] - 3s 128ms/step - loss: 0.1090 - sparse_categorical_accuracy: 0.9560 - val_loss: 1.6833 - val_sparse_categorical_accuracy: 0.6667\n",
      "Epoch 32/100\n",
      "23/23 [==============================] - 3s 121ms/step - loss: 0.1787 - sparse_categorical_accuracy: 0.9451 - val_loss: 1.6275 - val_sparse_categorical_accuracy: 0.6222\n",
      "Epoch 33/100\n",
      "23/23 [==============================] - 3s 132ms/step - loss: 0.1107 - sparse_categorical_accuracy: 0.9615 - val_loss: 1.4746 - val_sparse_categorical_accuracy: 0.6889\n",
      "Epoch 34/100\n",
      "23/23 [==============================] - 3s 121ms/step - loss: 0.0688 - sparse_categorical_accuracy: 0.9725 - val_loss: 1.3419 - val_sparse_categorical_accuracy: 0.7333\n",
      "Epoch 35/100\n",
      "23/23 [==============================] - 3s 129ms/step - loss: 0.1216 - sparse_categorical_accuracy: 0.9505 - val_loss: 1.1974 - val_sparse_categorical_accuracy: 0.8000\n",
      "Epoch 36/100\n",
      "23/23 [==============================] - 3s 123ms/step - loss: 0.2870 - sparse_categorical_accuracy: 0.9286 - val_loss: 1.4521 - val_sparse_categorical_accuracy: 0.7111\n",
      "Epoch 37/100\n",
      "23/23 [==============================] - 3s 130ms/step - loss: 0.1711 - sparse_categorical_accuracy: 0.9451 - val_loss: 2.4275 - val_sparse_categorical_accuracy: 0.4667\n",
      "Epoch 38/100\n",
      "23/23 [==============================] - 3s 121ms/step - loss: 0.2242 - sparse_categorical_accuracy: 0.9231 - val_loss: 1.5542 - val_sparse_categorical_accuracy: 0.6222\n",
      "Epoch 39/100\n",
      "23/23 [==============================] - 3s 130ms/step - loss: 0.0894 - sparse_categorical_accuracy: 0.9725 - val_loss: 1.4069 - val_sparse_categorical_accuracy: 0.6667\n",
      "Epoch 40/100\n",
      "23/23 [==============================] - 3s 123ms/step - loss: 0.0936 - sparse_categorical_accuracy: 0.9670 - val_loss: 1.6550 - val_sparse_categorical_accuracy: 0.6222\n",
      "Epoch 41/100\n",
      "23/23 [==============================] - 3s 134ms/step - loss: 0.0988 - sparse_categorical_accuracy: 0.9780 - val_loss: 1.3855 - val_sparse_categorical_accuracy: 0.6444\n",
      "Epoch 42/100\n",
      "23/23 [==============================] - 3s 132ms/step - loss: 0.0718 - sparse_categorical_accuracy: 0.9725 - val_loss: 1.8055 - val_sparse_categorical_accuracy: 0.6889\n",
      "Epoch 43/100\n",
      "23/23 [==============================] - 3s 133ms/step - loss: 0.1044 - sparse_categorical_accuracy: 0.9560 - val_loss: 1.4181 - val_sparse_categorical_accuracy: 0.6889\n",
      "2/2 [==============================] - 0s 362ms/step - loss: 0.7340 - sparse_categorical_accuracy: 0.8444\n",
      "block1a_ same\n",
      "block2a_ ((1, 1), (1, 1))\n",
      "block2a_ valid\n",
      "block2b_ same\n",
      "block3a_ ((2, 2), (2, 2))\n",
      "block3a_ valid\n",
      "block3b_ same\n",
      "block4a_ ((1, 1), (1, 1))\n",
      "block4a_ valid\n",
      "block4b_ same\n",
      "block4c_ same\n",
      "block5a_ same\n",
      "block5b_ same\n",
      "block5c_ same\n",
      "block6a_ ((2, 2), (2, 2))\n",
      "block6a_ valid\n",
      "block6b_ same\n",
      "block6c_ same\n",
      "block6d_ same\n",
      "block7a_ same\n",
      "Epoch 1/100\n",
      "23/23 [==============================] - 8s 176ms/step - loss: 1.5943 - sparse_categorical_accuracy: 0.4286 - val_loss: 2.0557 - val_sparse_categorical_accuracy: 0.4222\n",
      "Epoch 2/100\n",
      "23/23 [==============================] - 3s 143ms/step - loss: 0.8820 - sparse_categorical_accuracy: 0.6703 - val_loss: 2.5874 - val_sparse_categorical_accuracy: 0.4444\n",
      "Epoch 3/100\n",
      "23/23 [==============================] - 3s 153ms/step - loss: 0.6915 - sparse_categorical_accuracy: 0.7527 - val_loss: 2.0990 - val_sparse_categorical_accuracy: 0.5111\n",
      "Epoch 4/100\n",
      "23/23 [==============================] - 3s 139ms/step - loss: 0.4511 - sparse_categorical_accuracy: 0.8352 - val_loss: 1.3547 - val_sparse_categorical_accuracy: 0.7556\n",
      "Epoch 5/100\n",
      "23/23 [==============================] - 3s 127ms/step - loss: 0.5302 - sparse_categorical_accuracy: 0.8242 - val_loss: 1.7292 - val_sparse_categorical_accuracy: 0.6444\n",
      "Epoch 6/100\n",
      "23/23 [==============================] - 3s 125ms/step - loss: 0.5212 - sparse_categorical_accuracy: 0.8407 - val_loss: 1.6200 - val_sparse_categorical_accuracy: 0.6444\n",
      "Epoch 7/100\n",
      "23/23 [==============================] - 3s 125ms/step - loss: 0.5591 - sparse_categorical_accuracy: 0.8242 - val_loss: 1.9581 - val_sparse_categorical_accuracy: 0.5111\n",
      "Epoch 8/100\n",
      "23/23 [==============================] - 3s 128ms/step - loss: 0.5950 - sparse_categorical_accuracy: 0.8297 - val_loss: 1.6876 - val_sparse_categorical_accuracy: 0.5556\n",
      "Epoch 9/100\n",
      "23/23 [==============================] - 3s 121ms/step - loss: 0.7675 - sparse_categorical_accuracy: 0.7857 - val_loss: 1.4298 - val_sparse_categorical_accuracy: 0.5111\n",
      "Epoch 10/100\n",
      "23/23 [==============================] - 3s 127ms/step - loss: 0.5444 - sparse_categorical_accuracy: 0.8297 - val_loss: 1.7638 - val_sparse_categorical_accuracy: 0.6444\n",
      "Epoch 11/100\n",
      "23/23 [==============================] - 3s 120ms/step - loss: 0.4848 - sparse_categorical_accuracy: 0.8132 - val_loss: 3.0729 - val_sparse_categorical_accuracy: 0.5778\n",
      "Epoch 12/100\n",
      "23/23 [==============================] - 3s 129ms/step - loss: 0.4008 - sparse_categorical_accuracy: 0.8681 - val_loss: 2.5320 - val_sparse_categorical_accuracy: 0.5333\n",
      "Epoch 13/100\n",
      "23/23 [==============================] - 3s 121ms/step - loss: 0.3927 - sparse_categorical_accuracy: 0.8846 - val_loss: 2.0341 - val_sparse_categorical_accuracy: 0.6000\n",
      "Epoch 14/100\n",
      "23/23 [==============================] - 3s 129ms/step - loss: 0.4347 - sparse_categorical_accuracy: 0.8736 - val_loss: 1.9171 - val_sparse_categorical_accuracy: 0.6222\n",
      "Epoch 15/100\n",
      "23/23 [==============================] - 3s 118ms/step - loss: 0.4025 - sparse_categorical_accuracy: 0.8681 - val_loss: 2.3689 - val_sparse_categorical_accuracy: 0.6000\n",
      "Epoch 16/100\n",
      "23/23 [==============================] - 3s 131ms/step - loss: 0.2374 - sparse_categorical_accuracy: 0.9451 - val_loss: 1.5834 - val_sparse_categorical_accuracy: 0.6889\n",
      "Epoch 17/100\n",
      "23/23 [==============================] - 3s 120ms/step - loss: 0.3613 - sparse_categorical_accuracy: 0.9011 - val_loss: 1.4529 - val_sparse_categorical_accuracy: 0.6444\n",
      "Epoch 18/100\n",
      "23/23 [==============================] - 3s 129ms/step - loss: 0.2525 - sparse_categorical_accuracy: 0.9121 - val_loss: 1.7741 - val_sparse_categorical_accuracy: 0.5778\n",
      "Epoch 19/100\n",
      "23/23 [==============================] - 3s 124ms/step - loss: 0.2843 - sparse_categorical_accuracy: 0.8846 - val_loss: 1.1715 - val_sparse_categorical_accuracy: 0.7111\n",
      "Epoch 20/100\n",
      "23/23 [==============================] - 3s 128ms/step - loss: 0.2204 - sparse_categorical_accuracy: 0.9231 - val_loss: 1.4896 - val_sparse_categorical_accuracy: 0.6889\n",
      "Epoch 21/100\n",
      "23/23 [==============================] - 3s 123ms/step - loss: 0.1781 - sparse_categorical_accuracy: 0.9341 - val_loss: 1.7916 - val_sparse_categorical_accuracy: 0.5556\n",
      "Epoch 22/100\n",
      "23/23 [==============================] - 3s 131ms/step - loss: 0.1762 - sparse_categorical_accuracy: 0.9286 - val_loss: 1.5441 - val_sparse_categorical_accuracy: 0.6444\n",
      "Epoch 23/100\n",
      "23/23 [==============================] - 3s 122ms/step - loss: 0.1680 - sparse_categorical_accuracy: 0.9615 - val_loss: 1.2555 - val_sparse_categorical_accuracy: 0.6444\n",
      "Epoch 24/100\n",
      "23/23 [==============================] - 3s 127ms/step - loss: 0.1532 - sparse_categorical_accuracy: 0.9615 - val_loss: 1.8059 - val_sparse_categorical_accuracy: 0.4667\n",
      "2/2 [==============================] - 0s 41ms/step - loss: 1.3547 - sparse_categorical_accuracy: 0.7556\n",
      "block1a_ same\n",
      "block2a_ ((1, 1), (1, 1))\n",
      "block2a_ valid\n",
      "block2b_ same\n",
      "block3a_ ((2, 2), (2, 2))\n",
      "block3a_ valid\n",
      "block3b_ same\n",
      "block4a_ ((1, 1), (1, 1))\n",
      "block4a_ valid\n",
      "block4b_ same\n",
      "block4c_ same\n",
      "block5a_ same\n",
      "block5b_ same\n",
      "block5c_ same\n",
      "block6a_ ((2, 2), (2, 2))\n",
      "block6a_ valid\n",
      "block6b_ same\n",
      "block6c_ same\n",
      "block6d_ same\n",
      "block7a_ same\n",
      "Epoch 1/100\n",
      "23/23 [==============================] - 8s 172ms/step - loss: 1.5858 - sparse_categorical_accuracy: 0.4231 - val_loss: 5.6276 - val_sparse_categorical_accuracy: 0.1111\n",
      "Epoch 2/100\n",
      "23/23 [==============================] - 3s 152ms/step - loss: 0.9454 - sparse_categorical_accuracy: 0.6703 - val_loss: 3.0118 - val_sparse_categorical_accuracy: 0.4000\n",
      "Epoch 3/100\n",
      "23/23 [==============================] - 3s 121ms/step - loss: 0.7384 - sparse_categorical_accuracy: 0.7363 - val_loss: 2.3751 - val_sparse_categorical_accuracy: 0.4000\n",
      "Epoch 4/100\n",
      "23/23 [==============================] - 4s 158ms/step - loss: 0.7901 - sparse_categorical_accuracy: 0.7198 - val_loss: 1.8769 - val_sparse_categorical_accuracy: 0.6667\n",
      "Epoch 5/100\n",
      "23/23 [==============================] - 3s 119ms/step - loss: 0.5405 - sparse_categorical_accuracy: 0.8297 - val_loss: 2.8082 - val_sparse_categorical_accuracy: 0.5111\n",
      "Epoch 6/100\n",
      "23/23 [==============================] - 3s 132ms/step - loss: 0.5943 - sparse_categorical_accuracy: 0.8297 - val_loss: 2.4828 - val_sparse_categorical_accuracy: 0.5111\n",
      "Epoch 7/100\n",
      "23/23 [==============================] - 3s 119ms/step - loss: 0.5054 - sparse_categorical_accuracy: 0.8187 - val_loss: 2.3494 - val_sparse_categorical_accuracy: 0.4222\n",
      "Epoch 8/100\n",
      "23/23 [==============================] - 3s 131ms/step - loss: 0.5126 - sparse_categorical_accuracy: 0.8297 - val_loss: 2.3809 - val_sparse_categorical_accuracy: 0.5333\n",
      "Epoch 9/100\n",
      "23/23 [==============================] - 3s 121ms/step - loss: 0.4289 - sparse_categorical_accuracy: 0.8681 - val_loss: 1.7218 - val_sparse_categorical_accuracy: 0.6000\n",
      "Epoch 10/100\n",
      "23/23 [==============================] - 3s 131ms/step - loss: 0.4859 - sparse_categorical_accuracy: 0.8352 - val_loss: 1.9044 - val_sparse_categorical_accuracy: 0.5778\n",
      "Epoch 11/100\n",
      "23/23 [==============================] - 3s 123ms/step - loss: 0.5376 - sparse_categorical_accuracy: 0.8407 - val_loss: 2.0120 - val_sparse_categorical_accuracy: 0.5778\n",
      "Epoch 12/100\n",
      "23/23 [==============================] - 3s 132ms/step - loss: 0.3893 - sparse_categorical_accuracy: 0.8681 - val_loss: 1.6012 - val_sparse_categorical_accuracy: 0.6667\n",
      "Epoch 13/100\n",
      "23/23 [==============================] - 3s 133ms/step - loss: 0.2899 - sparse_categorical_accuracy: 0.9121 - val_loss: 1.4911 - val_sparse_categorical_accuracy: 0.6444\n",
      "Epoch 14/100\n",
      "23/23 [==============================] - 3s 151ms/step - loss: 0.3060 - sparse_categorical_accuracy: 0.9011 - val_loss: 1.6620 - val_sparse_categorical_accuracy: 0.7333\n",
      "Epoch 15/100\n",
      "23/23 [==============================] - 3s 125ms/step - loss: 0.3224 - sparse_categorical_accuracy: 0.8956 - val_loss: 1.6722 - val_sparse_categorical_accuracy: 0.6889\n",
      "Epoch 16/100\n",
      "23/23 [==============================] - 3s 125ms/step - loss: 0.3649 - sparse_categorical_accuracy: 0.8901 - val_loss: 2.3426 - val_sparse_categorical_accuracy: 0.5556\n",
      "Epoch 17/100\n",
      "23/23 [==============================] - 3s 127ms/step - loss: 0.3378 - sparse_categorical_accuracy: 0.9066 - val_loss: 2.3487 - val_sparse_categorical_accuracy: 0.6444\n",
      "Epoch 18/100\n",
      "23/23 [==============================] - 3s 127ms/step - loss: 0.2981 - sparse_categorical_accuracy: 0.8901 - val_loss: 1.6177 - val_sparse_categorical_accuracy: 0.7333\n",
      "Epoch 19/100\n",
      "23/23 [==============================] - 3s 128ms/step - loss: 0.1621 - sparse_categorical_accuracy: 0.9505 - val_loss: 1.4559 - val_sparse_categorical_accuracy: 0.7111\n",
      "Epoch 20/100\n",
      "23/23 [==============================] - 3s 150ms/step - loss: 0.1816 - sparse_categorical_accuracy: 0.9451 - val_loss: 1.3125 - val_sparse_categorical_accuracy: 0.7556\n",
      "Epoch 21/100\n",
      "23/23 [==============================] - 3s 128ms/step - loss: 0.2084 - sparse_categorical_accuracy: 0.9286 - val_loss: 1.0066 - val_sparse_categorical_accuracy: 0.7556\n",
      "Epoch 22/100\n",
      "23/23 [==============================] - 3s 122ms/step - loss: 0.1820 - sparse_categorical_accuracy: 0.9560 - val_loss: 1.6122 - val_sparse_categorical_accuracy: 0.6222\n",
      "Epoch 23/100\n",
      "23/23 [==============================] - 3s 131ms/step - loss: 0.2143 - sparse_categorical_accuracy: 0.9121 - val_loss: 1.2380 - val_sparse_categorical_accuracy: 0.7556\n",
      "Epoch 24/100\n",
      "23/23 [==============================] - 3s 122ms/step - loss: 0.2927 - sparse_categorical_accuracy: 0.9011 - val_loss: 1.8750 - val_sparse_categorical_accuracy: 0.6000\n",
      "Epoch 25/100\n",
      "23/23 [==============================] - 3s 131ms/step - loss: 0.2100 - sparse_categorical_accuracy: 0.9286 - val_loss: 2.6955 - val_sparse_categorical_accuracy: 0.4000\n",
      "Epoch 26/100\n",
      "23/23 [==============================] - 3s 125ms/step - loss: 0.1474 - sparse_categorical_accuracy: 0.9505 - val_loss: 1.9199 - val_sparse_categorical_accuracy: 0.6444\n",
      "Epoch 27/100\n",
      "23/23 [==============================] - 3s 131ms/step - loss: 0.2321 - sparse_categorical_accuracy: 0.9396 - val_loss: 1.7446 - val_sparse_categorical_accuracy: 0.6667\n",
      "Epoch 28/100\n",
      "23/23 [==============================] - 3s 125ms/step - loss: 0.1625 - sparse_categorical_accuracy: 0.9560 - val_loss: 1.6334 - val_sparse_categorical_accuracy: 0.7333\n",
      "Epoch 29/100\n",
      "23/23 [==============================] - 3s 130ms/step - loss: 0.0862 - sparse_categorical_accuracy: 0.9780 - val_loss: 1.3595 - val_sparse_categorical_accuracy: 0.7556\n",
      "Epoch 30/100\n",
      "23/23 [==============================] - 3s 124ms/step - loss: 0.1214 - sparse_categorical_accuracy: 0.9560 - val_loss: 1.4763 - val_sparse_categorical_accuracy: 0.7333\n",
      "Epoch 31/100\n",
      "23/23 [==============================] - 3s 128ms/step - loss: 0.1545 - sparse_categorical_accuracy: 0.9670 - val_loss: 1.5567 - val_sparse_categorical_accuracy: 0.6444\n",
      "Epoch 32/100\n",
      "23/23 [==============================] - 3s 127ms/step - loss: 0.2310 - sparse_categorical_accuracy: 0.9396 - val_loss: 1.6693 - val_sparse_categorical_accuracy: 0.5333\n",
      "Epoch 33/100\n",
      "23/23 [==============================] - 3s 125ms/step - loss: 0.1065 - sparse_categorical_accuracy: 0.9725 - val_loss: 1.2134 - val_sparse_categorical_accuracy: 0.7333\n",
      "Epoch 34/100\n",
      "23/23 [==============================] - 3s 132ms/step - loss: 0.1589 - sparse_categorical_accuracy: 0.9505 - val_loss: 1.2975 - val_sparse_categorical_accuracy: 0.6889\n",
      "Epoch 35/100\n",
      "23/23 [==============================] - 3s 128ms/step - loss: 0.0929 - sparse_categorical_accuracy: 0.9725 - val_loss: 1.7282 - val_sparse_categorical_accuracy: 0.6222\n",
      "Epoch 36/100\n",
      "23/23 [==============================] - 3s 126ms/step - loss: 0.2081 - sparse_categorical_accuracy: 0.9615 - val_loss: 1.3683 - val_sparse_categorical_accuracy: 0.6889\n",
      "Epoch 37/100\n",
      "23/23 [==============================] - 3s 129ms/step - loss: 0.1636 - sparse_categorical_accuracy: 0.9451 - val_loss: 1.9513 - val_sparse_categorical_accuracy: 0.6222\n",
      "Epoch 38/100\n",
      "23/23 [==============================] - 3s 127ms/step - loss: 0.1190 - sparse_categorical_accuracy: 0.9615 - val_loss: 1.9941 - val_sparse_categorical_accuracy: 0.5778\n",
      "Epoch 39/100\n",
      "23/23 [==============================] - 3s 127ms/step - loss: 0.0662 - sparse_categorical_accuracy: 0.9780 - val_loss: 2.0301 - val_sparse_categorical_accuracy: 0.6667\n",
      "Epoch 40/100\n",
      "23/23 [==============================] - 3s 126ms/step - loss: 0.0879 - sparse_categorical_accuracy: 0.9670 - val_loss: 1.6417 - val_sparse_categorical_accuracy: 0.6667\n",
      "2/2 [==============================] - 0s 42ms/step - loss: 1.3125 - sparse_categorical_accuracy: 0.7556\n",
      "block1a_ same\n",
      "block2a_ ((1, 1), (1, 1))\n",
      "block2a_ valid\n",
      "block2b_ same\n",
      "block3a_ ((2, 2), (2, 2))\n",
      "block3a_ valid\n",
      "block3b_ same\n",
      "block4a_ ((1, 1), (1, 1))\n",
      "block4a_ valid\n",
      "block4b_ same\n",
      "block4c_ same\n",
      "block5a_ same\n",
      "block5b_ same\n",
      "block5c_ same\n",
      "block6a_ ((2, 2), (2, 2))\n",
      "block6a_ valid\n",
      "block6b_ same\n",
      "block6c_ same\n",
      "block6d_ same\n",
      "block7a_ same\n"
     ]
    }
   ],
   "source": [
    "# Train and evaluate the model using K-fold cross-validation\n",
    "scores = []\n",
    "training_accuracy = []\n",
    "validation_accuracy = []\n",
    "training_loss = []\n",
    "validation_loss = []\n",
    "\n",
    "## Initializing the model\n",
    "model_init()\n",
    "\n",
    "## counter for folds\n",
    "i = 1\n",
    "\n",
    "for train_idx, val_idx in kf.split(x_train_val):\n",
    "    X_train = tf.gather(x_train_val, train_idx)\n",
    "    y_train = tf.gather(y_train_val, train_idx)\n",
    "    X_val = tf.gather(x_train_val, val_idx)\n",
    "    y_val = tf.gather(y_train_val, val_idx)\n",
    "    history = model.fit(X_train, y_train, validation_data=(X_val, y_val), epochs= 100, verbose=1, batch_size=8, \n",
    "                        callbacks=[early_stopping, checkpoint])\n",
    "\n",
    "    training_accuracy.append(history.history['sparse_categorical_accuracy'])\n",
    "    validation_accuracy.append(history.history['val_sparse_categorical_accuracy'])\n",
    "    training_loss.append(history.history['loss'])\n",
    "    validation_loss.append(history.history['val_loss'])\n",
    "    \n",
    "    model.load_weights('best_weights.h5')\n",
    "    score = model.evaluate(X_val, y_val)\n",
    "    scores.append(score[1])\n",
    "    \n",
    "    # Define the current and new file names\n",
    "    current_name = 'best_weights.h5'\n",
    "    new_name = 'fold_' + str(i) + '_best_model_weights.h5'\n",
    "    \n",
    "    i+=1\n",
    "\n",
    "    # Rename the file\n",
    "    os.rename(current_name, new_name)\n",
    "    \n",
    "    ## Reseting the model for the next fold\n",
    "    model_init()"
   ]
  },
  {
   "cell_type": "code",
   "execution_count": 29,
   "id": "c3ae736d",
   "metadata": {
    "ExecuteTime": {
     "end_time": "2023-04-09T20:44:00.262059Z",
     "start_time": "2023-04-09T20:44:00.259248Z"
    },
    "tags": []
   },
   "outputs": [
    {
     "name": "stdout",
     "output_type": "stream",
     "text": [
      "Validation accuracy mean: 0.80 (std 0.04)\n"
     ]
    }
   ],
   "source": [
    "# Print the mean validation accuracy\n",
    "print('Validation accuracy mean: {:.2f} (std {:.2f})'.format(np.mean(scores), np.std(scores)))"
   ]
  },
  {
   "cell_type": "markdown",
   "id": "013aa747-2788-4c43-a743-c29c8c378de4",
   "metadata": {},
   "source": [
    "Calculating the **1 - Cohen's kappa** score of the trained model on the trained dataset."
   ]
  },
  {
   "cell_type": "code",
   "execution_count": 30,
   "id": "57622050-4496-4b58-be90-6290691d01d0",
   "metadata": {
    "tags": []
   },
   "outputs": [],
   "source": [
    "## select the model with the best fold's validation accuracy\n",
    "maximum = max(scores)\n",
    "index_of_maximum = scores.index(maximum)\n",
    "best_fold = index_of_maximum + 1\n",
    "\n",
    "model.load_weights('fold_' + str(best_fold) + '_best_model_weights.h5')"
   ]
  },
  {
   "cell_type": "code",
   "execution_count": 31,
   "id": "bb08a64b",
   "metadata": {
    "ExecuteTime": {
     "end_time": "2023-04-04T20:10:20.518612Z",
     "start_time": "2023-04-04T20:10:19.125881Z"
    },
    "tags": []
   },
   "outputs": [
    {
     "name": "stdout",
     "output_type": "stream",
     "text": [
      "Score: 0.3142857142857143\n"
     ]
    }
   ],
   "source": [
    "predictions = np.zeros(len(y_test), dtype=np.int8)\n",
    "# inference loop\n",
    "for e, (image, target) in enumerate(zip(x_test, y_test)):\n",
    "    image = np.expand_dims(np.array(image), axis=0)\n",
    "    output = model.predict(image)\n",
    "    predictions[e] = np.squeeze(output).argmax()\n",
    "#Keras model score\n",
    "score_keras = 1 - cohen_kappa_score(y_test.numpy(), predictions)\n",
    "print(\"Score:\",score_keras)"
   ]
  },
  {
   "cell_type": "code",
   "execution_count": 32,
   "id": "9edf174a-54c0-46d0-a710-31b5e4d0b2d9",
   "metadata": {
    "tags": []
   },
   "outputs": [
    {
     "name": "stdout",
     "output_type": "stream",
     "text": [
      "predictions:  [0 0 0 0 0 1 1 1 1 3 0 2 6 2 3 7 7 3 1 7 4 4 4 4 4 5 5 5 7 5 6 6 6 5 1 7 7\n",
      " 7 7 7]\n",
      "Actual:  [0 0 0 0 0 1 1 1 1 1 2 2 2 2 2 3 3 3 3 3 4 4 4 4 4 5 5 5 5 5 6 6 6 6 6 7 7\n",
      " 7 7 7]\n"
     ]
    }
   ],
   "source": [
    "print(\"predictions: \", predictions)\n",
    "print(\"Actual: \", y_test.numpy())"
   ]
  },
  {
   "cell_type": "markdown",
   "id": "a6b9b6db-0771-41f7-9c83-29e26f8a9318",
   "metadata": {},
   "source": [
    "## Train - Validation Visualization"
   ]
  },
  {
   "cell_type": "code",
   "execution_count": 33,
   "id": "eccf8e57-6fb7-443d-ba9a-adc43ba15c43",
   "metadata": {
    "tags": []
   },
   "outputs": [
    {
     "data": {
      "text/plain": [
       "[46, 47, 43, 24, 40]"
      ]
     },
     "execution_count": 33,
     "metadata": {},
     "output_type": "execute_result"
    }
   ],
   "source": [
    "eps_per_fold = [len(sub_list) for sub_list in training_accuracy]\n",
    "eps_per_fold"
   ]
  },
  {
   "cell_type": "code",
   "execution_count": 34,
   "id": "5865317a-83dc-42c1-a4f3-1abe577e63b8",
   "metadata": {
    "tags": []
   },
   "outputs": [],
   "source": [
    "eps_per_fold_cum = list(accumulate(eps_per_fold))"
   ]
  },
  {
   "cell_type": "code",
   "execution_count": 35,
   "id": "154f6fb9-0369-4090-983d-58a4d79f5410",
   "metadata": {
    "tags": []
   },
   "outputs": [],
   "source": [
    "training_accuracy = [element for sublist in training_accuracy for element in sublist]\n",
    "validation_accuracy = [element for sublist in validation_accuracy for element in sublist]\n",
    "training_loss = [element for sublist in training_loss for element in sublist]\n",
    "validation_loss = [element for sublist in validation_loss for element in sublist]"
   ]
  },
  {
   "cell_type": "code",
   "execution_count": 36,
   "id": "c84b0a9c-6f41-444e-ba23-cab449735fb1",
   "metadata": {
    "tags": []
   },
   "outputs": [
    {
     "data": {
      "text/plain": [
       "[46, 93, 136, 160, 200]"
      ]
     },
     "execution_count": 36,
     "metadata": {},
     "output_type": "execute_result"
    }
   ],
   "source": [
    "eps_per_fold_cum"
   ]
  },
  {
   "cell_type": "code",
   "execution_count": 37,
   "id": "a3bdaa28-fd23-4ffc-9174-f51aa4ad8f2a",
   "metadata": {
    "tags": []
   },
   "outputs": [],
   "source": [
    "xs = []\n",
    "ys = []\n",
    "for i in range(k):\n",
    "    xs.append(eps_per_fold_cum[i]+1)\n",
    "    ys.append(training_accuracy[eps_per_fold_cum[0]-1])\n",
    "# xs = [eps_per_fold_cum[0]+1, eps_per_fold_cum[1]+1, eps_per_fold_cum[2]+1, eps_per_fold_cum[3]+1, eps_per_fold_cum[4]+1]\n",
    "# ys = [training_accuracy[eps_per_fold_cum[0]-1], training_accuracy[eps_per_fold_cum[1]-1], training_accuracy[eps_per_fold_cum[2]-1],\n",
    "#          training_accuracy[eps_per_fold_cum[3]-1], training_accuracy[eps_per_fold_cum[4]-1]]"
   ]
  },
  {
   "cell_type": "code",
   "execution_count": 38,
   "id": "f5e2e0b8-4b97-430f-a553-5962477fa2e4",
   "metadata": {
    "tags": []
   },
   "outputs": [
    {
     "data": {
      "image/png": "[encoded data removed]",
      "text/plain": [
       "<Figure size 1500x600 with 1 Axes>"
      ]
     },
     "metadata": {},
     "output_type": "display_data"
    }
   ],
   "source": [
    "x1 = list(range(1, len(training_accuracy) + 1))\n",
    "x2 = list(range(1, len(validation_accuracy) + 1))\n",
    "\n",
    "fig = plt.figure(figsize=(15, 6))\n",
    "\n",
    "# Create the plot\n",
    "plt.plot(x1, training_accuracy, label='Training Accuracy')\n",
    "plt.plot(x2, validation_accuracy, label='Validation Accuracy')\n",
    "\n",
    "\n",
    "\n",
    "# Add points with labels\n",
    "for i in range(k-1):\n",
    "    plt.axvline(x=xs[i], color='red', linestyle='--')\n",
    "# plt.axvline(x=xs[0], color='red', linestyle='--')\n",
    "# plt.axvline(x=xs[1], color='red', linestyle='--')\n",
    "# plt.axvline(x=xs[2], color='red', linestyle='--')\n",
    "# plt.axvline(x=xs[3], color='red', linestyle='--')\n",
    "\n",
    "# Add annotations to the lines\n",
    "for i in range(k-1):\n",
    "    plt.annotate('Fold '+str(i+2), xy=(xs[i], 0.2), xytext=(xs[i]+1, 0.15),\n",
    "             arrowprops=dict(facecolor='black', arrowstyle='->'))\n",
    "\n",
    "# plt.annotate('Fold 2', xy=(xs[0], 0.5), xytext=(xs[0]+1, 0.4),\n",
    "#              arrowprops=dict(facecolor='black', arrowstyle='->'))\n",
    "# plt.annotate('Fold 3', xy=(xs[1], 0.5), xytext=(xs[1]+1, 0.4),\n",
    "#              arrowprops=dict(facecolor='black', arrowstyle='->'))\n",
    "# plt.annotate('Fold 4', xy=(xs[2], 0.5), xytext=(xs[2]+1, 0.4),\n",
    "#              arrowprops=dict(facecolor='black', arrowstyle='->'))\n",
    "# plt.annotate('Fold 5', xy=(xs[3], 0.5), xytext=(xs[3]+1, 0.4),\n",
    "#              arrowprops=dict(facecolor='black', arrowstyle='->'))\n",
    "# plt.axvline(x=xs[4], color='red', linestyle='--')\n",
    "# plt.scatter(xs, ys, color='red')\n",
    "# plt.annotate('Point 1', (2, 4), textcoords=\"offset points\", xytext=(0,10), ha='center')\n",
    "# plt.annotate('Point 2', (4, 8), textcoords=\"offset points\", xytext=(0,10), ha='center')\n",
    "\n",
    "\n",
    "# Add a legend\n",
    "plt.legend()\n",
    "\n",
    "# Enable the grid\n",
    "# plt.grid(True)\n",
    "\n",
    "# Show the plot\n",
    "plt.show()"
   ]
  },
  {
   "cell_type": "code",
   "execution_count": null,
   "id": "85bfe481-c074-4e42-857b-4e0df70be766",
   "metadata": {},
   "outputs": [],
   "source": []
  },
  {
   "cell_type": "code",
   "execution_count": null,
   "id": "f1073ff0-8023-4446-9287-711b255c8486",
   "metadata": {},
   "outputs": [],
   "source": []
  },
  {
   "cell_type": "code",
   "execution_count": null,
   "id": "6914a879-ea49-4d8c-aa12-22231573d2e4",
   "metadata": {},
   "outputs": [],
   "source": []
  },
  {
   "cell_type": "code",
   "execution_count": null,
   "id": "488a741c-626d-4480-acf2-0e18892a05ab",
   "metadata": {},
   "outputs": [],
   "source": []
  },
  {
   "cell_type": "code",
   "execution_count": null,
   "id": "e4480c0e-72c2-418c-af05-2d47ae530e70",
   "metadata": {},
   "outputs": [],
   "source": []
  },
  {
   "cell_type": "code",
   "execution_count": null,
   "id": "ab82b9af-129b-4795-9411-60ba573f9656",
   "metadata": {},
   "outputs": [],
   "source": []
  },
  {
   "cell_type": "code",
   "execution_count": null,
   "id": "d718f5fc",
   "metadata": {
    "ExecuteTime": {
     "end_time": "2023-04-09T20:42:39.783353Z",
     "start_time": "2023-04-09T20:42:39.220320Z"
    },
    "tags": []
   },
   "outputs": [],
   "source": [
    "## Load the Model without any weight initialization\n",
    "# model = EfficientNetLiteB0(classes=num_classes, weights=None, input_shape=input_shape, classifier_activation=None)\n",
    "# model.summary()"
   ]
  },
  {
   "cell_type": "code",
   "execution_count": null,
   "id": "2c9ed0f4-bd3f-45bd-b135-b0332086e2f7",
   "metadata": {},
   "outputs": [],
   "source": []
  },
  {
   "cell_type": "code",
   "execution_count": null,
   "id": "00f6c73b",
   "metadata": {
    "ExecuteTime": {
     "end_time": "2022-10-30T19:46:06.491070Z",
     "start_time": "2022-10-30T19:46:06.274124Z"
    }
   },
   "outputs": [],
   "source": [
    "## Saving model\n",
    "# model.save_weights('/home/ramez/Politechnika_Slaska_MSc/Thesis/Competition/submission/submit_19.h5')"
   ]
  },
  {
   "cell_type": "code",
   "execution_count": null,
   "id": "8b0adb32",
   "metadata": {
    "ExecuteTime": {
     "end_time": "2022-10-30T19:40:44.823406Z",
     "start_time": "2022-10-30T19:40:43.780920Z"
    }
   },
   "outputs": [],
   "source": [
    "# model = EfficientNetLiteB0(classes=num_classes, weights=None, input_shape=input_shape, classifier_activation=None)\n",
    "# # model = EfficientNetLiteB0(include_top=False, classes=num_classes, weights='imagenet', input_shape=input_shape, classifier_activation=None)\n",
    "# model.load_weights('/home/ramez/Politechnika_Slaska_MSc/Thesis/Competition/submission/model_patterns_20epochs.h5')"
   ]
  },
  {
   "cell_type": "markdown",
   "id": "91d26b2b",
   "metadata": {},
   "source": [
    "The model will be now compiled and tested again. You should get the same score as before saving and loading. "
   ]
  },
  {
   "cell_type": "code",
   "execution_count": null,
   "id": "27e0e495",
   "metadata": {
    "ExecuteTime": {
     "end_time": "2022-10-08T14:01:38.000493Z",
     "start_time": "2022-10-08T14:01:36.169912Z"
    }
   },
   "outputs": [],
   "source": [
    "# #Model shall be compiled before testing.\n",
    "# model.compile()\n",
    "\n",
    "# #Creating empty predictions\n",
    "# predictions = np.zeros(len(y_test), dtype=np.int8)\n",
    "# # inference loop\n",
    "# for e, (image, target) in enumerate(zip(x_test, y_test)):\n",
    "#     image = np.expand_dims(np.array(image), axis=0)\n",
    "#     output = model.predict(image)\n",
    "#     predictions[e] = np.squeeze(output).argmax()\n",
    "# #Keras model score\n",
    "# score_keras = 1 - cohen_kappa_score(y_test.numpy(), predictions)\n",
    "# print(\"Score:\",score_keras)"
   ]
  },
  {
   "cell_type": "code",
   "execution_count": null,
   "id": "82416ca4",
   "metadata": {},
   "outputs": [],
   "source": []
  },
  {
   "cell_type": "code",
   "execution_count": null,
   "id": "14eedf3b",
   "metadata": {},
   "outputs": [],
   "source": []
  },
  {
   "cell_type": "code",
   "execution_count": null,
   "id": "786276ad",
   "metadata": {},
   "outputs": [],
   "source": []
  },
  {
   "cell_type": "code",
   "execution_count": null,
   "id": "bf1b71e6",
   "metadata": {
    "ExecuteTime": {
     "end_time": "2022-10-12T18:20:06.668315Z",
     "start_time": "2022-10-12T18:20:06.652610Z"
    }
   },
   "outputs": [],
   "source": []
  },
  {
   "cell_type": "code",
   "execution_count": null,
   "id": "e2dd4279",
   "metadata": {},
   "outputs": [],
   "source": []
  }
 ],
 "metadata": {
  "kernelspec": {
   "display_name": "Python 3 (ipykernel)",
   "language": "python",
   "name": "python3"
  },
  "language_info": {
   "codemirror_mode": {
    "name": "ipython",
    "version": 3
   },
   "file_extension": ".py",
   "mimetype": "text/x-python",
   "name": "python",
   "nbconvert_exporter": "python",
   "pygments_lexer": "ipython3",
   "version": "3.9.16"
  },
  "toc": {
   "base_numbering": 1,
   "nav_menu": {},
   "number_sections": true,
   "sideBar": true,
   "skip_h1_title": false,
   "title_cell": "Table of Contents",
   "title_sidebar": "Contents",
   "toc_cell": false,
   "toc_position": {},
   "toc_section_display": true,
   "toc_window_display": false
  }
 },
 "nbformat": 4,
 "nbformat_minor": 5
}
