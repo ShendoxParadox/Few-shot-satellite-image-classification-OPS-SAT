{
 "cells": [
  {
   "cell_type": "markdown",
   "id": "fcdcd3ca",
   "metadata": {},
   "source": [
    "# OPS-SAT case starter-kit notebook"
   ]
  },
  {
   "cell_type": "markdown",
   "id": "a3ad0860",
   "metadata": {},
   "source": [
    "ESA's [Kelvins](https://kelvins.esa.int) competition \"[the OPS-SAT case](https://kelvins.esa.int/opssat/home/)\" is a novel data-centric challenge that asks you to work with the raw data of a satellite and very few provided labels to find the best parameters for a given machine learning model. Compared to previous competitions on Kelvins (like the [Pose Estimation](https://kelvins.esa.int/pose-estimation-2021/) or the [Proba-V Super-resolution challenge](https://kelvins.esa.int/proba-v-super-resolution/)) where the test-set is provided and the infered results are submitted, for the OPS-SAT case, we will run inference on the Kelvins server directly! This notebooks contains examples on how you can load your data and train an **EfficientNetLite0** model by only using the 80-labeled images provided. Therefore, the directory `images`, containing unlabeld patches and included in the training dataset is not used for this notebook. However, competitors are encouraged to use these patches to improve the model accuracy."
   ]
  },
  {
   "cell_type": "markdown",
   "id": "403eeb5a",
   "metadata": {},
   "source": [
    "# 1. Module imports"
   ]
  },
  {
   "cell_type": "markdown",
   "id": "91d88f44",
   "metadata": {},
   "source": [
    "If you do not have a GPU, uncomment and run the next commands.\n"
   ]
  },
  {
   "cell_type": "code",
   "execution_count": 75,
   "id": "1f3f6cde",
   "metadata": {
    "ExecuteTime": {
     "end_time": "2023-04-09T20:42:31.525217Z",
     "start_time": "2023-04-09T20:42:31.521341Z"
    },
    "scrolled": true,
    "tags": []
   },
   "outputs": [
    {
     "data": {
      "text/plain": [
       "'3.9.16 (main, Mar  8 2023, 14:00:05) \\n[GCC 11.2.0]'"
      ]
     },
     "execution_count": 75,
     "metadata": {},
     "output_type": "execute_result"
    }
   ],
   "source": [
    "import sys\n",
    "sys.version"
   ]
  },
  {
   "cell_type": "code",
   "execution_count": 76,
   "id": "c7c8f9d8",
   "metadata": {
    "ExecuteTime": {
     "end_time": "2023-04-09T20:42:31.887841Z",
     "start_time": "2023-04-09T20:42:31.711974Z"
    },
    "tags": []
   },
   "outputs": [
    {
     "name": "stdout",
     "output_type": "stream",
     "text": [
      "/usr/bin/zsh: /home/ramez/miniconda3/envs/thesis/lib/libtinfo.so.6: no version information available (required by /usr/bin/zsh)\n",
      "Python 3.9.16\n"
     ]
    }
   ],
   "source": [
    "! python --version"
   ]
  },
  {
   "cell_type": "code",
   "execution_count": 77,
   "id": "cb8fddce",
   "metadata": {
    "ExecuteTime": {
     "end_time": "2023-04-09T20:42:32.267814Z",
     "start_time": "2023-04-09T20:42:32.094731Z"
    },
    "tags": []
   },
   "outputs": [
    {
     "name": "stdout",
     "output_type": "stream",
     "text": [
      "/usr/bin/zsh: /home/ramez/miniconda3/envs/thesis/lib/libtinfo.so.6: no version information available (required by /usr/bin/zsh)\n",
      "/home/ramez/miniconda3/envs/thesis/bin/python\n"
     ]
    }
   ],
   "source": [
    "! which python"
   ]
  },
  {
   "cell_type": "code",
   "execution_count": 78,
   "id": "c3aecaa6",
   "metadata": {
    "ExecuteTime": {
     "end_time": "2023-04-09T20:42:33.914315Z",
     "start_time": "2023-04-09T20:42:33.911985Z"
    },
    "tags": []
   },
   "outputs": [],
   "source": [
    "import tensorflow as tf"
   ]
  },
  {
   "cell_type": "markdown",
   "id": "4fc1fd19-d4ef-4a54-877e-9d06a9049737",
   "metadata": {},
   "source": [
    "#### GPU Check"
   ]
  },
  {
   "cell_type": "code",
   "execution_count": 79,
   "id": "b1e02f8b",
   "metadata": {
    "ExecuteTime": {
     "end_time": "2023-04-09T20:42:36.255529Z",
     "start_time": "2023-04-09T20:42:34.328075Z"
    },
    "tags": []
   },
   "outputs": [
    {
     "name": "stdout",
     "output_type": "stream",
     "text": [
      "/usr/bin/zsh: /home/ramez/miniconda3/envs/thesis/lib/libtinfo.so.6: no version information available (required by /usr/bin/zsh)\n",
      "[PhysicalDevice(name='/physical_device:GPU:0', device_type='GPU')]\n"
     ]
    }
   ],
   "source": [
    "!python3 -c \"import tensorflow as tf; print(tf.config.list_physical_devices('GPU'))\""
   ]
  },
  {
   "cell_type": "code",
   "execution_count": 80,
   "id": "234eba6e",
   "metadata": {
    "ExecuteTime": {
     "end_time": "2023-04-09T20:42:36.260638Z",
     "start_time": "2023-04-09T20:42:36.257966Z"
    },
    "tags": []
   },
   "outputs": [],
   "source": [
    "from tensorflow import keras"
   ]
  },
  {
   "cell_type": "code",
   "execution_count": 81,
   "id": "ea21b9b7",
   "metadata": {
    "ExecuteTime": {
     "end_time": "2023-04-09T20:42:36.327202Z",
     "start_time": "2023-04-09T20:42:36.262029Z"
    },
    "tags": []
   },
   "outputs": [],
   "source": [
    "import numpy as np"
   ]
  },
  {
   "cell_type": "code",
   "execution_count": 82,
   "id": "f73af189",
   "metadata": {
    "ExecuteTime": {
     "end_time": "2023-04-09T20:42:36.336400Z",
     "start_time": "2023-04-09T20:42:36.333721Z"
    },
    "tags": []
   },
   "outputs": [],
   "source": [
    "from sklearn.metrics import cohen_kappa_score"
   ]
  },
  {
   "cell_type": "code",
   "execution_count": 83,
   "id": "80fbbb42",
   "metadata": {
    "ExecuteTime": {
     "end_time": "2023-04-09T20:42:36.345491Z",
     "start_time": "2023-04-09T20:42:36.343286Z"
    },
    "tags": []
   },
   "outputs": [],
   "source": [
    "## Local EfficientNetLite (Customized by the Competition)\n",
    "from efficientnet_lite import EfficientNetLiteB0"
   ]
  },
  {
   "cell_type": "code",
   "execution_count": 84,
   "id": "c6face98",
   "metadata": {
    "ExecuteTime": {
     "end_time": "2023-04-09T20:42:36.349008Z",
     "start_time": "2023-04-09T20:42:36.346850Z"
    },
    "tags": []
   },
   "outputs": [],
   "source": [
    "from sklearn.model_selection import KFold"
   ]
  },
  {
   "cell_type": "code",
   "execution_count": 85,
   "id": "fb004876",
   "metadata": {
    "ExecuteTime": {
     "end_time": "2023-04-09T20:42:36.353039Z",
     "start_time": "2023-04-09T20:42:36.350804Z"
    },
    "tags": []
   },
   "outputs": [],
   "source": [
    "from tensorflow.keras.models import Model\n",
    "from tensorflow.keras.layers import GlobalAveragePooling2D, Dense, Dropout"
   ]
  },
  {
   "cell_type": "code",
   "execution_count": 86,
   "id": "22d591c0",
   "metadata": {
    "ExecuteTime": {
     "end_time": "2023-04-09T20:42:36.719018Z",
     "start_time": "2023-04-09T20:42:36.716802Z"
    },
    "tags": []
   },
   "outputs": [],
   "source": [
    "from tensorflow.keras.callbacks import TensorBoard"
   ]
  },
  {
   "cell_type": "code",
   "execution_count": 87,
   "id": "a7cffd18-bb07-4455-8292-3cd846d3139e",
   "metadata": {
    "tags": []
   },
   "outputs": [],
   "source": [
    "from keras.callbacks import EarlyStopping, ModelCheckpoint"
   ]
  },
  {
   "cell_type": "code",
   "execution_count": 88,
   "id": "6d5167dd-ad8d-41ab-9c7c-ace8e0c7c765",
   "metadata": {
    "tags": []
   },
   "outputs": [],
   "source": [
    "import matplotlib.pyplot as plt"
   ]
  },
  {
   "cell_type": "code",
   "execution_count": 89,
   "id": "bdcaf42f-1499-4cde-a474-ee694d25d7eb",
   "metadata": {
    "tags": []
   },
   "outputs": [],
   "source": [
    "from itertools import accumulate"
   ]
  },
  {
   "cell_type": "code",
   "execution_count": 90,
   "id": "262ab8b0-57fa-4a40-9ebc-fd2e9809942f",
   "metadata": {},
   "outputs": [],
   "source": [
    "import os"
   ]
  },
  {
   "cell_type": "code",
   "execution_count": 91,
   "id": "6b4157e1-1449-4c49-84b0-4790c28e8930",
   "metadata": {
    "tags": []
   },
   "outputs": [],
   "source": [
    "import wandb\n",
    "from wandb.keras import WandbMetricsLogger, WandbModelCheckpoint"
   ]
  },
  {
   "cell_type": "markdown",
   "id": "539eda62",
   "metadata": {},
   "source": [
    "# 2. Utility Functions"
   ]
  },
  {
   "cell_type": "markdown",
   "id": "eec32f1b",
   "metadata": {},
   "source": [
    "You can use this function to load your training data."
   ]
  },
  {
   "cell_type": "code",
   "execution_count": 92,
   "id": "9f270337",
   "metadata": {
    "ExecuteTime": {
     "end_time": "2023-04-09T20:42:37.464808Z",
     "start_time": "2023-04-09T20:42:37.461420Z"
    },
    "tags": []
   },
   "outputs": [],
   "source": [
    "def get_images_from_path(dataset_path):\n",
    "    \"\"\" Get images from path and normalize them applying channel-level normalization. \"\"\"\n",
    "\n",
    "    # loading all images in one large batch\n",
    "    tf_eval_data = tf.keras.utils.image_dataset_from_directory(dataset_path, image_size=config.input_shape[:2], shuffle=False, \n",
    "                                                               batch_size=100000, label_mode='int')\n",
    "\n",
    "    # get the class names (folder names) from the dataset object\n",
    "    global class_names\n",
    "    class_names = tf_eval_data.class_names\n",
    "    \n",
    "    # extract images and targets\n",
    "    for tf_eval_images, tf_eval_targets in tf_eval_data:\n",
    "        break\n",
    "\n",
    "    return tf.convert_to_tensor(tf_eval_images), tf_eval_targets"
   ]
  },
  {
   "cell_type": "markdown",
   "id": "a6cec9e1",
   "metadata": {},
   "source": [
    "# 4. Loading data"
   ]
  },
  {
   "cell_type": "code",
   "execution_count": 111,
   "id": "3939168c",
   "metadata": {
    "ExecuteTime": {
     "end_time": "2023-04-09T20:42:42.576907Z",
     "start_time": "2023-04-09T20:42:42.574308Z"
    },
    "tags": []
   },
   "outputs": [],
   "source": [
    "# dataset_path_train=\"/home/ramez/Politechnika_Slaska_MSc/Thesis/Competition/Data/images_copy_processed/\"\n",
    "dataset_path_train_val = \"/home/ramez/Politechnika_Slaska_MSc/Thesis/Competition/Data/ops_sat_train/\""
   ]
  },
  {
   "cell_type": "code",
   "execution_count": 112,
   "id": "4e57cb03",
   "metadata": {
    "ExecuteTime": {
     "end_time": "2023-04-09T20:42:43.086890Z",
     "start_time": "2023-04-09T20:42:43.084818Z"
    },
    "tags": []
   },
   "outputs": [],
   "source": [
    "dataset_path_test = \"/home/ramez/Politechnika_Slaska_MSc/Thesis/Competition/Data/ops_sat_test/\""
   ]
  },
  {
   "cell_type": "markdown",
   "id": "ad7277b8",
   "metadata": {},
   "source": [
    "In this notebook, classical supervised learning is used. Therefore, remember to remove the subdirectory `images` containing unlabeled patches before loading the dataset to perform training correctly."
   ]
  },
  {
   "cell_type": "markdown",
   "id": "f3244374-4874-45b3-b37a-8447dad08e80",
   "metadata": {},
   "source": [
    "### Model Configuration"
   ]
  },
  {
   "cell_type": "code",
   "execution_count": 113,
   "id": "eab2f877-ebc7-42d1-b7a5-a4a3201206b1",
   "metadata": {
    "tags": []
   },
   "outputs": [
    {
     "data": {
      "text/html": [
       "Tracking run with wandb version 0.15.0"
      ],
      "text/plain": [
       "<IPython.core.display.HTML object>"
      ]
     },
     "metadata": {},
     "output_type": "display_data"
    },
    {
     "data": {
      "text/html": [
       "Run data is saved locally in <code>/home/ramez/Politechnika_Slaska_MSc/Thesis/Competition/the_opssat_case_starter_kit-main/OPS-SAT/wandb/run-20230427_182731-28uzsz5m</code>"
      ],
      "text/plain": [
       "<IPython.core.display.HTML object>"
      ]
     },
     "metadata": {},
     "output_type": "display_data"
    },
    {
     "data": {
      "text/html": [
       "Syncing run <strong><a href='https://wandb.ai/ramez/OPS-SAT-Thesis-Project/runs/28uzsz5m' target=\"_blank\">devout-bee-24</a></strong> to <a href='https://wandb.ai/ramez/OPS-SAT-Thesis-Project' target=\"_blank\">Weights & Biases</a> (<a href='https://wandb.me/run' target=\"_blank\">docs</a>)<br/>"
      ],
      "text/plain": [
       "<IPython.core.display.HTML object>"
      ]
     },
     "metadata": {},
     "output_type": "display_data"
    },
    {
     "data": {
      "text/html": [
       " View project at <a href='https://wandb.ai/ramez/OPS-SAT-Thesis-Project' target=\"_blank\">https://wandb.ai/ramez/OPS-SAT-Thesis-Project</a>"
      ],
      "text/plain": [
       "<IPython.core.display.HTML object>"
      ]
     },
     "metadata": {},
     "output_type": "display_data"
    },
    {
     "data": {
      "text/html": [
       " View run at <a href='https://wandb.ai/ramez/OPS-SAT-Thesis-Project/runs/28uzsz5m' target=\"_blank\">https://wandb.ai/ramez/OPS-SAT-Thesis-Project/runs/28uzsz5m</a>"
      ],
      "text/plain": [
       "<IPython.core.display.HTML object>"
      ]
     },
     "metadata": {},
     "output_type": "display_data"
    }
   ],
   "source": [
    "# Start a run, tracking hyperparameters\n",
    "wandb.init(\n",
    "    # set the wandb project where this run will be logged\n",
    "    project=\"OPS-SAT-Thesis-Project\",\n",
    "\n",
    "    # track hyperparameters and run metadata with wandb.config\n",
    "    config={\n",
    "        \"dropout\": 0.5,\n",
    "        \"num_classes\": 8,\n",
    "        \"input_shape\": (200, 200, 3),\n",
    "        \"model_weights\": \"imagenet\",\n",
    "        \"output_layer_activation\": \"softmax\",\n",
    "        \"model_optimizer\": \"adam\",\n",
    "        \"loss_fun\": \"sparse_categorical_crossentropy\",\n",
    "        \"model_metrics\": [\"SparseCategoricalAccuracy\"],\n",
    "        \"early_stopping_monitor\": \"val_sparse_categorical_accuracy\",\n",
    "        \"early_stopping_patience\": 3,\n",
    "        \"model_checkpoint_monitor\": \"val_sparse_categorical_accuracy\",\n",
    "        \"cross_validation_k\": 5,\n",
    "        \"model_epochs\": 100,\n",
    "        \"model_batch_size\": 8\n",
    "    }\n",
    ")\n",
    "\n",
    "config = wandb.config"
   ]
  },
  {
   "cell_type": "code",
   "execution_count": 147,
   "id": "535d9f57",
   "metadata": {
    "ExecuteTime": {
     "end_time": "2023-04-09T20:42:44.029535Z",
     "start_time": "2023-04-09T20:42:43.904140Z"
    },
    "tags": []
   },
   "outputs": [
    {
     "name": "stdout",
     "output_type": "stream",
     "text": [
      "Found 227 files belonging to 8 classes.\n"
     ]
    }
   ],
   "source": [
    "#Loading dataset\n",
    "x_train_val, y_train_val = get_images_from_path(dataset_path_train_val)"
   ]
  },
  {
   "cell_type": "code",
   "execution_count": 148,
   "id": "870f0b93-ea52-4ae0-98f4-e90f8a3db249",
   "metadata": {
    "tags": []
   },
   "outputs": [],
   "source": [
    "## class_names_labels dict\n",
    "class_name_label = {}\n",
    "for i, class_name in enumerate(class_names):\n",
    "    class_name_label[i] = class_name"
   ]
  },
  {
   "cell_type": "code",
   "execution_count": 149,
   "id": "176ad7e8",
   "metadata": {
    "ExecuteTime": {
     "end_time": "2023-04-09T20:42:44.501742Z",
     "start_time": "2023-04-09T20:42:44.458845Z"
    },
    "tags": []
   },
   "outputs": [
    {
     "name": "stdout",
     "output_type": "stream",
     "text": [
      "Found 40 files belonging to 8 classes.\n"
     ]
    }
   ],
   "source": [
    "#Loading dataset\n",
    "x_test, y_test = get_images_from_path(dataset_path_test)"
   ]
  },
  {
   "cell_type": "code",
   "execution_count": 150,
   "id": "8029b003-175d-4b30-9f95-2b209090e08a",
   "metadata": {
    "tags": []
   },
   "outputs": [],
   "source": [
    "## class_names_labels dict\n",
    "class_name_label_test = {}\n",
    "for i, class_name in enumerate(class_names):\n",
    "    class_name_label_test[i] = class_name"
   ]
  },
  {
   "cell_type": "code",
   "execution_count": 151,
   "id": "71c45087-b178-4403-b8d8-b0f0204243b0",
   "metadata": {
    "tags": []
   },
   "outputs": [
    {
     "name": "stdout",
     "output_type": "stream",
     "text": [
      "Ok\n"
     ]
    }
   ],
   "source": [
    "## Check if classes are identical with labels in both splits\n",
    "if class_name_label == class_name_label_test:\n",
    "    print(\"Ok\")\n",
    "else:\n",
    "    print(\"Error - Class Mapping Are Mismatched\")"
   ]
  },
  {
   "cell_type": "markdown",
   "id": "6ed865db",
   "metadata": {},
   "source": [
    "# 5. Model training"
   ]
  },
  {
   "cell_type": "markdown",
   "id": "55f4a84c-e53f-42e5-b7ea-12893a82a5d1",
   "metadata": {},
   "source": [
    "The network architecture used for OPS-SAT is **EfficientNetLite0**. We would like to thank Sebastian for making a Keras implementation of EfficientNetLite publicly available under the Apache 2.0 License: https://github.com/sebastian-sz/efficientnet-lite-keras. Our Version of this code has been modified to better fit our purposes. For example, we removed the ReLU \"stem_activation\" to better match a related efficientnet pytorch implementation. In any way, **you have to use the model architecture that we provide in our [starter-kit](https://gitlab.com/EuropeanSpaceAgency/the_opssat_case_starter_kit).**"
   ]
  },
  {
   "cell_type": "markdown",
   "id": "54a9bc3a-67ab-4e37-9a2f-aab98c8c5b25",
   "metadata": {},
   "source": [
    "### Load The Model With ImageNet Weights"
   ]
  },
  {
   "cell_type": "markdown",
   "id": "ba86fe85-998e-4704-bb76-18af67274166",
   "metadata": {
    "tags": []
   },
   "source": [
    "### Compile The model"
   ]
  },
  {
   "cell_type": "markdown",
   "id": "00c29753-9cbf-4149-a938-ceec8435dce0",
   "metadata": {},
   "source": [
    "### Early Stopping and Best Model Callbacks "
   ]
  },
  {
   "cell_type": "markdown",
   "id": "340a085b-c09c-4892-968a-8eeb2c556ce1",
   "metadata": {},
   "source": [
    "We provide now an example on how you can train your model by using standard supervised learning. Training loss (`SparseCategoricalCrossentropy`) and `Accuracy` are shown for simplicity and for an easier interpretation of the training outcome, despite your submission will be evaluated by using the metric **1 - Cohen's kappa** [metric](https://en.wikipedia.org/wiki/Cohen's_kappa). For more information on scoring, please refer to [Scoring](https://kelvins.esa.int/opssat/scoring/)."
   ]
  },
  {
   "cell_type": "code",
   "execution_count": 119,
   "id": "593c7f99-4e05-4b40-8cc7-e7c4b84e3452",
   "metadata": {},
   "outputs": [],
   "source": [
    "def model_init():\n",
    "    global model\n",
    "    global early_stopping\n",
    "    global checkpoint\n",
    "    \n",
    "    model = EfficientNetLiteB0(classes=config.num_classes, weights=config.model_weights, input_shape=config.input_shape, classifier_activation=None, include_top = False)\n",
    "    x = model.output\n",
    "    x = GlobalAveragePooling2D()(x)\n",
    "    x = Dropout(config.dropout)(x)\n",
    "    output_layer = Dense(config.num_classes, activation=config.output_layer_activation)(x)\n",
    "    model = Model(inputs=model.input, outputs=output_layer)\n",
    "    # model.summary()\n",
    "    \n",
    "    model.compile(optimizer=config.model_optimizer,\n",
    "                  # loss=\"sparse_categorical_crossentropy\",\n",
    "              # loss=tf.keras.losses.SparseCategoricalCrossentropy(from_logits=False), \n",
    "                  loss=config.loss_fun,\n",
    "                  # metrics=[keras.metrics.SparseCategoricalAccuracy()],\n",
    "                 metrics=config.model_metrics)\n",
    "    \n",
    "    early_stopping = EarlyStopping(monitor=config.early_stopping_monitor, patience=config.early_stopping_patience)\n",
    "    checkpoint = ModelCheckpoint('best_weights.h5', monitor=config.model_checkpoint_monitor, save_best_only=True)\n",
    "    \n",
    "# wandb_callback=wandb.keras.WandbCallback()"
   ]
  },
  {
   "cell_type": "markdown",
   "id": "8bc53411-de66-41a5-bdfe-47e6b2b94462",
   "metadata": {
    "tags": []
   },
   "source": [
    "### Without K fold Cross Validation but with TensorBoard (With Early Stopping)"
   ]
  },
  {
   "cell_type": "code",
   "execution_count": 120,
   "id": "9ae962a9",
   "metadata": {
    "ExecuteTime": {
     "end_time": "2023-04-09T20:42:49.259862Z",
     "start_time": "2023-04-09T20:42:49.257217Z"
    },
    "tags": []
   },
   "outputs": [],
   "source": [
    "# tensorboard_callback = TensorBoard(log_dir='./logs')"
   ]
  },
  {
   "cell_type": "code",
   "execution_count": 121,
   "id": "24568775",
   "metadata": {
    "ExecuteTime": {
     "end_time": "2023-04-09T20:43:38.960294Z",
     "start_time": "2023-04-09T20:42:50.924320Z"
    },
    "tags": []
   },
   "outputs": [],
   "source": [
    "# early_stopping = keras.callbacks.EarlyStopping(monitor='val_loss', patience=5)\n",
    "# history = model.fit(x_train_val, y_train_val, validation_data=(x_test, y_test), epochs= 100, verbose=1, batch_size=8, \n",
    "#                         callbacks=[early_stopping, tensorboard_callback])"
   ]
  },
  {
   "cell_type": "code",
   "execution_count": 122,
   "id": "faa7c10b",
   "metadata": {
    "ExecuteTime": {
     "end_time": "2023-04-09T20:45:36.527054Z",
     "start_time": "2023-04-09T20:44:17.923419Z"
    },
    "tags": []
   },
   "outputs": [],
   "source": [
    "# !tensorboard --logdir=./logs"
   ]
  },
  {
   "cell_type": "markdown",
   "id": "9c9899b0-587d-4c9a-b9b5-ec61295e2e48",
   "metadata": {},
   "source": [
    "### With K fold Cross Validation but without TensorBoard (With Early Stopping)"
   ]
  },
  {
   "cell_type": "code",
   "execution_count": 123,
   "id": "12efbbf9",
   "metadata": {
    "ExecuteTime": {
     "end_time": "2023-04-09T20:42:47.226837Z",
     "start_time": "2023-04-09T20:42:47.224186Z"
    },
    "tags": []
   },
   "outputs": [],
   "source": [
    "kf = KFold(n_splits=config.cross_validation_k, shuffle=True)"
   ]
  },
  {
   "cell_type": "code",
   "execution_count": 124,
   "id": "9a930432",
   "metadata": {
    "ExecuteTime": {
     "end_time": "2023-04-09T20:43:57.248568Z",
     "start_time": "2023-04-09T20:43:57.245137Z"
    },
    "tags": []
   },
   "outputs": [
    {
     "name": "stdout",
     "output_type": "stream",
     "text": [
      "block1a_ same\n",
      "block2a_ ((1, 1), (1, 1))\n",
      "block2a_ valid\n",
      "block2b_ same\n",
      "block3a_ ((2, 2), (2, 2))\n",
      "block3a_ valid\n",
      "block3b_ same\n",
      "block4a_ ((1, 1), (1, 1))\n",
      "block4a_ valid\n",
      "block4b_ same\n",
      "block4c_ same\n",
      "block5a_ same\n",
      "block5b_ same\n",
      "block5c_ same\n",
      "block6a_ ((2, 2), (2, 2))\n",
      "block6a_ valid\n",
      "block6b_ same\n",
      "block6c_ same\n",
      "block6d_ same\n",
      "block7a_ same\n",
      "Epoch 1/100\n",
      "23/23 [==============================] - ETA: 0s - loss: 1.6537 - sparse_categorical_accuracy: 0.3812"
     ]
    },
    {
     "name": "stderr",
     "output_type": "stream",
     "text": [
      "/home/ramez/miniconda3/envs/thesis/lib/python3.9/site-packages/keras/engine/functional.py:1410: CustomMaskWarning: Custom mask layers require a config and must override get_config. When loading, the custom mask layer must be passed to the custom_objects argument.\n",
      "  layer_config = serialize_layer_fn(layer)\n"
     ]
    },
    {
     "name": "stdout",
     "output_type": "stream",
     "text": [
      "23/23 [==============================] - 7s 158ms/step - loss: 1.6537 - sparse_categorical_accuracy: 0.3812 - val_loss: 2.8119 - val_sparse_categorical_accuracy: 0.1522\n",
      "Epoch 2/100\n",
      "23/23 [==============================] - 3s 141ms/step - loss: 0.8528 - sparse_categorical_accuracy: 0.7182 - val_loss: 2.6540 - val_sparse_categorical_accuracy: 0.2826\n",
      "Epoch 3/100\n",
      "23/23 [==============================] - 3s 135ms/step - loss: 0.7898 - sparse_categorical_accuracy: 0.7238 - val_loss: 2.6308 - val_sparse_categorical_accuracy: 0.3261\n",
      "Epoch 4/100\n",
      "23/23 [==============================] - 3s 135ms/step - loss: 0.6906 - sparse_categorical_accuracy: 0.7901 - val_loss: 2.2010 - val_sparse_categorical_accuracy: 0.5000\n",
      "Epoch 5/100\n",
      "23/23 [==============================] - 3s 137ms/step - loss: 0.5145 - sparse_categorical_accuracy: 0.8343 - val_loss: 1.2685 - val_sparse_categorical_accuracy: 0.6304\n",
      "Epoch 6/100\n",
      "23/23 [==============================] - 3s 117ms/step - loss: 0.5598 - sparse_categorical_accuracy: 0.7735 - val_loss: 1.5514 - val_sparse_categorical_accuracy: 0.5870\n",
      "Epoch 7/100\n",
      "23/23 [==============================] - 3s 117ms/step - loss: 0.4998 - sparse_categorical_accuracy: 0.8011 - val_loss: 2.3942 - val_sparse_categorical_accuracy: 0.5870\n",
      "Epoch 8/100\n",
      "23/23 [==============================] - 3s 140ms/step - loss: 0.4634 - sparse_categorical_accuracy: 0.8564 - val_loss: 1.6342 - val_sparse_categorical_accuracy: 0.7174\n",
      "Epoch 9/100\n",
      "23/23 [==============================] - 3s 118ms/step - loss: 0.5106 - sparse_categorical_accuracy: 0.8177 - val_loss: 1.8036 - val_sparse_categorical_accuracy: 0.6739\n",
      "Epoch 10/100\n",
      "23/23 [==============================] - 3s 139ms/step - loss: 0.5177 - sparse_categorical_accuracy: 0.8066 - val_loss: 0.9588 - val_sparse_categorical_accuracy: 0.7826\n",
      "Epoch 11/100\n",
      "23/23 [==============================] - 3s 117ms/step - loss: 0.5129 - sparse_categorical_accuracy: 0.8508 - val_loss: 1.6460 - val_sparse_categorical_accuracy: 0.5652\n",
      "Epoch 12/100\n",
      "23/23 [==============================] - 3s 119ms/step - loss: 0.3879 - sparse_categorical_accuracy: 0.8619 - val_loss: 1.0314 - val_sparse_categorical_accuracy: 0.7826\n",
      "Epoch 13/100\n",
      "23/23 [==============================] - 3s 116ms/step - loss: 0.4176 - sparse_categorical_accuracy: 0.8729 - val_loss: 1.6432 - val_sparse_categorical_accuracy: 0.6522\n",
      "2/2 [==============================] - 0s 45ms/step - loss: 0.9588 - sparse_categorical_accuracy: 0.7826\n",
      "block1a_ same\n",
      "block2a_ ((1, 1), (1, 1))\n",
      "block2a_ valid\n",
      "block2b_ same\n",
      "block3a_ ((2, 2), (2, 2))\n",
      "block3a_ valid\n",
      "block3b_ same\n",
      "block4a_ ((1, 1), (1, 1))\n",
      "block4a_ valid\n",
      "block4b_ same\n",
      "block4c_ same\n",
      "block5a_ same\n",
      "block5b_ same\n",
      "block5c_ same\n",
      "block6a_ ((2, 2), (2, 2))\n",
      "block6a_ valid\n",
      "block6b_ same\n",
      "block6c_ same\n",
      "block6d_ same\n",
      "block7a_ same\n",
      "Epoch 1/100\n",
      "23/23 [==============================] - 7s 168ms/step - loss: 1.6425 - sparse_categorical_accuracy: 0.3923 - val_loss: 5.2333 - val_sparse_categorical_accuracy: 0.1739\n",
      "Epoch 2/100\n",
      "23/23 [==============================] - 3s 136ms/step - loss: 0.9384 - sparse_categorical_accuracy: 0.6851 - val_loss: 2.5378 - val_sparse_categorical_accuracy: 0.4130\n",
      "Epoch 3/100\n",
      "23/23 [==============================] - 3s 142ms/step - loss: 0.7412 - sparse_categorical_accuracy: 0.7017 - val_loss: 2.5846 - val_sparse_categorical_accuracy: 0.5000\n",
      "Epoch 4/100\n",
      "23/23 [==============================] - 3s 139ms/step - loss: 0.4979 - sparse_categorical_accuracy: 0.8343 - val_loss: 3.3895 - val_sparse_categorical_accuracy: 0.5652\n",
      "Epoch 5/100\n",
      "23/23 [==============================] - 3s 140ms/step - loss: 0.4979 - sparse_categorical_accuracy: 0.8508 - val_loss: 1.5470 - val_sparse_categorical_accuracy: 0.6087\n",
      "Epoch 6/100\n",
      "23/23 [==============================] - 3s 122ms/step - loss: 0.4730 - sparse_categorical_accuracy: 0.8232 - val_loss: 2.8895 - val_sparse_categorical_accuracy: 0.5435\n",
      "Epoch 7/100\n",
      "23/23 [==============================] - 3s 115ms/step - loss: 0.5322 - sparse_categorical_accuracy: 0.8122 - val_loss: 2.2967 - val_sparse_categorical_accuracy: 0.4130\n",
      "Epoch 8/100\n",
      "23/23 [==============================] - 3s 139ms/step - loss: 0.4923 - sparse_categorical_accuracy: 0.8177 - val_loss: 1.2606 - val_sparse_categorical_accuracy: 0.6739\n",
      "Epoch 9/100\n",
      "23/23 [==============================] - 3s 117ms/step - loss: 0.4445 - sparse_categorical_accuracy: 0.8785 - val_loss: 1.4448 - val_sparse_categorical_accuracy: 0.6739\n",
      "Epoch 10/100\n",
      "23/23 [==============================] - 3s 138ms/step - loss: 0.5933 - sparse_categorical_accuracy: 0.8011 - val_loss: 1.4334 - val_sparse_categorical_accuracy: 0.6957\n",
      "Epoch 11/100\n",
      "23/23 [==============================] - 3s 117ms/step - loss: 0.5119 - sparse_categorical_accuracy: 0.8398 - val_loss: 1.4990 - val_sparse_categorical_accuracy: 0.6087\n",
      "Epoch 12/100\n",
      "23/23 [==============================] - 3s 121ms/step - loss: 0.4443 - sparse_categorical_accuracy: 0.8564 - val_loss: 1.4798 - val_sparse_categorical_accuracy: 0.6522\n",
      "Epoch 13/100\n",
      "23/23 [==============================] - 3s 116ms/step - loss: 0.4429 - sparse_categorical_accuracy: 0.8674 - val_loss: 1.9440 - val_sparse_categorical_accuracy: 0.6304\n",
      "2/2 [==============================] - 0s 43ms/step - loss: 1.4334 - sparse_categorical_accuracy: 0.6957\n",
      "block1a_ same\n",
      "block2a_ ((1, 1), (1, 1))\n",
      "block2a_ valid\n",
      "block2b_ same\n",
      "block3a_ ((2, 2), (2, 2))\n",
      "block3a_ valid\n",
      "block3b_ same\n",
      "block4a_ ((1, 1), (1, 1))\n",
      "block4a_ valid\n",
      "block4b_ same\n",
      "block4c_ same\n",
      "block5a_ same\n",
      "block5b_ same\n",
      "block5c_ same\n",
      "block6a_ ((2, 2), (2, 2))\n",
      "block6a_ valid\n",
      "block6b_ same\n",
      "block6c_ same\n",
      "block6d_ same\n",
      "block7a_ same\n",
      "Epoch 1/100\n",
      "23/23 [==============================] - 7s 168ms/step - loss: 1.5441 - sparse_categorical_accuracy: 0.4451 - val_loss: 3.2580 - val_sparse_categorical_accuracy: 0.2222\n",
      "Epoch 2/100\n",
      "23/23 [==============================] - 3s 118ms/step - loss: 0.8833 - sparse_categorical_accuracy: 0.7143 - val_loss: 3.1761 - val_sparse_categorical_accuracy: 0.2222\n",
      "Epoch 3/100\n",
      "23/23 [==============================] - 3s 140ms/step - loss: 0.7642 - sparse_categorical_accuracy: 0.7308 - val_loss: 3.8589 - val_sparse_categorical_accuracy: 0.4667\n",
      "Epoch 4/100\n",
      "23/23 [==============================] - 3s 139ms/step - loss: 0.7997 - sparse_categorical_accuracy: 0.7198 - val_loss: 1.8991 - val_sparse_categorical_accuracy: 0.6000\n",
      "Epoch 5/100\n",
      "23/23 [==============================] - 3s 116ms/step - loss: 0.6098 - sparse_categorical_accuracy: 0.7857 - val_loss: 1.9748 - val_sparse_categorical_accuracy: 0.5778\n",
      "Epoch 6/100\n",
      "23/23 [==============================] - 3s 120ms/step - loss: 0.6684 - sparse_categorical_accuracy: 0.7747 - val_loss: 5.9095 - val_sparse_categorical_accuracy: 0.1778\n",
      "Epoch 7/100\n",
      "23/23 [==============================] - 3s 118ms/step - loss: 0.5810 - sparse_categorical_accuracy: 0.7747 - val_loss: 1.9808 - val_sparse_categorical_accuracy: 0.5333\n",
      "2/2 [==============================] - 0s 40ms/step - loss: 1.8991 - sparse_categorical_accuracy: 0.6000\n",
      "block1a_ same\n",
      "block2a_ ((1, 1), (1, 1))\n",
      "block2a_ valid\n",
      "block2b_ same\n",
      "block3a_ ((2, 2), (2, 2))\n",
      "block3a_ valid\n",
      "block3b_ same\n",
      "block4a_ ((1, 1), (1, 1))\n",
      "block4a_ valid\n",
      "block4b_ same\n",
      "block4c_ same\n",
      "block5a_ same\n",
      "block5b_ same\n",
      "block5c_ same\n",
      "block6a_ ((2, 2), (2, 2))\n",
      "block6a_ valid\n",
      "block6b_ same\n",
      "block6c_ same\n",
      "block6d_ same\n",
      "block7a_ same\n",
      "Epoch 1/100\n",
      "23/23 [==============================] - 8s 164ms/step - loss: 1.6534 - sparse_categorical_accuracy: 0.4505 - val_loss: 9.5565 - val_sparse_categorical_accuracy: 0.1556\n",
      "Epoch 2/100\n",
      "23/23 [==============================] - 3s 133ms/step - loss: 0.9313 - sparse_categorical_accuracy: 0.6703 - val_loss: 4.6865 - val_sparse_categorical_accuracy: 0.3333\n",
      "Epoch 3/100\n",
      "23/23 [==============================] - 3s 121ms/step - loss: 0.6199 - sparse_categorical_accuracy: 0.7967 - val_loss: 4.3378 - val_sparse_categorical_accuracy: 0.3111\n",
      "Epoch 4/100\n",
      "23/23 [==============================] - 3s 143ms/step - loss: 0.5117 - sparse_categorical_accuracy: 0.8187 - val_loss: 2.3323 - val_sparse_categorical_accuracy: 0.5333\n",
      "Epoch 5/100\n",
      "23/23 [==============================] - 3s 132ms/step - loss: 0.6093 - sparse_categorical_accuracy: 0.7747 - val_loss: 1.6119 - val_sparse_categorical_accuracy: 0.6444\n",
      "Epoch 6/100\n",
      "23/23 [==============================] - 3s 112ms/step - loss: 0.5829 - sparse_categorical_accuracy: 0.8352 - val_loss: 1.3620 - val_sparse_categorical_accuracy: 0.6444\n",
      "Epoch 7/100\n",
      "23/23 [==============================] - 3s 121ms/step - loss: 0.4122 - sparse_categorical_accuracy: 0.8681 - val_loss: 1.5220 - val_sparse_categorical_accuracy: 0.6222\n",
      "Epoch 8/100\n",
      "23/23 [==============================] - 3s 133ms/step - loss: 0.4204 - sparse_categorical_accuracy: 0.8516 - val_loss: 1.3802 - val_sparse_categorical_accuracy: 0.6889\n",
      "Epoch 9/100\n",
      "23/23 [==============================] - 3s 111ms/step - loss: 0.2506 - sparse_categorical_accuracy: 0.9231 - val_loss: 1.1821 - val_sparse_categorical_accuracy: 0.6667\n",
      "Epoch 10/100\n",
      "23/23 [==============================] - 3s 112ms/step - loss: 0.3602 - sparse_categorical_accuracy: 0.8626 - val_loss: 1.3121 - val_sparse_categorical_accuracy: 0.6667\n",
      "Epoch 11/100\n",
      "23/23 [==============================] - 3s 122ms/step - loss: 0.3781 - sparse_categorical_accuracy: 0.8626 - val_loss: 2.8446 - val_sparse_categorical_accuracy: 0.5778\n",
      "2/2 [==============================] - 0s 41ms/step - loss: 1.3802 - sparse_categorical_accuracy: 0.6889\n",
      "block1a_ same\n",
      "block2a_ ((1, 1), (1, 1))\n",
      "block2a_ valid\n",
      "block2b_ same\n",
      "block3a_ ((2, 2), (2, 2))\n",
      "block3a_ valid\n",
      "block3b_ same\n",
      "block4a_ ((1, 1), (1, 1))\n",
      "block4a_ valid\n",
      "block4b_ same\n",
      "block4c_ same\n",
      "block5a_ same\n",
      "block5b_ same\n",
      "block5c_ same\n",
      "block6a_ ((2, 2), (2, 2))\n",
      "block6a_ valid\n",
      "block6b_ same\n",
      "block6c_ same\n",
      "block6d_ same\n",
      "block7a_ same\n",
      "Epoch 1/100\n",
      "23/23 [==============================] - 7s 158ms/step - loss: 1.6718 - sparse_categorical_accuracy: 0.3791 - val_loss: 4.5380 - val_sparse_categorical_accuracy: 0.2000\n",
      "Epoch 2/100\n",
      "23/23 [==============================] - 3s 141ms/step - loss: 0.8642 - sparse_categorical_accuracy: 0.6978 - val_loss: 2.3284 - val_sparse_categorical_accuracy: 0.3556\n",
      "Epoch 3/100\n",
      "23/23 [==============================] - 3s 137ms/step - loss: 0.8491 - sparse_categorical_accuracy: 0.7198 - val_loss: 2.2035 - val_sparse_categorical_accuracy: 0.4444\n",
      "Epoch 4/100\n",
      "23/23 [==============================] - 3s 122ms/step - loss: 0.7600 - sparse_categorical_accuracy: 0.7637 - val_loss: 3.3538 - val_sparse_categorical_accuracy: 0.4222\n",
      "Epoch 5/100\n",
      "23/23 [==============================] - 3s 116ms/step - loss: 0.6575 - sparse_categorical_accuracy: 0.8022 - val_loss: 3.4898 - val_sparse_categorical_accuracy: 0.3556\n",
      "Epoch 6/100\n",
      "23/23 [==============================] - 3s 124ms/step - loss: 0.5697 - sparse_categorical_accuracy: 0.8132 - val_loss: 3.0804 - val_sparse_categorical_accuracy: 0.3778\n",
      "2/2 [==============================] - 0s 42ms/step - loss: 2.2035 - sparse_categorical_accuracy: 0.4444\n",
      "block1a_ same\n",
      "block2a_ ((1, 1), (1, 1))\n",
      "block2a_ valid\n",
      "block2b_ same\n",
      "block3a_ ((2, 2), (2, 2))\n",
      "block3a_ valid\n",
      "block3b_ same\n",
      "block4a_ ((1, 1), (1, 1))\n",
      "block4a_ valid\n",
      "block4b_ same\n",
      "block4c_ same\n",
      "block5a_ same\n",
      "block5b_ same\n",
      "block5c_ same\n",
      "block6a_ ((2, 2), (2, 2))\n",
      "block6a_ valid\n",
      "block6b_ same\n",
      "block6c_ same\n",
      "block6d_ same\n",
      "block7a_ same\n"
     ]
    }
   ],
   "source": [
    "# Train and evaluate the model using K-fold cross-validation\n",
    "scores = []\n",
    "training_accuracy = []\n",
    "validation_accuracy = []\n",
    "training_loss = []\n",
    "validation_loss = []\n",
    "\n",
    "## Initializing the model\n",
    "model_init()\n",
    "\n",
    "## counter for folds\n",
    "i = 1\n",
    "\n",
    "for train_idx, val_idx in kf.split(x_train_val):\n",
    "    X_train = tf.gather(x_train_val, train_idx)\n",
    "    y_train = tf.gather(y_train_val, train_idx)\n",
    "    X_val = tf.gather(x_train_val, val_idx)\n",
    "    y_val = tf.gather(y_train_val, val_idx)\n",
    "    \n",
    "    history = model.fit(X_train, y_train, validation_data=(X_val, y_val), epochs= config.model_epochs, verbose=1, batch_size=config.model_batch_size, \n",
    "                        callbacks=[early_stopping, checkpoint])\n",
    "\n",
    "    training_accuracy.append(history.history['sparse_categorical_accuracy'])\n",
    "    validation_accuracy.append(history.history['val_sparse_categorical_accuracy'])\n",
    "    training_loss.append(history.history['loss'])\n",
    "    validation_loss.append(history.history['val_loss'])\n",
    "    \n",
    "    model.load_weights('best_weights.h5')\n",
    "    score = model.evaluate(X_val, y_val)\n",
    "    scores.append(score[1])\n",
    "    \n",
    "    wandb.log({\"Best Validation Loss for Folds\": score[0]})\n",
    "    wandb.log({\"Best Validation Accuracy for Folds\" : score[1]})\n",
    "    \n",
    "    # Define the current and new file names\n",
    "    current_name = 'best_weights.h5'\n",
    "    new_name = 'fold_' + str(i) + '_best_model_weights.h5'\n",
    "    \n",
    "    i+=1\n",
    "\n",
    "    # Rename the file\n",
    "    os.rename(current_name, new_name)\n",
    "    \n",
    "    ## Reseting the model for the next fold\n",
    "    model_init()"
   ]
  },
  {
   "cell_type": "code",
   "execution_count": 125,
   "id": "c3ae736d",
   "metadata": {
    "ExecuteTime": {
     "end_time": "2023-04-09T20:44:00.262059Z",
     "start_time": "2023-04-09T20:44:00.259248Z"
    },
    "tags": []
   },
   "outputs": [
    {
     "name": "stdout",
     "output_type": "stream",
     "text": [
      "Validation accuracy mean: 0.64 (std 0.11)\n"
     ]
    }
   ],
   "source": [
    "# Print the mean validation accuracy\n",
    "print('Validation accuracy mean: {:.2f} (std {:.2f})'.format(np.mean(scores), np.std(scores)))"
   ]
  },
  {
   "cell_type": "code",
   "execution_count": 126,
   "id": "380b7f7f-3f72-43b1-b0c7-271aacf6d261",
   "metadata": {
    "tags": []
   },
   "outputs": [
    {
     "data": {
      "text/plain": [
       "[0.782608687877655,\n",
       " 0.695652186870575,\n",
       " 0.6000000238418579,\n",
       " 0.6888889074325562,\n",
       " 0.4444444477558136]"
      ]
     },
     "execution_count": 126,
     "metadata": {},
     "output_type": "execute_result"
    }
   ],
   "source": [
    "scores"
   ]
  },
  {
   "cell_type": "markdown",
   "id": "013aa747-2788-4c43-a743-c29c8c378de4",
   "metadata": {},
   "source": [
    "Calculating the **1 - Cohen's kappa** score of the trained model on the trained dataset."
   ]
  },
  {
   "cell_type": "code",
   "execution_count": 127,
   "id": "57622050-4496-4b58-be90-6290691d01d0",
   "metadata": {
    "tags": []
   },
   "outputs": [],
   "source": [
    "## select the model with the best fold's validation accuracy\n",
    "maximum = max(scores)\n",
    "index_of_maximum = scores.index(maximum)\n",
    "best_fold = index_of_maximum + 1\n",
    "\n",
    "model.load_weights('fold_' + str(best_fold) + '_best_model_weights.h5')"
   ]
  },
  {
   "cell_type": "code",
   "execution_count": 128,
   "id": "bb08a64b",
   "metadata": {
    "ExecuteTime": {
     "end_time": "2023-04-04T20:10:20.518612Z",
     "start_time": "2023-04-04T20:10:19.125881Z"
    },
    "tags": []
   },
   "outputs": [
    {
     "name": "stdout",
     "output_type": "stream",
     "text": [
      "Score: 0.4\n"
     ]
    }
   ],
   "source": [
    "predictions = np.zeros(len(y_test), dtype=np.int8)\n",
    "# inference loop\n",
    "for e, (image, target) in enumerate(zip(x_test, y_test)):\n",
    "    image = np.expand_dims(np.array(image), axis=0)\n",
    "    output = model.predict(image)\n",
    "    predictions[e] = np.squeeze(output).argmax()\n",
    "#Keras model score\n",
    "score_keras = 1 - cohen_kappa_score(y_test.numpy(), predictions)\n",
    "print(\"Score:\",score_keras)"
   ]
  },
  {
   "cell_type": "markdown",
   "id": "982b1e1e-7720-4784-9af6-f7aa5bc35e38",
   "metadata": {
    "tags": []
   },
   "source": [
    "### Accuracy "
   ]
  },
  {
   "cell_type": "code",
   "execution_count": 130,
   "id": "52b23a82-f1c9-4955-a519-a85187b2e656",
   "metadata": {
    "tags": []
   },
   "outputs": [
    {
     "name": "stdout",
     "output_type": "stream",
     "text": [
      "Accuracy:  0.65\n"
     ]
    }
   ],
   "source": [
    "# assuming you have two lists, predicted and actual\n",
    "correct = 0\n",
    "total = len(y_test.numpy())\n",
    "\n",
    "for pred, label in zip(predictions, y_test.numpy()):\n",
    "    if pred == label:\n",
    "        correct += 1\n",
    "\n",
    "accuracy = correct / total\n",
    "\n",
    "print(\"Accuracy: \", accuracy)"
   ]
  },
  {
   "cell_type": "markdown",
   "id": "a6b9b6db-0771-41f7-9c83-29e26f8a9318",
   "metadata": {},
   "source": [
    "## Train - Validation Visualization"
   ]
  },
  {
   "cell_type": "code",
   "execution_count": 131,
   "id": "eccf8e57-6fb7-443d-ba9a-adc43ba15c43",
   "metadata": {
    "tags": []
   },
   "outputs": [
    {
     "data": {
      "text/plain": [
       "[13, 13, 7, 11, 6]"
      ]
     },
     "execution_count": 131,
     "metadata": {},
     "output_type": "execute_result"
    }
   ],
   "source": [
    "eps_per_fold = [len(sub_list) for sub_list in training_accuracy]\n",
    "eps_per_fold"
   ]
  },
  {
   "cell_type": "code",
   "execution_count": 132,
   "id": "5865317a-83dc-42c1-a4f3-1abe577e63b8",
   "metadata": {
    "tags": []
   },
   "outputs": [],
   "source": [
    "eps_per_fold_cum = list(accumulate(eps_per_fold))"
   ]
  },
  {
   "cell_type": "code",
   "execution_count": 133,
   "id": "154f6fb9-0369-4090-983d-58a4d79f5410",
   "metadata": {
    "tags": []
   },
   "outputs": [],
   "source": [
    "training_accuracy = [element for sublist in training_accuracy for element in sublist]\n",
    "validation_accuracy = [element for sublist in validation_accuracy for element in sublist]\n",
    "training_loss = [element for sublist in training_loss for element in sublist]\n",
    "validation_loss = [element for sublist in validation_loss for element in sublist]"
   ]
  },
  {
   "cell_type": "code",
   "execution_count": 134,
   "id": "c84b0a9c-6f41-444e-ba23-cab449735fb1",
   "metadata": {
    "tags": []
   },
   "outputs": [
    {
     "data": {
      "text/plain": [
       "[13, 26, 33, 44, 50]"
      ]
     },
     "execution_count": 134,
     "metadata": {},
     "output_type": "execute_result"
    }
   ],
   "source": [
    "eps_per_fold_cum"
   ]
  },
  {
   "cell_type": "code",
   "execution_count": 135,
   "id": "a3bdaa28-fd23-4ffc-9174-f51aa4ad8f2a",
   "metadata": {
    "tags": []
   },
   "outputs": [],
   "source": [
    "xs = []\n",
    "ys = []\n",
    "for i in range(config.cross_validation_k):\n",
    "    xs.append(eps_per_fold_cum[i]+1)\n",
    "    ys.append(training_accuracy[eps_per_fold_cum[0]-1])\n",
    "# xs = [eps_per_fold_cum[0]+1, eps_per_fold_cum[1]+1, eps_per_fold_cum[2]+1, eps_per_fold_cum[3]+1, eps_per_fold_cum[4]+1]\n",
    "# ys = [training_accuracy[eps_per_fold_cum[0]-1], training_accuracy[eps_per_fold_cum[1]-1], training_accuracy[eps_per_fold_cum[2]-1],\n",
    "#          training_accuracy[eps_per_fold_cum[3]-1], training_accuracy[eps_per_fold_cum[4]-1]]"
   ]
  },
  {
   "cell_type": "code",
   "execution_count": 136,
   "id": "f5e2e0b8-4b97-430f-a553-5962477fa2e4",
   "metadata": {
    "tags": []
   },
   "outputs": [
    {
     "data": {
      "image/png": "[encoded data removed]",
      "text/plain": [
       "<Figure size 1500x600 with 1 Axes>"
      ]
     },
     "metadata": {},
     "output_type": "display_data"
    }
   ],
   "source": [
    "x1 = list(range(1, len(training_accuracy) + 1))\n",
    "x2 = list(range(1, len(validation_accuracy) + 1))\n",
    "\n",
    "fig = plt.figure(figsize=(15, 6))\n",
    "\n",
    "# Create the plot\n",
    "plt.plot(x1, training_accuracy, label='Training Accuracy')\n",
    "plt.plot(x2, validation_accuracy, label='Validation Accuracy')\n",
    "\n",
    "\n",
    "\n",
    "# Add points with labels\n",
    "for i in range(config.cross_validation_k-1):\n",
    "    plt.axvline(x=xs[i], color='red', linestyle='--')\n",
    "# plt.axvline(x=xs[0], color='red', linestyle='--')\n",
    "# plt.axvline(x=xs[1], color='red', linestyle='--')\n",
    "# plt.axvline(x=xs[2], color='red', linestyle='--')\n",
    "# plt.axvline(x=xs[3], color='red', linestyle='--')\n",
    "\n",
    "# Add annotations to the lines\n",
    "for i in range(config.cross_validation_k-1):\n",
    "    plt.annotate('Fold '+str(i+2), xy=(xs[i], 0.2), xytext=(xs[i]+1, 0.15),\n",
    "             arrowprops=dict(facecolor='black', arrowstyle='->'))\n",
    "\n",
    "# plt.annotate('Fold 2', xy=(xs[0], 0.5), xytext=(xs[0]+1, 0.4),\n",
    "#              arrowprops=dict(facecolor='black', arrowstyle='->'))\n",
    "# plt.annotate('Fold 3', xy=(xs[1], 0.5), xytext=(xs[1]+1, 0.4),\n",
    "#              arrowprops=dict(facecolor='black', arrowstyle='->'))\n",
    "# plt.annotate('Fold 4', xy=(xs[2], 0.5), xytext=(xs[2]+1, 0.4),\n",
    "#              arrowprops=dict(facecolor='black', arrowstyle='->'))\n",
    "# plt.annotate('Fold 5', xy=(xs[3], 0.5), xytext=(xs[3]+1, 0.4),\n",
    "#              arrowprops=dict(facecolor='black', arrowstyle='->'))\n",
    "# plt.axvline(x=xs[4], color='red', linestyle='--')\n",
    "# plt.scatter(xs, ys, color='red')\n",
    "# plt.annotate('Point 1', (2, 4), textcoords=\"offset points\", xytext=(0,10), ha='center')\n",
    "# plt.annotate('Point 2', (4, 8), textcoords=\"offset points\", xytext=(0,10), ha='center')\n",
    "\n",
    "\n",
    "# Add a legend\n",
    "plt.legend()\n",
    "\n",
    "# Enable the grid\n",
    "# plt.grid(True)\n",
    "\n",
    "# Show the plot\n",
    "plt.show()"
   ]
  },
  {
   "cell_type": "markdown",
   "id": "3f341c28-1ecf-42a6-b76f-710d8bc40fbf",
   "metadata": {},
   "source": [
    "## Log Unified Test Set and its predictions"
   ]
  },
  {
   "cell_type": "code",
   "execution_count": 156,
   "id": "bd3a4b92-6599-4f63-8e84-9404ff5ee6be",
   "metadata": {
    "tags": []
   },
   "outputs": [],
   "source": [
    "prediction_names = [class_name_label[num] for num in predictions]\n",
    "actual_names = [class_name_label[num] for num in y_test.numpy()]"
   ]
  },
  {
   "cell_type": "code",
   "execution_count": 164,
   "id": "d02bdf7d-96b3-4f19-adeb-534865cc5c43",
   "metadata": {
    "tags": []
   },
   "outputs": [],
   "source": [
    "# assuming you have lists of images, predictions, and actual labels\n",
    "for i, (img, pred, label) in enumerate(zip(x_test, prediction_names, actual_names)):\n",
    "    wandb.log({'All Predictions - Unified Test Set': wandb.Image(img, caption='predicted: {}, actual: {}'.format(pred, label))})"
   ]
  },
  {
   "cell_type": "code",
   "execution_count": 163,
   "id": "e57e146b-c100-4338-a283-8c9ad2ee3641",
   "metadata": {
    "tags": []
   },
   "outputs": [],
   "source": [
    "pred_is_actual = [x == y for x, y in zip(prediction_names, actual_names)]"
   ]
  },
  {
   "cell_type": "code",
   "execution_count": null,
   "id": "da5cdca5-b2e2-4192-8663-2b986be2e16e",
   "metadata": {},
   "outputs": [],
   "source": []
  },
  {
   "cell_type": "code",
   "execution_count": null,
   "id": "97ec4f49-6f4f-4e84-9202-d292727f66a1",
   "metadata": {},
   "outputs": [],
   "source": []
  },
  {
   "cell_type": "code",
   "execution_count": 165,
   "id": "d86f03fa-fdd8-4861-b0ae-d9d079d9334a",
   "metadata": {
    "tags": []
   },
   "outputs": [
    {
     "data": {
      "text/html": [
       "Waiting for W&B process to finish... <strong style=\"color:green\">(success).</strong>"
      ],
      "text/plain": [
       "<IPython.core.display.HTML object>"
      ]
     },
     "metadata": {},
     "output_type": "display_data"
    },
    {
     "data": {
      "application/vnd.jupyter.widget-view+json": {
       "model_id": "d77062994d5e4120a011f32094eb589f",
       "version_major": 2,
       "version_minor": 0
      },
      "text/plain": [
       "VBox(children=(Label(value='3.415 MB of 3.415 MB uploaded (0.000 MB deduped)\\r'), FloatProgress(value=1.0, max…"
      ]
     },
     "metadata": {},
     "output_type": "display_data"
    },
    {
     "data": {
      "text/html": [
       "<style>\n",
       "    table.wandb td:nth-child(1) { padding: 0 10px; text-align: left ; width: auto;} td:nth-child(2) {text-align: left ; width: 100%}\n",
       "    .wandb-row { display: flex; flex-direction: row; flex-wrap: wrap; justify-content: flex-start; width: 100% }\n",
       "    .wandb-col { display: flex; flex-direction: column; flex-basis: 100%; flex: 1; padding: 10px; }\n",
       "    </style>\n",
       "<div class=\"wandb-row\"><div class=\"wandb-col\"><h3>Run history:</h3><br/><table class=\"wandb\"><tr><td>Best Validation Accuracy for Folds</td><td>█▆▄▆▁</td></tr><tr><td>Best Validation Loss for Folds</td><td>▁▄▆▃█</td></tr></table><br/></div><div class=\"wandb-col\"><h3>Run summary:</h3><br/><table class=\"wandb\"><tr><td>Best Validation Accuracy for Folds</td><td>0.44444</td></tr><tr><td>Best Validation Loss for Folds</td><td>2.20347</td></tr></table><br/></div></div>"
      ],
      "text/plain": [
       "<IPython.core.display.HTML object>"
      ]
     },
     "metadata": {},
     "output_type": "display_data"
    },
    {
     "data": {
      "text/html": [
       " View run <strong style=\"color:#cdcd00\">devout-bee-24</strong> at: <a href='https://wandb.ai/ramez/OPS-SAT-Thesis-Project/runs/28uzsz5m' target=\"_blank\">https://wandb.ai/ramez/OPS-SAT-Thesis-Project/runs/28uzsz5m</a><br/>Synced 6 W&B file(s), 80 media file(s), 0 artifact file(s) and 0 other file(s)"
      ],
      "text/plain": [
       "<IPython.core.display.HTML object>"
      ]
     },
     "metadata": {},
     "output_type": "display_data"
    },
    {
     "data": {
      "text/html": [
       "Find logs at: <code>./wandb/run-20230427_182731-28uzsz5m/logs</code>"
      ],
      "text/plain": [
       "<IPython.core.display.HTML object>"
      ]
     },
     "metadata": {},
     "output_type": "display_data"
    }
   ],
   "source": [
    "wandb.finish()"
   ]
  },
  {
   "cell_type": "code",
   "execution_count": null,
   "id": "f1073ff0-8023-4446-9287-711b255c8486",
   "metadata": {},
   "outputs": [],
   "source": []
  },
  {
   "cell_type": "code",
   "execution_count": null,
   "id": "6914a879-ea49-4d8c-aa12-22231573d2e4",
   "metadata": {},
   "outputs": [],
   "source": []
  },
  {
   "cell_type": "code",
   "execution_count": null,
   "id": "488a741c-626d-4480-acf2-0e18892a05ab",
   "metadata": {},
   "outputs": [],
   "source": []
  },
  {
   "cell_type": "code",
   "execution_count": null,
   "id": "e4480c0e-72c2-418c-af05-2d47ae530e70",
   "metadata": {},
   "outputs": [],
   "source": []
  },
  {
   "cell_type": "code",
   "execution_count": null,
   "id": "ab82b9af-129b-4795-9411-60ba573f9656",
   "metadata": {},
   "outputs": [],
   "source": []
  },
  {
   "cell_type": "code",
   "execution_count": null,
   "id": "d718f5fc",
   "metadata": {
    "ExecuteTime": {
     "end_time": "2023-04-09T20:42:39.783353Z",
     "start_time": "2023-04-09T20:42:39.220320Z"
    },
    "tags": []
   },
   "outputs": [],
   "source": [
    "## Load the Model without any weight initialization\n",
    "# model = EfficientNetLiteB0(classes=num_classes, weights=None, input_shape=input_shape, classifier_activation=None)\n",
    "# model.summary()"
   ]
  },
  {
   "cell_type": "code",
   "execution_count": null,
   "id": "2c9ed0f4-bd3f-45bd-b135-b0332086e2f7",
   "metadata": {},
   "outputs": [],
   "source": []
  },
  {
   "cell_type": "code",
   "execution_count": null,
   "id": "00f6c73b",
   "metadata": {
    "ExecuteTime": {
     "end_time": "2022-10-30T19:46:06.491070Z",
     "start_time": "2022-10-30T19:46:06.274124Z"
    }
   },
   "outputs": [],
   "source": [
    "## Saving model\n",
    "# model.save_weights('/home/ramez/Politechnika_Slaska_MSc/Thesis/Competition/submission/submit_19.h5')"
   ]
  },
  {
   "cell_type": "code",
   "execution_count": null,
   "id": "8b0adb32",
   "metadata": {
    "ExecuteTime": {
     "end_time": "2022-10-30T19:40:44.823406Z",
     "start_time": "2022-10-30T19:40:43.780920Z"
    }
   },
   "outputs": [],
   "source": [
    "# model = EfficientNetLiteB0(classes=num_classes, weights=None, input_shape=input_shape, classifier_activation=None)\n",
    "# # model = EfficientNetLiteB0(include_top=False, classes=num_classes, weights='imagenet', input_shape=input_shape, classifier_activation=None)\n",
    "# model.load_weights('/home/ramez/Politechnika_Slaska_MSc/Thesis/Competition/submission/model_patterns_20epochs.h5')"
   ]
  },
  {
   "cell_type": "markdown",
   "id": "91d26b2b",
   "metadata": {},
   "source": [
    "The model will be now compiled and tested again. You should get the same score as before saving and loading. "
   ]
  },
  {
   "cell_type": "code",
   "execution_count": null,
   "id": "27e0e495",
   "metadata": {
    "ExecuteTime": {
     "end_time": "2022-10-08T14:01:38.000493Z",
     "start_time": "2022-10-08T14:01:36.169912Z"
    }
   },
   "outputs": [],
   "source": [
    "# #Model shall be compiled before testing.\n",
    "# model.compile()\n",
    "\n",
    "# #Creating empty predictions\n",
    "# predictions = np.zeros(len(y_test), dtype=np.int8)\n",
    "# # inference loop\n",
    "# for e, (image, target) in enumerate(zip(x_test, y_test)):\n",
    "#     image = np.expand_dims(np.array(image), axis=0)\n",
    "#     output = model.predict(image)\n",
    "#     predictions[e] = np.squeeze(output).argmax()\n",
    "# #Keras model score\n",
    "# score_keras = 1 - cohen_kappa_score(y_test.numpy(), predictions)\n",
    "# print(\"Score:\",score_keras)"
   ]
  },
  {
   "cell_type": "code",
   "execution_count": null,
   "id": "82416ca4",
   "metadata": {},
   "outputs": [],
   "source": []
  },
  {
   "cell_type": "code",
   "execution_count": null,
   "id": "14eedf3b",
   "metadata": {},
   "outputs": [],
   "source": []
  },
  {
   "cell_type": "code",
   "execution_count": null,
   "id": "786276ad",
   "metadata": {},
   "outputs": [],
   "source": []
  },
  {
   "cell_type": "code",
   "execution_count": null,
   "id": "bf1b71e6",
   "metadata": {
    "ExecuteTime": {
     "end_time": "2022-10-12T18:20:06.668315Z",
     "start_time": "2022-10-12T18:20:06.652610Z"
    }
   },
   "outputs": [],
   "source": []
  },
  {
   "cell_type": "code",
   "execution_count": null,
   "id": "e2dd4279",
   "metadata": {},
   "outputs": [],
   "source": []
  }
 ],
 "metadata": {
  "kernelspec": {
   "display_name": "Python 3 (ipykernel)",
   "language": "python",
   "name": "python3"
  },
  "language_info": {
   "codemirror_mode": {
    "name": "ipython",
    "version": 3
   },
   "file_extension": ".py",
   "mimetype": "text/x-python",
   "name": "python",
   "nbconvert_exporter": "python",
   "pygments_lexer": "ipython3",
   "version": "3.9.16"
  },
  "toc": {
   "base_numbering": 1,
   "nav_menu": {},
   "number_sections": true,
   "sideBar": true,
   "skip_h1_title": false,
   "title_cell": "Table of Contents",
   "title_sidebar": "Contents",
   "toc_cell": false,
   "toc_position": {},
   "toc_section_display": true,
   "toc_window_display": false
  }
 },
 "nbformat": 4,
 "nbformat_minor": 5
}
