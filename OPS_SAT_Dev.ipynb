{
 "cells": [
  {
   "cell_type": "markdown",
   "id": "fcdcd3ca",
   "metadata": {},
   "source": [
    "# OPS-SAT case starter-kit notebook"
   ]
  },
  {
   "cell_type": "markdown",
   "id": "a3ad0860",
   "metadata": {},
   "source": [
    "ESA's [Kelvins](https://kelvins.esa.int) competition \"[the OPS-SAT case](https://kelvins.esa.int/opssat/home/)\" is a novel data-centric challenge that asks you to work with the raw data of a satellite and very few provided labels to find the best parameters for a given machine learning model. Compared to previous competitions on Kelvins (like the [Pose Estimation](https://kelvins.esa.int/pose-estimation-2021/) or the [Proba-V Super-resolution challenge](https://kelvins.esa.int/proba-v-super-resolution/)) where the test-set is provided and the infered results are submitted, for the OPS-SAT case, we will run inference on the Kelvins server directly! This notebooks contains examples on how you can load your data and train an **EfficientNetLite0** model by only using the 80-labeled images provided. Therefore, the directory `images`, containing unlabeld patches and included in the training dataset is not used for this notebook. However, competitors are encouraged to use these patches to improve the model accuracy."
   ]
  },
  {
   "cell_type": "markdown",
   "id": "403eeb5a",
   "metadata": {},
   "source": [
    "# 1. Module imports"
   ]
  },
  {
   "cell_type": "markdown",
   "id": "91d88f44",
   "metadata": {},
   "source": [
    "If you do not have a GPU, uncomment and run the next commands.\n"
   ]
  },
  {
   "cell_type": "code",
   "execution_count": 1,
   "id": "1f3f6cde",
   "metadata": {
    "ExecuteTime": {
     "end_time": "2023-04-09T20:42:31.525217Z",
     "start_time": "2023-04-09T20:42:31.521341Z"
    },
    "scrolled": true,
    "tags": []
   },
   "outputs": [
    {
     "data": {
      "text/plain": [
       "'3.9.16 (main, Mar  8 2023, 14:00:05) \\n[GCC 11.2.0]'"
      ]
     },
     "execution_count": 1,
     "metadata": {},
     "output_type": "execute_result"
    }
   ],
   "source": [
    "import sys\n",
    "sys.version"
   ]
  },
  {
   "cell_type": "code",
   "execution_count": 2,
   "id": "c7c8f9d8",
   "metadata": {
    "ExecuteTime": {
     "end_time": "2023-04-09T20:42:31.887841Z",
     "start_time": "2023-04-09T20:42:31.711974Z"
    },
    "tags": []
   },
   "outputs": [
    {
     "name": "stdout",
     "output_type": "stream",
     "text": [
      "/usr/bin/zsh: /home/ramez/miniconda3/envs/thesis/lib/libtinfo.so.6: no version information available (required by /usr/bin/zsh)\n",
      "Python 3.9.16\n"
     ]
    }
   ],
   "source": [
    "! python --version"
   ]
  },
  {
   "cell_type": "code",
   "execution_count": 3,
   "id": "cb8fddce",
   "metadata": {
    "ExecuteTime": {
     "end_time": "2023-04-09T20:42:32.267814Z",
     "start_time": "2023-04-09T20:42:32.094731Z"
    },
    "tags": []
   },
   "outputs": [
    {
     "name": "stdout",
     "output_type": "stream",
     "text": [
      "/usr/bin/zsh: /home/ramez/miniconda3/envs/thesis/lib/libtinfo.so.6: no version information available (required by /usr/bin/zsh)\n",
      "/home/ramez/miniconda3/envs/thesis/bin/python\n"
     ]
    }
   ],
   "source": [
    "! which python"
   ]
  },
  {
   "cell_type": "code",
   "execution_count": 4,
   "id": "c3aecaa6",
   "metadata": {
    "ExecuteTime": {
     "end_time": "2023-04-09T20:42:33.914315Z",
     "start_time": "2023-04-09T20:42:33.911985Z"
    },
    "tags": []
   },
   "outputs": [],
   "source": [
    "import tensorflow as tf"
   ]
  },
  {
   "cell_type": "markdown",
   "id": "4fc1fd19-d4ef-4a54-877e-9d06a9049737",
   "metadata": {},
   "source": [
    "#### GPU Check"
   ]
  },
  {
   "cell_type": "code",
   "execution_count": 5,
   "id": "b1e02f8b",
   "metadata": {
    "ExecuteTime": {
     "end_time": "2023-04-09T20:42:36.255529Z",
     "start_time": "2023-04-09T20:42:34.328075Z"
    },
    "tags": []
   },
   "outputs": [
    {
     "name": "stdout",
     "output_type": "stream",
     "text": [
      "/usr/bin/zsh: /home/ramez/miniconda3/envs/thesis/lib/libtinfo.so.6: no version information available (required by /usr/bin/zsh)\n",
      "[PhysicalDevice(name='/physical_device:GPU:0', device_type='GPU')]\n"
     ]
    }
   ],
   "source": [
    "!python3 -c \"import tensorflow as tf; print(tf.config.list_physical_devices('GPU'))\""
   ]
  },
  {
   "cell_type": "code",
   "execution_count": 6,
   "id": "234eba6e",
   "metadata": {
    "ExecuteTime": {
     "end_time": "2023-04-09T20:42:36.260638Z",
     "start_time": "2023-04-09T20:42:36.257966Z"
    },
    "tags": []
   },
   "outputs": [],
   "source": [
    "from tensorflow import keras"
   ]
  },
  {
   "cell_type": "code",
   "execution_count": 7,
   "id": "ea21b9b7",
   "metadata": {
    "ExecuteTime": {
     "end_time": "2023-04-09T20:42:36.327202Z",
     "start_time": "2023-04-09T20:42:36.262029Z"
    },
    "tags": []
   },
   "outputs": [],
   "source": [
    "import numpy as np"
   ]
  },
  {
   "cell_type": "code",
   "execution_count": 8,
   "id": "f73af189",
   "metadata": {
    "ExecuteTime": {
     "end_time": "2023-04-09T20:42:36.336400Z",
     "start_time": "2023-04-09T20:42:36.333721Z"
    },
    "tags": []
   },
   "outputs": [],
   "source": [
    "from sklearn.metrics import cohen_kappa_score"
   ]
  },
  {
   "cell_type": "code",
   "execution_count": 9,
   "id": "80fbbb42",
   "metadata": {
    "ExecuteTime": {
     "end_time": "2023-04-09T20:42:36.345491Z",
     "start_time": "2023-04-09T20:42:36.343286Z"
    },
    "tags": []
   },
   "outputs": [],
   "source": [
    "## Local EfficientNetLite (Customized by the Competition)\n",
    "from efficientnet_lite import EfficientNetLiteB0"
   ]
  },
  {
   "cell_type": "code",
   "execution_count": 10,
   "id": "c6face98",
   "metadata": {
    "ExecuteTime": {
     "end_time": "2023-04-09T20:42:36.349008Z",
     "start_time": "2023-04-09T20:42:36.346850Z"
    },
    "tags": []
   },
   "outputs": [],
   "source": [
    "from sklearn.model_selection import KFold"
   ]
  },
  {
   "cell_type": "code",
   "execution_count": 11,
   "id": "fb004876",
   "metadata": {
    "ExecuteTime": {
     "end_time": "2023-04-09T20:42:36.353039Z",
     "start_time": "2023-04-09T20:42:36.350804Z"
    },
    "tags": []
   },
   "outputs": [],
   "source": [
    "from tensorflow.keras.models import Model\n",
    "from tensorflow.keras.layers import GlobalAveragePooling2D, Dense, Dropout"
   ]
  },
  {
   "cell_type": "code",
   "execution_count": 12,
   "id": "22d591c0",
   "metadata": {
    "ExecuteTime": {
     "end_time": "2023-04-09T20:42:36.719018Z",
     "start_time": "2023-04-09T20:42:36.716802Z"
    },
    "tags": []
   },
   "outputs": [],
   "source": [
    "from tensorflow.keras.callbacks import TensorBoard"
   ]
  },
  {
   "cell_type": "code",
   "execution_count": 13,
   "id": "a7cffd18-bb07-4455-8292-3cd846d3139e",
   "metadata": {
    "tags": []
   },
   "outputs": [],
   "source": [
    "from keras.callbacks import EarlyStopping, ModelCheckpoint"
   ]
  },
  {
   "cell_type": "code",
   "execution_count": 14,
   "id": "6d5167dd-ad8d-41ab-9c7c-ace8e0c7c765",
   "metadata": {
    "tags": []
   },
   "outputs": [],
   "source": [
    "import matplotlib.pyplot as plt"
   ]
  },
  {
   "cell_type": "code",
   "execution_count": 15,
   "id": "bdcaf42f-1499-4cde-a474-ee694d25d7eb",
   "metadata": {
    "tags": []
   },
   "outputs": [],
   "source": [
    "from itertools import accumulate"
   ]
  },
  {
   "cell_type": "code",
   "execution_count": 16,
   "id": "262ab8b0-57fa-4a40-9ebc-fd2e9809942f",
   "metadata": {},
   "outputs": [],
   "source": [
    "import os"
   ]
  },
  {
   "cell_type": "code",
   "execution_count": 17,
   "id": "6b4157e1-1449-4c49-84b0-4790c28e8930",
   "metadata": {
    "tags": []
   },
   "outputs": [],
   "source": [
    "import wandb\n",
    "from wandb.keras import WandbMetricsLogger, WandbModelCheckpoint"
   ]
  },
  {
   "cell_type": "code",
   "execution_count": 18,
   "id": "721d8519-b6c7-40a3-932b-3604ccee3a3e",
   "metadata": {
    "tags": []
   },
   "outputs": [],
   "source": [
    "import pandas as pd"
   ]
  },
  {
   "cell_type": "code",
   "execution_count": 19,
   "id": "d4f8aac5-9d4e-4fb7-a49e-e53896526633",
   "metadata": {
    "tags": []
   },
   "outputs": [],
   "source": [
    "from sklearn.metrics import accuracy_score"
   ]
  },
  {
   "cell_type": "markdown",
   "id": "539eda62",
   "metadata": {},
   "source": [
    "# 2. Utility Functions"
   ]
  },
  {
   "cell_type": "markdown",
   "id": "eec32f1b",
   "metadata": {},
   "source": [
    "You can use this function to load your training data."
   ]
  },
  {
   "cell_type": "code",
   "execution_count": 20,
   "id": "9f270337",
   "metadata": {
    "ExecuteTime": {
     "end_time": "2023-04-09T20:42:37.464808Z",
     "start_time": "2023-04-09T20:42:37.461420Z"
    },
    "tags": []
   },
   "outputs": [],
   "source": [
    "def get_images_from_path(dataset_path):\n",
    "    \"\"\" Get images from path and normalize them applying channel-level normalization. \"\"\"\n",
    "\n",
    "    # loading all images in one large batch\n",
    "    tf_eval_data = tf.keras.utils.image_dataset_from_directory(dataset_path, image_size=config.input_shape[:2], shuffle=False, \n",
    "                                                               batch_size=100000, label_mode='int')\n",
    "\n",
    "    # get the class names (folder names) from the dataset object\n",
    "    global class_names\n",
    "    class_names = tf_eval_data.class_names\n",
    "    \n",
    "    # extract images and targets\n",
    "    for tf_eval_images, tf_eval_targets in tf_eval_data:\n",
    "        break\n",
    "\n",
    "    return tf.convert_to_tensor(tf_eval_images), tf_eval_targets"
   ]
  },
  {
   "cell_type": "markdown",
   "id": "a6cec9e1",
   "metadata": {},
   "source": [
    "# 4. Loading data"
   ]
  },
  {
   "cell_type": "code",
   "execution_count": 21,
   "id": "3939168c",
   "metadata": {
    "ExecuteTime": {
     "end_time": "2023-04-09T20:42:42.576907Z",
     "start_time": "2023-04-09T20:42:42.574308Z"
    },
    "tags": []
   },
   "outputs": [],
   "source": [
    "# dataset_path_train=\"/home/ramez/Politechnika_Slaska_MSc/Thesis/Competition/Data/images_copy_processed/\"\n",
    "dataset_path_train_val = \"/home/ramez/Politechnika_Slaska_MSc/Thesis/Competition/Data/ops_sat_train/\""
   ]
  },
  {
   "cell_type": "code",
   "execution_count": 22,
   "id": "4e57cb03",
   "metadata": {
    "ExecuteTime": {
     "end_time": "2023-04-09T20:42:43.086890Z",
     "start_time": "2023-04-09T20:42:43.084818Z"
    },
    "tags": []
   },
   "outputs": [],
   "source": [
    "dataset_path_test = \"/home/ramez/Politechnika_Slaska_MSc/Thesis/Competition/Data/ops_sat_test/\""
   ]
  },
  {
   "cell_type": "markdown",
   "id": "ad7277b8",
   "metadata": {},
   "source": [
    "In this notebook, classical supervised learning is used. Therefore, remember to remove the subdirectory `images` containing unlabeled patches before loading the dataset to perform training correctly."
   ]
  },
  {
   "cell_type": "markdown",
   "id": "f3244374-4874-45b3-b37a-8447dad08e80",
   "metadata": {},
   "source": [
    "### Model Configuration"
   ]
  },
  {
   "cell_type": "code",
   "execution_count": 23,
   "id": "5c7b1b00-0996-4944-873b-220cad229b36",
   "metadata": {
    "tags": []
   },
   "outputs": [],
   "source": [
    "class CustomLoss(tf.keras.losses.Loss):\n",
    "    def __init__(self, **kwargs):\n",
    "        super(CustomLoss, self).__init__(**kwargs)\n",
    "        self.scce = tf.keras.losses.SparseCategoricalCrossentropy(from_logits=False)\n",
    "\n",
    "    def call(self, y_true, y_pred):\n",
    "        return self.scce(y_true, y_pred)"
   ]
  },
  {
   "cell_type": "code",
   "execution_count": 24,
   "id": "ab6ef347-28fc-4fcc-bafa-5466b90353fd",
   "metadata": {
    "tags": []
   },
   "outputs": [],
   "source": [
    "custom_loss_functions = {\n",
    "    'SparseCategoricalCrossentropy': CustomLoss\n",
    "}"
   ]
  },
  {
   "cell_type": "code",
   "execution_count": 25,
   "id": "eab2f877-ebc7-42d1-b7a5-a4a3201206b1",
   "metadata": {
    "tags": []
   },
   "outputs": [
    {
     "name": "stderr",
     "output_type": "stream",
     "text": [
      "Failed to detect the name of this notebook, you can set it manually with the WANDB_NOTEBOOK_NAME environment variable to enable code saving.\n",
      "\u001b[34m\u001b[1mwandb\u001b[0m: Currently logged in as: \u001b[33mramezashendy\u001b[0m (\u001b[33mramez\u001b[0m). Use \u001b[1m`wandb login --relogin`\u001b[0m to force relogin\n"
     ]
    },
    {
     "data": {
      "text/html": [
       "wandb version 0.15.2 is available!  To upgrade, please run:\n",
       " $ pip install wandb --upgrade"
      ],
      "text/plain": [
       "<IPython.core.display.HTML object>"
      ]
     },
     "metadata": {},
     "output_type": "display_data"
    },
    {
     "data": {
      "text/html": [
       "Tracking run with wandb version 0.15.0"
      ],
      "text/plain": [
       "<IPython.core.display.HTML object>"
      ]
     },
     "metadata": {},
     "output_type": "display_data"
    },
    {
     "data": {
      "text/html": [
       "Run data is saved locally in <code>/home/ramez/Politechnika_Slaska_MSc/Thesis/Competition/the_opssat_case_starter_kit-main/OPS-SAT/wandb/run-20230506_110150-7bhmebx2</code>"
      ],
      "text/plain": [
       "<IPython.core.display.HTML object>"
      ]
     },
     "metadata": {},
     "output_type": "display_data"
    },
    {
     "data": {
      "text/html": [
       "Syncing run <strong><a href='https://wandb.ai/ramez/OPS-SAT-Thesis-Project/runs/7bhmebx2' target=\"_blank\">stoic-puddle-45</a></strong> to <a href='https://wandb.ai/ramez/OPS-SAT-Thesis-Project' target=\"_blank\">Weights & Biases</a> (<a href='https://wandb.me/run' target=\"_blank\">docs</a>)<br/>"
      ],
      "text/plain": [
       "<IPython.core.display.HTML object>"
      ]
     },
     "metadata": {},
     "output_type": "display_data"
    },
    {
     "data": {
      "text/html": [
       " View project at <a href='https://wandb.ai/ramez/OPS-SAT-Thesis-Project' target=\"_blank\">https://wandb.ai/ramez/OPS-SAT-Thesis-Project</a>"
      ],
      "text/plain": [
       "<IPython.core.display.HTML object>"
      ]
     },
     "metadata": {},
     "output_type": "display_data"
    },
    {
     "data": {
      "text/html": [
       " View run at <a href='https://wandb.ai/ramez/OPS-SAT-Thesis-Project/runs/7bhmebx2' target=\"_blank\">https://wandb.ai/ramez/OPS-SAT-Thesis-Project/runs/7bhmebx2</a>"
      ],
      "text/plain": [
       "<IPython.core.display.HTML object>"
      ]
     },
     "metadata": {},
     "output_type": "display_data"
    }
   ],
   "source": [
    "# Start a run, tracking hyperparameters\n",
    "wandb.init(\n",
    "    # set the wandb project where this run will be logged\n",
    "    project=\"OPS-SAT-Thesis-Project\",\n",
    "\n",
    "    # track hyperparameters and run metadata with wandb.config\n",
    "    config={\n",
    "        \"dropout\": 0.5,\n",
    "        \"num_classes\": 8,\n",
    "        \"input_shape\": (200, 200, 3),\n",
    "        \"model_weights\": \"imagenet\",\n",
    "        \"output_layer_activation\": \"softmax\",\n",
    "        \"model_optimizer\": \"adam\",\n",
    "        # \"loss_fun\": \"sparse_categorical_crossentropy\",\n",
    "        \"loss_fun\": \"SparseCategoricalCrossentropy\",\n",
    "        \"model_metrics\": [\"SparseCategoricalAccuracy\"],\n",
    "        \"early_stopping_monitor\": \"val_sparse_categorical_accuracy\",\n",
    "        \"early_stopping_patience\": 15,\n",
    "        \"model_checkpoint_monitor\": \"val_sparse_categorical_accuracy\",\n",
    "        \"cross_validation_k\": 5,\n",
    "        \"model_epochs\": 100,\n",
    "        \"model_batch_size\": 8\n",
    "    }\n",
    ")\n",
    "\n",
    "config = wandb.config"
   ]
  },
  {
   "cell_type": "code",
   "execution_count": 26,
   "id": "535d9f57",
   "metadata": {
    "ExecuteTime": {
     "end_time": "2023-04-09T20:42:44.029535Z",
     "start_time": "2023-04-09T20:42:43.904140Z"
    },
    "tags": []
   },
   "outputs": [
    {
     "name": "stdout",
     "output_type": "stream",
     "text": [
      "Found 227 files belonging to 8 classes.\n"
     ]
    }
   ],
   "source": [
    "#Loading dataset\n",
    "x_train_val, y_train_val = get_images_from_path(dataset_path_train_val)"
   ]
  },
  {
   "cell_type": "code",
   "execution_count": 27,
   "id": "870f0b93-ea52-4ae0-98f4-e90f8a3db249",
   "metadata": {
    "tags": []
   },
   "outputs": [],
   "source": [
    "## class_names_labels dict\n",
    "class_name_label = {}\n",
    "for i, class_name in enumerate(class_names):\n",
    "    class_name_label[i] = class_name"
   ]
  },
  {
   "cell_type": "code",
   "execution_count": 28,
   "id": "176ad7e8",
   "metadata": {
    "ExecuteTime": {
     "end_time": "2023-04-09T20:42:44.501742Z",
     "start_time": "2023-04-09T20:42:44.458845Z"
    },
    "tags": []
   },
   "outputs": [
    {
     "name": "stdout",
     "output_type": "stream",
     "text": [
      "Found 40 files belonging to 8 classes.\n"
     ]
    }
   ],
   "source": [
    "#Loading dataset\n",
    "x_test, y_test = get_images_from_path(dataset_path_test)"
   ]
  },
  {
   "cell_type": "code",
   "execution_count": 29,
   "id": "8029b003-175d-4b30-9f95-2b209090e08a",
   "metadata": {
    "tags": []
   },
   "outputs": [],
   "source": [
    "## class_names_labels dict\n",
    "class_name_label_test = {}\n",
    "for i, class_name in enumerate(class_names):\n",
    "    class_name_label_test[i] = class_name"
   ]
  },
  {
   "cell_type": "code",
   "execution_count": 30,
   "id": "71c45087-b178-4403-b8d8-b0f0204243b0",
   "metadata": {
    "tags": []
   },
   "outputs": [
    {
     "name": "stdout",
     "output_type": "stream",
     "text": [
      "Ok\n"
     ]
    }
   ],
   "source": [
    "## Check if classes are identical with labels in both splits\n",
    "if class_name_label == class_name_label_test:\n",
    "    print(\"Ok\")\n",
    "else:\n",
    "    print(\"Error - Class Mapping Are Mismatched\")"
   ]
  },
  {
   "cell_type": "markdown",
   "id": "6ed865db",
   "metadata": {},
   "source": [
    "# 5. Model training"
   ]
  },
  {
   "cell_type": "markdown",
   "id": "55f4a84c-e53f-42e5-b7ea-12893a82a5d1",
   "metadata": {},
   "source": [
    "The network architecture used for OPS-SAT is **EfficientNetLite0**. We would like to thank Sebastian for making a Keras implementation of EfficientNetLite publicly available under the Apache 2.0 License: https://github.com/sebastian-sz/efficientnet-lite-keras. Our Version of this code has been modified to better fit our purposes. For example, we removed the ReLU \"stem_activation\" to better match a related efficientnet pytorch implementation. In any way, **you have to use the model architecture that we provide in our [starter-kit](https://gitlab.com/EuropeanSpaceAgency/the_opssat_case_starter_kit).**"
   ]
  },
  {
   "cell_type": "markdown",
   "id": "54a9bc3a-67ab-4e37-9a2f-aab98c8c5b25",
   "metadata": {},
   "source": [
    "### Load The Model With ImageNet Weights"
   ]
  },
  {
   "cell_type": "markdown",
   "id": "ba86fe85-998e-4704-bb76-18af67274166",
   "metadata": {
    "tags": []
   },
   "source": [
    "### Compile The model"
   ]
  },
  {
   "cell_type": "markdown",
   "id": "00c29753-9cbf-4149-a938-ceec8435dce0",
   "metadata": {},
   "source": [
    "### Early Stopping and Best Model Callbacks "
   ]
  },
  {
   "cell_type": "markdown",
   "id": "340a085b-c09c-4892-968a-8eeb2c556ce1",
   "metadata": {},
   "source": [
    "We provide now an example on how you can train your model by using standard supervised learning. Training loss (`SparseCategoricalCrossentropy`) and `Accuracy` are shown for simplicity and for an easier interpretation of the training outcome, despite your submission will be evaluated by using the metric **1 - Cohen's kappa** [metric](https://en.wikipedia.org/wiki/Cohen's_kappa). For more information on scoring, please refer to [Scoring](https://kelvins.esa.int/opssat/scoring/)."
   ]
  },
  {
   "cell_type": "code",
   "execution_count": 31,
   "id": "ba900174-6bb3-4c1b-9c75-07bba3dce2b1",
   "metadata": {
    "tags": []
   },
   "outputs": [],
   "source": [
    "custom_loss = custom_loss_functions[config.loss_fun]()"
   ]
  },
  {
   "cell_type": "code",
   "execution_count": 32,
   "id": "593c7f99-4e05-4b40-8cc7-e7c4b84e3452",
   "metadata": {},
   "outputs": [],
   "source": [
    "def model_init():\n",
    "    global model\n",
    "    global early_stopping\n",
    "    global checkpoint\n",
    "    \n",
    "    model = EfficientNetLiteB0(classes=config.num_classes, weights=config.model_weights, input_shape=config.input_shape, classifier_activation=None, include_top = False)\n",
    "    x = model.output\n",
    "    x = GlobalAveragePooling2D()(x)\n",
    "    x = Dropout(config.dropout)(x)\n",
    "    output_layer = Dense(config.num_classes, activation=config.output_layer_activation)(x)\n",
    "    model = Model(inputs=model.input, outputs=output_layer)\n",
    "    # model.summary()\n",
    "    \n",
    "    model.compile(optimizer=config.model_optimizer,\n",
    "                  # loss=\"sparse_categorical_crossentropy\",\n",
    "              # loss=tf.keras.losses.SparseCategoricalCrossentropy(from_logits=False), \n",
    "                  # loss=config.loss_fun,\n",
    "                  loss=custom_loss,\n",
    "                  # metrics=[keras.metrics.SparseCategoricalAccuracy()],\n",
    "                 metrics=config.model_metrics)\n",
    "    \n",
    "    early_stopping = EarlyStopping(monitor=config.early_stopping_monitor, patience=config.early_stopping_patience)\n",
    "    checkpoint = ModelCheckpoint('best_weights.h5', monitor=config.model_checkpoint_monitor, save_best_only=True)\n",
    "    \n",
    "# wandb_callback=wandb.keras.WandbCallback()"
   ]
  },
  {
   "cell_type": "markdown",
   "id": "8bc53411-de66-41a5-bdfe-47e6b2b94462",
   "metadata": {
    "tags": []
   },
   "source": [
    "### Without K fold Cross Validation but with TensorBoard (With Early Stopping)"
   ]
  },
  {
   "cell_type": "code",
   "execution_count": 33,
   "id": "9ae962a9",
   "metadata": {
    "ExecuteTime": {
     "end_time": "2023-04-09T20:42:49.259862Z",
     "start_time": "2023-04-09T20:42:49.257217Z"
    },
    "tags": []
   },
   "outputs": [],
   "source": [
    "# tensorboard_callback = TensorBoard(log_dir='./logs')"
   ]
  },
  {
   "cell_type": "code",
   "execution_count": 34,
   "id": "24568775",
   "metadata": {
    "ExecuteTime": {
     "end_time": "2023-04-09T20:43:38.960294Z",
     "start_time": "2023-04-09T20:42:50.924320Z"
    },
    "tags": []
   },
   "outputs": [],
   "source": [
    "# early_stopping = keras.callbacks.EarlyStopping(monitor='val_loss', patience=5)\n",
    "# history = model.fit(x_train_val, y_train_val, validation_data=(x_test, y_test), epochs= 100, verbose=1, batch_size=8, \n",
    "#                         callbacks=[early_stopping, tensorboard_callback])"
   ]
  },
  {
   "cell_type": "code",
   "execution_count": 35,
   "id": "faa7c10b",
   "metadata": {
    "ExecuteTime": {
     "end_time": "2023-04-09T20:45:36.527054Z",
     "start_time": "2023-04-09T20:44:17.923419Z"
    },
    "tags": []
   },
   "outputs": [],
   "source": [
    "# !tensorboard --logdir=./logs"
   ]
  },
  {
   "cell_type": "markdown",
   "id": "9c9899b0-587d-4c9a-b9b5-ec61295e2e48",
   "metadata": {},
   "source": [
    "### With K fold Cross Validation but without TensorBoard (With Early Stopping)"
   ]
  },
  {
   "cell_type": "code",
   "execution_count": 36,
   "id": "12efbbf9",
   "metadata": {
    "ExecuteTime": {
     "end_time": "2023-04-09T20:42:47.226837Z",
     "start_time": "2023-04-09T20:42:47.224186Z"
    },
    "tags": []
   },
   "outputs": [],
   "source": [
    "kf = KFold(n_splits=config.cross_validation_k, shuffle=True)"
   ]
  },
  {
   "cell_type": "code",
   "execution_count": 37,
   "id": "9a930432",
   "metadata": {
    "ExecuteTime": {
     "end_time": "2023-04-09T20:43:57.248568Z",
     "start_time": "2023-04-09T20:43:57.245137Z"
    },
    "tags": []
   },
   "outputs": [
    {
     "name": "stdout",
     "output_type": "stream",
     "text": [
      "block1a_ same\n",
      "block2a_ ((1, 1), (1, 1))\n",
      "block2a_ valid\n",
      "block2b_ same\n",
      "block3a_ ((2, 2), (2, 2))\n",
      "block3a_ valid\n",
      "block3b_ same\n",
      "block4a_ ((1, 1), (1, 1))\n",
      "block4a_ valid\n",
      "block4b_ same\n",
      "block4c_ same\n",
      "block5a_ same\n",
      "block5b_ same\n",
      "block5c_ same\n",
      "block6a_ ((2, 2), (2, 2))\n",
      "block6a_ valid\n",
      "block6b_ same\n",
      "block6c_ same\n",
      "block6d_ same\n",
      "block7a_ same\n",
      "Epoch 1/100\n"
     ]
    },
    {
     "name": "stderr",
     "output_type": "stream",
     "text": [
      "2023-05-06 11:02:26.190356: W tensorflow/stream_executor/gpu/asm_compiler.cc:111] *** WARNING *** You are using ptxas 9.2.148, which is older than 11.1. ptxas before 11.1 is known to miscompile XLA code, leading to incorrect results or invalid-address errors.\n",
      "\n",
      "You may not need to update to CUDA 11.1; cherry-picking the ptxas binary is often sufficient.\n"
     ]
    },
    {
     "name": "stdout",
     "output_type": "stream",
     "text": [
      "23/23 [==============================] - ETA: 0s - loss: 1.6525 - sparse_categorical_accuracy: 0.3978"
     ]
    },
    {
     "name": "stderr",
     "output_type": "stream",
     "text": [
      "/home/ramez/miniconda3/envs/thesis/lib/python3.9/site-packages/keras/engine/functional.py:1410: CustomMaskWarning: Custom mask layers require a config and must override get_config. When loading, the custom mask layer must be passed to the custom_objects argument.\n",
      "  layer_config = serialize_layer_fn(layer)\n"
     ]
    },
    {
     "name": "stdout",
     "output_type": "stream",
     "text": [
      "23/23 [==============================] - 12s 202ms/step - loss: 1.6525 - sparse_categorical_accuracy: 0.3978 - val_loss: 3.5249 - val_sparse_categorical_accuracy: 0.3043\n",
      "Epoch 2/100\n",
      "23/23 [==============================] - 3s 134ms/step - loss: 0.8859 - sparse_categorical_accuracy: 0.6906 - val_loss: 1.6297 - val_sparse_categorical_accuracy: 0.6739\n",
      "Epoch 3/100\n",
      "23/23 [==============================] - 3s 119ms/step - loss: 0.6761 - sparse_categorical_accuracy: 0.8011 - val_loss: 2.6233 - val_sparse_categorical_accuracy: 0.4783\n",
      "Epoch 4/100\n",
      "23/23 [==============================] - 3s 121ms/step - loss: 0.6516 - sparse_categorical_accuracy: 0.7680 - val_loss: 1.9375 - val_sparse_categorical_accuracy: 0.5217\n",
      "Epoch 5/100\n",
      "23/23 [==============================] - 3s 111ms/step - loss: 0.6367 - sparse_categorical_accuracy: 0.7845 - val_loss: 1.1923 - val_sparse_categorical_accuracy: 0.6739\n",
      "Epoch 6/100\n",
      "23/23 [==============================] - 3s 115ms/step - loss: 0.6360 - sparse_categorical_accuracy: 0.8066 - val_loss: 2.2819 - val_sparse_categorical_accuracy: 0.6304\n",
      "Epoch 7/100\n",
      "23/23 [==============================] - 3s 114ms/step - loss: 0.5465 - sparse_categorical_accuracy: 0.8177 - val_loss: 1.5552 - val_sparse_categorical_accuracy: 0.6087\n",
      "Epoch 8/100\n",
      "23/23 [==============================] - 3s 121ms/step - loss: 0.5197 - sparse_categorical_accuracy: 0.8564 - val_loss: 1.1777 - val_sparse_categorical_accuracy: 0.6087\n",
      "Epoch 9/100\n",
      "23/23 [==============================] - 3s 115ms/step - loss: 0.4617 - sparse_categorical_accuracy: 0.8564 - val_loss: 1.3079 - val_sparse_categorical_accuracy: 0.6304\n",
      "Epoch 10/100\n",
      "23/23 [==============================] - 3s 129ms/step - loss: 0.4689 - sparse_categorical_accuracy: 0.8619 - val_loss: 1.2033 - val_sparse_categorical_accuracy: 0.8043\n",
      "Epoch 11/100\n",
      "23/23 [==============================] - 2s 108ms/step - loss: 0.4201 - sparse_categorical_accuracy: 0.8674 - val_loss: 1.3628 - val_sparse_categorical_accuracy: 0.6522\n",
      "Epoch 12/100\n",
      "23/23 [==============================] - 3s 111ms/step - loss: 0.4019 - sparse_categorical_accuracy: 0.8453 - val_loss: 2.1526 - val_sparse_categorical_accuracy: 0.5217\n",
      "Epoch 13/100\n",
      "23/23 [==============================] - 3s 114ms/step - loss: 0.4548 - sparse_categorical_accuracy: 0.8564 - val_loss: 1.1021 - val_sparse_categorical_accuracy: 0.8043\n",
      "Epoch 14/100\n",
      "23/23 [==============================] - 3s 109ms/step - loss: 0.2630 - sparse_categorical_accuracy: 0.9171 - val_loss: 1.2743 - val_sparse_categorical_accuracy: 0.7174\n",
      "Epoch 15/100\n",
      "23/23 [==============================] - 2s 109ms/step - loss: 0.2585 - sparse_categorical_accuracy: 0.9171 - val_loss: 1.1219 - val_sparse_categorical_accuracy: 0.7174\n",
      "Epoch 16/100\n",
      "23/23 [==============================] - 2s 109ms/step - loss: 0.3213 - sparse_categorical_accuracy: 0.8729 - val_loss: 1.5425 - val_sparse_categorical_accuracy: 0.6957\n",
      "Epoch 17/100\n",
      "23/23 [==============================] - 2s 108ms/step - loss: 0.3003 - sparse_categorical_accuracy: 0.8840 - val_loss: 1.1632 - val_sparse_categorical_accuracy: 0.7826\n",
      "Epoch 18/100\n",
      "23/23 [==============================] - 2s 109ms/step - loss: 0.3705 - sparse_categorical_accuracy: 0.8895 - val_loss: 1.2046 - val_sparse_categorical_accuracy: 0.7174\n",
      "Epoch 19/100\n",
      "23/23 [==============================] - 3s 109ms/step - loss: 0.3042 - sparse_categorical_accuracy: 0.9116 - val_loss: 1.6794 - val_sparse_categorical_accuracy: 0.6957\n",
      "Epoch 20/100\n",
      "23/23 [==============================] - 2s 109ms/step - loss: 0.3022 - sparse_categorical_accuracy: 0.8895 - val_loss: 1.1864 - val_sparse_categorical_accuracy: 0.7391\n",
      "Epoch 21/100\n",
      "23/23 [==============================] - 3s 109ms/step - loss: 0.1557 - sparse_categorical_accuracy: 0.9448 - val_loss: 1.1158 - val_sparse_categorical_accuracy: 0.7391\n",
      "Epoch 22/100\n",
      "23/23 [==============================] - 2s 109ms/step - loss: 0.1334 - sparse_categorical_accuracy: 0.9724 - val_loss: 0.8381 - val_sparse_categorical_accuracy: 0.7826\n",
      "Epoch 23/100\n",
      "23/23 [==============================] - 3s 128ms/step - loss: 0.1343 - sparse_categorical_accuracy: 0.9558 - val_loss: 0.8111 - val_sparse_categorical_accuracy: 0.8261\n",
      "Epoch 24/100\n",
      "23/23 [==============================] - 2s 108ms/step - loss: 0.1716 - sparse_categorical_accuracy: 0.9392 - val_loss: 0.8367 - val_sparse_categorical_accuracy: 0.7609\n",
      "Epoch 25/100\n",
      "23/23 [==============================] - 2s 108ms/step - loss: 0.1819 - sparse_categorical_accuracy: 0.9503 - val_loss: 1.3736 - val_sparse_categorical_accuracy: 0.7174\n",
      "Epoch 26/100\n",
      "23/23 [==============================] - 2s 109ms/step - loss: 0.1976 - sparse_categorical_accuracy: 0.9558 - val_loss: 1.3640 - val_sparse_categorical_accuracy: 0.6739\n",
      "Epoch 27/100\n",
      "23/23 [==============================] - 3s 109ms/step - loss: 0.1356 - sparse_categorical_accuracy: 0.9613 - val_loss: 0.9452 - val_sparse_categorical_accuracy: 0.7174\n",
      "Epoch 28/100\n",
      "23/23 [==============================] - 3s 109ms/step - loss: 0.1208 - sparse_categorical_accuracy: 0.9558 - val_loss: 0.9880 - val_sparse_categorical_accuracy: 0.6957\n",
      "Epoch 29/100\n",
      "23/23 [==============================] - 3s 110ms/step - loss: 0.0992 - sparse_categorical_accuracy: 0.9724 - val_loss: 1.1655 - val_sparse_categorical_accuracy: 0.5870\n",
      "Epoch 30/100\n",
      "23/23 [==============================] - 3s 110ms/step - loss: 0.1699 - sparse_categorical_accuracy: 0.9503 - val_loss: 1.1018 - val_sparse_categorical_accuracy: 0.6522\n",
      "Epoch 31/100\n",
      "23/23 [==============================] - 2s 109ms/step - loss: 0.1641 - sparse_categorical_accuracy: 0.9503 - val_loss: 1.1835 - val_sparse_categorical_accuracy: 0.6739\n",
      "Epoch 32/100\n",
      "23/23 [==============================] - 3s 110ms/step - loss: 0.1618 - sparse_categorical_accuracy: 0.9448 - val_loss: 1.4835 - val_sparse_categorical_accuracy: 0.5870\n",
      "Epoch 33/100\n",
      "23/23 [==============================] - 3s 110ms/step - loss: 0.1067 - sparse_categorical_accuracy: 0.9613 - val_loss: 0.9444 - val_sparse_categorical_accuracy: 0.7391\n",
      "Epoch 34/100\n",
      "23/23 [==============================] - 3s 109ms/step - loss: 0.0613 - sparse_categorical_accuracy: 0.9834 - val_loss: 0.8871 - val_sparse_categorical_accuracy: 0.7826\n",
      "Epoch 35/100\n",
      "23/23 [==============================] - 3s 110ms/step - loss: 0.1142 - sparse_categorical_accuracy: 0.9558 - val_loss: 1.0857 - val_sparse_categorical_accuracy: 0.7174\n",
      "Epoch 36/100\n",
      "23/23 [==============================] - 3s 110ms/step - loss: 0.1028 - sparse_categorical_accuracy: 0.9724 - val_loss: 0.8546 - val_sparse_categorical_accuracy: 0.7609\n",
      "Epoch 37/100\n",
      "23/23 [==============================] - 2s 109ms/step - loss: 0.0995 - sparse_categorical_accuracy: 0.9669 - val_loss: 0.6101 - val_sparse_categorical_accuracy: 0.7826\n",
      "Epoch 38/100\n",
      "23/23 [==============================] - 3s 115ms/step - loss: 0.1406 - sparse_categorical_accuracy: 0.9669 - val_loss: 0.7445 - val_sparse_categorical_accuracy: 0.7826\n",
      "2/2 [==============================] - 1s 359ms/step - loss: 0.8111 - sparse_categorical_accuracy: 0.8261\n",
      "block1a_ same\n",
      "block2a_ ((1, 1), (1, 1))\n",
      "block2a_ valid\n",
      "block2b_ same\n",
      "block3a_ ((2, 2), (2, 2))\n",
      "block3a_ valid\n",
      "block3b_ same\n",
      "block4a_ ((1, 1), (1, 1))\n",
      "block4a_ valid\n",
      "block4b_ same\n",
      "block4c_ same\n",
      "block5a_ same\n",
      "block5b_ same\n",
      "block5c_ same\n",
      "block6a_ ((2, 2), (2, 2))\n",
      "block6a_ valid\n",
      "block6b_ same\n",
      "block6c_ same\n",
      "block6d_ same\n",
      "block7a_ same\n",
      "Epoch 1/100\n",
      "23/23 [==============================] - 7s 158ms/step - loss: 1.5603 - sparse_categorical_accuracy: 0.4641 - val_loss: 5.2121 - val_sparse_categorical_accuracy: 0.0870\n",
      "Epoch 2/100\n",
      "23/23 [==============================] - 3s 132ms/step - loss: 0.8318 - sparse_categorical_accuracy: 0.7293 - val_loss: 3.4414 - val_sparse_categorical_accuracy: 0.3261\n",
      "Epoch 3/100\n",
      "23/23 [==============================] - 3s 133ms/step - loss: 0.7014 - sparse_categorical_accuracy: 0.7680 - val_loss: 1.6058 - val_sparse_categorical_accuracy: 0.5217\n",
      "Epoch 4/100\n",
      "23/23 [==============================] - 3s 112ms/step - loss: 0.8069 - sparse_categorical_accuracy: 0.7624 - val_loss: 2.6379 - val_sparse_categorical_accuracy: 0.3696\n",
      "Epoch 5/100\n",
      "23/23 [==============================] - 3s 110ms/step - loss: 0.6443 - sparse_categorical_accuracy: 0.7790 - val_loss: 3.9863 - val_sparse_categorical_accuracy: 0.4783\n",
      "Epoch 6/100\n",
      "23/23 [==============================] - 3s 131ms/step - loss: 0.4738 - sparse_categorical_accuracy: 0.8343 - val_loss: 2.8433 - val_sparse_categorical_accuracy: 0.5652\n",
      "Epoch 7/100\n",
      "23/23 [==============================] - 3s 128ms/step - loss: 0.3602 - sparse_categorical_accuracy: 0.8840 - val_loss: 1.8435 - val_sparse_categorical_accuracy: 0.6304\n",
      "Epoch 8/100\n",
      "23/23 [==============================] - 3s 109ms/step - loss: 0.4215 - sparse_categorical_accuracy: 0.8232 - val_loss: 3.0655 - val_sparse_categorical_accuracy: 0.5000\n",
      "Epoch 9/100\n",
      "23/23 [==============================] - 2s 108ms/step - loss: 0.4354 - sparse_categorical_accuracy: 0.8287 - val_loss: 2.5812 - val_sparse_categorical_accuracy: 0.4565\n",
      "Epoch 10/100\n",
      "23/23 [==============================] - 2s 109ms/step - loss: 0.3392 - sparse_categorical_accuracy: 0.8840 - val_loss: 3.0783 - val_sparse_categorical_accuracy: 0.3696\n",
      "Epoch 11/100\n",
      "23/23 [==============================] - 3s 112ms/step - loss: 0.3685 - sparse_categorical_accuracy: 0.8895 - val_loss: 1.3948 - val_sparse_categorical_accuracy: 0.6304\n",
      "Epoch 12/100\n",
      "23/23 [==============================] - 2s 109ms/step - loss: 0.3748 - sparse_categorical_accuracy: 0.8729 - val_loss: 1.6121 - val_sparse_categorical_accuracy: 0.5435\n",
      "Epoch 13/100\n",
      "23/23 [==============================] - 3s 112ms/step - loss: 0.4013 - sparse_categorical_accuracy: 0.8729 - val_loss: 2.0332 - val_sparse_categorical_accuracy: 0.6087\n",
      "Epoch 14/100\n",
      "23/23 [==============================] - 3s 132ms/step - loss: 0.2129 - sparse_categorical_accuracy: 0.9171 - val_loss: 0.9652 - val_sparse_categorical_accuracy: 0.7826\n",
      "Epoch 15/100\n",
      "23/23 [==============================] - 3s 109ms/step - loss: 0.4252 - sparse_categorical_accuracy: 0.8729 - val_loss: 1.6519 - val_sparse_categorical_accuracy: 0.6522\n",
      "Epoch 16/100\n",
      "23/23 [==============================] - 3s 113ms/step - loss: 0.3144 - sparse_categorical_accuracy: 0.9171 - val_loss: 1.7852 - val_sparse_categorical_accuracy: 0.6304\n",
      "Epoch 17/100\n",
      "23/23 [==============================] - 3s 116ms/step - loss: 0.1867 - sparse_categorical_accuracy: 0.9558 - val_loss: 1.2004 - val_sparse_categorical_accuracy: 0.7174\n",
      "Epoch 18/100\n",
      "23/23 [==============================] - 3s 109ms/step - loss: 0.2088 - sparse_categorical_accuracy: 0.9337 - val_loss: 1.4981 - val_sparse_categorical_accuracy: 0.6957\n",
      "Epoch 19/100\n",
      "23/23 [==============================] - 2s 109ms/step - loss: 0.2492 - sparse_categorical_accuracy: 0.9337 - val_loss: 1.8209 - val_sparse_categorical_accuracy: 0.4565\n",
      "Epoch 20/100\n",
      "23/23 [==============================] - 3s 115ms/step - loss: 0.2068 - sparse_categorical_accuracy: 0.9337 - val_loss: 2.6520 - val_sparse_categorical_accuracy: 0.5652\n",
      "Epoch 21/100\n",
      "23/23 [==============================] - 3s 111ms/step - loss: 0.2127 - sparse_categorical_accuracy: 0.9282 - val_loss: 1.8583 - val_sparse_categorical_accuracy: 0.5435\n",
      "Epoch 22/100\n",
      "23/23 [==============================] - 3s 110ms/step - loss: 0.2140 - sparse_categorical_accuracy: 0.9392 - val_loss: 1.1121 - val_sparse_categorical_accuracy: 0.7609\n",
      "Epoch 23/100\n",
      "23/23 [==============================] - 3s 109ms/step - loss: 0.1893 - sparse_categorical_accuracy: 0.9227 - val_loss: 1.8096 - val_sparse_categorical_accuracy: 0.6957\n",
      "Epoch 24/100\n",
      "23/23 [==============================] - 2s 109ms/step - loss: 0.2781 - sparse_categorical_accuracy: 0.9116 - val_loss: 1.8548 - val_sparse_categorical_accuracy: 0.6087\n",
      "Epoch 25/100\n",
      "23/23 [==============================] - 3s 110ms/step - loss: 0.2064 - sparse_categorical_accuracy: 0.9337 - val_loss: 2.3174 - val_sparse_categorical_accuracy: 0.6522\n",
      "Epoch 26/100\n",
      "23/23 [==============================] - 3s 112ms/step - loss: 0.1851 - sparse_categorical_accuracy: 0.9392 - val_loss: 1.2699 - val_sparse_categorical_accuracy: 0.6522\n",
      "Epoch 27/100\n",
      "23/23 [==============================] - 3s 109ms/step - loss: 0.1898 - sparse_categorical_accuracy: 0.9448 - val_loss: 1.8413 - val_sparse_categorical_accuracy: 0.5870\n",
      "Epoch 28/100\n",
      "23/23 [==============================] - 3s 109ms/step - loss: 0.2318 - sparse_categorical_accuracy: 0.9116 - val_loss: 2.3426 - val_sparse_categorical_accuracy: 0.5652\n",
      "Epoch 29/100\n",
      "23/23 [==============================] - 3s 110ms/step - loss: 0.1743 - sparse_categorical_accuracy: 0.9337 - val_loss: 1.4855 - val_sparse_categorical_accuracy: 0.6957\n",
      "2/2 [==============================] - 0s 38ms/step - loss: 0.9652 - sparse_categorical_accuracy: 0.7826\n",
      "block1a_ same\n",
      "block2a_ ((1, 1), (1, 1))\n",
      "block2a_ valid\n",
      "block2b_ same\n",
      "block3a_ ((2, 2), (2, 2))\n",
      "block3a_ valid\n",
      "block3b_ same\n",
      "block4a_ ((1, 1), (1, 1))\n",
      "block4a_ valid\n",
      "block4b_ same\n",
      "block4c_ same\n",
      "block5a_ same\n",
      "block5b_ same\n",
      "block5c_ same\n",
      "block6a_ ((2, 2), (2, 2))\n",
      "block6a_ valid\n",
      "block6b_ same\n",
      "block6c_ same\n",
      "block6d_ same\n",
      "block7a_ same\n",
      "Epoch 1/100\n",
      "23/23 [==============================] - 7s 169ms/step - loss: 1.5998 - sparse_categorical_accuracy: 0.3791 - val_loss: 1.2943 - val_sparse_categorical_accuracy: 0.5333\n",
      "Epoch 2/100\n",
      "23/23 [==============================] - 3s 133ms/step - loss: 0.9362 - sparse_categorical_accuracy: 0.6429 - val_loss: 1.1134 - val_sparse_categorical_accuracy: 0.6444\n",
      "Epoch 3/100\n",
      "23/23 [==============================] - 3s 140ms/step - loss: 0.5657 - sparse_categorical_accuracy: 0.8022 - val_loss: 1.3517 - val_sparse_categorical_accuracy: 0.7111\n",
      "Epoch 4/100\n",
      "23/23 [==============================] - 3s 132ms/step - loss: 0.6235 - sparse_categorical_accuracy: 0.8077 - val_loss: 1.1712 - val_sparse_categorical_accuracy: 0.7556\n",
      "Epoch 5/100\n",
      "23/23 [==============================] - 3s 134ms/step - loss: 0.6058 - sparse_categorical_accuracy: 0.8132 - val_loss: 1.9957 - val_sparse_categorical_accuracy: 0.7778\n",
      "Epoch 6/100\n",
      "23/23 [==============================] - 3s 136ms/step - loss: 0.5628 - sparse_categorical_accuracy: 0.8077 - val_loss: 0.7147 - val_sparse_categorical_accuracy: 0.8444\n",
      "Epoch 7/100\n",
      "23/23 [==============================] - 3s 116ms/step - loss: 0.3931 - sparse_categorical_accuracy: 0.8791 - val_loss: 1.0965 - val_sparse_categorical_accuracy: 0.8444\n",
      "Epoch 8/100\n",
      "23/23 [==============================] - 3s 116ms/step - loss: 0.4907 - sparse_categorical_accuracy: 0.8407 - val_loss: 1.3489 - val_sparse_categorical_accuracy: 0.6667\n",
      "Epoch 9/100\n",
      "23/23 [==============================] - 3s 117ms/step - loss: 0.6017 - sparse_categorical_accuracy: 0.8077 - val_loss: 6.2540 - val_sparse_categorical_accuracy: 0.2222\n",
      "Epoch 10/100\n",
      "23/23 [==============================] - 3s 120ms/step - loss: 0.6692 - sparse_categorical_accuracy: 0.7857 - val_loss: 1.6437 - val_sparse_categorical_accuracy: 0.7556\n",
      "Epoch 11/100\n",
      "23/23 [==============================] - 3s 118ms/step - loss: 0.4477 - sparse_categorical_accuracy: 0.8407 - val_loss: 1.3138 - val_sparse_categorical_accuracy: 0.6000\n",
      "Epoch 12/100\n",
      "23/23 [==============================] - 3s 119ms/step - loss: 0.4643 - sparse_categorical_accuracy: 0.8242 - val_loss: 1.3373 - val_sparse_categorical_accuracy: 0.6444\n",
      "Epoch 13/100\n",
      "23/23 [==============================] - 3s 118ms/step - loss: 0.3230 - sparse_categorical_accuracy: 0.8956 - val_loss: 1.1546 - val_sparse_categorical_accuracy: 0.6667\n",
      "Epoch 14/100\n",
      "23/23 [==============================] - 3s 116ms/step - loss: 0.2674 - sparse_categorical_accuracy: 0.9286 - val_loss: 0.6642 - val_sparse_categorical_accuracy: 0.7778\n",
      "Epoch 15/100\n",
      "23/23 [==============================] - 3s 115ms/step - loss: 0.3967 - sparse_categorical_accuracy: 0.8681 - val_loss: 0.5621 - val_sparse_categorical_accuracy: 0.8222\n",
      "Epoch 16/100\n",
      "23/23 [==============================] - 3s 116ms/step - loss: 0.2792 - sparse_categorical_accuracy: 0.9066 - val_loss: 1.2293 - val_sparse_categorical_accuracy: 0.6444\n",
      "Epoch 17/100\n",
      "23/23 [==============================] - 3s 116ms/step - loss: 0.4095 - sparse_categorical_accuracy: 0.8462 - val_loss: 2.1512 - val_sparse_categorical_accuracy: 0.5556\n",
      "Epoch 18/100\n",
      "23/23 [==============================] - 3s 115ms/step - loss: 0.2450 - sparse_categorical_accuracy: 0.9286 - val_loss: 1.6564 - val_sparse_categorical_accuracy: 0.6444\n",
      "Epoch 19/100\n",
      "23/23 [==============================] - 3s 116ms/step - loss: 0.2290 - sparse_categorical_accuracy: 0.9341 - val_loss: 1.7164 - val_sparse_categorical_accuracy: 0.6222\n",
      "Epoch 20/100\n",
      "23/23 [==============================] - 3s 119ms/step - loss: 0.1747 - sparse_categorical_accuracy: 0.9396 - val_loss: 3.0963 - val_sparse_categorical_accuracy: 0.4667\n",
      "Epoch 21/100\n",
      "23/23 [==============================] - 3s 119ms/step - loss: 0.2914 - sparse_categorical_accuracy: 0.8956 - val_loss: 1.4969 - val_sparse_categorical_accuracy: 0.5556\n",
      "2/2 [==============================] - 0s 378ms/step - loss: 0.7147 - sparse_categorical_accuracy: 0.8444\n",
      "block1a_ same\n",
      "block2a_ ((1, 1), (1, 1))\n",
      "block2a_ valid\n",
      "block2b_ same\n",
      "block3a_ ((2, 2), (2, 2))\n",
      "block3a_ valid\n",
      "block3b_ same\n",
      "block4a_ ((1, 1), (1, 1))\n",
      "block4a_ valid\n",
      "block4b_ same\n",
      "block4c_ same\n",
      "block5a_ same\n",
      "block5b_ same\n",
      "block5c_ same\n",
      "block6a_ ((2, 2), (2, 2))\n",
      "block6a_ valid\n",
      "block6b_ same\n",
      "block6c_ same\n",
      "block6d_ same\n",
      "block7a_ same\n",
      "Epoch 1/100\n",
      "23/23 [==============================] - 7s 156ms/step - loss: 1.5911 - sparse_categorical_accuracy: 0.4780 - val_loss: 18.0424 - val_sparse_categorical_accuracy: 0.0889\n",
      "Epoch 2/100\n",
      "23/23 [==============================] - 3s 135ms/step - loss: 0.8376 - sparse_categorical_accuracy: 0.6923 - val_loss: 7.6482 - val_sparse_categorical_accuracy: 0.2222\n",
      "Epoch 3/100\n",
      "23/23 [==============================] - 3s 135ms/step - loss: 0.5883 - sparse_categorical_accuracy: 0.8132 - val_loss: 6.6136 - val_sparse_categorical_accuracy: 0.2444\n",
      "Epoch 4/100\n",
      "23/23 [==============================] - 3s 136ms/step - loss: 0.7016 - sparse_categorical_accuracy: 0.7527 - val_loss: 5.1826 - val_sparse_categorical_accuracy: 0.3778\n",
      "Epoch 5/100\n",
      "23/23 [==============================] - 3s 136ms/step - loss: 0.5408 - sparse_categorical_accuracy: 0.8242 - val_loss: 1.8998 - val_sparse_categorical_accuracy: 0.6222\n",
      "Epoch 6/100\n",
      "23/23 [==============================] - 3s 115ms/step - loss: 0.5450 - sparse_categorical_accuracy: 0.8462 - val_loss: 5.6713 - val_sparse_categorical_accuracy: 0.3778\n",
      "Epoch 7/100\n",
      "23/23 [==============================] - 3s 118ms/step - loss: 0.5282 - sparse_categorical_accuracy: 0.8462 - val_loss: 3.1961 - val_sparse_categorical_accuracy: 0.5111\n",
      "Epoch 8/100\n",
      "23/23 [==============================] - 3s 117ms/step - loss: 0.5038 - sparse_categorical_accuracy: 0.8242 - val_loss: 3.7832 - val_sparse_categorical_accuracy: 0.4667\n",
      "Epoch 9/100\n",
      "23/23 [==============================] - 3s 117ms/step - loss: 0.5160 - sparse_categorical_accuracy: 0.8297 - val_loss: 3.4325 - val_sparse_categorical_accuracy: 0.6222\n",
      "Epoch 10/100\n",
      "23/23 [==============================] - 3s 135ms/step - loss: 0.4459 - sparse_categorical_accuracy: 0.8791 - val_loss: 3.7015 - val_sparse_categorical_accuracy: 0.6444\n",
      "Epoch 11/100\n",
      "23/23 [==============================] - 3s 137ms/step - loss: 0.3286 - sparse_categorical_accuracy: 0.8846 - val_loss: 2.0383 - val_sparse_categorical_accuracy: 0.6889\n",
      "Epoch 12/100\n",
      "23/23 [==============================] - 3s 117ms/step - loss: 0.3726 - sparse_categorical_accuracy: 0.8956 - val_loss: 2.8251 - val_sparse_categorical_accuracy: 0.6222\n",
      "Epoch 13/100\n",
      "23/23 [==============================] - 3s 117ms/step - loss: 0.5240 - sparse_categorical_accuracy: 0.8901 - val_loss: 2.2129 - val_sparse_categorical_accuracy: 0.6222\n",
      "Epoch 14/100\n",
      "23/23 [==============================] - 3s 117ms/step - loss: 0.3109 - sparse_categorical_accuracy: 0.9066 - val_loss: 2.6837 - val_sparse_categorical_accuracy: 0.5778\n",
      "Epoch 15/100\n",
      "23/23 [==============================] - 3s 119ms/step - loss: 0.3575 - sparse_categorical_accuracy: 0.9011 - val_loss: 3.5625 - val_sparse_categorical_accuracy: 0.4444\n",
      "Epoch 16/100\n",
      "23/23 [==============================] - 3s 142ms/step - loss: 0.3615 - sparse_categorical_accuracy: 0.9066 - val_loss: 1.6947 - val_sparse_categorical_accuracy: 0.7778\n",
      "Epoch 17/100\n",
      "23/23 [==============================] - 3s 119ms/step - loss: 0.2173 - sparse_categorical_accuracy: 0.9286 - val_loss: 2.5814 - val_sparse_categorical_accuracy: 0.6222\n",
      "Epoch 18/100\n",
      "23/23 [==============================] - 3s 114ms/step - loss: 0.2754 - sparse_categorical_accuracy: 0.9451 - val_loss: 2.2283 - val_sparse_categorical_accuracy: 0.6000\n",
      "Epoch 19/100\n",
      "23/23 [==============================] - 3s 120ms/step - loss: 0.3815 - sparse_categorical_accuracy: 0.8571 - val_loss: 2.1526 - val_sparse_categorical_accuracy: 0.6444\n",
      "Epoch 20/100\n",
      "23/23 [==============================] - 3s 114ms/step - loss: 0.2664 - sparse_categorical_accuracy: 0.9121 - val_loss: 3.0087 - val_sparse_categorical_accuracy: 0.6667\n",
      "Epoch 21/100\n",
      "23/23 [==============================] - 3s 115ms/step - loss: 0.3891 - sparse_categorical_accuracy: 0.8791 - val_loss: 1.7547 - val_sparse_categorical_accuracy: 0.7333\n",
      "Epoch 22/100\n",
      "23/23 [==============================] - 3s 111ms/step - loss: 0.2213 - sparse_categorical_accuracy: 0.9121 - val_loss: 1.7580 - val_sparse_categorical_accuracy: 0.6444\n",
      "Epoch 23/100\n",
      "23/23 [==============================] - 3s 118ms/step - loss: 0.3007 - sparse_categorical_accuracy: 0.9231 - val_loss: 1.6340 - val_sparse_categorical_accuracy: 0.7111\n",
      "Epoch 24/100\n",
      "23/23 [==============================] - 3s 116ms/step - loss: 0.1839 - sparse_categorical_accuracy: 0.9451 - val_loss: 1.2202 - val_sparse_categorical_accuracy: 0.6222\n",
      "Epoch 25/100\n",
      "23/23 [==============================] - 3s 110ms/step - loss: 0.1663 - sparse_categorical_accuracy: 0.9341 - val_loss: 1.4127 - val_sparse_categorical_accuracy: 0.6667\n",
      "Epoch 26/100\n",
      "23/23 [==============================] - 3s 113ms/step - loss: 0.1203 - sparse_categorical_accuracy: 0.9615 - val_loss: 0.9483 - val_sparse_categorical_accuracy: 0.7778\n",
      "Epoch 27/100\n",
      "23/23 [==============================] - 3s 111ms/step - loss: 0.1198 - sparse_categorical_accuracy: 0.9725 - val_loss: 1.3057 - val_sparse_categorical_accuracy: 0.7111\n",
      "Epoch 28/100\n",
      "23/23 [==============================] - 3s 117ms/step - loss: 0.2047 - sparse_categorical_accuracy: 0.9505 - val_loss: 1.5989 - val_sparse_categorical_accuracy: 0.7556\n",
      "Epoch 29/100\n",
      "23/23 [==============================] - 3s 111ms/step - loss: 0.1619 - sparse_categorical_accuracy: 0.9451 - val_loss: 1.5972 - val_sparse_categorical_accuracy: 0.6889\n",
      "Epoch 30/100\n",
      "23/23 [==============================] - 3s 114ms/step - loss: 0.1155 - sparse_categorical_accuracy: 0.9670 - val_loss: 1.9387 - val_sparse_categorical_accuracy: 0.6889\n",
      "Epoch 31/100\n",
      "23/23 [==============================] - 3s 116ms/step - loss: 0.1082 - sparse_categorical_accuracy: 0.9835 - val_loss: 1.5742 - val_sparse_categorical_accuracy: 0.7556\n",
      "2/2 [==============================] - 0s 36ms/step - loss: 1.6947 - sparse_categorical_accuracy: 0.7778\n",
      "block1a_ same\n",
      "block2a_ ((1, 1), (1, 1))\n",
      "block2a_ valid\n",
      "block2b_ same\n",
      "block3a_ ((2, 2), (2, 2))\n",
      "block3a_ valid\n",
      "block3b_ same\n",
      "block4a_ ((1, 1), (1, 1))\n",
      "block4a_ valid\n",
      "block4b_ same\n",
      "block4c_ same\n",
      "block5a_ same\n",
      "block5b_ same\n",
      "block5c_ same\n",
      "block6a_ ((2, 2), (2, 2))\n",
      "block6a_ valid\n",
      "block6b_ same\n",
      "block6c_ same\n",
      "block6d_ same\n",
      "block7a_ same\n",
      "Epoch 1/100\n",
      "23/23 [==============================] - 7s 161ms/step - loss: 1.5378 - sparse_categorical_accuracy: 0.4451 - val_loss: 3.7506 - val_sparse_categorical_accuracy: 0.1333\n",
      "Epoch 2/100\n",
      "23/23 [==============================] - 3s 127ms/step - loss: 0.7755 - sparse_categorical_accuracy: 0.7527 - val_loss: 2.7146 - val_sparse_categorical_accuracy: 0.3556\n",
      "Epoch 3/100\n",
      "23/23 [==============================] - 3s 127ms/step - loss: 0.5076 - sparse_categorical_accuracy: 0.8077 - val_loss: 2.4513 - val_sparse_categorical_accuracy: 0.4444\n",
      "Epoch 4/100\n",
      "23/23 [==============================] - 3s 129ms/step - loss: 0.6049 - sparse_categorical_accuracy: 0.7857 - val_loss: 1.9835 - val_sparse_categorical_accuracy: 0.4889\n",
      "Epoch 5/100\n",
      "23/23 [==============================] - 3s 130ms/step - loss: 0.4391 - sparse_categorical_accuracy: 0.8297 - val_loss: 1.8598 - val_sparse_categorical_accuracy: 0.6667\n",
      "Epoch 6/100\n",
      "23/23 [==============================] - 3s 113ms/step - loss: 0.5668 - sparse_categorical_accuracy: 0.8242 - val_loss: 1.9157 - val_sparse_categorical_accuracy: 0.4889\n",
      "Epoch 7/100\n",
      "23/23 [==============================] - 2s 109ms/step - loss: 0.4941 - sparse_categorical_accuracy: 0.8626 - val_loss: 1.9851 - val_sparse_categorical_accuracy: 0.5778\n",
      "Epoch 8/100\n",
      "23/23 [==============================] - 3s 114ms/step - loss: 0.4746 - sparse_categorical_accuracy: 0.8571 - val_loss: 1.7145 - val_sparse_categorical_accuracy: 0.6222\n",
      "Epoch 9/100\n",
      "23/23 [==============================] - 2s 109ms/step - loss: 0.4277 - sparse_categorical_accuracy: 0.8407 - val_loss: 3.4955 - val_sparse_categorical_accuracy: 0.5333\n",
      "Epoch 10/100\n",
      "23/23 [==============================] - 3s 110ms/step - loss: 0.4162 - sparse_categorical_accuracy: 0.8626 - val_loss: 2.5816 - val_sparse_categorical_accuracy: 0.5333\n",
      "Epoch 11/100\n",
      "23/23 [==============================] - 3s 110ms/step - loss: 0.4019 - sparse_categorical_accuracy: 0.8791 - val_loss: 2.0508 - val_sparse_categorical_accuracy: 0.6000\n",
      "Epoch 12/100\n",
      "23/23 [==============================] - 3s 110ms/step - loss: 0.4047 - sparse_categorical_accuracy: 0.8736 - val_loss: 2.3497 - val_sparse_categorical_accuracy: 0.6444\n",
      "Epoch 13/100\n",
      "23/23 [==============================] - 3s 129ms/step - loss: 0.2520 - sparse_categorical_accuracy: 0.9121 - val_loss: 1.3634 - val_sparse_categorical_accuracy: 0.7333\n",
      "Epoch 14/100\n",
      "23/23 [==============================] - 3s 109ms/step - loss: 0.2562 - sparse_categorical_accuracy: 0.8956 - val_loss: 1.1207 - val_sparse_categorical_accuracy: 0.7333\n",
      "Epoch 15/100\n",
      "23/23 [==============================] - 2s 108ms/step - loss: 0.3135 - sparse_categorical_accuracy: 0.9341 - val_loss: 2.1987 - val_sparse_categorical_accuracy: 0.5556\n",
      "Epoch 16/100\n",
      "23/23 [==============================] - 3s 109ms/step - loss: 0.2530 - sparse_categorical_accuracy: 0.9231 - val_loss: 2.5243 - val_sparse_categorical_accuracy: 0.5333\n",
      "Epoch 17/100\n",
      "23/23 [==============================] - 2s 109ms/step - loss: 0.2574 - sparse_categorical_accuracy: 0.9176 - val_loss: 2.1841 - val_sparse_categorical_accuracy: 0.5556\n",
      "Epoch 18/100\n",
      "23/23 [==============================] - 3s 111ms/step - loss: 0.2089 - sparse_categorical_accuracy: 0.9286 - val_loss: 2.2763 - val_sparse_categorical_accuracy: 0.6000\n",
      "Epoch 19/100\n",
      "23/23 [==============================] - 3s 109ms/step - loss: 0.2175 - sparse_categorical_accuracy: 0.9286 - val_loss: 1.9791 - val_sparse_categorical_accuracy: 0.4444\n",
      "Epoch 20/100\n",
      "23/23 [==============================] - 3s 109ms/step - loss: 0.2877 - sparse_categorical_accuracy: 0.9066 - val_loss: 1.7317 - val_sparse_categorical_accuracy: 0.5556\n",
      "Epoch 21/100\n",
      "23/23 [==============================] - 3s 112ms/step - loss: 0.2138 - sparse_categorical_accuracy: 0.9341 - val_loss: 1.0870 - val_sparse_categorical_accuracy: 0.6889\n",
      "Epoch 22/100\n",
      "23/23 [==============================] - 3s 113ms/step - loss: 0.2467 - sparse_categorical_accuracy: 0.9286 - val_loss: 1.4580 - val_sparse_categorical_accuracy: 0.5556\n",
      "Epoch 23/100\n",
      "23/23 [==============================] - 3s 110ms/step - loss: 0.1936 - sparse_categorical_accuracy: 0.9341 - val_loss: 3.3399 - val_sparse_categorical_accuracy: 0.3333\n",
      "Epoch 24/100\n",
      "23/23 [==============================] - 3s 110ms/step - loss: 0.2089 - sparse_categorical_accuracy: 0.9286 - val_loss: 1.5918 - val_sparse_categorical_accuracy: 0.5778\n",
      "Epoch 25/100\n",
      "23/23 [==============================] - 3s 109ms/step - loss: 0.2134 - sparse_categorical_accuracy: 0.9231 - val_loss: 2.0029 - val_sparse_categorical_accuracy: 0.6444\n",
      "Epoch 26/100\n",
      "23/23 [==============================] - 3s 109ms/step - loss: 0.2372 - sparse_categorical_accuracy: 0.9231 - val_loss: 1.8833 - val_sparse_categorical_accuracy: 0.6000\n",
      "Epoch 27/100\n",
      "23/23 [==============================] - 2s 109ms/step - loss: 0.1754 - sparse_categorical_accuracy: 0.9505 - val_loss: 2.0625 - val_sparse_categorical_accuracy: 0.6667\n",
      "Epoch 28/100\n",
      "23/23 [==============================] - 3s 110ms/step - loss: 0.1340 - sparse_categorical_accuracy: 0.9560 - val_loss: 1.1610 - val_sparse_categorical_accuracy: 0.7111\n",
      "2/2 [==============================] - 0s 36ms/step - loss: 1.3634 - sparse_categorical_accuracy: 0.7333\n",
      "block1a_ same\n",
      "block2a_ ((1, 1), (1, 1))\n",
      "block2a_ valid\n",
      "block2b_ same\n",
      "block3a_ ((2, 2), (2, 2))\n",
      "block3a_ valid\n",
      "block3b_ same\n",
      "block4a_ ((1, 1), (1, 1))\n",
      "block4a_ valid\n",
      "block4b_ same\n",
      "block4c_ same\n",
      "block5a_ same\n",
      "block5b_ same\n",
      "block5c_ same\n",
      "block6a_ ((2, 2), (2, 2))\n",
      "block6a_ valid\n",
      "block6b_ same\n",
      "block6c_ same\n",
      "block6d_ same\n",
      "block7a_ same\n"
     ]
    }
   ],
   "source": [
    "# Train and evaluate the model using K-fold cross-validation\n",
    "scores = []\n",
    "training_accuracy = []\n",
    "validation_accuracy = []\n",
    "training_loss = []\n",
    "validation_loss = []\n",
    "\n",
    "## Initializing the model\n",
    "model_init()\n",
    "\n",
    "## counter for folds\n",
    "i = 1\n",
    "\n",
    "for train_idx, val_idx in kf.split(x_train_val):\n",
    "    X_train = tf.gather(x_train_val, train_idx)\n",
    "    y_train = tf.gather(y_train_val, train_idx)\n",
    "    X_val = tf.gather(x_train_val, val_idx)\n",
    "    y_val = tf.gather(y_train_val, val_idx)\n",
    "    \n",
    "    history = model.fit(X_train, y_train, validation_data=(X_val, y_val), epochs= config.model_epochs, verbose=1, batch_size=config.model_batch_size, \n",
    "                        callbacks=[early_stopping, checkpoint])\n",
    "\n",
    "    training_accuracy.append(history.history['sparse_categorical_accuracy'])\n",
    "    validation_accuracy.append(history.history['val_sparse_categorical_accuracy'])\n",
    "    training_loss.append(history.history['loss'])\n",
    "    validation_loss.append(history.history['val_loss'])\n",
    "    \n",
    "    model.load_weights('best_weights.h5')\n",
    "    score = model.evaluate(X_val, y_val)\n",
    "    scores.append(score[1])\n",
    "    \n",
    "    wandb.log({\"Best Validation Loss for Folds\": score[0]})\n",
    "    wandb.log({\"Best Validation Accuracy for Folds\" : score[1]})\n",
    "    \n",
    "    # Define the current and new file names\n",
    "    current_name = 'best_weights.h5'\n",
    "    new_name = 'fold_' + str(i) + '_best_model_weights.h5'\n",
    "    \n",
    "    i+=1\n",
    "\n",
    "    # Rename the file\n",
    "    os.rename(current_name, new_name)\n",
    "    \n",
    "    ## Reseting the model for the next fold\n",
    "    model_init()"
   ]
  },
  {
   "cell_type": "code",
   "execution_count": 38,
   "id": "c3ae736d",
   "metadata": {
    "ExecuteTime": {
     "end_time": "2023-04-09T20:44:00.262059Z",
     "start_time": "2023-04-09T20:44:00.259248Z"
    },
    "tags": []
   },
   "outputs": [
    {
     "name": "stdout",
     "output_type": "stream",
     "text": [
      "Validation accuracy mean: 0.79 (std 0.04)\n"
     ]
    }
   ],
   "source": [
    "# Print the mean validation accuracy\n",
    "print('Validation accuracy mean: {:.2f} (std {:.2f})'.format(np.mean(scores), np.std(scores)))"
   ]
  },
  {
   "cell_type": "code",
   "execution_count": 39,
   "id": "380b7f7f-3f72-43b1-b0c7-271aacf6d261",
   "metadata": {
    "tags": []
   },
   "outputs": [
    {
     "data": {
      "text/plain": [
       "[0.8260869383811951,\n",
       " 0.782608687877655,\n",
       " 0.8444444537162781,\n",
       " 0.7777777910232544,\n",
       " 0.7333333492279053]"
      ]
     },
     "execution_count": 39,
     "metadata": {},
     "output_type": "execute_result"
    }
   ],
   "source": [
    "scores"
   ]
  },
  {
   "cell_type": "markdown",
   "id": "013aa747-2788-4c43-a743-c29c8c378de4",
   "metadata": {},
   "source": [
    "Calculating the **1 - Cohen's kappa** score of the trained model on the trained dataset."
   ]
  },
  {
   "cell_type": "markdown",
   "id": "6b25d1dd-8f31-410a-b166-e4e76ab602ca",
   "metadata": {},
   "source": [
    "### Model with best validation accuracy"
   ]
  },
  {
   "cell_type": "code",
   "execution_count": 40,
   "id": "57622050-4496-4b58-be90-6290691d01d0",
   "metadata": {
    "tags": []
   },
   "outputs": [],
   "source": [
    "## select the model with the best fold's validation accuracy\n",
    "maximum = max(scores)\n",
    "index_of_maximum = scores.index(maximum)\n",
    "best_fold = index_of_maximum + 1\n",
    "\n",
    "model.load_weights('fold_' + str(best_fold) + '_best_model_weights.h5')"
   ]
  },
  {
   "cell_type": "markdown",
   "id": "49502a7c-6390-436e-9735-799cdebb246b",
   "metadata": {
    "tags": []
   },
   "source": [
    "### Model with best validation accuracy Kohen's Kappa Score"
   ]
  },
  {
   "cell_type": "code",
   "execution_count": 41,
   "id": "bb08a64b",
   "metadata": {
    "ExecuteTime": {
     "end_time": "2023-04-04T20:10:20.518612Z",
     "start_time": "2023-04-04T20:10:19.125881Z"
    },
    "tags": []
   },
   "outputs": [
    {
     "name": "stdout",
     "output_type": "stream",
     "text": [
      "Score: 0.4285714285714286\n"
     ]
    }
   ],
   "source": [
    "predictions = np.zeros(len(y_test), dtype=np.int8)\n",
    "# inference loop\n",
    "for e, (image, target) in enumerate(zip(x_test, y_test)):\n",
    "    image = np.expand_dims(np.array(image), axis=0)\n",
    "    output = model.predict(image)\n",
    "    predictions[e] = np.squeeze(output).argmax()\n",
    "#Keras model score\n",
    "score_keras = 1 - cohen_kappa_score(y_test.numpy(), predictions)\n",
    "print(\"Score:\", score_keras)"
   ]
  },
  {
   "cell_type": "markdown",
   "id": "90bdf6d8-572a-4c1c-8923-0744bee1151f",
   "metadata": {
    "tags": []
   },
   "source": [
    "### Log Cohen Kappa Score for the model with the best validation accuracy (Unifeied Test Set)"
   ]
  },
  {
   "cell_type": "code",
   "execution_count": 43,
   "id": "b8332b8d-eaa4-437b-8e1b-ad922306c05a",
   "metadata": {
    "tags": []
   },
   "outputs": [],
   "source": [
    "wandb.log({\"Cohen Kappa Score for model with best validation accuracy (Unified Test Set)\": score_keras})"
   ]
  },
  {
   "cell_type": "markdown",
   "id": "79eba581-d390-470e-9a03-7add62fb9425",
   "metadata": {},
   "source": [
    "### Acuracy for model with best validation accuracy (Unified Test Set)"
   ]
  },
  {
   "cell_type": "code",
   "execution_count": 44,
   "id": "1f67616e-002a-46a0-9fed-d28104e756f6",
   "metadata": {
    "tags": []
   },
   "outputs": [
    {
     "name": "stdout",
     "output_type": "stream",
     "text": [
      "Accuracy:  0.625\n"
     ]
    }
   ],
   "source": [
    "# assuming you have two lists, predicted and actual\n",
    "correct = 0\n",
    "total = len(y_test.numpy())\n",
    "\n",
    "for pred, label in zip(predictions, y_test.numpy()):\n",
    "    if pred == label:\n",
    "        correct += 1\n",
    "\n",
    "accuracy = correct / total\n",
    "\n",
    "print(\"Accuracy: \", accuracy)"
   ]
  },
  {
   "cell_type": "markdown",
   "id": "d8bcfddf-9634-43fc-bc1e-068d1c7c04c1",
   "metadata": {
    "tags": []
   },
   "source": [
    "### Log Accuracy for the model with the best validation accuracy (Unifeied Test Set)"
   ]
  },
  {
   "cell_type": "code",
   "execution_count": 45,
   "id": "528570bb-2435-44ca-ac10-b8824ca2dde7",
   "metadata": {
    "tags": []
   },
   "outputs": [],
   "source": [
    "wandb.log({\"Accuracy for model with best validation accuracy (Unified Test Set)\": accuracy})"
   ]
  },
  {
   "cell_type": "markdown",
   "id": "4fa9ebb8-4d1c-434d-bf3e-d4c6cc942ee0",
   "metadata": {},
   "source": [
    "### Ensemble model from the k trained models"
   ]
  },
  {
   "cell_type": "code",
   "execution_count": 46,
   "id": "7df5c93d-bf69-4526-bf7a-dd469b15ac7e",
   "metadata": {
    "tags": []
   },
   "outputs": [
    {
     "name": "stdout",
     "output_type": "stream",
     "text": [
      "WARNING:tensorflow:5 out of the last 47 calls to <function Model.make_predict_function.<locals>.predict_function at 0x7fd65a8e8430> triggered tf.function retracing. Tracing is expensive and the excessive number of tracings could be due to (1) creating @tf.function repeatedly in a loop, (2) passing tensors with different shapes, (3) passing Python objects instead of tensors. For (1), please define your @tf.function outside of the loop. For (2), @tf.function has experimental_relax_shapes=True option that relaxes argument shapes that can avoid unnecessary retracing. For (3), please refer to https://www.tensorflow.org/guide/function#controlling_retracing and https://www.tensorflow.org/api_docs/python/tf/function for  more details.\n",
      "WARNING:tensorflow:6 out of the last 49 calls to <function Model.make_predict_function.<locals>.predict_function at 0x7fd6b84f40d0> triggered tf.function retracing. Tracing is expensive and the excessive number of tracings could be due to (1) creating @tf.function repeatedly in a loop, (2) passing tensors with different shapes, (3) passing Python objects instead of tensors. For (1), please define your @tf.function outside of the loop. For (2), @tf.function has experimental_relax_shapes=True option that relaxes argument shapes that can avoid unnecessary retracing. For (3), please refer to https://www.tensorflow.org/guide/function#controlling_retracing and https://www.tensorflow.org/api_docs/python/tf/function for  more details.\n"
     ]
    }
   ],
   "source": [
    "models = []\n",
    "for i in range(1, (config.cross_validation_k + 1)):\n",
    "    models.append(keras.models.load_model('fold_' + str(i) + '_best_model_weights.h5', custom_objects={'CustomLoss': custom_loss}))\n",
    "    \n",
    "y_preds = []\n",
    "for model in models:\n",
    "    y_pred = model.predict(x_test)\n",
    "    y_preds.append(y_pred)\n",
    "    \n",
    "# combine the predictions using voting or averaging\n",
    "y_ensemble = sum(y_preds) / config.cross_validation_k"
   ]
  },
  {
   "cell_type": "markdown",
   "id": "ffd793b9-e56c-46c5-9f58-38a7d4bbb536",
   "metadata": {},
   "source": [
    "### Ensemble model Kohen's Kappa Score"
   ]
  },
  {
   "cell_type": "code",
   "execution_count": 48,
   "id": "0a78c7c3-6804-4eb8-9244-926403e59229",
   "metadata": {
    "tags": []
   },
   "outputs": [
    {
     "name": "stdout",
     "output_type": "stream",
     "text": [
      "Score: 0.3142857142857143\n"
     ]
    }
   ],
   "source": [
    "predictions = np.zeros(len(y_test), dtype=np.int8)\n",
    "# inference loop\n",
    "for e, (image, target) in enumerate(zip(x_test, y_test)):\n",
    "    image = np.expand_dims(np.array(image), axis=0)\n",
    "    output = y_ensemble[e]\n",
    "    predictions[e] = np.squeeze(output).argmax()\n",
    "#Keras model score\n",
    "score_keras = 1 - cohen_kappa_score(y_test.numpy(), predictions)\n",
    "print(\"Score:\",score_keras)"
   ]
  },
  {
   "cell_type": "markdown",
   "id": "941f04a6-9431-4b6b-8bdc-ac2c2e7e4b14",
   "metadata": {
    "tags": []
   },
   "source": [
    "### Log Cohen Kappa Score for the ensemble model (Unifeied Test Set)"
   ]
  },
  {
   "cell_type": "code",
   "execution_count": 49,
   "id": "12edc555-dfc8-46a5-b232-90f414bbb4bd",
   "metadata": {
    "tags": []
   },
   "outputs": [],
   "source": [
    "wandb.log({\"Cohen Kappa Score for the ensemble model (Unified Test Set)\": score_keras})"
   ]
  },
  {
   "cell_type": "markdown",
   "id": "982b1e1e-7720-4784-9af6-f7aa5bc35e38",
   "metadata": {
    "tags": []
   },
   "source": [
    "### Accuracy "
   ]
  },
  {
   "cell_type": "code",
   "execution_count": 51,
   "id": "52b23a82-f1c9-4955-a519-a85187b2e656",
   "metadata": {
    "tags": []
   },
   "outputs": [
    {
     "name": "stdout",
     "output_type": "stream",
     "text": [
      "Accuracy:  0.725\n"
     ]
    }
   ],
   "source": [
    "# assuming you have two lists, predicted and actual\n",
    "correct = 0\n",
    "total = len(y_test.numpy())\n",
    "\n",
    "for pred, label in zip(predictions, y_test.numpy()):\n",
    "    if pred == label:\n",
    "        correct += 1\n",
    "\n",
    "accuracy = correct / total\n",
    "\n",
    "print(\"Accuracy: \", accuracy)"
   ]
  },
  {
   "cell_type": "markdown",
   "id": "18f073c6-6366-4846-8275-13af9784ca1e",
   "metadata": {
    "tags": []
   },
   "source": [
    "### Log Accuracy for the ensemble model (Unifeied Test Set)"
   ]
  },
  {
   "cell_type": "code",
   "execution_count": 52,
   "id": "be5c349e-cd11-43a5-b0e3-1f16aec93037",
   "metadata": {
    "tags": []
   },
   "outputs": [],
   "source": [
    "wandb.log({\"Accuracy for the ensemble model (Unified Test Set)\": accuracy})"
   ]
  },
  {
   "cell_type": "markdown",
   "id": "a6b9b6db-0771-41f7-9c83-29e26f8a9318",
   "metadata": {},
   "source": [
    "## Train - Validation Visualization"
   ]
  },
  {
   "cell_type": "code",
   "execution_count": 53,
   "id": "eccf8e57-6fb7-443d-ba9a-adc43ba15c43",
   "metadata": {
    "tags": []
   },
   "outputs": [
    {
     "data": {
      "text/plain": [
       "[38, 29, 21, 31, 28]"
      ]
     },
     "execution_count": 53,
     "metadata": {},
     "output_type": "execute_result"
    }
   ],
   "source": [
    "eps_per_fold = [len(sub_list) for sub_list in training_accuracy]\n",
    "eps_per_fold"
   ]
  },
  {
   "cell_type": "code",
   "execution_count": 54,
   "id": "5865317a-83dc-42c1-a4f3-1abe577e63b8",
   "metadata": {
    "tags": []
   },
   "outputs": [],
   "source": [
    "eps_per_fold_cum = list(accumulate(eps_per_fold))"
   ]
  },
  {
   "cell_type": "code",
   "execution_count": 55,
   "id": "154f6fb9-0369-4090-983d-58a4d79f5410",
   "metadata": {
    "tags": []
   },
   "outputs": [],
   "source": [
    "training_accuracy = [element for sublist in training_accuracy for element in sublist]\n",
    "validation_accuracy = [element for sublist in validation_accuracy for element in sublist]\n",
    "training_loss = [element for sublist in training_loss for element in sublist]\n",
    "validation_loss = [element for sublist in validation_loss for element in sublist]"
   ]
  },
  {
   "cell_type": "code",
   "execution_count": 56,
   "id": "c84b0a9c-6f41-444e-ba23-cab449735fb1",
   "metadata": {
    "tags": []
   },
   "outputs": [
    {
     "data": {
      "text/plain": [
       "[38, 67, 88, 119, 147]"
      ]
     },
     "execution_count": 56,
     "metadata": {},
     "output_type": "execute_result"
    }
   ],
   "source": [
    "eps_per_fold_cum"
   ]
  },
  {
   "cell_type": "code",
   "execution_count": 57,
   "id": "a3bdaa28-fd23-4ffc-9174-f51aa4ad8f2a",
   "metadata": {
    "tags": []
   },
   "outputs": [],
   "source": [
    "xs = []\n",
    "ys = []\n",
    "for i in range(config.cross_validation_k):\n",
    "    xs.append(eps_per_fold_cum[i]+1)\n",
    "    ys.append(training_accuracy[eps_per_fold_cum[0]-1])\n",
    "# xs = [eps_per_fold_cum[0]+1, eps_per_fold_cum[1]+1, eps_per_fold_cum[2]+1, eps_per_fold_cum[3]+1, eps_per_fold_cum[4]+1]\n",
    "# ys = [training_accuracy[eps_per_fold_cum[0]-1], training_accuracy[eps_per_fold_cum[1]-1], training_accuracy[eps_per_fold_cum[2]-1],\n",
    "#          training_accuracy[eps_per_fold_cum[3]-1], training_accuracy[eps_per_fold_cum[4]-1]]"
   ]
  },
  {
   "cell_type": "code",
   "execution_count": 59,
   "id": "f5e2e0b8-4b97-430f-a553-5962477fa2e4",
   "metadata": {
    "tags": []
   },
   "outputs": [
    {
     "data": {
      "image/png": "[encoded data removed]",
      "text/plain": [
       "<Figure size 1500x600 with 1 Axes>"
      ]
     },
     "metadata": {},
     "output_type": "display_data"
    }
   ],
   "source": [
    "x1 = list(range(1, len(training_accuracy) + 1))\n",
    "x2 = list(range(1, len(validation_accuracy) + 1))\n",
    "\n",
    "fig = plt.figure(figsize=(15, 6))\n",
    "\n",
    "# Create the plot\n",
    "plt.plot(x1, training_accuracy, label='Training Accuracy')\n",
    "plt.plot(x2, validation_accuracy, label='Validation Accuracy')\n",
    "\n",
    "\n",
    "\n",
    "# Add points with labels\n",
    "for i in range(config.cross_validation_k-1):\n",
    "    plt.axvline(x=xs[i], color='red', linestyle='--')\n",
    "# plt.axvline(x=xs[0], color='red', linestyle='--')\n",
    "# plt.axvline(x=xs[1], color='red', linestyle='--')\n",
    "# plt.axvline(x=xs[2], color='red', linestyle='--')\n",
    "# plt.axvline(x=xs[3], color='red', linestyle='--')\n",
    "\n",
    "# Add annotations to the lines\n",
    "for i in range(config.cross_validation_k-1):\n",
    "    plt.annotate('Fold '+str(i+2), xy=(xs[i], 0.2), xytext=(xs[i]+1, 0.15),\n",
    "             arrowprops=dict(facecolor='black', arrowstyle='->'))\n",
    "\n",
    "# plt.annotate('Fold 2', xy=(xs[0], 0.5), xytext=(xs[0]+1, 0.4),\n",
    "#              arrowprops=dict(facecolor='black', arrowstyle='->'))\n",
    "# plt.annotate('Fold 3', xy=(xs[1], 0.5), xytext=(xs[1]+1, 0.4),\n",
    "#              arrowprops=dict(facecolor='black', arrowstyle='->'))\n",
    "# plt.annotate('Fold 4', xy=(xs[2], 0.5), xytext=(xs[2]+1, 0.4),\n",
    "#              arrowprops=dict(facecolor='black', arrowstyle='->'))\n",
    "# plt.annotate('Fold 5', xy=(xs[3], 0.5), xytext=(xs[3]+1, 0.4),\n",
    "#              arrowprops=dict(facecolor='black', arrowstyle='->'))\n",
    "# plt.axvline(x=xs[4], color='red', linestyle='--')\n",
    "# plt.scatter(xs, ys, color='red')\n",
    "# plt.annotate('Point 1', (2, 4), textcoords=\"offset points\", xytext=(0,10), ha='center')\n",
    "# plt.annotate('Point 2', (4, 8), textcoords=\"offset points\", xytext=(0,10), ha='center')\n",
    "\n",
    "\n",
    "# Add a legend\n",
    "plt.legend()\n",
    "\n",
    "# Enable the grid\n",
    "# plt.grid(True)\n",
    "\n",
    "## Log Train - Val Accuracy Curve\n",
    "wandb.log({'Train - Val Accuracy': wandb.Image(plt)})\n",
    "\n",
    "# Show the plot\n",
    "# plt.show()"
   ]
  },
  {
   "cell_type": "code",
   "execution_count": 64,
   "id": "0f09b955-43d2-4cec-9601-68f309c45c13",
   "metadata": {
    "tags": []
   },
   "outputs": [
    {
     "data": {
      "image/png": "[encoded data removed]",
      "text/plain": [
       "<Figure size 1500x600 with 1 Axes>"
      ]
     },
     "metadata": {},
     "output_type": "display_data"
    }
   ],
   "source": [
    "x1 = list(range(1, len(training_loss) + 1))\n",
    "x2 = list(range(1, len(validation_loss) + 1))\n",
    "\n",
    "fig = plt.figure(figsize=(15, 6))\n",
    "\n",
    "# Create the plot\n",
    "plt.plot(x1, training_loss, label='Training Loss')\n",
    "plt.plot(x2, validation_loss, label='Validation Loss')\n",
    "\n",
    "\n",
    "\n",
    "# Add points with labels\n",
    "for i in range(config.cross_validation_k-1):\n",
    "    plt.axvline(x=xs[i], color='red', linestyle='--')\n",
    "# plt.axvline(x=xs[0], color='red', linestyle='--')\n",
    "# plt.axvline(x=xs[1], color='red', linestyle='--')\n",
    "# plt.axvline(x=xs[2], color='red', linestyle='--')\n",
    "# plt.axvline(x=xs[3], color='red', linestyle='--')\n",
    "\n",
    "# Add annotations to the lines\n",
    "for i in range(config.cross_validation_k-1):\n",
    "    plt.annotate('Fold '+str(i+2), xy=(xs[i], 0), xytext=(xs[i]+1, 0),\n",
    "             arrowprops=dict(facecolor='black', arrowstyle='->'))\n",
    "\n",
    "# plt.annotate('Fold 2', xy=(xs[0], 0.5), xytext=(xs[0]+1, 0.4),\n",
    "#              arrowprops=dict(facecolor='black', arrowstyle='->'))\n",
    "# plt.annotate('Fold 3', xy=(xs[1], 0.5), xytext=(xs[1]+1, 0.4),\n",
    "#              arrowprops=dict(facecolor='black', arrowstyle='->'))\n",
    "# plt.annotate('Fold 4', xy=(xs[2], 0.5), xytext=(xs[2]+1, 0.4),\n",
    "#              arrowprops=dict(facecolor='black', arrowstyle='->'))\n",
    "# plt.annotate('Fold 5', xy=(xs[3], 0.5), xytext=(xs[3]+1, 0.4),\n",
    "#              arrowprops=dict(facecolor='black', arrowstyle='->'))\n",
    "# plt.axvline(x=xs[4], color='red', linestyle='--')\n",
    "# plt.scatter(xs, ys, color='red')\n",
    "# plt.annotate('Point 1', (2, 4), textcoords=\"offset points\", xytext=(0,10), ha='center')\n",
    "# plt.annotate('Point 2', (4, 8), textcoords=\"offset points\", xytext=(0,10), ha='center')\n",
    "\n",
    "\n",
    "# Add a legend\n",
    "plt.legend()\n",
    "\n",
    "# Enable the grid\n",
    "# plt.grid(True)\n",
    "\n",
    "## Log Train - Val Accuracy Curve\n",
    "wandb.log({'Train - Val Loss': wandb.Image(plt)})\n",
    "\n",
    "# Show the plot\n",
    "# plt.show()"
   ]
  },
  {
   "cell_type": "markdown",
   "id": "3f341c28-1ecf-42a6-b76f-710d8bc40fbf",
   "metadata": {},
   "source": [
    "## Log Unified Test Set and its predictions"
   ]
  },
  {
   "cell_type": "code",
   "execution_count": 65,
   "id": "bd3a4b92-6599-4f63-8e84-9404ff5ee6be",
   "metadata": {
    "tags": []
   },
   "outputs": [],
   "source": [
    "prediction_names = [class_name_label[num] for num in predictions]\n",
    "actual_names = [class_name_label[num] for num in y_test.numpy()]"
   ]
  },
  {
   "cell_type": "code",
   "execution_count": 66,
   "id": "e57e146b-c100-4338-a283-8c9ad2ee3641",
   "metadata": {
    "tags": []
   },
   "outputs": [],
   "source": [
    "pred_is_actual = [x == y for x, y in zip(prediction_names, actual_names)]"
   ]
  },
  {
   "cell_type": "markdown",
   "id": "3e3d1ad5-f57c-496a-9439-b6f70204ed37",
   "metadata": {},
   "source": [
    "### Log Correct and Wrong Predictions as Images"
   ]
  },
  {
   "cell_type": "code",
   "execution_count": 67,
   "id": "d02bdf7d-96b3-4f19-adeb-534865cc5c43",
   "metadata": {
    "tags": []
   },
   "outputs": [],
   "source": [
    "# assuming you have lists of images, predictions, and actual labels\n",
    "for i, (img, pred, label) in enumerate(zip(x_test, prediction_names, actual_names)):\n",
    "    wandb.log({'All Predictions - Unified Test Set': wandb.Image(img, caption='predicted: {}, actual: {}'.format(pred, label))})\n",
    "    \n",
    "    if(pred_is_actual[i]):\n",
    "        wandb.log({'Correct Predictions - Unified Test Set': wandb.Image(img, caption='predicted: {}, actual: {}'.format(pred, label))})\n",
    "    else:\n",
    "        wandb.log({'Wrong Predictions - Unified Test Set': wandb.Image(img, caption='predicted: {}, actual: {}'.format(pred, label))})"
   ]
  },
  {
   "cell_type": "markdown",
   "id": "f185f21c-183f-4a40-a006-7a9e584773c6",
   "metadata": {},
   "source": [
    "### Class accuracies"
   ]
  },
  {
   "cell_type": "code",
   "execution_count": 68,
   "id": "97ec4f49-6f4f-4e84-9202-d292727f66a1",
   "metadata": {},
   "outputs": [],
   "source": [
    "df_preds = pd.DataFrame({\"actual\": actual_names, \"prediction\": prediction_names, \"correct\": pred_is_actual})"
   ]
  },
  {
   "cell_type": "code",
   "execution_count": 69,
   "id": "d9f98010-5dca-4c8b-8d41-9707a3b88b36",
   "metadata": {
    "tags": []
   },
   "outputs": [],
   "source": [
    "# group the dataframe by the 'actual' column\n",
    "grouped = df_preds.groupby('actual')\n",
    "class_accuracy = pd.DataFrame(data={}, columns=['class', 'accuracy'])\n",
    "# calculate the accuracy for each group\n",
    "for name, group in grouped:\n",
    "    accuracy = accuracy_score(group['actual'], group['prediction'])\n",
    "    # print('Accuracy for class {}: {}'.format(name, accuracy))\n",
    "    new_row = {\"class\": name, 'accuracy': accuracy}\n",
    "    class_accuracy = pd.concat([class_accuracy, pd.DataFrame([new_row])], ignore_index=True)\n",
    "class_accuracy = class_accuracy.sort_values('accuracy', ascending=True).reset_index(drop = True)"
   ]
  },
  {
   "cell_type": "code",
   "execution_count": 70,
   "id": "bec8b796-108b-46eb-9960-dcd324c754c4",
   "metadata": {
    "tags": []
   },
   "outputs": [
    {
     "data": {
      "text/html": [
       "<div>\n",
       "<style scoped>\n",
       "    .dataframe tbody tr th:only-of-type {\n",
       "        vertical-align: middle;\n",
       "    }\n",
       "\n",
       "    .dataframe tbody tr th {\n",
       "        vertical-align: top;\n",
       "    }\n",
       "\n",
       "    .dataframe thead th {\n",
       "        text-align: right;\n",
       "    }\n",
       "</style>\n",
       "<table border=\"1\" class=\"dataframe\">\n",
       "  <thead>\n",
       "    <tr style=\"text-align: right;\">\n",
       "      <th></th>\n",
       "      <th>class</th>\n",
       "      <th>accuracy</th>\n",
       "    </tr>\n",
       "  </thead>\n",
       "  <tbody>\n",
       "    <tr>\n",
       "      <th>0</th>\n",
       "      <td>Natural</td>\n",
       "      <td>0.0</td>\n",
       "    </tr>\n",
       "    <tr>\n",
       "      <th>1</th>\n",
       "      <td>Mountain</td>\n",
       "      <td>0.6</td>\n",
       "    </tr>\n",
       "    <tr>\n",
       "      <th>2</th>\n",
       "      <td>Agricultural</td>\n",
       "      <td>0.8</td>\n",
       "    </tr>\n",
       "    <tr>\n",
       "      <th>3</th>\n",
       "      <td>Cloud</td>\n",
       "      <td>0.8</td>\n",
       "    </tr>\n",
       "    <tr>\n",
       "      <th>4</th>\n",
       "      <td>River</td>\n",
       "      <td>0.8</td>\n",
       "    </tr>\n",
       "    <tr>\n",
       "      <th>5</th>\n",
       "      <td>Sea_ice</td>\n",
       "      <td>0.8</td>\n",
       "    </tr>\n",
       "    <tr>\n",
       "      <th>6</th>\n",
       "      <td>Snow</td>\n",
       "      <td>1.0</td>\n",
       "    </tr>\n",
       "    <tr>\n",
       "      <th>7</th>\n",
       "      <td>Water</td>\n",
       "      <td>1.0</td>\n",
       "    </tr>\n",
       "  </tbody>\n",
       "</table>\n",
       "</div>"
      ],
      "text/plain": [
       "          class  accuracy\n",
       "0       Natural       0.0\n",
       "1      Mountain       0.6\n",
       "2  Agricultural       0.8\n",
       "3         Cloud       0.8\n",
       "4         River       0.8\n",
       "5       Sea_ice       0.8\n",
       "6          Snow       1.0\n",
       "7         Water       1.0"
      ]
     },
     "execution_count": 70,
     "metadata": {},
     "output_type": "execute_result"
    }
   ],
   "source": [
    "class_accuracy"
   ]
  },
  {
   "cell_type": "code",
   "execution_count": 71,
   "id": "6f9fb81b-ae64-431a-8b1c-d56011502aaa",
   "metadata": {
    "tags": []
   },
   "outputs": [],
   "source": [
    "# create a wandb.Table object from the dataframe\n",
    "table = wandb.Table(dataframe=class_accuracy)\n",
    "# log the table to wandb\n",
    "wandb.log({'Class Accuracies': table})"
   ]
  },
  {
   "cell_type": "code",
   "execution_count": 72,
   "id": "d86f03fa-fdd8-4861-b0ae-d9d079d9334a",
   "metadata": {
    "tags": []
   },
   "outputs": [
    {
     "data": {
      "text/html": [
       "Waiting for W&B process to finish... <strong style=\"color:green\">(success).</strong>"
      ],
      "text/plain": [
       "<IPython.core.display.HTML object>"
      ]
     },
     "metadata": {},
     "output_type": "display_data"
    },
    {
     "data": {
      "text/html": [
       "<style>\n",
       "    table.wandb td:nth-child(1) { padding: 0 10px; text-align: left ; width: auto;} td:nth-child(2) {text-align: left ; width: 100%}\n",
       "    .wandb-row { display: flex; flex-direction: row; flex-wrap: wrap; justify-content: flex-start; width: 100% }\n",
       "    .wandb-col { display: flex; flex-direction: column; flex-basis: 100%; flex: 1; padding: 10px; }\n",
       "    </style>\n",
       "<div class=\"wandb-row\"><div class=\"wandb-col\"><h3>Run history:</h3><br/><table class=\"wandb\"><tr><td>Accuracy for model with best validation accuracy (Unified Test Set)</td><td>▁</td></tr><tr><td>Accuracy for the ensemble model (Unified Test Set)</td><td>▁</td></tr><tr><td>Best Validation Accuracy for Folds</td><td>▇▄█▄▁</td></tr><tr><td>Best Validation Loss for Folds</td><td>▂▃▁█▆</td></tr><tr><td>Cohen Kappa Score for model with best validation accuracy (Unified Test Set)</td><td>▁</td></tr><tr><td>Cohen Kappa Score for the ensemble model (Unified Test Set)</td><td>▁</td></tr></table><br/></div><div class=\"wandb-col\"><h3>Run summary:</h3><br/><table class=\"wandb\"><tr><td>Accuracy for model with best validation accuracy (Unified Test Set)</td><td>0.625</td></tr><tr><td>Accuracy for the ensemble model (Unified Test Set)</td><td>0.725</td></tr><tr><td>Best Validation Accuracy for Folds</td><td>0.73333</td></tr><tr><td>Best Validation Loss for Folds</td><td>1.36341</td></tr><tr><td>Cohen Kappa Score for model with best validation accuracy (Unified Test Set)</td><td>0.42857</td></tr><tr><td>Cohen Kappa Score for the ensemble model (Unified Test Set)</td><td>0.31429</td></tr></table><br/></div></div>"
      ],
      "text/plain": [
       "<IPython.core.display.HTML object>"
      ]
     },
     "metadata": {},
     "output_type": "display_data"
    },
    {
     "data": {
      "text/html": [
       " View run <strong style=\"color:#cdcd00\">stoic-puddle-45</strong> at: <a href='https://wandb.ai/ramez/OPS-SAT-Thesis-Project/runs/7bhmebx2' target=\"_blank\">https://wandb.ai/ramez/OPS-SAT-Thesis-Project/runs/7bhmebx2</a><br/>Synced 6 W&B file(s), 87 media file(s), 1 artifact file(s) and 0 other file(s)"
      ],
      "text/plain": [
       "<IPython.core.display.HTML object>"
      ]
     },
     "metadata": {},
     "output_type": "display_data"
    },
    {
     "data": {
      "text/html": [
       "Find logs at: <code>./wandb/run-20230506_110150-7bhmebx2/logs</code>"
      ],
      "text/plain": [
       "<IPython.core.display.HTML object>"
      ]
     },
     "metadata": {},
     "output_type": "display_data"
    }
   ],
   "source": [
    "wandb.finish()"
   ]
  },
  {
   "cell_type": "code",
   "execution_count": null,
   "id": "f1073ff0-8023-4446-9287-711b255c8486",
   "metadata": {},
   "outputs": [],
   "source": []
  },
  {
   "cell_type": "code",
   "execution_count": null,
   "id": "6914a879-ea49-4d8c-aa12-22231573d2e4",
   "metadata": {},
   "outputs": [],
   "source": []
  },
  {
   "cell_type": "code",
   "execution_count": null,
   "id": "488a741c-626d-4480-acf2-0e18892a05ab",
   "metadata": {},
   "outputs": [],
   "source": []
  },
  {
   "cell_type": "code",
   "execution_count": null,
   "id": "e4480c0e-72c2-418c-af05-2d47ae530e70",
   "metadata": {},
   "outputs": [],
   "source": []
  },
  {
   "cell_type": "code",
   "execution_count": null,
   "id": "ab82b9af-129b-4795-9411-60ba573f9656",
   "metadata": {},
   "outputs": [],
   "source": []
  },
  {
   "cell_type": "code",
   "execution_count": null,
   "id": "d718f5fc",
   "metadata": {
    "ExecuteTime": {
     "end_time": "2023-04-09T20:42:39.783353Z",
     "start_time": "2023-04-09T20:42:39.220320Z"
    },
    "tags": []
   },
   "outputs": [],
   "source": [
    "## Load the Model without any weight initialization\n",
    "# model = EfficientNetLiteB0(classes=num_classes, weights=None, input_shape=input_shape, classifier_activation=None)\n",
    "# model.summary()"
   ]
  },
  {
   "cell_type": "code",
   "execution_count": null,
   "id": "2c9ed0f4-bd3f-45bd-b135-b0332086e2f7",
   "metadata": {},
   "outputs": [],
   "source": []
  },
  {
   "cell_type": "code",
   "execution_count": null,
   "id": "00f6c73b",
   "metadata": {
    "ExecuteTime": {
     "end_time": "2022-10-30T19:46:06.491070Z",
     "start_time": "2022-10-30T19:46:06.274124Z"
    }
   },
   "outputs": [],
   "source": [
    "## Saving model\n",
    "# model.save_weights('/home/ramez/Politechnika_Slaska_MSc/Thesis/Competition/submission/submit_19.h5')"
   ]
  },
  {
   "cell_type": "code",
   "execution_count": null,
   "id": "8b0adb32",
   "metadata": {
    "ExecuteTime": {
     "end_time": "2022-10-30T19:40:44.823406Z",
     "start_time": "2022-10-30T19:40:43.780920Z"
    }
   },
   "outputs": [],
   "source": [
    "# model = EfficientNetLiteB0(classes=num_classes, weights=None, input_shape=input_shape, classifier_activation=None)\n",
    "# # model = EfficientNetLiteB0(include_top=False, classes=num_classes, weights='imagenet', input_shape=input_shape, classifier_activation=None)\n",
    "# model.load_weights('/home/ramez/Politechnika_Slaska_MSc/Thesis/Competition/submission/model_patterns_20epochs.h5')"
   ]
  },
  {
   "cell_type": "markdown",
   "id": "91d26b2b",
   "metadata": {},
   "source": [
    "The model will be now compiled and tested again. You should get the same score as before saving and loading. "
   ]
  },
  {
   "cell_type": "code",
   "execution_count": null,
   "id": "27e0e495",
   "metadata": {
    "ExecuteTime": {
     "end_time": "2022-10-08T14:01:38.000493Z",
     "start_time": "2022-10-08T14:01:36.169912Z"
    }
   },
   "outputs": [],
   "source": [
    "# #Model shall be compiled before testing.\n",
    "# model.compile()\n",
    "\n",
    "# #Creating empty predictions\n",
    "# predictions = np.zeros(len(y_test), dtype=np.int8)\n",
    "# # inference loop\n",
    "# for e, (image, target) in enumerate(zip(x_test, y_test)):\n",
    "#     image = np.expand_dims(np.array(image), axis=0)\n",
    "#     output = model.predict(image)\n",
    "#     predictions[e] = np.squeeze(output).argmax()\n",
    "# #Keras model score\n",
    "# score_keras = 1 - cohen_kappa_score(y_test.numpy(), predictions)\n",
    "# print(\"Score:\",score_keras)"
   ]
  },
  {
   "cell_type": "code",
   "execution_count": null,
   "id": "82416ca4",
   "metadata": {},
   "outputs": [],
   "source": []
  },
  {
   "cell_type": "code",
   "execution_count": null,
   "id": "14eedf3b",
   "metadata": {},
   "outputs": [],
   "source": []
  },
  {
   "cell_type": "code",
   "execution_count": null,
   "id": "786276ad",
   "metadata": {},
   "outputs": [],
   "source": []
  },
  {
   "cell_type": "code",
   "execution_count": null,
   "id": "bf1b71e6",
   "metadata": {
    "ExecuteTime": {
     "end_time": "2022-10-12T18:20:06.668315Z",
     "start_time": "2022-10-12T18:20:06.652610Z"
    }
   },
   "outputs": [],
   "source": []
  },
  {
   "cell_type": "code",
   "execution_count": null,
   "id": "e2dd4279",
   "metadata": {},
   "outputs": [],
   "source": []
  }
 ],
 "metadata": {
  "kernelspec": {
   "display_name": "Python 3 (ipykernel)",
   "language": "python",
   "name": "python3"
  },
  "language_info": {
   "codemirror_mode": {
    "name": "ipython",
    "version": 3
   },
   "file_extension": ".py",
   "mimetype": "text/x-python",
   "name": "python",
   "nbconvert_exporter": "python",
   "pygments_lexer": "ipython3",
   "version": "3.9.16"
  },
  "toc": {
   "base_numbering": 1,
   "nav_menu": {},
   "number_sections": true,
   "sideBar": true,
   "skip_h1_title": false,
   "title_cell": "Table of Contents",
   "title_sidebar": "Contents",
   "toc_cell": false,
   "toc_position": {},
   "toc_section_display": true,
   "toc_window_display": false
  }
 },
 "nbformat": 4,
 "nbformat_minor": 5
}
