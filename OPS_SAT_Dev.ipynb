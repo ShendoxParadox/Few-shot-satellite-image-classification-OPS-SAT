{
 "cells": [
  {
   "cell_type": "markdown",
   "id": "fcdcd3ca",
   "metadata": {},
   "source": [
    "# OPS-SAT case starter-kit notebook"
   ]
  },
  {
   "cell_type": "markdown",
   "id": "a3ad0860",
   "metadata": {},
   "source": [
    "ESA's [Kelvins](https://kelvins.esa.int) competition \"[the OPS-SAT case](https://kelvins.esa.int/opssat/home/)\" is a novel data-centric challenge that asks you to work with the raw data of a satellite and very few provided labels to find the best parameters for a given machine learning model. Compared to previous competitions on Kelvins (like the [Pose Estimation](https://kelvins.esa.int/pose-estimation-2021/) or the [Proba-V Super-resolution challenge](https://kelvins.esa.int/proba-v-super-resolution/)) where the test-set is provided and the infered results are submitted, for the OPS-SAT case, we will run inference on the Kelvins server directly! This notebooks contains examples on how you can load your data and train an **EfficientNetLite0** model by only using the 80-labeled images provided. Therefore, the directory `images`, containing unlabeld patches and included in the training dataset is not used for this notebook. However, competitors are encouraged to use these patches to improve the model accuracy."
   ]
  },
  {
   "cell_type": "markdown",
   "id": "403eeb5a",
   "metadata": {},
   "source": [
    "# 1. Module imports"
   ]
  },
  {
   "cell_type": "markdown",
   "id": "91d88f44",
   "metadata": {},
   "source": [
    "If you do not have a GPU, uncomment and run the next commands.\n"
   ]
  },
  {
   "cell_type": "code",
   "execution_count": 132,
   "id": "1f3f6cde",
   "metadata": {
    "ExecuteTime": {
     "end_time": "2023-04-09T20:42:31.525217Z",
     "start_time": "2023-04-09T20:42:31.521341Z"
    },
    "scrolled": true,
    "tags": []
   },
   "outputs": [
    {
     "data": {
      "text/plain": [
       "'3.9.16 (main, Mar  8 2023, 14:00:05) \\n[GCC 11.2.0]'"
      ]
     },
     "execution_count": 132,
     "metadata": {},
     "output_type": "execute_result"
    }
   ],
   "source": [
    "import sys\n",
    "sys.version"
   ]
  },
  {
   "cell_type": "code",
   "execution_count": 133,
   "id": "c7c8f9d8",
   "metadata": {
    "ExecuteTime": {
     "end_time": "2023-04-09T20:42:31.887841Z",
     "start_time": "2023-04-09T20:42:31.711974Z"
    },
    "tags": []
   },
   "outputs": [
    {
     "name": "stdout",
     "output_type": "stream",
     "text": [
      "/usr/bin/zsh: /home/ramez/miniconda3/envs/thesis/lib/libtinfo.so.6: no version information available (required by /usr/bin/zsh)\n",
      "Python 3.9.16\n"
     ]
    }
   ],
   "source": [
    "! python --version"
   ]
  },
  {
   "cell_type": "code",
   "execution_count": 134,
   "id": "cb8fddce",
   "metadata": {
    "ExecuteTime": {
     "end_time": "2023-04-09T20:42:32.267814Z",
     "start_time": "2023-04-09T20:42:32.094731Z"
    },
    "tags": []
   },
   "outputs": [
    {
     "name": "stdout",
     "output_type": "stream",
     "text": [
      "/usr/bin/zsh: /home/ramez/miniconda3/envs/thesis/lib/libtinfo.so.6: no version information available (required by /usr/bin/zsh)\n",
      "/home/ramez/miniconda3/envs/thesis/bin/python\n"
     ]
    }
   ],
   "source": [
    "! which python"
   ]
  },
  {
   "cell_type": "code",
   "execution_count": 135,
   "id": "c3aecaa6",
   "metadata": {
    "ExecuteTime": {
     "end_time": "2023-04-09T20:42:33.914315Z",
     "start_time": "2023-04-09T20:42:33.911985Z"
    },
    "tags": []
   },
   "outputs": [],
   "source": [
    "import tensorflow as tf"
   ]
  },
  {
   "cell_type": "markdown",
   "id": "4fc1fd19-d4ef-4a54-877e-9d06a9049737",
   "metadata": {},
   "source": [
    "#### GPU Check"
   ]
  },
  {
   "cell_type": "code",
   "execution_count": 136,
   "id": "b1e02f8b",
   "metadata": {
    "ExecuteTime": {
     "end_time": "2023-04-09T20:42:36.255529Z",
     "start_time": "2023-04-09T20:42:34.328075Z"
    },
    "tags": []
   },
   "outputs": [
    {
     "name": "stdout",
     "output_type": "stream",
     "text": [
      "/usr/bin/zsh: /home/ramez/miniconda3/envs/thesis/lib/libtinfo.so.6: no version information available (required by /usr/bin/zsh)\n",
      "[PhysicalDevice(name='/physical_device:GPU:0', device_type='GPU')]\n"
     ]
    }
   ],
   "source": [
    "!python3 -c \"import tensorflow as tf; print(tf.config.list_physical_devices('GPU'))\""
   ]
  },
  {
   "cell_type": "code",
   "execution_count": 137,
   "id": "234eba6e",
   "metadata": {
    "ExecuteTime": {
     "end_time": "2023-04-09T20:42:36.260638Z",
     "start_time": "2023-04-09T20:42:36.257966Z"
    },
    "tags": []
   },
   "outputs": [],
   "source": [
    "from tensorflow import keras"
   ]
  },
  {
   "cell_type": "code",
   "execution_count": 138,
   "id": "ea21b9b7",
   "metadata": {
    "ExecuteTime": {
     "end_time": "2023-04-09T20:42:36.327202Z",
     "start_time": "2023-04-09T20:42:36.262029Z"
    },
    "tags": []
   },
   "outputs": [],
   "source": [
    "import numpy as np"
   ]
  },
  {
   "cell_type": "code",
   "execution_count": 139,
   "id": "f73af189",
   "metadata": {
    "ExecuteTime": {
     "end_time": "2023-04-09T20:42:36.336400Z",
     "start_time": "2023-04-09T20:42:36.333721Z"
    },
    "tags": []
   },
   "outputs": [],
   "source": [
    "from sklearn.metrics import cohen_kappa_score"
   ]
  },
  {
   "cell_type": "code",
   "execution_count": 140,
   "id": "80fbbb42",
   "metadata": {
    "ExecuteTime": {
     "end_time": "2023-04-09T20:42:36.345491Z",
     "start_time": "2023-04-09T20:42:36.343286Z"
    },
    "tags": []
   },
   "outputs": [],
   "source": [
    "## Local EfficientNetLite (Customized by the Competition)\n",
    "from efficientnet_lite import EfficientNetLiteB0"
   ]
  },
  {
   "cell_type": "code",
   "execution_count": 141,
   "id": "c6face98",
   "metadata": {
    "ExecuteTime": {
     "end_time": "2023-04-09T20:42:36.349008Z",
     "start_time": "2023-04-09T20:42:36.346850Z"
    },
    "tags": []
   },
   "outputs": [],
   "source": [
    "from sklearn.model_selection import KFold"
   ]
  },
  {
   "cell_type": "code",
   "execution_count": 142,
   "id": "fb004876",
   "metadata": {
    "ExecuteTime": {
     "end_time": "2023-04-09T20:42:36.353039Z",
     "start_time": "2023-04-09T20:42:36.350804Z"
    },
    "tags": []
   },
   "outputs": [],
   "source": [
    "from tensorflow.keras.models import Model\n",
    "from tensorflow.keras.layers import GlobalAveragePooling2D, Dense, Dropout"
   ]
  },
  {
   "cell_type": "code",
   "execution_count": 143,
   "id": "22d591c0",
   "metadata": {
    "ExecuteTime": {
     "end_time": "2023-04-09T20:42:36.719018Z",
     "start_time": "2023-04-09T20:42:36.716802Z"
    },
    "tags": []
   },
   "outputs": [],
   "source": [
    "from tensorflow.keras.callbacks import TensorBoard"
   ]
  },
  {
   "cell_type": "code",
   "execution_count": 144,
   "id": "a7cffd18-bb07-4455-8292-3cd846d3139e",
   "metadata": {
    "tags": []
   },
   "outputs": [],
   "source": [
    "from keras.callbacks import EarlyStopping, ModelCheckpoint"
   ]
  },
  {
   "cell_type": "code",
   "execution_count": 145,
   "id": "6d5167dd-ad8d-41ab-9c7c-ace8e0c7c765",
   "metadata": {
    "tags": []
   },
   "outputs": [],
   "source": [
    "import matplotlib.pyplot as plt"
   ]
  },
  {
   "cell_type": "code",
   "execution_count": 146,
   "id": "bdcaf42f-1499-4cde-a474-ee694d25d7eb",
   "metadata": {
    "tags": []
   },
   "outputs": [],
   "source": [
    "from itertools import accumulate"
   ]
  },
  {
   "cell_type": "code",
   "execution_count": 147,
   "id": "262ab8b0-57fa-4a40-9ebc-fd2e9809942f",
   "metadata": {},
   "outputs": [],
   "source": [
    "import os"
   ]
  },
  {
   "cell_type": "code",
   "execution_count": 148,
   "id": "6b4157e1-1449-4c49-84b0-4790c28e8930",
   "metadata": {
    "tags": []
   },
   "outputs": [],
   "source": [
    "import wandb\n",
    "from wandb.keras import WandbMetricsLogger, WandbModelCheckpoint"
   ]
  },
  {
   "cell_type": "code",
   "execution_count": 149,
   "id": "721d8519-b6c7-40a3-932b-3604ccee3a3e",
   "metadata": {
    "tags": []
   },
   "outputs": [],
   "source": [
    "import pandas as pd"
   ]
  },
  {
   "cell_type": "code",
   "execution_count": 150,
   "id": "d4f8aac5-9d4e-4fb7-a49e-e53896526633",
   "metadata": {
    "tags": []
   },
   "outputs": [],
   "source": [
    "from sklearn.metrics import accuracy_score"
   ]
  },
  {
   "cell_type": "markdown",
   "id": "539eda62",
   "metadata": {},
   "source": [
    "# 2. Utility Functions"
   ]
  },
  {
   "cell_type": "markdown",
   "id": "eec32f1b",
   "metadata": {},
   "source": [
    "You can use this function to load your training data."
   ]
  },
  {
   "cell_type": "code",
   "execution_count": 151,
   "id": "9f270337",
   "metadata": {
    "ExecuteTime": {
     "end_time": "2023-04-09T20:42:37.464808Z",
     "start_time": "2023-04-09T20:42:37.461420Z"
    },
    "tags": []
   },
   "outputs": [],
   "source": [
    "def get_images_from_path(dataset_path):\n",
    "    \"\"\" Get images from path and normalize them applying channel-level normalization. \"\"\"\n",
    "\n",
    "    # loading all images in one large batch\n",
    "    tf_eval_data = tf.keras.utils.image_dataset_from_directory(dataset_path, image_size=config.input_shape[:2], shuffle=False, \n",
    "                                                               batch_size=100000, label_mode='int')\n",
    "\n",
    "    # get the class names (folder names) from the dataset object\n",
    "    global class_names\n",
    "    class_names = tf_eval_data.class_names\n",
    "    \n",
    "    # extract images and targets\n",
    "    for tf_eval_images, tf_eval_targets in tf_eval_data:\n",
    "        break\n",
    "\n",
    "    return tf.convert_to_tensor(tf_eval_images), tf_eval_targets"
   ]
  },
  {
   "cell_type": "markdown",
   "id": "a6cec9e1",
   "metadata": {},
   "source": [
    "# 4. Loading data"
   ]
  },
  {
   "cell_type": "code",
   "execution_count": 152,
   "id": "3939168c",
   "metadata": {
    "ExecuteTime": {
     "end_time": "2023-04-09T20:42:42.576907Z",
     "start_time": "2023-04-09T20:42:42.574308Z"
    },
    "tags": []
   },
   "outputs": [],
   "source": [
    "# dataset_path_train=\"/home/ramez/Politechnika_Slaska_MSc/Thesis/Competition/Data/images_copy_processed/\"\n",
    "dataset_path_train_val = \"/home/ramez/Politechnika_Slaska_MSc/Thesis/Competition/Data/ops_sat_train/\""
   ]
  },
  {
   "cell_type": "code",
   "execution_count": 153,
   "id": "4e57cb03",
   "metadata": {
    "ExecuteTime": {
     "end_time": "2023-04-09T20:42:43.086890Z",
     "start_time": "2023-04-09T20:42:43.084818Z"
    },
    "tags": []
   },
   "outputs": [],
   "source": [
    "dataset_path_test = \"/home/ramez/Politechnika_Slaska_MSc/Thesis/Competition/Data/ops_sat_test/\""
   ]
  },
  {
   "cell_type": "markdown",
   "id": "ad7277b8",
   "metadata": {},
   "source": [
    "In this notebook, classical supervised learning is used. Therefore, remember to remove the subdirectory `images` containing unlabeled patches before loading the dataset to perform training correctly."
   ]
  },
  {
   "cell_type": "markdown",
   "id": "f3244374-4874-45b3-b37a-8447dad08e80",
   "metadata": {},
   "source": [
    "### Model Configuration"
   ]
  },
  {
   "cell_type": "code",
   "execution_count": 154,
   "id": "5c7b1b00-0996-4944-873b-220cad229b36",
   "metadata": {
    "tags": []
   },
   "outputs": [],
   "source": [
    "class CustomLoss(tf.keras.losses.Loss):\n",
    "    def __init__(self, **kwargs):\n",
    "        super(CustomLoss, self).__init__(**kwargs)\n",
    "        self.scce = tf.keras.losses.SparseCategoricalCrossentropy(from_logits=False)\n",
    "\n",
    "    def call(self, y_true, y_pred):\n",
    "        return self.scce(y_true, y_pred)"
   ]
  },
  {
   "cell_type": "code",
   "execution_count": 155,
   "id": "ab6ef347-28fc-4fcc-bafa-5466b90353fd",
   "metadata": {
    "tags": []
   },
   "outputs": [],
   "source": [
    "custom_loss_functions = {\n",
    "    'SparseCategoricalCrossentropy': CustomLoss\n",
    "}"
   ]
  },
  {
   "cell_type": "code",
   "execution_count": 156,
   "id": "eab2f877-ebc7-42d1-b7a5-a4a3201206b1",
   "metadata": {
    "tags": []
   },
   "outputs": [
    {
     "data": {
      "text/html": [
       "wandb version 0.15.2 is available!  To upgrade, please run:\n",
       " $ pip install wandb --upgrade"
      ],
      "text/plain": [
       "<IPython.core.display.HTML object>"
      ]
     },
     "metadata": {},
     "output_type": "display_data"
    },
    {
     "data": {
      "text/html": [
       "Tracking run with wandb version 0.15.0"
      ],
      "text/plain": [
       "<IPython.core.display.HTML object>"
      ]
     },
     "metadata": {},
     "output_type": "display_data"
    },
    {
     "data": {
      "text/html": [
       "Run data is saved locally in <code>/home/ramez/Politechnika_Slaska_MSc/Thesis/Competition/the_opssat_case_starter_kit-main/OPS-SAT/wandb/run-20230506_151719-ugcto6wo</code>"
      ],
      "text/plain": [
       "<IPython.core.display.HTML object>"
      ]
     },
     "metadata": {},
     "output_type": "display_data"
    },
    {
     "data": {
      "text/html": [
       "Syncing run <strong><a href='https://wandb.ai/ramez/OPS-SAT-Thesis-Project/runs/ugcto6wo' target=\"_blank\">polished-haze-47</a></strong> to <a href='https://wandb.ai/ramez/OPS-SAT-Thesis-Project' target=\"_blank\">Weights & Biases</a> (<a href='https://wandb.me/run' target=\"_blank\">docs</a>)<br/>"
      ],
      "text/plain": [
       "<IPython.core.display.HTML object>"
      ]
     },
     "metadata": {},
     "output_type": "display_data"
    },
    {
     "data": {
      "text/html": [
       " View project at <a href='https://wandb.ai/ramez/OPS-SAT-Thesis-Project' target=\"_blank\">https://wandb.ai/ramez/OPS-SAT-Thesis-Project</a>"
      ],
      "text/plain": [
       "<IPython.core.display.HTML object>"
      ]
     },
     "metadata": {},
     "output_type": "display_data"
    },
    {
     "data": {
      "text/html": [
       " View run at <a href='https://wandb.ai/ramez/OPS-SAT-Thesis-Project/runs/ugcto6wo' target=\"_blank\">https://wandb.ai/ramez/OPS-SAT-Thesis-Project/runs/ugcto6wo</a>"
      ],
      "text/plain": [
       "<IPython.core.display.HTML object>"
      ]
     },
     "metadata": {},
     "output_type": "display_data"
    }
   ],
   "source": [
    "# Start a run, tracking hyperparameters\n",
    "wandb.init(\n",
    "    # set the wandb project where this run will be logged\n",
    "    project=\"OPS-SAT-Thesis-Project\",\n",
    "\n",
    "    # track hyperparameters and run metadata with wandb.config\n",
    "    config={\n",
    "        \"dropout\": 0.5,\n",
    "        \"num_classes\": 8,\n",
    "        \"input_shape\": (200, 200, 3),\n",
    "        \"model_weights\": \"imagenet\",\n",
    "        \"output_layer_activation\": \"softmax\",\n",
    "        \"model_optimizer\": \"adam\",\n",
    "        # \"loss_fun\": \"sparse_categorical_crossentropy\",\n",
    "        \"loss_fun\": \"SparseCategoricalCrossentropy\",\n",
    "        \"model_metrics\": [\"SparseCategoricalAccuracy\"],\n",
    "        \"early_stopping_monitor\": \"val_sparse_categorical_accuracy\",\n",
    "        \"early_stopping_patience\": 15,\n",
    "        \"model_checkpoint_monitor\": \"val_sparse_categorical_accuracy\",\n",
    "        \"cross_validation_k\": 5,\n",
    "        \"model_epochs\": 100,\n",
    "        \"model_batch_size\": 8\n",
    "    }\n",
    ")\n",
    "\n",
    "config = wandb.config"
   ]
  },
  {
   "cell_type": "code",
   "execution_count": 157,
   "id": "535d9f57",
   "metadata": {
    "ExecuteTime": {
     "end_time": "2023-04-09T20:42:44.029535Z",
     "start_time": "2023-04-09T20:42:43.904140Z"
    },
    "tags": []
   },
   "outputs": [
    {
     "name": "stdout",
     "output_type": "stream",
     "text": [
      "Found 227 files belonging to 8 classes.\n"
     ]
    }
   ],
   "source": [
    "#Loading dataset\n",
    "x_train_val, y_train_val = get_images_from_path(dataset_path_train_val)"
   ]
  },
  {
   "cell_type": "code",
   "execution_count": 158,
   "id": "870f0b93-ea52-4ae0-98f4-e90f8a3db249",
   "metadata": {
    "tags": []
   },
   "outputs": [],
   "source": [
    "## class_names_labels dict\n",
    "class_name_label = {}\n",
    "for i, class_name in enumerate(class_names):\n",
    "    class_name_label[i] = class_name"
   ]
  },
  {
   "cell_type": "code",
   "execution_count": 159,
   "id": "176ad7e8",
   "metadata": {
    "ExecuteTime": {
     "end_time": "2023-04-09T20:42:44.501742Z",
     "start_time": "2023-04-09T20:42:44.458845Z"
    },
    "tags": []
   },
   "outputs": [
    {
     "name": "stdout",
     "output_type": "stream",
     "text": [
      "Found 40 files belonging to 8 classes.\n"
     ]
    }
   ],
   "source": [
    "#Loading dataset\n",
    "x_test, y_test = get_images_from_path(dataset_path_test)"
   ]
  },
  {
   "cell_type": "code",
   "execution_count": 160,
   "id": "8029b003-175d-4b30-9f95-2b209090e08a",
   "metadata": {
    "tags": []
   },
   "outputs": [],
   "source": [
    "## class_names_labels dict\n",
    "class_name_label_test = {}\n",
    "for i, class_name in enumerate(class_names):\n",
    "    class_name_label_test[i] = class_name"
   ]
  },
  {
   "cell_type": "code",
   "execution_count": 161,
   "id": "71c45087-b178-4403-b8d8-b0f0204243b0",
   "metadata": {
    "tags": []
   },
   "outputs": [
    {
     "name": "stdout",
     "output_type": "stream",
     "text": [
      "Ok\n"
     ]
    }
   ],
   "source": [
    "## Check if classes are identical with labels in both splits\n",
    "if class_name_label == class_name_label_test:\n",
    "    print(\"Ok\")\n",
    "else:\n",
    "    print(\"Error - Class Mapping Are Mismatched\")"
   ]
  },
  {
   "cell_type": "markdown",
   "id": "501432e0-b414-4678-9c97-06fc5d9cac3d",
   "metadata": {},
   "source": [
    "### Logging Info about the Dataset"
   ]
  },
  {
   "cell_type": "code",
   "execution_count": 162,
   "id": "89a90a0b-b5f6-44e8-a9cc-66adbb3ae491",
   "metadata": {
    "tags": []
   },
   "outputs": [],
   "source": [
    "train_val_len = len(x_train_val)\n",
    "test_len = len(x_test)\n",
    "dataset_name = \"The OPS-SAT case dataset\"\n",
    "dataset_variation_description = \"Test Run Variation The OPS-SAT case dataset is the official dataset of ESA's Kelvins the OPS-SAT case challenge, \\\n",
    "created in collaboration with ESAs Phi-lab and ESAs OPS-SAT spacecraft operations team. It consists of 26 raw and unprocessed images of Earth that \\\n",
    "have been taken by the OPS-SAT cube-sat using its on-board camera. The images have a resolution of around 2048x1944 or similar and are provided in .png format. \\\n",
    "The goal of the competition is, given a model of a neural network (in this case the EfficientNet-Lite0), to provide best possible network parameters to perform an \\\n",
    "on-board classification task. For each of the 8 target classes, there are only 10 labelled images provided, severely limiting the number of shots that the neural \\\n",
    "network has on learning. The size of the labeled patches is 200x200 pixels and the labels are related to the following types of landcover/content: Agricultural, \\\n",
    "Cloud, Mountain, Natural, River, Sea_Ice, Snow and Water.\"\n",
    "dataset_train_val_path = dataset_path_train_val"
   ]
  },
  {
   "cell_type": "code",
   "execution_count": 163,
   "id": "0b16a64b-ccb8-4f97-823b-443d87f3a99e",
   "metadata": {
    "tags": []
   },
   "outputs": [],
   "source": [
    "dataset_info = {\"Dataset Name\": dataset_name, \n",
    "                \"Training Validation Set Size\": train_val_len,\n",
    "                \"Test Set Size\": test_len,\n",
    "                \"Dataset Variation Description\": dataset_variation_description,\n",
    "                \"Train Val Set Path\":dataset_path_train_val,\n",
    "                \"Test Set Path\": dataset_path_test}\n",
    "# Log dictionary to wandb\n",
    "wandb.log(dataset_info)"
   ]
  },
  {
   "cell_type": "markdown",
   "id": "6ed865db",
   "metadata": {},
   "source": [
    "# 5. Model training"
   ]
  },
  {
   "cell_type": "markdown",
   "id": "55f4a84c-e53f-42e5-b7ea-12893a82a5d1",
   "metadata": {},
   "source": [
    "The network architecture used for OPS-SAT is **EfficientNetLite0**. We would like to thank Sebastian for making a Keras implementation of EfficientNetLite publicly available under the Apache 2.0 License: https://github.com/sebastian-sz/efficientnet-lite-keras. Our Version of this code has been modified to better fit our purposes. For example, we removed the ReLU \"stem_activation\" to better match a related efficientnet pytorch implementation. In any way, **you have to use the model architecture that we provide in our [starter-kit](https://gitlab.com/EuropeanSpaceAgency/the_opssat_case_starter_kit).**"
   ]
  },
  {
   "cell_type": "markdown",
   "id": "54a9bc3a-67ab-4e37-9a2f-aab98c8c5b25",
   "metadata": {},
   "source": [
    "### Load The Model With ImageNet Weights"
   ]
  },
  {
   "cell_type": "markdown",
   "id": "ba86fe85-998e-4704-bb76-18af67274166",
   "metadata": {
    "tags": []
   },
   "source": [
    "### Compile The model"
   ]
  },
  {
   "cell_type": "markdown",
   "id": "00c29753-9cbf-4149-a938-ceec8435dce0",
   "metadata": {},
   "source": [
    "### Early Stopping and Best Model Callbacks "
   ]
  },
  {
   "cell_type": "markdown",
   "id": "340a085b-c09c-4892-968a-8eeb2c556ce1",
   "metadata": {},
   "source": [
    "We provide now an example on how you can train your model by using standard supervised learning. Training loss (`SparseCategoricalCrossentropy`) and `Accuracy` are shown for simplicity and for an easier interpretation of the training outcome, despite your submission will be evaluated by using the metric **1 - Cohen's kappa** [metric](https://en.wikipedia.org/wiki/Cohen's_kappa). For more information on scoring, please refer to [Scoring](https://kelvins.esa.int/opssat/scoring/)."
   ]
  },
  {
   "cell_type": "code",
   "execution_count": 164,
   "id": "ba900174-6bb3-4c1b-9c75-07bba3dce2b1",
   "metadata": {
    "tags": []
   },
   "outputs": [],
   "source": [
    "custom_loss = custom_loss_functions[config.loss_fun]()"
   ]
  },
  {
   "cell_type": "code",
   "execution_count": 165,
   "id": "593c7f99-4e05-4b40-8cc7-e7c4b84e3452",
   "metadata": {},
   "outputs": [],
   "source": [
    "def model_init():\n",
    "    global model\n",
    "    global early_stopping\n",
    "    global checkpoint\n",
    "    \n",
    "    model = EfficientNetLiteB0(classes=config.num_classes, weights=config.model_weights, input_shape=config.input_shape, classifier_activation=None, include_top = False)\n",
    "    x = model.output\n",
    "    x = GlobalAveragePooling2D()(x)\n",
    "    x = Dropout(config.dropout)(x)\n",
    "    output_layer = Dense(config.num_classes, activation=config.output_layer_activation)(x)\n",
    "    model = Model(inputs=model.input, outputs=output_layer)\n",
    "    # model.summary()\n",
    "    \n",
    "    model.compile(optimizer=config.model_optimizer,\n",
    "                  # loss=\"sparse_categorical_crossentropy\",\n",
    "              # loss=tf.keras.losses.SparseCategoricalCrossentropy(from_logits=False), \n",
    "                  # loss=config.loss_fun,\n",
    "                  loss=custom_loss,\n",
    "                  # metrics=[keras.metrics.SparseCategoricalAccuracy()],\n",
    "                 metrics=config.model_metrics)\n",
    "    \n",
    "    early_stopping = EarlyStopping(monitor=config.early_stopping_monitor, patience=config.early_stopping_patience)\n",
    "    checkpoint = ModelCheckpoint('best_weights.h5', monitor=config.model_checkpoint_monitor, save_best_only=True)\n",
    "    \n",
    "# wandb_callback=wandb.keras.WandbCallback()"
   ]
  },
  {
   "cell_type": "markdown",
   "id": "8bc53411-de66-41a5-bdfe-47e6b2b94462",
   "metadata": {
    "tags": []
   },
   "source": [
    "### Without K fold Cross Validation but with TensorBoard (With Early Stopping)"
   ]
  },
  {
   "cell_type": "code",
   "execution_count": 166,
   "id": "9ae962a9",
   "metadata": {
    "ExecuteTime": {
     "end_time": "2023-04-09T20:42:49.259862Z",
     "start_time": "2023-04-09T20:42:49.257217Z"
    },
    "tags": []
   },
   "outputs": [],
   "source": [
    "# tensorboard_callback = TensorBoard(log_dir='./logs')"
   ]
  },
  {
   "cell_type": "code",
   "execution_count": 167,
   "id": "24568775",
   "metadata": {
    "ExecuteTime": {
     "end_time": "2023-04-09T20:43:38.960294Z",
     "start_time": "2023-04-09T20:42:50.924320Z"
    },
    "tags": []
   },
   "outputs": [],
   "source": [
    "# early_stopping = keras.callbacks.EarlyStopping(monitor='val_loss', patience=5)\n",
    "# history = model.fit(x_train_val, y_train_val, validation_data=(x_test, y_test), epochs= 100, verbose=1, batch_size=8, \n",
    "#                         callbacks=[early_stopping, tensorboard_callback])"
   ]
  },
  {
   "cell_type": "code",
   "execution_count": 168,
   "id": "faa7c10b",
   "metadata": {
    "ExecuteTime": {
     "end_time": "2023-04-09T20:45:36.527054Z",
     "start_time": "2023-04-09T20:44:17.923419Z"
    },
    "tags": []
   },
   "outputs": [],
   "source": [
    "# !tensorboard --logdir=./logs"
   ]
  },
  {
   "cell_type": "markdown",
   "id": "9c9899b0-587d-4c9a-b9b5-ec61295e2e48",
   "metadata": {},
   "source": [
    "### With K fold Cross Validation but without TensorBoard (With Early Stopping)"
   ]
  },
  {
   "cell_type": "code",
   "execution_count": 169,
   "id": "12efbbf9",
   "metadata": {
    "ExecuteTime": {
     "end_time": "2023-04-09T20:42:47.226837Z",
     "start_time": "2023-04-09T20:42:47.224186Z"
    },
    "tags": []
   },
   "outputs": [],
   "source": [
    "kf = KFold(n_splits=config.cross_validation_k, shuffle=True)"
   ]
  },
  {
   "cell_type": "code",
   "execution_count": 170,
   "id": "9a930432",
   "metadata": {
    "ExecuteTime": {
     "end_time": "2023-04-09T20:43:57.248568Z",
     "start_time": "2023-04-09T20:43:57.245137Z"
    },
    "tags": []
   },
   "outputs": [
    {
     "name": "stdout",
     "output_type": "stream",
     "text": [
      "block1a_ same\n",
      "block2a_ ((1, 1), (1, 1))\n",
      "block2a_ valid\n",
      "block2b_ same\n",
      "block3a_ ((2, 2), (2, 2))\n",
      "block3a_ valid\n",
      "block3b_ same\n",
      "block4a_ ((1, 1), (1, 1))\n",
      "block4a_ valid\n",
      "block4b_ same\n",
      "block4c_ same\n",
      "block5a_ same\n",
      "block5b_ same\n",
      "block5c_ same\n",
      "block6a_ ((2, 2), (2, 2))\n",
      "block6a_ valid\n",
      "block6b_ same\n",
      "block6c_ same\n",
      "block6d_ same\n",
      "block7a_ same\n",
      "Epoch 1/100\n",
      "23/23 [==============================] - ETA: 0s - loss: 1.5466 - sparse_categorical_accuracy: 0.4696"
     ]
    },
    {
     "name": "stderr",
     "output_type": "stream",
     "text": [
      "/home/ramez/miniconda3/envs/thesis/lib/python3.9/site-packages/keras/engine/functional.py:1410: CustomMaskWarning: Custom mask layers require a config and must override get_config. When loading, the custom mask layer must be passed to the custom_objects argument.\n",
      "  layer_config = serialize_layer_fn(layer)\n"
     ]
    },
    {
     "name": "stdout",
     "output_type": "stream",
     "text": [
      "23/23 [==============================] - 7s 176ms/step - loss: 1.5466 - sparse_categorical_accuracy: 0.4696 - val_loss: 6.2523 - val_sparse_categorical_accuracy: 0.1957\n",
      "Epoch 2/100\n",
      "23/23 [==============================] - 3s 132ms/step - loss: 0.9228 - sparse_categorical_accuracy: 0.7017 - val_loss: 1.9821 - val_sparse_categorical_accuracy: 0.6087\n",
      "Epoch 3/100\n",
      "23/23 [==============================] - 3s 124ms/step - loss: 0.6969 - sparse_categorical_accuracy: 0.7790 - val_loss: 1.1328 - val_sparse_categorical_accuracy: 0.6739\n",
      "Epoch 4/100\n",
      "23/23 [==============================] - 3s 128ms/step - loss: 0.6235 - sparse_categorical_accuracy: 0.7790 - val_loss: 0.9712 - val_sparse_categorical_accuracy: 0.7826\n",
      "Epoch 5/100\n",
      "23/23 [==============================] - 3s 110ms/step - loss: 0.5849 - sparse_categorical_accuracy: 0.8343 - val_loss: 1.6043 - val_sparse_categorical_accuracy: 0.7391\n",
      "Epoch 6/100\n",
      "23/23 [==============================] - 3s 110ms/step - loss: 0.5721 - sparse_categorical_accuracy: 0.8232 - val_loss: 1.5519 - val_sparse_categorical_accuracy: 0.7174\n",
      "Epoch 7/100\n",
      "23/23 [==============================] - 3s 109ms/step - loss: 0.5526 - sparse_categorical_accuracy: 0.8122 - val_loss: 1.8382 - val_sparse_categorical_accuracy: 0.5435\n",
      "Epoch 8/100\n",
      "23/23 [==============================] - 3s 117ms/step - loss: 0.4140 - sparse_categorical_accuracy: 0.8674 - val_loss: 0.9544 - val_sparse_categorical_accuracy: 0.6957\n",
      "Epoch 9/100\n",
      "23/23 [==============================] - 3s 120ms/step - loss: 0.3053 - sparse_categorical_accuracy: 0.8895 - val_loss: 1.4490 - val_sparse_categorical_accuracy: 0.7826\n",
      "Epoch 10/100\n",
      "23/23 [==============================] - 3s 116ms/step - loss: 0.3558 - sparse_categorical_accuracy: 0.8619 - val_loss: 1.3940 - val_sparse_categorical_accuracy: 0.7391\n",
      "Epoch 11/100\n",
      "23/23 [==============================] - 3s 115ms/step - loss: 0.4290 - sparse_categorical_accuracy: 0.8895 - val_loss: 1.5482 - val_sparse_categorical_accuracy: 0.6739\n",
      "Epoch 12/100\n",
      "23/23 [==============================] - 3s 115ms/step - loss: 0.2763 - sparse_categorical_accuracy: 0.9006 - val_loss: 1.8685 - val_sparse_categorical_accuracy: 0.6304\n",
      "Epoch 13/100\n",
      "23/23 [==============================] - 3s 119ms/step - loss: 0.2695 - sparse_categorical_accuracy: 0.8950 - val_loss: 2.1126 - val_sparse_categorical_accuracy: 0.6739\n",
      "Epoch 14/100\n",
      "23/23 [==============================] - 2s 109ms/step - loss: 0.2043 - sparse_categorical_accuracy: 0.9282 - val_loss: 1.6069 - val_sparse_categorical_accuracy: 0.7174\n",
      "Epoch 15/100\n",
      "23/23 [==============================] - 3s 134ms/step - loss: 0.2233 - sparse_categorical_accuracy: 0.9392 - val_loss: 1.4399 - val_sparse_categorical_accuracy: 0.8043\n",
      "Epoch 16/100\n",
      "23/23 [==============================] - 3s 116ms/step - loss: 0.2538 - sparse_categorical_accuracy: 0.9282 - val_loss: 1.5479 - val_sparse_categorical_accuracy: 0.7391\n",
      "Epoch 17/100\n",
      "23/23 [==============================] - 3s 110ms/step - loss: 0.2392 - sparse_categorical_accuracy: 0.9448 - val_loss: 1.4213 - val_sparse_categorical_accuracy: 0.6304\n",
      "Epoch 18/100\n",
      "23/23 [==============================] - 2s 109ms/step - loss: 0.2863 - sparse_categorical_accuracy: 0.9006 - val_loss: 2.0383 - val_sparse_categorical_accuracy: 0.6304\n",
      "Epoch 19/100\n",
      "23/23 [==============================] - 3s 111ms/step - loss: 0.2022 - sparse_categorical_accuracy: 0.9392 - val_loss: 1.5209 - val_sparse_categorical_accuracy: 0.6739\n",
      "Epoch 20/100\n",
      "23/23 [==============================] - 3s 117ms/step - loss: 0.2959 - sparse_categorical_accuracy: 0.9116 - val_loss: 1.8242 - val_sparse_categorical_accuracy: 0.5870\n",
      "Epoch 21/100\n",
      "23/23 [==============================] - 3s 113ms/step - loss: 0.2215 - sparse_categorical_accuracy: 0.9171 - val_loss: 1.2592 - val_sparse_categorical_accuracy: 0.6739\n",
      "Epoch 22/100\n",
      "23/23 [==============================] - 3s 115ms/step - loss: 0.2053 - sparse_categorical_accuracy: 0.9282 - val_loss: 2.1467 - val_sparse_categorical_accuracy: 0.5870\n",
      "Epoch 23/100\n",
      "23/23 [==============================] - 3s 115ms/step - loss: 0.2205 - sparse_categorical_accuracy: 0.9337 - val_loss: 2.0220 - val_sparse_categorical_accuracy: 0.6957\n",
      "Epoch 24/100\n",
      "23/23 [==============================] - 3s 117ms/step - loss: 0.1059 - sparse_categorical_accuracy: 0.9724 - val_loss: 1.8157 - val_sparse_categorical_accuracy: 0.6739\n",
      "Epoch 25/100\n",
      "23/23 [==============================] - 3s 110ms/step - loss: 0.2507 - sparse_categorical_accuracy: 0.9227 - val_loss: 1.6234 - val_sparse_categorical_accuracy: 0.6739\n",
      "Epoch 26/100\n",
      "23/23 [==============================] - 3s 110ms/step - loss: 0.2467 - sparse_categorical_accuracy: 0.9171 - val_loss: 2.1557 - val_sparse_categorical_accuracy: 0.5870\n",
      "Epoch 27/100\n",
      "23/23 [==============================] - 3s 114ms/step - loss: 0.2238 - sparse_categorical_accuracy: 0.9392 - val_loss: 1.6496 - val_sparse_categorical_accuracy: 0.6522\n",
      "Epoch 28/100\n",
      "23/23 [==============================] - 3s 117ms/step - loss: 0.1016 - sparse_categorical_accuracy: 0.9834 - val_loss: 1.1155 - val_sparse_categorical_accuracy: 0.7174\n",
      "Epoch 29/100\n",
      "23/23 [==============================] - 3s 118ms/step - loss: 0.1618 - sparse_categorical_accuracy: 0.9613 - val_loss: 1.0132 - val_sparse_categorical_accuracy: 0.7391\n",
      "Epoch 30/100\n",
      "23/23 [==============================] - 3s 116ms/step - loss: 0.0868 - sparse_categorical_accuracy: 0.9779 - val_loss: 1.1888 - val_sparse_categorical_accuracy: 0.7826\n",
      "2/2 [==============================] - 0s 40ms/step - loss: 1.4399 - sparse_categorical_accuracy: 0.8043\n",
      "block1a_ same\n",
      "block2a_ ((1, 1), (1, 1))\n",
      "block2a_ valid\n",
      "block2b_ same\n",
      "block3a_ ((2, 2), (2, 2))\n",
      "block3a_ valid\n",
      "block3b_ same\n",
      "block4a_ ((1, 1), (1, 1))\n",
      "block4a_ valid\n",
      "block4b_ same\n",
      "block4c_ same\n",
      "block5a_ same\n",
      "block5b_ same\n",
      "block5c_ same\n",
      "block6a_ ((2, 2), (2, 2))\n",
      "block6a_ valid\n",
      "block6b_ same\n",
      "block6c_ same\n",
      "block6d_ same\n",
      "block7a_ same\n",
      "Epoch 1/100\n",
      "23/23 [==============================] - 7s 156ms/step - loss: 1.6298 - sparse_categorical_accuracy: 0.3757 - val_loss: 7.1409 - val_sparse_categorical_accuracy: 0.1304\n",
      "Epoch 2/100\n",
      "23/23 [==============================] - 3s 130ms/step - loss: 0.7899 - sparse_categorical_accuracy: 0.7238 - val_loss: 6.7594 - val_sparse_categorical_accuracy: 0.2391\n",
      "Epoch 3/100\n",
      "23/23 [==============================] - 3s 117ms/step - loss: 0.7642 - sparse_categorical_accuracy: 0.7735 - val_loss: 6.0478 - val_sparse_categorical_accuracy: 0.2391\n",
      "Epoch 4/100\n",
      "23/23 [==============================] - 3s 139ms/step - loss: 0.6885 - sparse_categorical_accuracy: 0.7790 - val_loss: 3.2008 - val_sparse_categorical_accuracy: 0.3696\n",
      "Epoch 5/100\n",
      "23/23 [==============================] - 3s 113ms/step - loss: 0.6486 - sparse_categorical_accuracy: 0.8011 - val_loss: 4.0902 - val_sparse_categorical_accuracy: 0.3043\n",
      "Epoch 6/100\n",
      "23/23 [==============================] - 3s 138ms/step - loss: 0.4239 - sparse_categorical_accuracy: 0.8508 - val_loss: 1.9600 - val_sparse_categorical_accuracy: 0.5435\n",
      "Epoch 7/100\n",
      "23/23 [==============================] - 3s 128ms/step - loss: 0.4514 - sparse_categorical_accuracy: 0.8564 - val_loss: 1.5834 - val_sparse_categorical_accuracy: 0.5870\n",
      "Epoch 8/100\n",
      "23/23 [==============================] - 3s 147ms/step - loss: 0.3579 - sparse_categorical_accuracy: 0.9061 - val_loss: 1.6899 - val_sparse_categorical_accuracy: 0.6304\n",
      "Epoch 9/100\n",
      "23/23 [==============================] - 3s 114ms/step - loss: 0.3127 - sparse_categorical_accuracy: 0.8950 - val_loss: 2.2916 - val_sparse_categorical_accuracy: 0.5870\n",
      "Epoch 10/100\n",
      "23/23 [==============================] - 3s 111ms/step - loss: 0.3514 - sparse_categorical_accuracy: 0.9171 - val_loss: 2.4549 - val_sparse_categorical_accuracy: 0.5435\n",
      "Epoch 11/100\n",
      "23/23 [==============================] - 3s 112ms/step - loss: 0.4071 - sparse_categorical_accuracy: 0.8729 - val_loss: 2.1280 - val_sparse_categorical_accuracy: 0.6304\n",
      "Epoch 12/100\n",
      "23/23 [==============================] - 3s 112ms/step - loss: 0.4421 - sparse_categorical_accuracy: 0.8785 - val_loss: 2.4687 - val_sparse_categorical_accuracy: 0.4565\n",
      "Epoch 13/100\n",
      "23/23 [==============================] - 3s 118ms/step - loss: 0.4263 - sparse_categorical_accuracy: 0.8950 - val_loss: 1.9513 - val_sparse_categorical_accuracy: 0.5652\n",
      "Epoch 14/100\n",
      "23/23 [==============================] - 3s 136ms/step - loss: 0.3658 - sparse_categorical_accuracy: 0.8619 - val_loss: 1.3955 - val_sparse_categorical_accuracy: 0.6957\n",
      "Epoch 15/100\n",
      "23/23 [==============================] - 3s 117ms/step - loss: 0.2475 - sparse_categorical_accuracy: 0.9061 - val_loss: 1.9629 - val_sparse_categorical_accuracy: 0.5870\n",
      "Epoch 16/100\n",
      "23/23 [==============================] - 3s 119ms/step - loss: 0.3263 - sparse_categorical_accuracy: 0.8895 - val_loss: 2.1278 - val_sparse_categorical_accuracy: 0.6304\n",
      "Epoch 17/100\n",
      "23/23 [==============================] - 3s 131ms/step - loss: 0.3444 - sparse_categorical_accuracy: 0.8785 - val_loss: 1.2031 - val_sparse_categorical_accuracy: 0.7826\n",
      "Epoch 18/100\n",
      "23/23 [==============================] - 3s 117ms/step - loss: 0.3082 - sparse_categorical_accuracy: 0.9061 - val_loss: 1.5433 - val_sparse_categorical_accuracy: 0.6739\n",
      "Epoch 19/100\n",
      "23/23 [==============================] - 3s 115ms/step - loss: 0.1886 - sparse_categorical_accuracy: 0.9227 - val_loss: 0.9354 - val_sparse_categorical_accuracy: 0.7391\n",
      "Epoch 20/100\n",
      "23/23 [==============================] - 3s 119ms/step - loss: 0.1507 - sparse_categorical_accuracy: 0.9503 - val_loss: 1.4616 - val_sparse_categorical_accuracy: 0.6957\n",
      "Epoch 21/100\n",
      "23/23 [==============================] - 3s 116ms/step - loss: 0.1289 - sparse_categorical_accuracy: 0.9613 - val_loss: 1.1718 - val_sparse_categorical_accuracy: 0.6739\n",
      "Epoch 22/100\n",
      "23/23 [==============================] - 3s 120ms/step - loss: 0.2119 - sparse_categorical_accuracy: 0.9282 - val_loss: 1.5457 - val_sparse_categorical_accuracy: 0.6087\n",
      "Epoch 23/100\n",
      "23/23 [==============================] - 3s 120ms/step - loss: 0.2590 - sparse_categorical_accuracy: 0.9227 - val_loss: 1.2854 - val_sparse_categorical_accuracy: 0.6739\n",
      "Epoch 24/100\n",
      "23/23 [==============================] - 3s 115ms/step - loss: 0.1221 - sparse_categorical_accuracy: 0.9669 - val_loss: 1.5467 - val_sparse_categorical_accuracy: 0.7609\n",
      "Epoch 25/100\n",
      "23/23 [==============================] - 3s 113ms/step - loss: 0.1064 - sparse_categorical_accuracy: 0.9613 - val_loss: 1.9605 - val_sparse_categorical_accuracy: 0.7174\n",
      "Epoch 26/100\n",
      "23/23 [==============================] - 3s 120ms/step - loss: 0.2058 - sparse_categorical_accuracy: 0.9282 - val_loss: 1.4005 - val_sparse_categorical_accuracy: 0.5435\n",
      "Epoch 27/100\n",
      "23/23 [==============================] - 3s 114ms/step - loss: 0.1804 - sparse_categorical_accuracy: 0.9503 - val_loss: 2.2737 - val_sparse_categorical_accuracy: 0.5652\n",
      "Epoch 28/100\n",
      "23/23 [==============================] - 3s 112ms/step - loss: 0.1640 - sparse_categorical_accuracy: 0.9337 - val_loss: 2.1913 - val_sparse_categorical_accuracy: 0.4130\n",
      "Epoch 29/100\n",
      "23/23 [==============================] - 3s 115ms/step - loss: 0.0492 - sparse_categorical_accuracy: 0.9945 - val_loss: 2.1680 - val_sparse_categorical_accuracy: 0.4783\n",
      "Epoch 30/100\n",
      "23/23 [==============================] - 3s 111ms/step - loss: 0.0779 - sparse_categorical_accuracy: 0.9724 - val_loss: 2.0843 - val_sparse_categorical_accuracy: 0.5652\n",
      "Epoch 31/100\n",
      "23/23 [==============================] - 3s 110ms/step - loss: 0.0970 - sparse_categorical_accuracy: 0.9669 - val_loss: 1.7035 - val_sparse_categorical_accuracy: 0.5652\n",
      "Epoch 32/100\n",
      "23/23 [==============================] - 3s 112ms/step - loss: 0.1689 - sparse_categorical_accuracy: 0.9448 - val_loss: 2.2945 - val_sparse_categorical_accuracy: 0.5652\n",
      "2/2 [==============================] - 0s 39ms/step - loss: 1.2031 - sparse_categorical_accuracy: 0.7826\n",
      "block1a_ same\n",
      "block2a_ ((1, 1), (1, 1))\n",
      "block2a_ valid\n",
      "block2b_ same\n",
      "block3a_ ((2, 2), (2, 2))\n",
      "block3a_ valid\n",
      "block3b_ same\n",
      "block4a_ ((1, 1), (1, 1))\n",
      "block4a_ valid\n",
      "block4b_ same\n",
      "block4c_ same\n",
      "block5a_ same\n",
      "block5b_ same\n",
      "block5c_ same\n",
      "block6a_ ((2, 2), (2, 2))\n",
      "block6a_ valid\n",
      "block6b_ same\n",
      "block6c_ same\n",
      "block6d_ same\n",
      "block7a_ same\n",
      "Epoch 1/100\n",
      "23/23 [==============================] - 6s 152ms/step - loss: 1.5596 - sparse_categorical_accuracy: 0.4231 - val_loss: 3.5173 - val_sparse_categorical_accuracy: 0.3778\n",
      "Epoch 2/100\n",
      "23/23 [==============================] - 3s 126ms/step - loss: 0.9669 - sparse_categorical_accuracy: 0.6703 - val_loss: 2.2196 - val_sparse_categorical_accuracy: 0.4889\n",
      "Epoch 3/100\n",
      "23/23 [==============================] - 3s 129ms/step - loss: 0.6536 - sparse_categorical_accuracy: 0.7802 - val_loss: 2.6734 - val_sparse_categorical_accuracy: 0.5556\n",
      "Epoch 4/100\n",
      "23/23 [==============================] - 3s 139ms/step - loss: 0.5637 - sparse_categorical_accuracy: 0.7967 - val_loss: 1.8050 - val_sparse_categorical_accuracy: 0.6667\n",
      "Epoch 5/100\n",
      "23/23 [==============================] - 3s 121ms/step - loss: 0.5009 - sparse_categorical_accuracy: 0.8516 - val_loss: 1.3632 - val_sparse_categorical_accuracy: 0.6444\n",
      "Epoch 6/100\n",
      "23/23 [==============================] - 3s 140ms/step - loss: 0.5320 - sparse_categorical_accuracy: 0.8297 - val_loss: 1.4555 - val_sparse_categorical_accuracy: 0.7111\n",
      "Epoch 7/100\n",
      "23/23 [==============================] - 3s 111ms/step - loss: 0.5774 - sparse_categorical_accuracy: 0.8352 - val_loss: 1.1923 - val_sparse_categorical_accuracy: 0.7111\n",
      "Epoch 8/100\n",
      "23/23 [==============================] - 3s 111ms/step - loss: 0.5471 - sparse_categorical_accuracy: 0.8297 - val_loss: 1.2168 - val_sparse_categorical_accuracy: 0.7111\n",
      "Epoch 9/100\n",
      "23/23 [==============================] - 3s 132ms/step - loss: 0.4750 - sparse_categorical_accuracy: 0.8626 - val_loss: 1.3348 - val_sparse_categorical_accuracy: 0.7778\n",
      "Epoch 10/100\n",
      "23/23 [==============================] - 3s 115ms/step - loss: 0.4583 - sparse_categorical_accuracy: 0.8571 - val_loss: 1.6932 - val_sparse_categorical_accuracy: 0.7111\n",
      "Epoch 11/100\n",
      "23/23 [==============================] - 3s 115ms/step - loss: 0.3606 - sparse_categorical_accuracy: 0.8681 - val_loss: 2.4290 - val_sparse_categorical_accuracy: 0.6000\n",
      "Epoch 12/100\n",
      "23/23 [==============================] - 3s 110ms/step - loss: 0.2779 - sparse_categorical_accuracy: 0.8846 - val_loss: 1.5380 - val_sparse_categorical_accuracy: 0.6222\n",
      "Epoch 13/100\n",
      "23/23 [==============================] - 3s 115ms/step - loss: 0.2993 - sparse_categorical_accuracy: 0.9176 - val_loss: 1.4858 - val_sparse_categorical_accuracy: 0.6889\n",
      "Epoch 14/100\n",
      "23/23 [==============================] - 3s 110ms/step - loss: 0.3235 - sparse_categorical_accuracy: 0.8736 - val_loss: 3.3379 - val_sparse_categorical_accuracy: 0.5778\n",
      "Epoch 15/100\n",
      "23/23 [==============================] - 3s 110ms/step - loss: 0.2198 - sparse_categorical_accuracy: 0.9341 - val_loss: 1.5913 - val_sparse_categorical_accuracy: 0.7333\n",
      "Epoch 16/100\n",
      "23/23 [==============================] - 3s 111ms/step - loss: 0.2862 - sparse_categorical_accuracy: 0.9066 - val_loss: 0.9128 - val_sparse_categorical_accuracy: 0.7333\n",
      "Epoch 17/100\n",
      "23/23 [==============================] - 3s 118ms/step - loss: 0.2247 - sparse_categorical_accuracy: 0.9066 - val_loss: 1.2061 - val_sparse_categorical_accuracy: 0.7556\n",
      "Epoch 18/100\n",
      "23/23 [==============================] - 3s 112ms/step - loss: 0.2139 - sparse_categorical_accuracy: 0.9341 - val_loss: 1.5080 - val_sparse_categorical_accuracy: 0.7333\n",
      "Epoch 19/100\n",
      "23/23 [==============================] - 3s 115ms/step - loss: 0.1949 - sparse_categorical_accuracy: 0.9341 - val_loss: 1.8162 - val_sparse_categorical_accuracy: 0.6889\n",
      "Epoch 20/100\n",
      "23/23 [==============================] - 3s 110ms/step - loss: 0.1595 - sparse_categorical_accuracy: 0.9505 - val_loss: 2.0748 - val_sparse_categorical_accuracy: 0.6444\n",
      "Epoch 21/100\n",
      "23/23 [==============================] - 3s 112ms/step - loss: 0.1623 - sparse_categorical_accuracy: 0.9341 - val_loss: 0.9137 - val_sparse_categorical_accuracy: 0.7778\n",
      "Epoch 22/100\n",
      "23/23 [==============================] - 3s 110ms/step - loss: 0.2138 - sparse_categorical_accuracy: 0.9341 - val_loss: 1.4817 - val_sparse_categorical_accuracy: 0.7111\n",
      "Epoch 23/100\n",
      "23/23 [==============================] - 3s 112ms/step - loss: 0.0954 - sparse_categorical_accuracy: 0.9780 - val_loss: 1.6778 - val_sparse_categorical_accuracy: 0.6667\n",
      "Epoch 24/100\n",
      "23/23 [==============================] - 3s 109ms/step - loss: 0.1152 - sparse_categorical_accuracy: 0.9615 - val_loss: 1.3757 - val_sparse_categorical_accuracy: 0.7556\n",
      "2/2 [==============================] - 0s 35ms/step - loss: 1.3348 - sparse_categorical_accuracy: 0.7778\n",
      "block1a_ same\n",
      "block2a_ ((1, 1), (1, 1))\n",
      "block2a_ valid\n",
      "block2b_ same\n",
      "block3a_ ((2, 2), (2, 2))\n",
      "block3a_ valid\n",
      "block3b_ same\n",
      "block4a_ ((1, 1), (1, 1))\n",
      "block4a_ valid\n",
      "block4b_ same\n",
      "block4c_ same\n",
      "block5a_ same\n",
      "block5b_ same\n",
      "block5c_ same\n",
      "block6a_ ((2, 2), (2, 2))\n",
      "block6a_ valid\n",
      "block6b_ same\n",
      "block6c_ same\n",
      "block6d_ same\n",
      "block7a_ same\n",
      "Epoch 1/100\n",
      "23/23 [==============================] - 7s 155ms/step - loss: 1.5626 - sparse_categorical_accuracy: 0.4780 - val_loss: 2.9053 - val_sparse_categorical_accuracy: 0.1333\n",
      "Epoch 2/100\n",
      "23/23 [==============================] - 3s 132ms/step - loss: 1.0296 - sparse_categorical_accuracy: 0.6703 - val_loss: 3.8522 - val_sparse_categorical_accuracy: 0.2667\n",
      "Epoch 3/100\n",
      "23/23 [==============================] - 3s 111ms/step - loss: 0.6868 - sparse_categorical_accuracy: 0.7747 - val_loss: 3.8773 - val_sparse_categorical_accuracy: 0.2667\n",
      "Epoch 4/100\n",
      "23/23 [==============================] - 3s 125ms/step - loss: 0.6842 - sparse_categorical_accuracy: 0.7747 - val_loss: 2.4123 - val_sparse_categorical_accuracy: 0.5778\n",
      "Epoch 5/100\n",
      "23/23 [==============================] - 3s 109ms/step - loss: 0.6344 - sparse_categorical_accuracy: 0.8132 - val_loss: 2.1341 - val_sparse_categorical_accuracy: 0.5778\n",
      "Epoch 6/100\n",
      "23/23 [==============================] - 3s 110ms/step - loss: 0.5963 - sparse_categorical_accuracy: 0.7967 - val_loss: 2.2418 - val_sparse_categorical_accuracy: 0.5333\n",
      "Epoch 7/100\n",
      "23/23 [==============================] - 3s 109ms/step - loss: 0.4597 - sparse_categorical_accuracy: 0.8352 - val_loss: 2.6397 - val_sparse_categorical_accuracy: 0.4444\n",
      "Epoch 8/100\n",
      "23/23 [==============================] - 3s 130ms/step - loss: 0.4931 - sparse_categorical_accuracy: 0.8407 - val_loss: 2.2229 - val_sparse_categorical_accuracy: 0.6444\n",
      "Epoch 9/100\n",
      "23/23 [==============================] - 3s 139ms/step - loss: 0.3977 - sparse_categorical_accuracy: 0.8516 - val_loss: 1.7461 - val_sparse_categorical_accuracy: 0.6889\n",
      "Epoch 10/100\n",
      "23/23 [==============================] - 3s 130ms/step - loss: 0.4973 - sparse_categorical_accuracy: 0.8736 - val_loss: 1.5536 - val_sparse_categorical_accuracy: 0.7333\n",
      "Epoch 11/100\n",
      "23/23 [==============================] - 3s 111ms/step - loss: 0.3721 - sparse_categorical_accuracy: 0.9231 - val_loss: 1.9027 - val_sparse_categorical_accuracy: 0.6889\n",
      "Epoch 12/100\n",
      "23/23 [==============================] - 3s 115ms/step - loss: 0.3210 - sparse_categorical_accuracy: 0.8956 - val_loss: 2.7082 - val_sparse_categorical_accuracy: 0.4889\n",
      "Epoch 13/100\n",
      "23/23 [==============================] - 3s 114ms/step - loss: 0.3711 - sparse_categorical_accuracy: 0.8571 - val_loss: 2.0088 - val_sparse_categorical_accuracy: 0.7111\n",
      "Epoch 14/100\n",
      "23/23 [==============================] - 3s 115ms/step - loss: 0.2384 - sparse_categorical_accuracy: 0.9231 - val_loss: 1.4880 - val_sparse_categorical_accuracy: 0.6000\n",
      "Epoch 15/100\n",
      "23/23 [==============================] - 3s 117ms/step - loss: 0.2626 - sparse_categorical_accuracy: 0.8956 - val_loss: 1.4798 - val_sparse_categorical_accuracy: 0.6444\n",
      "Epoch 16/100\n",
      "23/23 [==============================] - 3s 113ms/step - loss: 0.3797 - sparse_categorical_accuracy: 0.8791 - val_loss: 2.2108 - val_sparse_categorical_accuracy: 0.5778\n",
      "Epoch 17/100\n",
      "23/23 [==============================] - 3s 111ms/step - loss: 0.2929 - sparse_categorical_accuracy: 0.8956 - val_loss: 1.8053 - val_sparse_categorical_accuracy: 0.6667\n",
      "Epoch 18/100\n",
      "23/23 [==============================] - 3s 109ms/step - loss: 0.2688 - sparse_categorical_accuracy: 0.8956 - val_loss: 1.5265 - val_sparse_categorical_accuracy: 0.6667\n",
      "Epoch 19/100\n",
      "23/23 [==============================] - 3s 111ms/step - loss: 0.2763 - sparse_categorical_accuracy: 0.8956 - val_loss: 1.8774 - val_sparse_categorical_accuracy: 0.6889\n",
      "Epoch 20/100\n",
      "23/23 [==============================] - 3s 110ms/step - loss: 0.2189 - sparse_categorical_accuracy: 0.9231 - val_loss: 1.6322 - val_sparse_categorical_accuracy: 0.7111\n",
      "Epoch 21/100\n",
      "23/23 [==============================] - 3s 110ms/step - loss: 0.2706 - sparse_categorical_accuracy: 0.9286 - val_loss: 1.4110 - val_sparse_categorical_accuracy: 0.6889\n",
      "Epoch 22/100\n",
      "23/23 [==============================] - 3s 129ms/step - loss: 0.2001 - sparse_categorical_accuracy: 0.9505 - val_loss: 1.0378 - val_sparse_categorical_accuracy: 0.7556\n",
      "Epoch 23/100\n",
      "23/23 [==============================] - 3s 110ms/step - loss: 0.2328 - sparse_categorical_accuracy: 0.9176 - val_loss: 1.1418 - val_sparse_categorical_accuracy: 0.6889\n",
      "Epoch 24/100\n",
      "23/23 [==============================] - 2s 109ms/step - loss: 0.3444 - sparse_categorical_accuracy: 0.8956 - val_loss: 1.6614 - val_sparse_categorical_accuracy: 0.6444\n",
      "Epoch 25/100\n",
      "23/23 [==============================] - 3s 109ms/step - loss: 0.2742 - sparse_categorical_accuracy: 0.8846 - val_loss: 1.1166 - val_sparse_categorical_accuracy: 0.6000\n",
      "Epoch 26/100\n",
      "23/23 [==============================] - 3s 127ms/step - loss: 0.3450 - sparse_categorical_accuracy: 0.8791 - val_loss: 1.0667 - val_sparse_categorical_accuracy: 0.7778\n",
      "Epoch 27/100\n",
      "23/23 [==============================] - 3s 110ms/step - loss: 0.2944 - sparse_categorical_accuracy: 0.9121 - val_loss: 1.3969 - val_sparse_categorical_accuracy: 0.7333\n",
      "Epoch 28/100\n",
      "23/23 [==============================] - 3s 110ms/step - loss: 0.1838 - sparse_categorical_accuracy: 0.9231 - val_loss: 1.3986 - val_sparse_categorical_accuracy: 0.6889\n",
      "Epoch 29/100\n",
      "23/23 [==============================] - 3s 109ms/step - loss: 0.1184 - sparse_categorical_accuracy: 0.9615 - val_loss: 1.1179 - val_sparse_categorical_accuracy: 0.6889\n",
      "Epoch 30/100\n",
      "23/23 [==============================] - 3s 109ms/step - loss: 0.0949 - sparse_categorical_accuracy: 0.9780 - val_loss: 1.1539 - val_sparse_categorical_accuracy: 0.7333\n",
      "Epoch 31/100\n",
      "23/23 [==============================] - 3s 109ms/step - loss: 0.1116 - sparse_categorical_accuracy: 0.9670 - val_loss: 1.1384 - val_sparse_categorical_accuracy: 0.7111\n",
      "Epoch 32/100\n",
      "23/23 [==============================] - 3s 109ms/step - loss: 0.1833 - sparse_categorical_accuracy: 0.9286 - val_loss: 1.4965 - val_sparse_categorical_accuracy: 0.7778\n",
      "Epoch 33/100\n",
      "23/23 [==============================] - 3s 109ms/step - loss: 0.1341 - sparse_categorical_accuracy: 0.9615 - val_loss: 1.4907 - val_sparse_categorical_accuracy: 0.7556\n",
      "Epoch 34/100\n",
      "23/23 [==============================] - 3s 109ms/step - loss: 0.1161 - sparse_categorical_accuracy: 0.9615 - val_loss: 1.7287 - val_sparse_categorical_accuracy: 0.7778\n",
      "Epoch 35/100\n",
      "23/23 [==============================] - 3s 109ms/step - loss: 0.2568 - sparse_categorical_accuracy: 0.9505 - val_loss: 2.1082 - val_sparse_categorical_accuracy: 0.6889\n",
      "Epoch 36/100\n",
      "23/23 [==============================] - 3s 109ms/step - loss: 0.1122 - sparse_categorical_accuracy: 0.9670 - val_loss: 1.2127 - val_sparse_categorical_accuracy: 0.6667\n",
      "Epoch 37/100\n",
      "23/23 [==============================] - 2s 109ms/step - loss: 0.1863 - sparse_categorical_accuracy: 0.9615 - val_loss: 1.0689 - val_sparse_categorical_accuracy: 0.7333\n",
      "Epoch 38/100\n",
      "23/23 [==============================] - 3s 112ms/step - loss: 0.1134 - sparse_categorical_accuracy: 0.9670 - val_loss: 0.9458 - val_sparse_categorical_accuracy: 0.7333\n",
      "Epoch 39/100\n",
      "23/23 [==============================] - 3s 112ms/step - loss: 0.1272 - sparse_categorical_accuracy: 0.9615 - val_loss: 0.8154 - val_sparse_categorical_accuracy: 0.7778\n",
      "Epoch 40/100\n",
      "23/23 [==============================] - 3s 114ms/step - loss: 0.0876 - sparse_categorical_accuracy: 0.9725 - val_loss: 0.8833 - val_sparse_categorical_accuracy: 0.6667\n",
      "Epoch 41/100\n",
      "23/23 [==============================] - 3s 115ms/step - loss: 0.1194 - sparse_categorical_accuracy: 0.9560 - val_loss: 1.3025 - val_sparse_categorical_accuracy: 0.6444\n",
      "2/2 [==============================] - 0s 36ms/step - loss: 1.0667 - sparse_categorical_accuracy: 0.7778\n",
      "block1a_ same\n",
      "block2a_ ((1, 1), (1, 1))\n",
      "block2a_ valid\n",
      "block2b_ same\n",
      "block3a_ ((2, 2), (2, 2))\n",
      "block3a_ valid\n",
      "block3b_ same\n",
      "block4a_ ((1, 1), (1, 1))\n",
      "block4a_ valid\n",
      "block4b_ same\n",
      "block4c_ same\n",
      "block5a_ same\n",
      "block5b_ same\n",
      "block5c_ same\n",
      "block6a_ ((2, 2), (2, 2))\n",
      "block6a_ valid\n",
      "block6b_ same\n",
      "block6c_ same\n",
      "block6d_ same\n",
      "block7a_ same\n",
      "Epoch 1/100\n",
      "23/23 [==============================] - 7s 163ms/step - loss: 1.6406 - sparse_categorical_accuracy: 0.3956 - val_loss: 3.4981 - val_sparse_categorical_accuracy: 0.2000\n",
      "Epoch 2/100\n",
      "23/23 [==============================] - 3s 140ms/step - loss: 0.8833 - sparse_categorical_accuracy: 0.7033 - val_loss: 4.1100 - val_sparse_categorical_accuracy: 0.2889\n",
      "Epoch 3/100\n",
      "23/23 [==============================] - 3s 137ms/step - loss: 0.7028 - sparse_categorical_accuracy: 0.7582 - val_loss: 2.1469 - val_sparse_categorical_accuracy: 0.4000\n",
      "Epoch 4/100\n",
      "23/23 [==============================] - 3s 133ms/step - loss: 0.6732 - sparse_categorical_accuracy: 0.7967 - val_loss: 2.8543 - val_sparse_categorical_accuracy: 0.5778\n",
      "Epoch 5/100\n",
      "23/23 [==============================] - 3s 116ms/step - loss: 0.6157 - sparse_categorical_accuracy: 0.7967 - val_loss: 3.0087 - val_sparse_categorical_accuracy: 0.5333\n",
      "Epoch 6/100\n",
      "23/23 [==============================] - 3s 139ms/step - loss: 0.5535 - sparse_categorical_accuracy: 0.8407 - val_loss: 1.1230 - val_sparse_categorical_accuracy: 0.6444\n",
      "Epoch 7/100\n",
      "23/23 [==============================] - 3s 115ms/step - loss: 0.5265 - sparse_categorical_accuracy: 0.8077 - val_loss: 2.2551 - val_sparse_categorical_accuracy: 0.4444\n",
      "Epoch 8/100\n",
      "23/23 [==============================] - 3s 116ms/step - loss: 0.4199 - sparse_categorical_accuracy: 0.8407 - val_loss: 2.4258 - val_sparse_categorical_accuracy: 0.5333\n",
      "Epoch 9/100\n",
      "23/23 [==============================] - 3s 116ms/step - loss: 0.4510 - sparse_categorical_accuracy: 0.8681 - val_loss: 3.2883 - val_sparse_categorical_accuracy: 0.6222\n",
      "Epoch 10/100\n",
      "23/23 [==============================] - 3s 113ms/step - loss: 0.4139 - sparse_categorical_accuracy: 0.8407 - val_loss: 1.8611 - val_sparse_categorical_accuracy: 0.5556\n",
      "Epoch 11/100\n",
      "23/23 [==============================] - 3s 114ms/step - loss: 0.5356 - sparse_categorical_accuracy: 0.8132 - val_loss: 2.2794 - val_sparse_categorical_accuracy: 0.4444\n",
      "Epoch 12/100\n",
      "23/23 [==============================] - 3s 114ms/step - loss: 0.2872 - sparse_categorical_accuracy: 0.9011 - val_loss: 1.9053 - val_sparse_categorical_accuracy: 0.5556\n",
      "Epoch 13/100\n",
      "23/23 [==============================] - 3s 112ms/step - loss: 0.3293 - sparse_categorical_accuracy: 0.9121 - val_loss: 2.4013 - val_sparse_categorical_accuracy: 0.6000\n",
      "Epoch 14/100\n",
      "23/23 [==============================] - 3s 111ms/step - loss: 0.4186 - sparse_categorical_accuracy: 0.8516 - val_loss: 1.3904 - val_sparse_categorical_accuracy: 0.5778\n",
      "Epoch 15/100\n",
      "23/23 [==============================] - 3s 113ms/step - loss: 0.2571 - sparse_categorical_accuracy: 0.8956 - val_loss: 1.3548 - val_sparse_categorical_accuracy: 0.5778\n",
      "Epoch 16/100\n",
      "23/23 [==============================] - 3s 113ms/step - loss: 0.3523 - sparse_categorical_accuracy: 0.8846 - val_loss: 1.8779 - val_sparse_categorical_accuracy: 0.6444\n",
      "Epoch 17/100\n",
      "23/23 [==============================] - 3s 118ms/step - loss: 0.2109 - sparse_categorical_accuracy: 0.9396 - val_loss: 1.7320 - val_sparse_categorical_accuracy: 0.6444\n",
      "Epoch 18/100\n",
      "23/23 [==============================] - 3s 131ms/step - loss: 0.1626 - sparse_categorical_accuracy: 0.9451 - val_loss: 1.2073 - val_sparse_categorical_accuracy: 0.7333\n",
      "Epoch 19/100\n",
      "23/23 [==============================] - 3s 110ms/step - loss: 0.1755 - sparse_categorical_accuracy: 0.9505 - val_loss: 1.9305 - val_sparse_categorical_accuracy: 0.6222\n",
      "Epoch 20/100\n",
      "23/23 [==============================] - 3s 120ms/step - loss: 0.1315 - sparse_categorical_accuracy: 0.9505 - val_loss: 1.7175 - val_sparse_categorical_accuracy: 0.6444\n",
      "Epoch 21/100\n",
      "23/23 [==============================] - 3s 149ms/step - loss: 0.1351 - sparse_categorical_accuracy: 0.9341 - val_loss: 0.9086 - val_sparse_categorical_accuracy: 0.8000\n",
      "Epoch 22/100\n",
      "23/23 [==============================] - 3s 118ms/step - loss: 0.1032 - sparse_categorical_accuracy: 0.9780 - val_loss: 1.4329 - val_sparse_categorical_accuracy: 0.7556\n",
      "Epoch 23/100\n",
      "23/23 [==============================] - 3s 120ms/step - loss: 0.1472 - sparse_categorical_accuracy: 0.9451 - val_loss: 2.1826 - val_sparse_categorical_accuracy: 0.6222\n",
      "Epoch 24/100\n",
      "23/23 [==============================] - 3s 116ms/step - loss: 0.2157 - sparse_categorical_accuracy: 0.9231 - val_loss: 1.6100 - val_sparse_categorical_accuracy: 0.6889\n",
      "Epoch 25/100\n",
      "23/23 [==============================] - 3s 111ms/step - loss: 0.1405 - sparse_categorical_accuracy: 0.9560 - val_loss: 2.0275 - val_sparse_categorical_accuracy: 0.5556\n",
      "Epoch 26/100\n",
      "23/23 [==============================] - 3s 112ms/step - loss: 0.2878 - sparse_categorical_accuracy: 0.9231 - val_loss: 1.6785 - val_sparse_categorical_accuracy: 0.5556\n",
      "Epoch 27/100\n",
      "23/23 [==============================] - 3s 112ms/step - loss: 0.2220 - sparse_categorical_accuracy: 0.9121 - val_loss: 1.6181 - val_sparse_categorical_accuracy: 0.7111\n",
      "Epoch 28/100\n",
      "23/23 [==============================] - 3s 113ms/step - loss: 0.3154 - sparse_categorical_accuracy: 0.8901 - val_loss: 1.4262 - val_sparse_categorical_accuracy: 0.6444\n",
      "Epoch 29/100\n",
      "23/23 [==============================] - 3s 112ms/step - loss: 0.1698 - sparse_categorical_accuracy: 0.9451 - val_loss: 2.0406 - val_sparse_categorical_accuracy: 0.5111\n",
      "Epoch 30/100\n",
      "23/23 [==============================] - 3s 111ms/step - loss: 0.1813 - sparse_categorical_accuracy: 0.9560 - val_loss: 2.4935 - val_sparse_categorical_accuracy: 0.4889\n",
      "Epoch 31/100\n",
      "23/23 [==============================] - 3s 113ms/step - loss: 0.2269 - sparse_categorical_accuracy: 0.9286 - val_loss: 2.5860 - val_sparse_categorical_accuracy: 0.4667\n",
      "Epoch 32/100\n",
      "23/23 [==============================] - 3s 114ms/step - loss: 0.1655 - sparse_categorical_accuracy: 0.9560 - val_loss: 2.9738 - val_sparse_categorical_accuracy: 0.5333\n",
      "Epoch 33/100\n",
      "23/23 [==============================] - 3s 111ms/step - loss: 0.1474 - sparse_categorical_accuracy: 0.9560 - val_loss: 0.9547 - val_sparse_categorical_accuracy: 0.8000\n",
      "Epoch 34/100\n",
      "23/23 [==============================] - 3s 116ms/step - loss: 0.1515 - sparse_categorical_accuracy: 0.9725 - val_loss: 0.7229 - val_sparse_categorical_accuracy: 0.7556\n",
      "Epoch 35/100\n",
      "23/23 [==============================] - 3s 113ms/step - loss: 0.0975 - sparse_categorical_accuracy: 0.9835 - val_loss: 1.0175 - val_sparse_categorical_accuracy: 0.7111\n",
      "Epoch 36/100\n",
      "23/23 [==============================] - 3s 111ms/step - loss: 0.1066 - sparse_categorical_accuracy: 0.9670 - val_loss: 1.0238 - val_sparse_categorical_accuracy: 0.7333\n",
      "2/2 [==============================] - 0s 36ms/step - loss: 0.9086 - sparse_categorical_accuracy: 0.8000\n",
      "block1a_ same\n",
      "block2a_ ((1, 1), (1, 1))\n",
      "block2a_ valid\n",
      "block2b_ same\n",
      "block3a_ ((2, 2), (2, 2))\n",
      "block3a_ valid\n",
      "block3b_ same\n",
      "block4a_ ((1, 1), (1, 1))\n",
      "block4a_ valid\n",
      "block4b_ same\n",
      "block4c_ same\n",
      "block5a_ same\n",
      "block5b_ same\n",
      "block5c_ same\n",
      "block6a_ ((2, 2), (2, 2))\n",
      "block6a_ valid\n",
      "block6b_ same\n",
      "block6c_ same\n",
      "block6d_ same\n",
      "block7a_ same\n"
     ]
    }
   ],
   "source": [
    "# Train and evaluate the model using K-fold cross-validation\n",
    "scores = []\n",
    "training_accuracy = []\n",
    "validation_accuracy = []\n",
    "training_loss = []\n",
    "validation_loss = []\n",
    "\n",
    "## Initializing the model\n",
    "model_init()\n",
    "\n",
    "## counter for folds\n",
    "i = 1\n",
    "\n",
    "for train_idx, val_idx in kf.split(x_train_val):\n",
    "    X_train = tf.gather(x_train_val, train_idx)\n",
    "    y_train = tf.gather(y_train_val, train_idx)\n",
    "    X_val = tf.gather(x_train_val, val_idx)\n",
    "    y_val = tf.gather(y_train_val, val_idx)\n",
    "    \n",
    "    history = model.fit(X_train, y_train, validation_data=(X_val, y_val), epochs= config.model_epochs, verbose=1, batch_size=config.model_batch_size, \n",
    "                        callbacks=[early_stopping, checkpoint])\n",
    "\n",
    "    training_accuracy.append(history.history['sparse_categorical_accuracy'])\n",
    "    validation_accuracy.append(history.history['val_sparse_categorical_accuracy'])\n",
    "    training_loss.append(history.history['loss'])\n",
    "    validation_loss.append(history.history['val_loss'])\n",
    "    \n",
    "    model.load_weights('best_weights.h5')\n",
    "    score = model.evaluate(X_val, y_val)\n",
    "    scores.append(score[1])\n",
    "    \n",
    "    wandb.log({\"Best Validation Loss for Folds\": score[0]})\n",
    "    wandb.log({\"Best Validation Accuracy for Folds\" : score[1]})\n",
    "    \n",
    "    # Define the current and new file names\n",
    "    current_name = 'best_weights.h5'\n",
    "    new_name = 'fold_' + str(i) + '_best_model_weights.h5'\n",
    "    \n",
    "    i+=1\n",
    "\n",
    "    ## Rename the file\n",
    "    os.rename(current_name, new_name)\n",
    "    ## Log the model to wandb\n",
    "    wandb.save(new_name)\n",
    "    \n",
    "    ## Reseting the model for the next fold\n",
    "    model_init()"
   ]
  },
  {
   "cell_type": "code",
   "execution_count": 171,
   "id": "c3ae736d",
   "metadata": {
    "ExecuteTime": {
     "end_time": "2023-04-09T20:44:00.262059Z",
     "start_time": "2023-04-09T20:44:00.259248Z"
    },
    "tags": []
   },
   "outputs": [
    {
     "name": "stdout",
     "output_type": "stream",
     "text": [
      "Validation accuracy mean: 0.79 (std 0.01)\n"
     ]
    }
   ],
   "source": [
    "# Print the mean validation accuracy\n",
    "print('Validation accuracy mean: {:.2f} (std {:.2f})'.format(np.mean(scores), np.std(scores)))"
   ]
  },
  {
   "cell_type": "code",
   "execution_count": 172,
   "id": "36bb5a80-43a4-4af4-87f0-b5f2fe70db9a",
   "metadata": {
    "tags": []
   },
   "outputs": [],
   "source": [
    "wandb.log({\"Folds Validation Accuracy Mean\" : np.mean(scores),\n",
    "           \"Folds Validation Accuracy STD\": np.std(scores)})"
   ]
  },
  {
   "cell_type": "code",
   "execution_count": 173,
   "id": "380b7f7f-3f72-43b1-b0c7-271aacf6d261",
   "metadata": {
    "tags": []
   },
   "outputs": [
    {
     "data": {
      "text/plain": [
       "[0.804347813129425,\n",
       " 0.782608687877655,\n",
       " 0.7777777910232544,\n",
       " 0.7777777910232544,\n",
       " 0.800000011920929]"
      ]
     },
     "execution_count": 173,
     "metadata": {},
     "output_type": "execute_result"
    }
   ],
   "source": [
    "scores"
   ]
  },
  {
   "cell_type": "markdown",
   "id": "013aa747-2788-4c43-a743-c29c8c378de4",
   "metadata": {},
   "source": [
    "Calculating the **1 - Cohen's kappa** score of the trained model on the trained dataset."
   ]
  },
  {
   "cell_type": "markdown",
   "id": "6b25d1dd-8f31-410a-b166-e4e76ab602ca",
   "metadata": {},
   "source": [
    "## Model with best validation accuracy"
   ]
  },
  {
   "cell_type": "code",
   "execution_count": 174,
   "id": "57622050-4496-4b58-be90-6290691d01d0",
   "metadata": {
    "tags": []
   },
   "outputs": [],
   "source": [
    "## select the model with the best fold's validation accuracy\n",
    "maximum = max(scores)\n",
    "index_of_maximum = scores.index(maximum)\n",
    "best_fold = index_of_maximum + 1\n",
    "\n",
    "model.load_weights('fold_' + str(best_fold) + '_best_model_weights.h5')"
   ]
  },
  {
   "cell_type": "markdown",
   "id": "49502a7c-6390-436e-9735-799cdebb246b",
   "metadata": {
    "tags": []
   },
   "source": [
    "### Model with best validation accuracy Kohen's Kappa Score"
   ]
  },
  {
   "cell_type": "code",
   "execution_count": 175,
   "id": "bb08a64b",
   "metadata": {
    "ExecuteTime": {
     "end_time": "2023-04-04T20:10:20.518612Z",
     "start_time": "2023-04-04T20:10:19.125881Z"
    },
    "tags": []
   },
   "outputs": [
    {
     "name": "stdout",
     "output_type": "stream",
     "text": [
      "Score: 0.5142857142857142\n"
     ]
    }
   ],
   "source": [
    "predictions = np.zeros(len(y_test), dtype=np.int8)\n",
    "# inference loop\n",
    "for e, (image, target) in enumerate(zip(x_test, y_test)):\n",
    "    image = np.expand_dims(np.array(image), axis=0)\n",
    "    output = model.predict(image)\n",
    "    predictions[e] = np.squeeze(output).argmax()\n",
    "#Keras model score\n",
    "score_keras = 1 - cohen_kappa_score(y_test.numpy(), predictions)\n",
    "print(\"Score:\", score_keras)"
   ]
  },
  {
   "cell_type": "markdown",
   "id": "90bdf6d8-572a-4c1c-8923-0744bee1151f",
   "metadata": {
    "tags": []
   },
   "source": [
    "### Log Cohen Kappa Score for the model with the best validation accuracy (Unifeied Test Set)"
   ]
  },
  {
   "cell_type": "code",
   "execution_count": 176,
   "id": "b8332b8d-eaa4-437b-8e1b-ad922306c05a",
   "metadata": {
    "tags": []
   },
   "outputs": [],
   "source": [
    "wandb.log({\"Cohen Kappa Score for model with best validation accuracy (Unified Test Set)\": score_keras})"
   ]
  },
  {
   "cell_type": "markdown",
   "id": "79eba581-d390-470e-9a03-7add62fb9425",
   "metadata": {},
   "source": [
    "### Acuracy for model with best validation accuracy (Unified Test Set)"
   ]
  },
  {
   "cell_type": "code",
   "execution_count": 177,
   "id": "1f67616e-002a-46a0-9fed-d28104e756f6",
   "metadata": {
    "tags": []
   },
   "outputs": [
    {
     "name": "stdout",
     "output_type": "stream",
     "text": [
      "Accuracy:  0.55\n"
     ]
    }
   ],
   "source": [
    "# assuming you have two lists, predicted and actual\n",
    "correct = 0\n",
    "total = len(y_test.numpy())\n",
    "\n",
    "for pred, label in zip(predictions, y_test.numpy()):\n",
    "    if pred == label:\n",
    "        correct += 1\n",
    "\n",
    "accuracy = correct / total\n",
    "\n",
    "print(\"Accuracy: \", accuracy)"
   ]
  },
  {
   "cell_type": "markdown",
   "id": "d8bcfddf-9634-43fc-bc1e-068d1c7c04c1",
   "metadata": {
    "tags": []
   },
   "source": [
    "### Log Accuracy for the model with the best validation accuracy (Unifeied Test Set)"
   ]
  },
  {
   "cell_type": "code",
   "execution_count": 178,
   "id": "528570bb-2435-44ca-ac10-b8824ca2dde7",
   "metadata": {
    "tags": []
   },
   "outputs": [],
   "source": [
    "wandb.log({\"Accuracy for model with best validation accuracy (Unified Test Set)\": accuracy})"
   ]
  },
  {
   "cell_type": "markdown",
   "id": "4fa9ebb8-4d1c-434d-bf3e-d4c6cc942ee0",
   "metadata": {},
   "source": [
    "## Ensemble model from the k trained models"
   ]
  },
  {
   "cell_type": "code",
   "execution_count": 179,
   "id": "7df5c93d-bf69-4526-bf7a-dd469b15ac7e",
   "metadata": {
    "tags": []
   },
   "outputs": [],
   "source": [
    "models = []\n",
    "for i in range(1, (config.cross_validation_k + 1)):\n",
    "    models.append(keras.models.load_model('fold_' + str(i) + '_best_model_weights.h5', custom_objects={'CustomLoss': custom_loss}))\n",
    "    \n",
    "y_preds = []\n",
    "for model in models:\n",
    "    y_pred = model.predict(x_test)\n",
    "    y_preds.append(y_pred)\n",
    "    \n",
    "# combine the predictions using voting or averaging\n",
    "y_ensemble = sum(y_preds) / config.cross_validation_k"
   ]
  },
  {
   "cell_type": "markdown",
   "id": "ffd793b9-e56c-46c5-9f58-38a7d4bbb536",
   "metadata": {},
   "source": [
    "### Ensemble model Kohen's Kappa Score"
   ]
  },
  {
   "cell_type": "code",
   "execution_count": 180,
   "id": "0a78c7c3-6804-4eb8-9244-926403e59229",
   "metadata": {
    "tags": []
   },
   "outputs": [
    {
     "name": "stdout",
     "output_type": "stream",
     "text": [
      "Score: 0.37142857142857144\n"
     ]
    }
   ],
   "source": [
    "predictions = np.zeros(len(y_test), dtype=np.int8)\n",
    "# inference loop\n",
    "for e, (image, target) in enumerate(zip(x_test, y_test)):\n",
    "    image = np.expand_dims(np.array(image), axis=0)\n",
    "    output = y_ensemble[e]\n",
    "    predictions[e] = np.squeeze(output).argmax()\n",
    "#Keras model score\n",
    "score_keras = 1 - cohen_kappa_score(y_test.numpy(), predictions)\n",
    "print(\"Score:\",score_keras)"
   ]
  },
  {
   "cell_type": "markdown",
   "id": "941f04a6-9431-4b6b-8bdc-ac2c2e7e4b14",
   "metadata": {
    "tags": []
   },
   "source": [
    "### Log Cohen Kappa Score for the ensemble model (Unifeied Test Set)"
   ]
  },
  {
   "cell_type": "code",
   "execution_count": 181,
   "id": "12edc555-dfc8-46a5-b232-90f414bbb4bd",
   "metadata": {
    "tags": []
   },
   "outputs": [],
   "source": [
    "wandb.log({\"Cohen Kappa Score for the ensemble model (Unified Test Set)\": score_keras})"
   ]
  },
  {
   "cell_type": "markdown",
   "id": "982b1e1e-7720-4784-9af6-f7aa5bc35e38",
   "metadata": {
    "tags": []
   },
   "source": [
    "### Accuracy "
   ]
  },
  {
   "cell_type": "code",
   "execution_count": 182,
   "id": "52b23a82-f1c9-4955-a519-a85187b2e656",
   "metadata": {
    "tags": []
   },
   "outputs": [
    {
     "name": "stdout",
     "output_type": "stream",
     "text": [
      "Accuracy:  0.675\n"
     ]
    }
   ],
   "source": [
    "# assuming you have two lists, predicted and actual\n",
    "correct = 0\n",
    "total = len(y_test.numpy())\n",
    "\n",
    "for pred, label in zip(predictions, y_test.numpy()):\n",
    "    if pred == label:\n",
    "        correct += 1\n",
    "\n",
    "accuracy = correct / total\n",
    "\n",
    "print(\"Accuracy: \", accuracy)"
   ]
  },
  {
   "cell_type": "markdown",
   "id": "18f073c6-6366-4846-8275-13af9784ca1e",
   "metadata": {
    "tags": []
   },
   "source": [
    "### Log Accuracy for the ensemble model (Unifeied Test Set)"
   ]
  },
  {
   "cell_type": "code",
   "execution_count": 183,
   "id": "be5c349e-cd11-43a5-b0e3-1f16aec93037",
   "metadata": {
    "tags": []
   },
   "outputs": [],
   "source": [
    "wandb.log({\"Accuracy for the ensemble model (Unified Test Set)\": accuracy})"
   ]
  },
  {
   "cell_type": "markdown",
   "id": "a6b9b6db-0771-41f7-9c83-29e26f8a9318",
   "metadata": {},
   "source": [
    "## Train - Validation Visualization"
   ]
  },
  {
   "cell_type": "code",
   "execution_count": 184,
   "id": "eccf8e57-6fb7-443d-ba9a-adc43ba15c43",
   "metadata": {
    "tags": []
   },
   "outputs": [
    {
     "data": {
      "text/plain": [
       "[30, 32, 24, 41, 36]"
      ]
     },
     "execution_count": 184,
     "metadata": {},
     "output_type": "execute_result"
    }
   ],
   "source": [
    "eps_per_fold = [len(sub_list) for sub_list in training_accuracy]\n",
    "eps_per_fold"
   ]
  },
  {
   "cell_type": "code",
   "execution_count": 185,
   "id": "5865317a-83dc-42c1-a4f3-1abe577e63b8",
   "metadata": {
    "tags": []
   },
   "outputs": [],
   "source": [
    "eps_per_fold_cum = list(accumulate(eps_per_fold))"
   ]
  },
  {
   "cell_type": "code",
   "execution_count": 186,
   "id": "154f6fb9-0369-4090-983d-58a4d79f5410",
   "metadata": {
    "tags": []
   },
   "outputs": [],
   "source": [
    "training_accuracy = [element for sublist in training_accuracy for element in sublist]\n",
    "validation_accuracy = [element for sublist in validation_accuracy for element in sublist]\n",
    "training_loss = [element for sublist in training_loss for element in sublist]\n",
    "validation_loss = [element for sublist in validation_loss for element in sublist]"
   ]
  },
  {
   "cell_type": "code",
   "execution_count": 187,
   "id": "c84b0a9c-6f41-444e-ba23-cab449735fb1",
   "metadata": {
    "tags": []
   },
   "outputs": [
    {
     "data": {
      "text/plain": [
       "[30, 62, 86, 127, 163]"
      ]
     },
     "execution_count": 187,
     "metadata": {},
     "output_type": "execute_result"
    }
   ],
   "source": [
    "eps_per_fold_cum"
   ]
  },
  {
   "cell_type": "code",
   "execution_count": 188,
   "id": "a3bdaa28-fd23-4ffc-9174-f51aa4ad8f2a",
   "metadata": {
    "tags": []
   },
   "outputs": [],
   "source": [
    "xs = []\n",
    "ys = []\n",
    "for i in range(config.cross_validation_k):\n",
    "    xs.append(eps_per_fold_cum[i]+1)\n",
    "    ys.append(training_accuracy[eps_per_fold_cum[0]-1])\n",
    "# xs = [eps_per_fold_cum[0]+1, eps_per_fold_cum[1]+1, eps_per_fold_cum[2]+1, eps_per_fold_cum[3]+1, eps_per_fold_cum[4]+1]\n",
    "# ys = [training_accuracy[eps_per_fold_cum[0]-1], training_accuracy[eps_per_fold_cum[1]-1], training_accuracy[eps_per_fold_cum[2]-1],\n",
    "#          training_accuracy[eps_per_fold_cum[3]-1], training_accuracy[eps_per_fold_cum[4]-1]]"
   ]
  },
  {
   "cell_type": "code",
   "execution_count": 189,
   "id": "f5e2e0b8-4b97-430f-a553-5962477fa2e4",
   "metadata": {
    "tags": []
   },
   "outputs": [
    {
     "data": {
      "image/png": "[encoded data removed]",
      "text/plain": [
       "<Figure size 1500x600 with 1 Axes>"
      ]
     },
     "metadata": {},
     "output_type": "display_data"
    }
   ],
   "source": [
    "x1 = list(range(1, len(training_accuracy) + 1))\n",
    "x2 = list(range(1, len(validation_accuracy) + 1))\n",
    "\n",
    "fig = plt.figure(figsize=(15, 6))\n",
    "\n",
    "# Create the plot\n",
    "plt.plot(x1, training_accuracy, label='Training Accuracy')\n",
    "plt.plot(x2, validation_accuracy, label='Validation Accuracy')\n",
    "\n",
    "\n",
    "\n",
    "# Add points with labels\n",
    "for i in range(config.cross_validation_k-1):\n",
    "    plt.axvline(x=xs[i], color='red', linestyle='--')\n",
    "# plt.axvline(x=xs[0], color='red', linestyle='--')\n",
    "# plt.axvline(x=xs[1], color='red', linestyle='--')\n",
    "# plt.axvline(x=xs[2], color='red', linestyle='--')\n",
    "# plt.axvline(x=xs[3], color='red', linestyle='--')\n",
    "\n",
    "# Add annotations to the lines\n",
    "for i in range(config.cross_validation_k-1):\n",
    "    plt.annotate('Fold '+str(i+2), xy=(xs[i], 0.2), xytext=(xs[i]+1, 0.15),\n",
    "             arrowprops=dict(facecolor='black', arrowstyle='->'))\n",
    "\n",
    "# plt.annotate('Fold 2', xy=(xs[0], 0.5), xytext=(xs[0]+1, 0.4),\n",
    "#              arrowprops=dict(facecolor='black', arrowstyle='->'))\n",
    "# plt.annotate('Fold 3', xy=(xs[1], 0.5), xytext=(xs[1]+1, 0.4),\n",
    "#              arrowprops=dict(facecolor='black', arrowstyle='->'))\n",
    "# plt.annotate('Fold 4', xy=(xs[2], 0.5), xytext=(xs[2]+1, 0.4),\n",
    "#              arrowprops=dict(facecolor='black', arrowstyle='->'))\n",
    "# plt.annotate('Fold 5', xy=(xs[3], 0.5), xytext=(xs[3]+1, 0.4),\n",
    "#              arrowprops=dict(facecolor='black', arrowstyle='->'))\n",
    "# plt.axvline(x=xs[4], color='red', linestyle='--')\n",
    "# plt.scatter(xs, ys, color='red')\n",
    "# plt.annotate('Point 1', (2, 4), textcoords=\"offset points\", xytext=(0,10), ha='center')\n",
    "# plt.annotate('Point 2', (4, 8), textcoords=\"offset points\", xytext=(0,10), ha='center')\n",
    "\n",
    "\n",
    "# Add a legend\n",
    "plt.legend()\n",
    "\n",
    "# Enable the grid\n",
    "# plt.grid(True)\n",
    "\n",
    "## Log Train - Val Accuracy Curve\n",
    "wandb.log({'Train - Val Accuracy': wandb.Image(plt)})\n",
    "\n",
    "# Show the plot\n",
    "# plt.show()"
   ]
  },
  {
   "cell_type": "code",
   "execution_count": 190,
   "id": "0f09b955-43d2-4cec-9601-68f309c45c13",
   "metadata": {
    "tags": []
   },
   "outputs": [
    {
     "data": {
      "image/png": "[encoded data removed]",
      "text/plain": [
       "<Figure size 1500x600 with 1 Axes>"
      ]
     },
     "metadata": {},
     "output_type": "display_data"
    }
   ],
   "source": [
    "x1 = list(range(1, len(training_loss) + 1))\n",
    "x2 = list(range(1, len(validation_loss) + 1))\n",
    "\n",
    "fig = plt.figure(figsize=(15, 6))\n",
    "\n",
    "# Create the plot\n",
    "plt.plot(x1, training_loss, label='Training Loss')\n",
    "plt.plot(x2, validation_loss, label='Validation Loss')\n",
    "\n",
    "\n",
    "\n",
    "# Add points with labels\n",
    "for i in range(config.cross_validation_k-1):\n",
    "    plt.axvline(x=xs[i], color='red', linestyle='--')\n",
    "# plt.axvline(x=xs[0], color='red', linestyle='--')\n",
    "# plt.axvline(x=xs[1], color='red', linestyle='--')\n",
    "# plt.axvline(x=xs[2], color='red', linestyle='--')\n",
    "# plt.axvline(x=xs[3], color='red', linestyle='--')\n",
    "\n",
    "# Add annotations to the lines\n",
    "for i in range(config.cross_validation_k-1):\n",
    "    plt.annotate('Fold '+str(i+2), xy=(xs[i], 0), xytext=(xs[i]+1, 0),\n",
    "             arrowprops=dict(facecolor='black', arrowstyle='->'))\n",
    "\n",
    "# plt.annotate('Fold 2', xy=(xs[0], 0.5), xytext=(xs[0]+1, 0.4),\n",
    "#              arrowprops=dict(facecolor='black', arrowstyle='->'))\n",
    "# plt.annotate('Fold 3', xy=(xs[1], 0.5), xytext=(xs[1]+1, 0.4),\n",
    "#              arrowprops=dict(facecolor='black', arrowstyle='->'))\n",
    "# plt.annotate('Fold 4', xy=(xs[2], 0.5), xytext=(xs[2]+1, 0.4),\n",
    "#              arrowprops=dict(facecolor='black', arrowstyle='->'))\n",
    "# plt.annotate('Fold 5', xy=(xs[3], 0.5), xytext=(xs[3]+1, 0.4),\n",
    "#              arrowprops=dict(facecolor='black', arrowstyle='->'))\n",
    "# plt.axvline(x=xs[4], color='red', linestyle='--')\n",
    "# plt.scatter(xs, ys, color='red')\n",
    "# plt.annotate('Point 1', (2, 4), textcoords=\"offset points\", xytext=(0,10), ha='center')\n",
    "# plt.annotate('Point 2', (4, 8), textcoords=\"offset points\", xytext=(0,10), ha='center')\n",
    "\n",
    "\n",
    "# Add a legend\n",
    "plt.legend()\n",
    "\n",
    "# Enable the grid\n",
    "# plt.grid(True)\n",
    "\n",
    "## Log Train - Val Accuracy Curve\n",
    "wandb.log({'Train - Val Loss': wandb.Image(plt)})\n",
    "\n",
    "# Show the plot\n",
    "# plt.show()"
   ]
  },
  {
   "cell_type": "markdown",
   "id": "3f341c28-1ecf-42a6-b76f-710d8bc40fbf",
   "metadata": {},
   "source": [
    "## Log Unified Test Set and its predictions"
   ]
  },
  {
   "cell_type": "code",
   "execution_count": 191,
   "id": "bd3a4b92-6599-4f63-8e84-9404ff5ee6be",
   "metadata": {
    "tags": []
   },
   "outputs": [],
   "source": [
    "prediction_names = [class_name_label[num] for num in predictions]\n",
    "actual_names = [class_name_label[num] for num in y_test.numpy()]"
   ]
  },
  {
   "cell_type": "code",
   "execution_count": 192,
   "id": "e57e146b-c100-4338-a283-8c9ad2ee3641",
   "metadata": {
    "tags": []
   },
   "outputs": [],
   "source": [
    "pred_is_actual = [x == y for x, y in zip(prediction_names, actual_names)]"
   ]
  },
  {
   "cell_type": "markdown",
   "id": "3e3d1ad5-f57c-496a-9439-b6f70204ed37",
   "metadata": {},
   "source": [
    "### Log Correct and Wrong Predictions as Images"
   ]
  },
  {
   "cell_type": "code",
   "execution_count": 193,
   "id": "d02bdf7d-96b3-4f19-adeb-534865cc5c43",
   "metadata": {
    "tags": []
   },
   "outputs": [],
   "source": [
    "# assuming you have lists of images, predictions, and actual labels\n",
    "for i, (img, pred, label) in enumerate(zip(x_test, prediction_names, actual_names)):\n",
    "    wandb.log({'All Predictions - Unified Test Set': wandb.Image(img, caption='predicted: {}, actual: {}'.format(pred, label))})\n",
    "    \n",
    "    if(pred_is_actual[i]):\n",
    "        wandb.log({'Correct Predictions - Unified Test Set': wandb.Image(img, caption='predicted: {}, actual: {}'.format(pred, label))})\n",
    "    else:\n",
    "        wandb.log({'Wrong Predictions - Unified Test Set': wandb.Image(img, caption='predicted: {}, actual: {}'.format(pred, label))})"
   ]
  },
  {
   "cell_type": "markdown",
   "id": "f185f21c-183f-4a40-a006-7a9e584773c6",
   "metadata": {},
   "source": [
    "### Class accuracies"
   ]
  },
  {
   "cell_type": "code",
   "execution_count": 194,
   "id": "97ec4f49-6f4f-4e84-9202-d292727f66a1",
   "metadata": {},
   "outputs": [],
   "source": [
    "df_preds = pd.DataFrame({\"actual\": actual_names, \"prediction\": prediction_names, \"correct\": pred_is_actual})"
   ]
  },
  {
   "cell_type": "code",
   "execution_count": 195,
   "id": "d9f98010-5dca-4c8b-8d41-9707a3b88b36",
   "metadata": {
    "tags": []
   },
   "outputs": [],
   "source": [
    "# group the dataframe by the 'actual' column\n",
    "grouped = df_preds.groupby('actual')\n",
    "class_accuracy = pd.DataFrame(data={}, columns=['class', 'accuracy'])\n",
    "# calculate the accuracy for each group\n",
    "for name, group in grouped:\n",
    "    accuracy = accuracy_score(group['actual'], group['prediction'])\n",
    "    # print('Accuracy for class {}: {}'.format(name, accuracy))\n",
    "    new_row = {\"class\": name, 'accuracy': accuracy}\n",
    "    class_accuracy = pd.concat([class_accuracy, pd.DataFrame([new_row])], ignore_index=True)\n",
    "class_accuracy = class_accuracy.sort_values('accuracy', ascending=True).reset_index(drop = True)"
   ]
  },
  {
   "cell_type": "code",
   "execution_count": 196,
   "id": "bec8b796-108b-46eb-9960-dcd324c754c4",
   "metadata": {
    "tags": []
   },
   "outputs": [
    {
     "data": {
      "text/html": [
       "<div>\n",
       "<style scoped>\n",
       "    .dataframe tbody tr th:only-of-type {\n",
       "        vertical-align: middle;\n",
       "    }\n",
       "\n",
       "    .dataframe tbody tr th {\n",
       "        vertical-align: top;\n",
       "    }\n",
       "\n",
       "    .dataframe thead th {\n",
       "        text-align: right;\n",
       "    }\n",
       "</style>\n",
       "<table border=\"1\" class=\"dataframe\">\n",
       "  <thead>\n",
       "    <tr style=\"text-align: right;\">\n",
       "      <th></th>\n",
       "      <th>class</th>\n",
       "      <th>accuracy</th>\n",
       "    </tr>\n",
       "  </thead>\n",
       "  <tbody>\n",
       "    <tr>\n",
       "      <th>0</th>\n",
       "      <td>Agricultural</td>\n",
       "      <td>0.2</td>\n",
       "    </tr>\n",
       "    <tr>\n",
       "      <th>1</th>\n",
       "      <td>Mountain</td>\n",
       "      <td>0.4</td>\n",
       "    </tr>\n",
       "    <tr>\n",
       "      <th>2</th>\n",
       "      <td>Cloud</td>\n",
       "      <td>0.6</td>\n",
       "    </tr>\n",
       "    <tr>\n",
       "      <th>3</th>\n",
       "      <td>Snow</td>\n",
       "      <td>0.6</td>\n",
       "    </tr>\n",
       "    <tr>\n",
       "      <th>4</th>\n",
       "      <td>Natural</td>\n",
       "      <td>0.8</td>\n",
       "    </tr>\n",
       "    <tr>\n",
       "      <th>5</th>\n",
       "      <td>River</td>\n",
       "      <td>0.8</td>\n",
       "    </tr>\n",
       "    <tr>\n",
       "      <th>6</th>\n",
       "      <td>Sea_ice</td>\n",
       "      <td>1.0</td>\n",
       "    </tr>\n",
       "    <tr>\n",
       "      <th>7</th>\n",
       "      <td>Water</td>\n",
       "      <td>1.0</td>\n",
       "    </tr>\n",
       "  </tbody>\n",
       "</table>\n",
       "</div>"
      ],
      "text/plain": [
       "          class  accuracy\n",
       "0  Agricultural       0.2\n",
       "1      Mountain       0.4\n",
       "2         Cloud       0.6\n",
       "3          Snow       0.6\n",
       "4       Natural       0.8\n",
       "5         River       0.8\n",
       "6       Sea_ice       1.0\n",
       "7         Water       1.0"
      ]
     },
     "execution_count": 196,
     "metadata": {},
     "output_type": "execute_result"
    }
   ],
   "source": [
    "class_accuracy"
   ]
  },
  {
   "cell_type": "code",
   "execution_count": 197,
   "id": "6f9fb81b-ae64-431a-8b1c-d56011502aaa",
   "metadata": {
    "tags": []
   },
   "outputs": [],
   "source": [
    "# create a wandb.Table object from the dataframe\n",
    "table = wandb.Table(dataframe=class_accuracy)\n",
    "# log the table to wandb\n",
    "wandb.log({'Class Accuracies': table})"
   ]
  },
  {
   "cell_type": "code",
   "execution_count": 198,
   "id": "d86f03fa-fdd8-4861-b0ae-d9d079d9334a",
   "metadata": {
    "tags": []
   },
   "outputs": [
    {
     "data": {
      "text/html": [
       "Waiting for W&B process to finish... <strong style=\"color:green\">(success).</strong>"
      ],
      "text/plain": [
       "<IPython.core.display.HTML object>"
      ]
     },
     "metadata": {},
     "output_type": "display_data"
    },
    {
     "data": {
      "text/html": [
       "<style>\n",
       "    table.wandb td:nth-child(1) { padding: 0 10px; text-align: left ; width: auto;} td:nth-child(2) {text-align: left ; width: 100%}\n",
       "    .wandb-row { display: flex; flex-direction: row; flex-wrap: wrap; justify-content: flex-start; width: 100% }\n",
       "    .wandb-col { display: flex; flex-direction: column; flex-basis: 100%; flex: 1; padding: 10px; }\n",
       "    </style>\n",
       "<div class=\"wandb-row\"><div class=\"wandb-col\"><h3>Run history:</h3><br/><table class=\"wandb\"><tr><td>Accuracy for model with best validation accuracy (Unified Test Set)</td><td>▁</td></tr><tr><td>Accuracy for the ensemble model (Unified Test Set)</td><td>▁</td></tr><tr><td>Best Validation Accuracy for Folds</td><td>█▂▁▁▇</td></tr><tr><td>Best Validation Loss for Folds</td><td>█▅▇▃▁</td></tr><tr><td>Cohen Kappa Score for model with best validation accuracy (Unified Test Set)</td><td>▁</td></tr><tr><td>Cohen Kappa Score for the ensemble model (Unified Test Set)</td><td>▁</td></tr><tr><td>Folds Validation Accuracy Mean</td><td>▁</td></tr><tr><td>Folds Validation Accuracy STD</td><td>▁</td></tr><tr><td>Test Set Size</td><td>▁</td></tr><tr><td>Training Validation Set Size</td><td>▁</td></tr></table><br/></div><div class=\"wandb-col\"><h3>Run summary:</h3><br/><table class=\"wandb\"><tr><td>Accuracy for model with best validation accuracy (Unified Test Set)</td><td>0.55</td></tr><tr><td>Accuracy for the ensemble model (Unified Test Set)</td><td>0.675</td></tr><tr><td>Best Validation Accuracy for Folds</td><td>0.8</td></tr><tr><td>Best Validation Loss for Folds</td><td>0.90858</td></tr><tr><td>Cohen Kappa Score for model with best validation accuracy (Unified Test Set)</td><td>0.51429</td></tr><tr><td>Cohen Kappa Score for the ensemble model (Unified Test Set)</td><td>0.37143</td></tr><tr><td>Dataset Name</td><td>The OPS-SAT case dat...</td></tr><tr><td>Dataset Variation Description</td><td>Test Run Variation T...</td></tr><tr><td>Folds Validation Accuracy Mean</td><td>0.7885</td></tr><tr><td>Folds Validation Accuracy STD</td><td>0.01138</td></tr><tr><td>Test Set Path</td><td>/home/ramez/Politech...</td></tr><tr><td>Test Set Size</td><td>40</td></tr><tr><td>Train Val Set Path</td><td>/home/ramez/Politech...</td></tr><tr><td>Training Validation Set Size</td><td>227</td></tr></table><br/></div></div>"
      ],
      "text/plain": [
       "<IPython.core.display.HTML object>"
      ]
     },
     "metadata": {},
     "output_type": "display_data"
    },
    {
     "data": {
      "text/html": [
       " View run <strong style=\"color:#cdcd00\">polished-haze-47</strong> at: <a href='https://wandb.ai/ramez/OPS-SAT-Thesis-Project/runs/ugcto6wo' target=\"_blank\">https://wandb.ai/ramez/OPS-SAT-Thesis-Project/runs/ugcto6wo</a><br/>Synced 6 W&B file(s), 83 media file(s), 1 artifact file(s) and 5 other file(s)"
      ],
      "text/plain": [
       "<IPython.core.display.HTML object>"
      ]
     },
     "metadata": {},
     "output_type": "display_data"
    },
    {
     "data": {
      "text/html": [
       "Find logs at: <code>./wandb/run-20230506_151719-ugcto6wo/logs</code>"
      ],
      "text/plain": [
       "<IPython.core.display.HTML object>"
      ]
     },
     "metadata": {},
     "output_type": "display_data"
    }
   ],
   "source": [
    "wandb.finish()"
   ]
  },
  {
   "cell_type": "code",
   "execution_count": null,
   "id": "f1073ff0-8023-4446-9287-711b255c8486",
   "metadata": {},
   "outputs": [],
   "source": []
  },
  {
   "cell_type": "code",
   "execution_count": null,
   "id": "6914a879-ea49-4d8c-aa12-22231573d2e4",
   "metadata": {},
   "outputs": [],
   "source": []
  },
  {
   "cell_type": "code",
   "execution_count": null,
   "id": "488a741c-626d-4480-acf2-0e18892a05ab",
   "metadata": {},
   "outputs": [],
   "source": []
  },
  {
   "cell_type": "code",
   "execution_count": null,
   "id": "e4480c0e-72c2-418c-af05-2d47ae530e70",
   "metadata": {},
   "outputs": [],
   "source": []
  },
  {
   "cell_type": "code",
   "execution_count": null,
   "id": "ab82b9af-129b-4795-9411-60ba573f9656",
   "metadata": {},
   "outputs": [],
   "source": []
  },
  {
   "cell_type": "code",
   "execution_count": null,
   "id": "d718f5fc",
   "metadata": {
    "ExecuteTime": {
     "end_time": "2023-04-09T20:42:39.783353Z",
     "start_time": "2023-04-09T20:42:39.220320Z"
    },
    "tags": []
   },
   "outputs": [],
   "source": [
    "## Load the Model without any weight initialization\n",
    "# model = EfficientNetLiteB0(classes=num_classes, weights=None, input_shape=input_shape, classifier_activation=None)\n",
    "# model.summary()"
   ]
  },
  {
   "cell_type": "code",
   "execution_count": null,
   "id": "2c9ed0f4-bd3f-45bd-b135-b0332086e2f7",
   "metadata": {},
   "outputs": [],
   "source": []
  },
  {
   "cell_type": "code",
   "execution_count": null,
   "id": "00f6c73b",
   "metadata": {
    "ExecuteTime": {
     "end_time": "2022-10-30T19:46:06.491070Z",
     "start_time": "2022-10-30T19:46:06.274124Z"
    }
   },
   "outputs": [],
   "source": [
    "## Saving model\n",
    "# model.save_weights('/home/ramez/Politechnika_Slaska_MSc/Thesis/Competition/submission/submit_19.h5')"
   ]
  },
  {
   "cell_type": "code",
   "execution_count": null,
   "id": "8b0adb32",
   "metadata": {
    "ExecuteTime": {
     "end_time": "2022-10-30T19:40:44.823406Z",
     "start_time": "2022-10-30T19:40:43.780920Z"
    }
   },
   "outputs": [],
   "source": [
    "# model = EfficientNetLiteB0(classes=num_classes, weights=None, input_shape=input_shape, classifier_activation=None)\n",
    "# # model = EfficientNetLiteB0(include_top=False, classes=num_classes, weights='imagenet', input_shape=input_shape, classifier_activation=None)\n",
    "# model.load_weights('/home/ramez/Politechnika_Slaska_MSc/Thesis/Competition/submission/model_patterns_20epochs.h5')"
   ]
  },
  {
   "cell_type": "markdown",
   "id": "91d26b2b",
   "metadata": {},
   "source": [
    "The model will be now compiled and tested again. You should get the same score as before saving and loading. "
   ]
  },
  {
   "cell_type": "code",
   "execution_count": null,
   "id": "27e0e495",
   "metadata": {
    "ExecuteTime": {
     "end_time": "2022-10-08T14:01:38.000493Z",
     "start_time": "2022-10-08T14:01:36.169912Z"
    }
   },
   "outputs": [],
   "source": [
    "# #Model shall be compiled before testing.\n",
    "# model.compile()\n",
    "\n",
    "# #Creating empty predictions\n",
    "# predictions = np.zeros(len(y_test), dtype=np.int8)\n",
    "# # inference loop\n",
    "# for e, (image, target) in enumerate(zip(x_test, y_test)):\n",
    "#     image = np.expand_dims(np.array(image), axis=0)\n",
    "#     output = model.predict(image)\n",
    "#     predictions[e] = np.squeeze(output).argmax()\n",
    "# #Keras model score\n",
    "# score_keras = 1 - cohen_kappa_score(y_test.numpy(), predictions)\n",
    "# print(\"Score:\",score_keras)"
   ]
  },
  {
   "cell_type": "code",
   "execution_count": null,
   "id": "82416ca4",
   "metadata": {},
   "outputs": [],
   "source": []
  },
  {
   "cell_type": "code",
   "execution_count": null,
   "id": "14eedf3b",
   "metadata": {},
   "outputs": [],
   "source": []
  },
  {
   "cell_type": "code",
   "execution_count": null,
   "id": "786276ad",
   "metadata": {},
   "outputs": [],
   "source": []
  },
  {
   "cell_type": "code",
   "execution_count": null,
   "id": "bf1b71e6",
   "metadata": {
    "ExecuteTime": {
     "end_time": "2022-10-12T18:20:06.668315Z",
     "start_time": "2022-10-12T18:20:06.652610Z"
    }
   },
   "outputs": [],
   "source": []
  },
  {
   "cell_type": "code",
   "execution_count": null,
   "id": "e2dd4279",
   "metadata": {},
   "outputs": [],
   "source": []
  }
 ],
 "metadata": {
  "kernelspec": {
   "display_name": "Python 3 (ipykernel)",
   "language": "python",
   "name": "python3"
  },
  "language_info": {
   "codemirror_mode": {
    "name": "ipython",
    "version": 3
   },
   "file_extension": ".py",
   "mimetype": "text/x-python",
   "name": "python",
   "nbconvert_exporter": "python",
   "pygments_lexer": "ipython3",
   "version": "3.9.16"
  },
  "toc": {
   "base_numbering": 1,
   "nav_menu": {},
   "number_sections": true,
   "sideBar": true,
   "skip_h1_title": false,
   "title_cell": "Table of Contents",
   "title_sidebar": "Contents",
   "toc_cell": false,
   "toc_position": {},
   "toc_section_display": true,
   "toc_window_display": false
  }
 },
 "nbformat": 4,
 "nbformat_minor": 5
}
