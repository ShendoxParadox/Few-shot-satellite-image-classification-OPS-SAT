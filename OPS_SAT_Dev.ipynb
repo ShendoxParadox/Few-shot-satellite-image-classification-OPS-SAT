{
 "cells": [
  {
   "cell_type": "markdown",
   "id": "fcdcd3ca",
   "metadata": {},
   "source": [
    "# OPS-SAT case starter-kit notebook"
   ]
  },
  {
   "cell_type": "markdown",
   "id": "a3ad0860",
   "metadata": {},
   "source": [
    "ESA's [Kelvins](https://kelvins.esa.int) competition \"[the OPS-SAT case](https://kelvins.esa.int/opssat/home/)\" is a novel data-centric challenge that asks you to work with the raw data of a satellite and very few provided labels to find the best parameters for a given machine learning model. Compared to previous competitions on Kelvins (like the [Pose Estimation](https://kelvins.esa.int/pose-estimation-2021/) or the [Proba-V Super-resolution challenge](https://kelvins.esa.int/proba-v-super-resolution/)) where the test-set is provided and the infered results are submitted, for the OPS-SAT case, we will run inference on the Kelvins server directly! This notebooks contains examples on how you can load your data and train an **EfficientNetLite0** model by only using the 80-labeled images provided. Therefore, the directory `images`, containing unlabeld patches and included in the training dataset is not used for this notebook. However, competitors are encouraged to use these patches to improve the model accuracy."
   ]
  },
  {
   "cell_type": "markdown",
   "id": "403eeb5a",
   "metadata": {},
   "source": [
    "# 1. Module imports"
   ]
  },
  {
   "cell_type": "markdown",
   "id": "91d88f44",
   "metadata": {},
   "source": [
    "If you do not have a GPU, uncomment and run the next commands.\n"
   ]
  },
  {
   "cell_type": "code",
   "execution_count": 1,
   "id": "1f3f6cde",
   "metadata": {
    "ExecuteTime": {
     "end_time": "2023-04-09T20:42:31.525217Z",
     "start_time": "2023-04-09T20:42:31.521341Z"
    },
    "scrolled": true,
    "tags": []
   },
   "outputs": [
    {
     "data": {
      "text/plain": [
       "'3.9.16 (main, Mar  8 2023, 14:00:05) \\n[GCC 11.2.0]'"
      ]
     },
     "execution_count": 1,
     "metadata": {},
     "output_type": "execute_result"
    }
   ],
   "source": [
    "import sys\n",
    "sys.version"
   ]
  },
  {
   "cell_type": "code",
   "execution_count": 2,
   "id": "c7c8f9d8",
   "metadata": {
    "ExecuteTime": {
     "end_time": "2023-04-09T20:42:31.887841Z",
     "start_time": "2023-04-09T20:42:31.711974Z"
    },
    "tags": []
   },
   "outputs": [
    {
     "name": "stdout",
     "output_type": "stream",
     "text": [
      "/usr/bin/zsh: /home/ramez/miniconda3/envs/thesis/lib/libtinfo.so.6: no version information available (required by /usr/bin/zsh)\n",
      "Python 3.9.16\n"
     ]
    }
   ],
   "source": [
    "! python --version"
   ]
  },
  {
   "cell_type": "code",
   "execution_count": 3,
   "id": "cb8fddce",
   "metadata": {
    "ExecuteTime": {
     "end_time": "2023-04-09T20:42:32.267814Z",
     "start_time": "2023-04-09T20:42:32.094731Z"
    },
    "tags": []
   },
   "outputs": [
    {
     "name": "stdout",
     "output_type": "stream",
     "text": [
      "/usr/bin/zsh: /home/ramez/miniconda3/envs/thesis/lib/libtinfo.so.6: no version information available (required by /usr/bin/zsh)\n",
      "/home/ramez/miniconda3/envs/thesis/bin/python\n"
     ]
    }
   ],
   "source": [
    "! which python"
   ]
  },
  {
   "cell_type": "code",
   "execution_count": 4,
   "id": "c3aecaa6",
   "metadata": {
    "ExecuteTime": {
     "end_time": "2023-04-09T20:42:33.914315Z",
     "start_time": "2023-04-09T20:42:33.911985Z"
    },
    "tags": []
   },
   "outputs": [],
   "source": [
    "import tensorflow as tf"
   ]
  },
  {
   "cell_type": "markdown",
   "id": "4fc1fd19-d4ef-4a54-877e-9d06a9049737",
   "metadata": {},
   "source": [
    "#### GPU Check"
   ]
  },
  {
   "cell_type": "code",
   "execution_count": 5,
   "id": "b1e02f8b",
   "metadata": {
    "ExecuteTime": {
     "end_time": "2023-04-09T20:42:36.255529Z",
     "start_time": "2023-04-09T20:42:34.328075Z"
    },
    "tags": []
   },
   "outputs": [
    {
     "name": "stdout",
     "output_type": "stream",
     "text": [
      "/usr/bin/zsh: /home/ramez/miniconda3/envs/thesis/lib/libtinfo.so.6: no version information available (required by /usr/bin/zsh)\n",
      "[PhysicalDevice(name='/physical_device:GPU:0', device_type='GPU')]\n"
     ]
    }
   ],
   "source": [
    "!python3 -c \"import tensorflow as tf; print(tf.config.list_physical_devices('GPU'))\""
   ]
  },
  {
   "cell_type": "code",
   "execution_count": 6,
   "id": "234eba6e",
   "metadata": {
    "ExecuteTime": {
     "end_time": "2023-04-09T20:42:36.260638Z",
     "start_time": "2023-04-09T20:42:36.257966Z"
    },
    "tags": []
   },
   "outputs": [],
   "source": [
    "from tensorflow import keras"
   ]
  },
  {
   "cell_type": "code",
   "execution_count": 7,
   "id": "ea21b9b7",
   "metadata": {
    "ExecuteTime": {
     "end_time": "2023-04-09T20:42:36.327202Z",
     "start_time": "2023-04-09T20:42:36.262029Z"
    },
    "tags": []
   },
   "outputs": [],
   "source": [
    "import numpy as np"
   ]
  },
  {
   "cell_type": "code",
   "execution_count": 8,
   "id": "f73af189",
   "metadata": {
    "ExecuteTime": {
     "end_time": "2023-04-09T20:42:36.336400Z",
     "start_time": "2023-04-09T20:42:36.333721Z"
    },
    "tags": []
   },
   "outputs": [],
   "source": [
    "from sklearn.metrics import cohen_kappa_score"
   ]
  },
  {
   "cell_type": "code",
   "execution_count": 9,
   "id": "80fbbb42",
   "metadata": {
    "ExecuteTime": {
     "end_time": "2023-04-09T20:42:36.345491Z",
     "start_time": "2023-04-09T20:42:36.343286Z"
    },
    "tags": []
   },
   "outputs": [],
   "source": [
    "## Local EfficientNetLite (Customized by the Competition)\n",
    "from efficientnet_lite import EfficientNetLiteB0"
   ]
  },
  {
   "cell_type": "code",
   "execution_count": 10,
   "id": "c6face98",
   "metadata": {
    "ExecuteTime": {
     "end_time": "2023-04-09T20:42:36.349008Z",
     "start_time": "2023-04-09T20:42:36.346850Z"
    },
    "tags": []
   },
   "outputs": [],
   "source": [
    "from sklearn.model_selection import KFold"
   ]
  },
  {
   "cell_type": "code",
   "execution_count": 11,
   "id": "fb004876",
   "metadata": {
    "ExecuteTime": {
     "end_time": "2023-04-09T20:42:36.353039Z",
     "start_time": "2023-04-09T20:42:36.350804Z"
    },
    "tags": []
   },
   "outputs": [],
   "source": [
    "from tensorflow.keras.models import Model\n",
    "from tensorflow.keras.layers import GlobalAveragePooling2D, Dense, Dropout"
   ]
  },
  {
   "cell_type": "code",
   "execution_count": 12,
   "id": "22d591c0",
   "metadata": {
    "ExecuteTime": {
     "end_time": "2023-04-09T20:42:36.719018Z",
     "start_time": "2023-04-09T20:42:36.716802Z"
    },
    "tags": []
   },
   "outputs": [],
   "source": [
    "from tensorflow.keras.callbacks import TensorBoard"
   ]
  },
  {
   "cell_type": "code",
   "execution_count": 13,
   "id": "a7cffd18-bb07-4455-8292-3cd846d3139e",
   "metadata": {
    "tags": []
   },
   "outputs": [],
   "source": [
    "from keras.callbacks import EarlyStopping, ModelCheckpoint"
   ]
  },
  {
   "cell_type": "code",
   "execution_count": 14,
   "id": "6d5167dd-ad8d-41ab-9c7c-ace8e0c7c765",
   "metadata": {
    "tags": []
   },
   "outputs": [],
   "source": [
    "import matplotlib.pyplot as plt"
   ]
  },
  {
   "cell_type": "code",
   "execution_count": 15,
   "id": "bdcaf42f-1499-4cde-a474-ee694d25d7eb",
   "metadata": {
    "tags": []
   },
   "outputs": [],
   "source": [
    "from itertools import accumulate"
   ]
  },
  {
   "cell_type": "code",
   "execution_count": 16,
   "id": "262ab8b0-57fa-4a40-9ebc-fd2e9809942f",
   "metadata": {},
   "outputs": [],
   "source": [
    "import os"
   ]
  },
  {
   "cell_type": "code",
   "execution_count": 17,
   "id": "6b4157e1-1449-4c49-84b0-4790c28e8930",
   "metadata": {
    "tags": []
   },
   "outputs": [],
   "source": [
    "import wandb\n",
    "from wandb.keras import WandbMetricsLogger, WandbModelCheckpoint"
   ]
  },
  {
   "cell_type": "code",
   "execution_count": 18,
   "id": "721d8519-b6c7-40a3-932b-3604ccee3a3e",
   "metadata": {
    "tags": []
   },
   "outputs": [],
   "source": [
    "import pandas as pd"
   ]
  },
  {
   "cell_type": "code",
   "execution_count": 19,
   "id": "d4f8aac5-9d4e-4fb7-a49e-e53896526633",
   "metadata": {
    "tags": []
   },
   "outputs": [],
   "source": [
    "from sklearn.metrics import accuracy_score"
   ]
  },
  {
   "cell_type": "markdown",
   "id": "539eda62",
   "metadata": {},
   "source": [
    "# 2. Utility Functions"
   ]
  },
  {
   "cell_type": "markdown",
   "id": "eec32f1b",
   "metadata": {},
   "source": [
    "You can use this function to load your training data."
   ]
  },
  {
   "cell_type": "code",
   "execution_count": 20,
   "id": "9f270337",
   "metadata": {
    "ExecuteTime": {
     "end_time": "2023-04-09T20:42:37.464808Z",
     "start_time": "2023-04-09T20:42:37.461420Z"
    },
    "tags": []
   },
   "outputs": [],
   "source": [
    "def get_images_from_path(dataset_path):\n",
    "    \"\"\" Get images from path and normalize them applying channel-level normalization. \"\"\"\n",
    "\n",
    "    # loading all images in one large batch\n",
    "    tf_eval_data = tf.keras.utils.image_dataset_from_directory(dataset_path, image_size=config.input_shape[:2], shuffle=False, \n",
    "                                                               batch_size=100000, label_mode='int')\n",
    "\n",
    "    # get the class names (folder names) from the dataset object\n",
    "    global class_names\n",
    "    class_names = tf_eval_data.class_names\n",
    "    \n",
    "    # extract images and targets\n",
    "    for tf_eval_images, tf_eval_targets in tf_eval_data:\n",
    "        break\n",
    "\n",
    "    return tf.convert_to_tensor(tf_eval_images), tf_eval_targets"
   ]
  },
  {
   "cell_type": "markdown",
   "id": "a6cec9e1",
   "metadata": {},
   "source": [
    "# 4. Loading data"
   ]
  },
  {
   "cell_type": "code",
   "execution_count": 21,
   "id": "3939168c",
   "metadata": {
    "ExecuteTime": {
     "end_time": "2023-04-09T20:42:42.576907Z",
     "start_time": "2023-04-09T20:42:42.574308Z"
    },
    "tags": []
   },
   "outputs": [],
   "source": [
    "## test Variation\n",
    "# dataset_path_train_val = \"/home/ramez/Politechnika_Slaska_MSc/Thesis/Competition/Data/ops_sat_train/\"\n",
    "# dataset_path_train_val = \"/home/ramez/Politechnika_Slaska_MSc/Thesis/Competition/the_opssat_case_starter_kit-main/Data/Variation_Original/train/\"\n",
    "dataset_path_train_val = \"/home/ramez/Politechnika_Slaska_MSc/Thesis/Competition/the_opssat_case_starter_kit-main/Data/Variation_Augmentation/train/\""
   ]
  },
  {
   "cell_type": "code",
   "execution_count": 22,
   "id": "4e57cb03",
   "metadata": {
    "ExecuteTime": {
     "end_time": "2023-04-09T20:42:43.086890Z",
     "start_time": "2023-04-09T20:42:43.084818Z"
    },
    "tags": []
   },
   "outputs": [],
   "source": [
    "## Test Variation\n",
    "# dataset_path_test = \"/home/ramez/Politechnika_Slaska_MSc/Thesis/Competition/Data/ops_sat_test/\"\n",
    "# dataset_path_test = \"/home/ramez/Politechnika_Slaska_MSc/Thesis/Competition/the_opssat_case_starter_kit-main/Data/Variation_Original/test/\"\n",
    "dataset_path_test = \"/home/ramez/Politechnika_Slaska_MSc/Thesis/Competition/the_opssat_case_starter_kit-main/Data/Variation_Augmentation/test/\""
   ]
  },
  {
   "cell_type": "markdown",
   "id": "ad7277b8",
   "metadata": {},
   "source": [
    "In this notebook, classical supervised learning is used. Therefore, remember to remove the subdirectory `images` containing unlabeled patches before loading the dataset to perform training correctly."
   ]
  },
  {
   "cell_type": "markdown",
   "id": "f3244374-4874-45b3-b37a-8447dad08e80",
   "metadata": {},
   "source": [
    "### Model Configuration"
   ]
  },
  {
   "cell_type": "code",
   "execution_count": 23,
   "id": "eab2f877-ebc7-42d1-b7a5-a4a3201206b1",
   "metadata": {
    "tags": []
   },
   "outputs": [
    {
     "name": "stderr",
     "output_type": "stream",
     "text": [
      "Failed to detect the name of this notebook, you can set it manually with the WANDB_NOTEBOOK_NAME environment variable to enable code saving.\n",
      "\u001b[34m\u001b[1mwandb\u001b[0m: Currently logged in as: \u001b[33mramezashendy\u001b[0m (\u001b[33mramez\u001b[0m). Use \u001b[1m`wandb login --relogin`\u001b[0m to force relogin\n"
     ]
    },
    {
     "data": {
      "text/html": [
       "wandb version 0.15.3 is available!  To upgrade, please run:\n",
       " $ pip install wandb --upgrade"
      ],
      "text/plain": [
       "<IPython.core.display.HTML object>"
      ]
     },
     "metadata": {},
     "output_type": "display_data"
    },
    {
     "data": {
      "text/html": [
       "Tracking run with wandb version 0.15.0"
      ],
      "text/plain": [
       "<IPython.core.display.HTML object>"
      ]
     },
     "metadata": {},
     "output_type": "display_data"
    },
    {
     "data": {
      "text/html": [
       "Run data is saved locally in <code>/home/ramez/Politechnika_Slaska_MSc/Thesis/Competition/the_opssat_case_starter_kit-main/OPS-SAT/wandb/run-20230527_115910-o8tfn8ss</code>"
      ],
      "text/plain": [
       "<IPython.core.display.HTML object>"
      ]
     },
     "metadata": {},
     "output_type": "display_data"
    },
    {
     "data": {
      "text/html": [
       "Syncing run <strong><a href='https://wandb.ai/ramez/OPS-SAT-Thesis-Project/runs/o8tfn8ss' target=\"_blank\">eager-spaceship-80</a></strong> to <a href='https://wandb.ai/ramez/OPS-SAT-Thesis-Project' target=\"_blank\">Weights & Biases</a> (<a href='https://wandb.me/run' target=\"_blank\">docs</a>)<br/>"
      ],
      "text/plain": [
       "<IPython.core.display.HTML object>"
      ]
     },
     "metadata": {},
     "output_type": "display_data"
    },
    {
     "data": {
      "text/html": [
       " View project at <a href='https://wandb.ai/ramez/OPS-SAT-Thesis-Project' target=\"_blank\">https://wandb.ai/ramez/OPS-SAT-Thesis-Project</a>"
      ],
      "text/plain": [
       "<IPython.core.display.HTML object>"
      ]
     },
     "metadata": {},
     "output_type": "display_data"
    },
    {
     "data": {
      "text/html": [
       " View run at <a href='https://wandb.ai/ramez/OPS-SAT-Thesis-Project/runs/o8tfn8ss' target=\"_blank\">https://wandb.ai/ramez/OPS-SAT-Thesis-Project/runs/o8tfn8ss</a>"
      ],
      "text/plain": [
       "<IPython.core.display.HTML object>"
      ]
     },
     "metadata": {},
     "output_type": "display_data"
    }
   ],
   "source": [
    "# Start a run, tracking hyperparameters\n",
    "wandb.init(\n",
    "    # set the wandb project where this run will be logged\n",
    "    project=\"OPS-SAT-Thesis-Project\",\n",
    "\n",
    "    # track hyperparameters and run metadata with wandb.config\n",
    "    config={\n",
    "        \"dropout\": 0.5,\n",
    "        \"num_classes\": 8,\n",
    "        \"input_shape\": (200, 200, 3),\n",
    "        \"model_weights\": \"imagenet\",\n",
    "        \"output_layer_activation\": \"softmax\",\n",
    "        \"model_optimizer\": \"adam\",\n",
    "        # \"loss_fun\": \"FocalLoss\",\n",
    "        \"loss_fun\": \"SparseCategoricalCrossentropy\",\n",
    "        \"model_metrics\": [\"SparseCategoricalAccuracy\"],\n",
    "        \"early_stopping_monitor\": \"val_sparse_categorical_accuracy\",\n",
    "        \"early_stopping_patience\": 9,\n",
    "        \"model_checkpoint_monitor\": \"val_sparse_categorical_accuracy\",\n",
    "        \"cross_validation_k\": 5,\n",
    "        \"model_epochs\": 200,\n",
    "        \"model_batch_size\": 4,\n",
    "        \"alpha_focal_loss\": None, # 0-1 (0.2)\n",
    "        \"gamma_focal_loss\": None  # 1-5 (2,3)\n",
    "    }\n",
    ")\n",
    "\n",
    "config = wandb.config"
   ]
  },
  {
   "cell_type": "code",
   "execution_count": 24,
   "id": "5c7b1b00-0996-4944-873b-220cad229b36",
   "metadata": {
    "tags": []
   },
   "outputs": [],
   "source": [
    "class CustomLoss(tf.keras.losses.Loss):\n",
    "    def __init__(self, **kwargs):\n",
    "        super(CustomLoss, self).__init__(**kwargs)\n",
    "        self.scce = tf.keras.losses.SparseCategoricalCrossentropy(from_logits=False)\n",
    "\n",
    "    def call(self, y_true, y_pred):\n",
    "        return self.scce(y_true, y_pred)"
   ]
  },
  {
   "cell_type": "code",
   "execution_count": 25,
   "id": "dc7f65ec-694f-4acc-b159-cabba081471f",
   "metadata": {
    "tags": []
   },
   "outputs": [],
   "source": [
    "def sparse_categorical_focal_loss(y_true, y_pred, gamma=config.gamma_focal_loss, alpha=config.alpha_focal_loss):\n",
    "    # Convert target labels to one-hot encoding\n",
    "    y_true_one_hot = tf.one_hot(tf.cast(y_true, tf.int32), tf.shape(y_pred)[-1])\n",
    "\n",
    "    # Compute cross-entropy loss\n",
    "    cross_entropy = tf.keras.losses.SparseCategoricalCrossentropy(from_logits=False)(y_true, y_pred)\n",
    "\n",
    "    # Compute focal weights based on the probability predictions\n",
    "    p_t = tf.reduce_sum(y_true_one_hot * y_pred, axis=-1)\n",
    "    focal_weights = tf.pow(1 - p_t, gamma)\n",
    "\n",
    "    # Apply focal weights to the cross-entropy loss\n",
    "    loss = alpha * focal_weights * cross_entropy\n",
    "\n",
    "    return loss"
   ]
  },
  {
   "cell_type": "code",
   "execution_count": 26,
   "id": "ab6ef347-28fc-4fcc-bafa-5466b90353fd",
   "metadata": {
    "tags": []
   },
   "outputs": [],
   "source": [
    "custom_loss_functions = {\n",
    "    'SparseCategoricalCrossentropy': CustomLoss\n",
    "    # 'FocalLoss': sparse_categorical_focal_loss\n",
    "}"
   ]
  },
  {
   "cell_type": "code",
   "execution_count": 27,
   "id": "535d9f57",
   "metadata": {
    "ExecuteTime": {
     "end_time": "2023-04-09T20:42:44.029535Z",
     "start_time": "2023-04-09T20:42:43.904140Z"
    },
    "tags": []
   },
   "outputs": [
    {
     "name": "stdout",
     "output_type": "stream",
     "text": [
      "Found 1920 files belonging to 8 classes.\n"
     ]
    }
   ],
   "source": [
    "#Loading dataset\n",
    "x_train_val, y_train_val = get_images_from_path(dataset_path_train_val)"
   ]
  },
  {
   "cell_type": "code",
   "execution_count": 28,
   "id": "870f0b93-ea52-4ae0-98f4-e90f8a3db249",
   "metadata": {
    "tags": []
   },
   "outputs": [],
   "source": [
    "## class_names_labels dict\n",
    "class_name_label = {}\n",
    "for i, class_name in enumerate(class_names):\n",
    "    class_name_label[i] = class_name"
   ]
  },
  {
   "cell_type": "code",
   "execution_count": 29,
   "id": "176ad7e8",
   "metadata": {
    "ExecuteTime": {
     "end_time": "2023-04-09T20:42:44.501742Z",
     "start_time": "2023-04-09T20:42:44.458845Z"
    },
    "tags": []
   },
   "outputs": [
    {
     "name": "stdout",
     "output_type": "stream",
     "text": [
      "Found 40 files belonging to 8 classes.\n"
     ]
    }
   ],
   "source": [
    "#Loading dataset\n",
    "x_test, y_test = get_images_from_path(dataset_path_test)"
   ]
  },
  {
   "cell_type": "code",
   "execution_count": 30,
   "id": "8029b003-175d-4b30-9f95-2b209090e08a",
   "metadata": {
    "tags": []
   },
   "outputs": [],
   "source": [
    "## class_names_labels dict\n",
    "class_name_label_test = {}\n",
    "for i, class_name in enumerate(class_names):\n",
    "    class_name_label_test[i] = class_name"
   ]
  },
  {
   "cell_type": "code",
   "execution_count": 31,
   "id": "71c45087-b178-4403-b8d8-b0f0204243b0",
   "metadata": {
    "tags": []
   },
   "outputs": [
    {
     "name": "stdout",
     "output_type": "stream",
     "text": [
      "Ok\n"
     ]
    }
   ],
   "source": [
    "## Check if classes are identical with labels in both splits\n",
    "if class_name_label == class_name_label_test:\n",
    "    print(\"Ok\")\n",
    "else:\n",
    "    print(\"Error - Class Mapping Are Mismatched\")"
   ]
  },
  {
   "cell_type": "markdown",
   "id": "501432e0-b414-4678-9c97-06fc5d9cac3d",
   "metadata": {},
   "source": [
    "### Logging Info about the Dataset"
   ]
  },
  {
   "cell_type": "code",
   "execution_count": 32,
   "id": "89a90a0b-b5f6-44e8-a9cc-66adbb3ae491",
   "metadata": {
    "tags": []
   },
   "outputs": [],
   "source": [
    "train_val_len = len(x_train_val)\n",
    "test_len = len(x_test)\n",
    "dataset_name = \"The OPS-SAT case dataset\"\n",
    "dataset_variation_description = \"Augmentation Variation\"\n",
    "dataset_train_val_path = dataset_path_train_val"
   ]
  },
  {
   "cell_type": "code",
   "execution_count": 33,
   "id": "0b16a64b-ccb8-4f97-823b-443d87f3a99e",
   "metadata": {
    "tags": []
   },
   "outputs": [],
   "source": [
    "dataset_info = {\"Dataset Name\": dataset_name, \n",
    "                \"Training Validation Set Size\": train_val_len,\n",
    "                \"Test Set Size\": test_len,\n",
    "                \"Dataset Variation Description\": dataset_variation_description,\n",
    "                \"Train Val Set Path\":dataset_path_train_val,\n",
    "                \"Test Set Path\": dataset_path_test}\n",
    "# Log dictionary to wandb\n",
    "wandb.log(dataset_info)"
   ]
  },
  {
   "cell_type": "markdown",
   "id": "6ed865db",
   "metadata": {},
   "source": [
    "# 5. Model training"
   ]
  },
  {
   "cell_type": "markdown",
   "id": "55f4a84c-e53f-42e5-b7ea-12893a82a5d1",
   "metadata": {},
   "source": [
    "The network architecture used for OPS-SAT is **EfficientNetLite0**. We would like to thank Sebastian for making a Keras implementation of EfficientNetLite publicly available under the Apache 2.0 License: https://github.com/sebastian-sz/efficientnet-lite-keras. Our Version of this code has been modified to better fit our purposes. For example, we removed the ReLU \"stem_activation\" to better match a related efficientnet pytorch implementation. In any way, **you have to use the model architecture that we provide in our [starter-kit](https://gitlab.com/EuropeanSpaceAgency/the_opssat_case_starter_kit).**"
   ]
  },
  {
   "cell_type": "markdown",
   "id": "54a9bc3a-67ab-4e37-9a2f-aab98c8c5b25",
   "metadata": {},
   "source": [
    "### Load The Model With ImageNet Weights"
   ]
  },
  {
   "cell_type": "markdown",
   "id": "ba86fe85-998e-4704-bb76-18af67274166",
   "metadata": {
    "tags": []
   },
   "source": [
    "### Compile The model"
   ]
  },
  {
   "cell_type": "markdown",
   "id": "00c29753-9cbf-4149-a938-ceec8435dce0",
   "metadata": {},
   "source": [
    "### Early Stopping and Best Model Callbacks "
   ]
  },
  {
   "cell_type": "markdown",
   "id": "340a085b-c09c-4892-968a-8eeb2c556ce1",
   "metadata": {},
   "source": [
    "We provide now an example on how you can train your model by using standard supervised learning. Training loss (`SparseCategoricalCrossentropy`) and `Accuracy` are shown for simplicity and for an easier interpretation of the training outcome, despite your submission will be evaluated by using the metric **1 - Cohen's kappa** [metric](https://en.wikipedia.org/wiki/Cohen's_kappa). For more information on scoring, please refer to [Scoring](https://kelvins.esa.int/opssat/scoring/)."
   ]
  },
  {
   "cell_type": "code",
   "execution_count": 34,
   "id": "ba900174-6bb3-4c1b-9c75-07bba3dce2b1",
   "metadata": {
    "tags": []
   },
   "outputs": [],
   "source": [
    "custom_loss = custom_loss_functions[config.loss_fun]()\n",
    "# custom_loss = custom_loss_functions[config.loss_fun]"
   ]
  },
  {
   "cell_type": "code",
   "execution_count": 35,
   "id": "593c7f99-4e05-4b40-8cc7-e7c4b84e3452",
   "metadata": {},
   "outputs": [],
   "source": [
    "def model_init():\n",
    "    global model\n",
    "    global early_stopping\n",
    "    global checkpoint\n",
    "    \n",
    "    model = EfficientNetLiteB0(classes=config.num_classes, weights=config.model_weights, input_shape=config.input_shape, classifier_activation=None, include_top = False)\n",
    "    x = model.output\n",
    "    x = GlobalAveragePooling2D()(x)\n",
    "    x = Dropout(config.dropout)(x)\n",
    "    output_layer = Dense(config.num_classes, activation=config.output_layer_activation)(x)\n",
    "    model = Model(inputs=model.input, outputs=output_layer)\n",
    "    # model.summary()\n",
    "    \n",
    "    model.compile(optimizer=config.model_optimizer,\n",
    "                  # loss=\"sparse_categorical_crossentropy\",\n",
    "              # loss=tf.keras.losses.SparseCategoricalCrossentropy(from_logits=False), \n",
    "                  # loss=config.loss_fun,\n",
    "                  loss=custom_loss,\n",
    "                  # metrics=[keras.metrics.SparseCategoricalAccuracy()],\n",
    "                 metrics=config.model_metrics)\n",
    "    \n",
    "    early_stopping = EarlyStopping(monitor=config.early_stopping_monitor, patience=config.early_stopping_patience)\n",
    "    checkpoint = ModelCheckpoint('best_weights.h5', monitor=config.model_checkpoint_monitor, save_best_only=True)\n",
    "    \n",
    "# wandb_callback=wandb.keras.WandbCallback()"
   ]
  },
  {
   "cell_type": "markdown",
   "id": "8bc53411-de66-41a5-bdfe-47e6b2b94462",
   "metadata": {
    "tags": []
   },
   "source": [
    "### Without K fold Cross Validation but with TensorBoard (With Early Stopping)"
   ]
  },
  {
   "cell_type": "code",
   "execution_count": 36,
   "id": "9ae962a9",
   "metadata": {
    "ExecuteTime": {
     "end_time": "2023-04-09T20:42:49.259862Z",
     "start_time": "2023-04-09T20:42:49.257217Z"
    },
    "tags": []
   },
   "outputs": [],
   "source": [
    "# tensorboard_callback = TensorBoard(log_dir='./logs')"
   ]
  },
  {
   "cell_type": "code",
   "execution_count": 37,
   "id": "24568775",
   "metadata": {
    "ExecuteTime": {
     "end_time": "2023-04-09T20:43:38.960294Z",
     "start_time": "2023-04-09T20:42:50.924320Z"
    },
    "tags": []
   },
   "outputs": [],
   "source": [
    "# early_stopping = keras.callbacks.EarlyStopping(monitor='val_loss', patience=5)\n",
    "# history = model.fit(x_train_val, y_train_val, validation_data=(x_test, y_test), epochs= 100, verbose=1, batch_size=8, \n",
    "#                         callbacks=[early_stopping, tensorboard_callback])"
   ]
  },
  {
   "cell_type": "code",
   "execution_count": 38,
   "id": "faa7c10b",
   "metadata": {
    "ExecuteTime": {
     "end_time": "2023-04-09T20:45:36.527054Z",
     "start_time": "2023-04-09T20:44:17.923419Z"
    },
    "tags": []
   },
   "outputs": [],
   "source": [
    "# !tensorboard --logdir=./logs"
   ]
  },
  {
   "cell_type": "markdown",
   "id": "9c9899b0-587d-4c9a-b9b5-ec61295e2e48",
   "metadata": {},
   "source": [
    "### With K fold Cross Validation but without TensorBoard (With Early Stopping)"
   ]
  },
  {
   "cell_type": "code",
   "execution_count": 39,
   "id": "12efbbf9",
   "metadata": {
    "ExecuteTime": {
     "end_time": "2023-04-09T20:42:47.226837Z",
     "start_time": "2023-04-09T20:42:47.224186Z"
    },
    "tags": []
   },
   "outputs": [],
   "source": [
    "kf = KFold(n_splits=config.cross_validation_k, shuffle=True)"
   ]
  },
  {
   "cell_type": "code",
   "execution_count": 40,
   "id": "9a930432",
   "metadata": {
    "ExecuteTime": {
     "end_time": "2023-04-09T20:43:57.248568Z",
     "start_time": "2023-04-09T20:43:57.245137Z"
    },
    "tags": []
   },
   "outputs": [
    {
     "name": "stdout",
     "output_type": "stream",
     "text": [
      "block1a_ same\n",
      "block2a_ ((1, 1), (1, 1))\n",
      "block2a_ valid\n",
      "block2b_ same\n",
      "block3a_ ((2, 2), (2, 2))\n",
      "block3a_ valid\n",
      "block3b_ same\n",
      "block4a_ ((1, 1), (1, 1))\n",
      "block4a_ valid\n",
      "block4b_ same\n",
      "block4c_ same\n",
      "block5a_ same\n",
      "block5b_ same\n",
      "block5c_ same\n",
      "block6a_ ((2, 2), (2, 2))\n",
      "block6a_ valid\n",
      "block6b_ same\n",
      "block6c_ same\n",
      "block6d_ same\n",
      "block7a_ same\n",
      "Epoch 1/200\n"
     ]
    },
    {
     "name": "stderr",
     "output_type": "stream",
     "text": [
      "2023-05-27 12:00:01.267102: W tensorflow/stream_executor/gpu/asm_compiler.cc:111] *** WARNING *** You are using ptxas 9.2.148, which is older than 11.1. ptxas before 11.1 is known to miscompile XLA code, leading to incorrect results or invalid-address errors.\n",
      "\n",
      "You may not need to update to CUDA 11.1; cherry-picking the ptxas binary is often sufficient.\n"
     ]
    },
    {
     "name": "stdout",
     "output_type": "stream",
     "text": [
      "384/384 [==============================] - ETA: 0s - loss: 1.3038 - sparse_categorical_accuracy: 0.5456"
     ]
    },
    {
     "name": "stderr",
     "output_type": "stream",
     "text": [
      "/home/ramez/miniconda3/envs/thesis/lib/python3.9/site-packages/keras/engine/functional.py:1410: CustomMaskWarning: Custom mask layers require a config and must override get_config. When loading, the custom mask layer must be passed to the custom_objects argument.\n",
      "  layer_config = serialize_layer_fn(layer)\n"
     ]
    },
    {
     "name": "stdout",
     "output_type": "stream",
     "text": [
      "384/384 [==============================] - 32s 72ms/step - loss: 1.3038 - sparse_categorical_accuracy: 0.5456 - val_loss: 1.5008 - val_sparse_categorical_accuracy: 0.6536\n",
      "Epoch 2/200\n",
      "384/384 [==============================] - 27s 71ms/step - loss: 0.7587 - sparse_categorical_accuracy: 0.7409 - val_loss: 1.1172 - val_sparse_categorical_accuracy: 0.7734\n",
      "Epoch 3/200\n",
      "384/384 [==============================] - 27s 71ms/step - loss: 0.5754 - sparse_categorical_accuracy: 0.8099 - val_loss: 0.4006 - val_sparse_categorical_accuracy: 0.8385\n",
      "Epoch 4/200\n",
      "384/384 [==============================] - 27s 70ms/step - loss: 0.3331 - sparse_categorical_accuracy: 0.8900 - val_loss: 0.3276 - val_sparse_categorical_accuracy: 0.8958\n",
      "Epoch 5/200\n",
      "384/384 [==============================] - 27s 69ms/step - loss: 0.2907 - sparse_categorical_accuracy: 0.8971 - val_loss: 0.4212 - val_sparse_categorical_accuracy: 0.8568\n",
      "Epoch 6/200\n",
      "384/384 [==============================] - 27s 69ms/step - loss: 0.2702 - sparse_categorical_accuracy: 0.9167 - val_loss: 0.5605 - val_sparse_categorical_accuracy: 0.8125\n",
      "Epoch 7/200\n",
      "384/384 [==============================] - 27s 71ms/step - loss: 0.2198 - sparse_categorical_accuracy: 0.9264 - val_loss: 0.0770 - val_sparse_categorical_accuracy: 0.9688\n",
      "Epoch 8/200\n",
      "384/384 [==============================] - 27s 71ms/step - loss: 0.1384 - sparse_categorical_accuracy: 0.9551 - val_loss: 0.0776 - val_sparse_categorical_accuracy: 0.9844\n",
      "Epoch 9/200\n",
      "384/384 [==============================] - 27s 69ms/step - loss: 0.1782 - sparse_categorical_accuracy: 0.9447 - val_loss: 0.9432 - val_sparse_categorical_accuracy: 0.7526\n",
      "Epoch 10/200\n",
      "384/384 [==============================] - 27s 69ms/step - loss: 0.1513 - sparse_categorical_accuracy: 0.9583 - val_loss: 0.1996 - val_sparse_categorical_accuracy: 0.9531\n",
      "Epoch 11/200\n",
      "384/384 [==============================] - 27s 71ms/step - loss: 0.1128 - sparse_categorical_accuracy: 0.9616 - val_loss: 0.0290 - val_sparse_categorical_accuracy: 0.9922\n",
      "Epoch 12/200\n",
      "384/384 [==============================] - 27s 70ms/step - loss: 0.1112 - sparse_categorical_accuracy: 0.9655 - val_loss: 0.7135 - val_sparse_categorical_accuracy: 0.8385\n",
      "Epoch 13/200\n",
      "384/384 [==============================] - 27s 70ms/step - loss: 0.0905 - sparse_categorical_accuracy: 0.9714 - val_loss: 0.2629 - val_sparse_categorical_accuracy: 0.9349\n",
      "Epoch 14/200\n",
      "384/384 [==============================] - 27s 70ms/step - loss: 0.0889 - sparse_categorical_accuracy: 0.9746 - val_loss: 0.0617 - val_sparse_categorical_accuracy: 0.9844\n",
      "Epoch 15/200\n",
      "384/384 [==============================] - 27s 70ms/step - loss: 0.0513 - sparse_categorical_accuracy: 0.9870 - val_loss: 0.0733 - val_sparse_categorical_accuracy: 0.9766\n",
      "Epoch 16/200\n",
      "384/384 [==============================] - 27s 70ms/step - loss: 0.1490 - sparse_categorical_accuracy: 0.9603 - val_loss: 0.0439 - val_sparse_categorical_accuracy: 0.9818\n",
      "Epoch 17/200\n",
      "384/384 [==============================] - 27s 70ms/step - loss: 0.0635 - sparse_categorical_accuracy: 0.9831 - val_loss: 0.0262 - val_sparse_categorical_accuracy: 0.9922\n",
      "Epoch 18/200\n",
      "384/384 [==============================] - 27s 70ms/step - loss: 0.0864 - sparse_categorical_accuracy: 0.9746 - val_loss: 0.0641 - val_sparse_categorical_accuracy: 0.9766\n",
      "Epoch 19/200\n",
      "384/384 [==============================] - 27s 70ms/step - loss: 0.0961 - sparse_categorical_accuracy: 0.9753 - val_loss: 0.1311 - val_sparse_categorical_accuracy: 0.9583\n",
      "Epoch 20/200\n",
      "384/384 [==============================] - 27s 70ms/step - loss: 0.0822 - sparse_categorical_accuracy: 0.9740 - val_loss: 0.8189 - val_sparse_categorical_accuracy: 0.8880\n",
      "12/12 [==============================] - 2s 86ms/step - loss: 0.0290 - sparse_categorical_accuracy: 0.9922\n",
      "block1a_ same\n",
      "block2a_ ((1, 1), (1, 1))\n",
      "block2a_ valid\n",
      "block2b_ same\n",
      "block3a_ ((2, 2), (2, 2))\n",
      "block3a_ valid\n",
      "block3b_ same\n",
      "block4a_ ((1, 1), (1, 1))\n",
      "block4a_ valid\n",
      "block4b_ same\n",
      "block4c_ same\n",
      "block5a_ same\n",
      "block5b_ same\n",
      "block5c_ same\n",
      "block6a_ ((2, 2), (2, 2))\n",
      "block6a_ valid\n",
      "block6b_ same\n",
      "block6c_ same\n",
      "block6d_ same\n",
      "block7a_ same\n",
      "Epoch 1/200\n",
      "384/384 [==============================] - 31s 72ms/step - loss: 1.2281 - sparse_categorical_accuracy: 0.5475 - val_loss: 1.3851 - val_sparse_categorical_accuracy: 0.6615\n",
      "Epoch 2/200\n",
      "384/384 [==============================] - 27s 71ms/step - loss: 0.7222 - sparse_categorical_accuracy: 0.7396 - val_loss: 0.8576 - val_sparse_categorical_accuracy: 0.7839\n",
      "Epoch 3/200\n",
      "384/384 [==============================] - 27s 71ms/step - loss: 0.5759 - sparse_categorical_accuracy: 0.7995 - val_loss: 0.2295 - val_sparse_categorical_accuracy: 0.9219\n",
      "Epoch 4/200\n",
      "384/384 [==============================] - 27s 70ms/step - loss: 0.3620 - sparse_categorical_accuracy: 0.8770 - val_loss: 0.2792 - val_sparse_categorical_accuracy: 0.9089\n",
      "Epoch 5/200\n",
      "384/384 [==============================] - 27s 70ms/step - loss: 0.2720 - sparse_categorical_accuracy: 0.8997 - val_loss: 0.3173 - val_sparse_categorical_accuracy: 0.8698\n",
      "Epoch 6/200\n",
      "384/384 [==============================] - 27s 70ms/step - loss: 0.2906 - sparse_categorical_accuracy: 0.9030 - val_loss: 0.2122 - val_sparse_categorical_accuracy: 0.9089\n",
      "Epoch 7/200\n",
      "384/384 [==============================] - 27s 71ms/step - loss: 0.2009 - sparse_categorical_accuracy: 0.9408 - val_loss: 0.1432 - val_sparse_categorical_accuracy: 0.9453\n",
      "Epoch 8/200\n",
      "384/384 [==============================] - 27s 71ms/step - loss: 0.1774 - sparse_categorical_accuracy: 0.9453 - val_loss: 0.1944 - val_sparse_categorical_accuracy: 0.9479\n",
      "Epoch 9/200\n",
      "384/384 [==============================] - 27s 70ms/step - loss: 0.1537 - sparse_categorical_accuracy: 0.9512 - val_loss: 0.6032 - val_sparse_categorical_accuracy: 0.8906\n",
      "Epoch 10/200\n",
      "384/384 [==============================] - 27s 71ms/step - loss: 0.1119 - sparse_categorical_accuracy: 0.9681 - val_loss: 0.0937 - val_sparse_categorical_accuracy: 0.9714\n",
      "Epoch 11/200\n",
      "384/384 [==============================] - 27s 71ms/step - loss: 0.1090 - sparse_categorical_accuracy: 0.9701 - val_loss: 0.0500 - val_sparse_categorical_accuracy: 0.9896\n",
      "Epoch 12/200\n",
      "384/384 [==============================] - 27s 70ms/step - loss: 0.1194 - sparse_categorical_accuracy: 0.9596 - val_loss: 0.0472 - val_sparse_categorical_accuracy: 0.9818\n",
      "Epoch 13/200\n",
      "384/384 [==============================] - 27s 70ms/step - loss: 0.1209 - sparse_categorical_accuracy: 0.9603 - val_loss: 0.0650 - val_sparse_categorical_accuracy: 0.9792\n",
      "Epoch 14/200\n",
      "384/384 [==============================] - 27s 70ms/step - loss: 0.0911 - sparse_categorical_accuracy: 0.9655 - val_loss: 0.0623 - val_sparse_categorical_accuracy: 0.9792\n",
      "Epoch 15/200\n",
      "384/384 [==============================] - 27s 70ms/step - loss: 0.0939 - sparse_categorical_accuracy: 0.9707 - val_loss: 0.0227 - val_sparse_categorical_accuracy: 0.9896\n",
      "Epoch 16/200\n",
      "384/384 [==============================] - 27s 70ms/step - loss: 0.1040 - sparse_categorical_accuracy: 0.9681 - val_loss: 0.0759 - val_sparse_categorical_accuracy: 0.9766\n",
      "Epoch 17/200\n",
      "384/384 [==============================] - 27s 70ms/step - loss: 0.0945 - sparse_categorical_accuracy: 0.9720 - val_loss: 0.0779 - val_sparse_categorical_accuracy: 0.9766\n",
      "Epoch 18/200\n",
      "384/384 [==============================] - 27s 71ms/step - loss: 0.0976 - sparse_categorical_accuracy: 0.9714 - val_loss: 0.0092 - val_sparse_categorical_accuracy: 0.9974\n",
      "Epoch 19/200\n",
      "384/384 [==============================] - 27s 70ms/step - loss: 0.0166 - sparse_categorical_accuracy: 0.9961 - val_loss: 0.2652 - val_sparse_categorical_accuracy: 0.9141\n",
      "Epoch 20/200\n",
      "384/384 [==============================] - 27s 70ms/step - loss: 0.0828 - sparse_categorical_accuracy: 0.9740 - val_loss: 0.2716 - val_sparse_categorical_accuracy: 0.9010\n",
      "Epoch 21/200\n",
      "384/384 [==============================] - 27s 70ms/step - loss: 0.1181 - sparse_categorical_accuracy: 0.9701 - val_loss: 0.1142 - val_sparse_categorical_accuracy: 0.9583\n",
      "Epoch 22/200\n",
      "384/384 [==============================] - 27s 71ms/step - loss: 0.0794 - sparse_categorical_accuracy: 0.9727 - val_loss: 0.0074 - val_sparse_categorical_accuracy: 1.0000\n",
      "Epoch 23/200\n",
      "384/384 [==============================] - 27s 70ms/step - loss: 0.0424 - sparse_categorical_accuracy: 0.9896 - val_loss: 0.0367 - val_sparse_categorical_accuracy: 0.9870\n",
      "Epoch 24/200\n",
      "384/384 [==============================] - 27s 70ms/step - loss: 0.0839 - sparse_categorical_accuracy: 0.9740 - val_loss: 0.2790 - val_sparse_categorical_accuracy: 0.9297\n",
      "Epoch 25/200\n",
      "384/384 [==============================] - 27s 70ms/step - loss: 0.0728 - sparse_categorical_accuracy: 0.9792 - val_loss: 0.0554 - val_sparse_categorical_accuracy: 0.9792\n",
      "Epoch 26/200\n",
      "384/384 [==============================] - 27s 70ms/step - loss: 0.0374 - sparse_categorical_accuracy: 0.9876 - val_loss: 0.0180 - val_sparse_categorical_accuracy: 0.9974\n",
      "Epoch 27/200\n",
      "384/384 [==============================] - 27s 70ms/step - loss: 0.0248 - sparse_categorical_accuracy: 0.9928 - val_loss: 0.3781 - val_sparse_categorical_accuracy: 0.8698\n",
      "Epoch 28/200\n",
      "384/384 [==============================] - 27s 70ms/step - loss: 0.0384 - sparse_categorical_accuracy: 0.9870 - val_loss: 0.1696 - val_sparse_categorical_accuracy: 0.9661\n",
      "Epoch 29/200\n",
      "384/384 [==============================] - 27s 70ms/step - loss: 0.0189 - sparse_categorical_accuracy: 0.9941 - val_loss: 0.0550 - val_sparse_categorical_accuracy: 0.9844\n",
      "Epoch 30/200\n",
      "384/384 [==============================] - 27s 70ms/step - loss: 0.0236 - sparse_categorical_accuracy: 0.9928 - val_loss: 0.0129 - val_sparse_categorical_accuracy: 0.9922\n",
      "Epoch 31/200\n",
      "384/384 [==============================] - 27s 70ms/step - loss: 0.0998 - sparse_categorical_accuracy: 0.9668 - val_loss: 0.9453 - val_sparse_categorical_accuracy: 0.8151\n",
      "12/12 [==============================] - 2s 81ms/step - loss: 0.0074 - sparse_categorical_accuracy: 1.0000\n",
      "block1a_ same\n",
      "block2a_ ((1, 1), (1, 1))\n",
      "block2a_ valid\n",
      "block2b_ same\n",
      "block3a_ ((2, 2), (2, 2))\n",
      "block3a_ valid\n",
      "block3b_ same\n",
      "block4a_ ((1, 1), (1, 1))\n",
      "block4a_ valid\n",
      "block4b_ same\n",
      "block4c_ same\n",
      "block5a_ same\n",
      "block5b_ same\n",
      "block5c_ same\n",
      "block6a_ ((2, 2), (2, 2))\n",
      "block6a_ valid\n",
      "block6b_ same\n",
      "block6c_ same\n",
      "block6d_ same\n",
      "block7a_ same\n",
      "Epoch 1/200\n",
      "384/384 [==============================] - 31s 73ms/step - loss: 1.3155 - sparse_categorical_accuracy: 0.5306 - val_loss: 2.4636 - val_sparse_categorical_accuracy: 0.5469\n",
      "Epoch 2/200\n",
      "384/384 [==============================] - 27s 71ms/step - loss: 0.7861 - sparse_categorical_accuracy: 0.7233 - val_loss: 0.2530 - val_sparse_categorical_accuracy: 0.8854\n",
      "Epoch 3/200\n",
      "384/384 [==============================] - 27s 70ms/step - loss: 0.5008 - sparse_categorical_accuracy: 0.8275 - val_loss: 0.5890 - val_sparse_categorical_accuracy: 0.8099\n",
      "Epoch 4/200\n",
      "384/384 [==============================] - 27s 71ms/step - loss: 0.4062 - sparse_categorical_accuracy: 0.8600 - val_loss: 0.1840 - val_sparse_categorical_accuracy: 0.9219\n",
      "Epoch 5/200\n",
      "384/384 [==============================] - 27s 70ms/step - loss: 0.2967 - sparse_categorical_accuracy: 0.9062 - val_loss: 0.1857 - val_sparse_categorical_accuracy: 0.9193\n",
      "Epoch 6/200\n",
      "384/384 [==============================] - 27s 70ms/step - loss: 0.2452 - sparse_categorical_accuracy: 0.9134 - val_loss: 0.2080 - val_sparse_categorical_accuracy: 0.9219\n",
      "Epoch 7/200\n",
      "384/384 [==============================] - 27s 71ms/step - loss: 0.1988 - sparse_categorical_accuracy: 0.9388 - val_loss: 0.1186 - val_sparse_categorical_accuracy: 0.9427\n",
      "Epoch 8/200\n",
      "384/384 [==============================] - 27s 71ms/step - loss: 0.1703 - sparse_categorical_accuracy: 0.9447 - val_loss: 0.1423 - val_sparse_categorical_accuracy: 0.9583\n",
      "Epoch 9/200\n",
      "384/384 [==============================] - 27s 71ms/step - loss: 0.1124 - sparse_categorical_accuracy: 0.9674 - val_loss: 0.0249 - val_sparse_categorical_accuracy: 0.9922\n",
      "Epoch 10/200\n",
      "384/384 [==============================] - 27s 70ms/step - loss: 0.0883 - sparse_categorical_accuracy: 0.9714 - val_loss: 0.4034 - val_sparse_categorical_accuracy: 0.8646\n",
      "Epoch 11/200\n",
      "384/384 [==============================] - 27s 70ms/step - loss: 0.2054 - sparse_categorical_accuracy: 0.9323 - val_loss: 0.2115 - val_sparse_categorical_accuracy: 0.9505\n",
      "Epoch 12/200\n",
      "384/384 [==============================] - 27s 70ms/step - loss: 0.0892 - sparse_categorical_accuracy: 0.9727 - val_loss: 0.0386 - val_sparse_categorical_accuracy: 0.9844\n",
      "Epoch 13/200\n",
      "384/384 [==============================] - 27s 70ms/step - loss: 0.0720 - sparse_categorical_accuracy: 0.9772 - val_loss: 0.5244 - val_sparse_categorical_accuracy: 0.8516\n",
      "Epoch 14/200\n",
      "384/384 [==============================] - 27s 70ms/step - loss: 0.1704 - sparse_categorical_accuracy: 0.9486 - val_loss: 0.0461 - val_sparse_categorical_accuracy: 0.9870\n",
      "Epoch 15/200\n",
      "384/384 [==============================] - 27s 71ms/step - loss: 0.0461 - sparse_categorical_accuracy: 0.9876 - val_loss: 0.0216 - val_sparse_categorical_accuracy: 0.9948\n",
      "Epoch 16/200\n",
      "384/384 [==============================] - 27s 70ms/step - loss: 0.0412 - sparse_categorical_accuracy: 0.9889 - val_loss: 0.0147 - val_sparse_categorical_accuracy: 0.9948\n",
      "Epoch 17/200\n",
      "384/384 [==============================] - 27s 70ms/step - loss: 0.1136 - sparse_categorical_accuracy: 0.9688 - val_loss: 0.5982 - val_sparse_categorical_accuracy: 0.8594\n",
      "Epoch 18/200\n",
      "384/384 [==============================] - 27s 71ms/step - loss: 0.1177 - sparse_categorical_accuracy: 0.9655 - val_loss: 0.0235 - val_sparse_categorical_accuracy: 0.9974\n",
      "Epoch 19/200\n",
      "384/384 [==============================] - 27s 70ms/step - loss: 0.0805 - sparse_categorical_accuracy: 0.9772 - val_loss: 0.2308 - val_sparse_categorical_accuracy: 0.9271\n",
      "Epoch 20/200\n",
      "384/384 [==============================] - 27s 70ms/step - loss: 0.0649 - sparse_categorical_accuracy: 0.9792 - val_loss: 0.0848 - val_sparse_categorical_accuracy: 0.9661\n",
      "Epoch 21/200\n",
      "384/384 [==============================] - 27s 70ms/step - loss: 0.0345 - sparse_categorical_accuracy: 0.9896 - val_loss: 0.0193 - val_sparse_categorical_accuracy: 0.9896\n",
      "Epoch 22/200\n",
      "384/384 [==============================] - 27s 70ms/step - loss: 0.0189 - sparse_categorical_accuracy: 0.9961 - val_loss: 0.0094 - val_sparse_categorical_accuracy: 0.9974\n",
      "Epoch 23/200\n",
      "384/384 [==============================] - 27s 70ms/step - loss: 0.0139 - sparse_categorical_accuracy: 0.9961 - val_loss: 0.0185 - val_sparse_categorical_accuracy: 0.9922\n",
      "Epoch 24/200\n",
      "384/384 [==============================] - 27s 70ms/step - loss: 0.1322 - sparse_categorical_accuracy: 0.9648 - val_loss: 0.1292 - val_sparse_categorical_accuracy: 0.9479\n",
      "Epoch 25/200\n",
      "384/384 [==============================] - 27s 70ms/step - loss: 0.0711 - sparse_categorical_accuracy: 0.9785 - val_loss: 0.1221 - val_sparse_categorical_accuracy: 0.9479\n",
      "Epoch 26/200\n",
      "384/384 [==============================] - 27s 71ms/step - loss: 0.0292 - sparse_categorical_accuracy: 0.9948 - val_loss: 0.0043 - val_sparse_categorical_accuracy: 1.0000\n",
      "Epoch 27/200\n",
      "384/384 [==============================] - 27s 70ms/step - loss: 0.0032 - sparse_categorical_accuracy: 0.9993 - val_loss: 9.4785e-04 - val_sparse_categorical_accuracy: 1.0000\n",
      "Epoch 28/200\n",
      "384/384 [==============================] - 27s 70ms/step - loss: 0.0446 - sparse_categorical_accuracy: 0.9857 - val_loss: 0.1340 - val_sparse_categorical_accuracy: 0.9531\n",
      "Epoch 29/200\n",
      "384/384 [==============================] - 27s 70ms/step - loss: 0.0592 - sparse_categorical_accuracy: 0.9811 - val_loss: 0.0649 - val_sparse_categorical_accuracy: 0.9740\n",
      "Epoch 30/200\n",
      "384/384 [==============================] - 27s 70ms/step - loss: 0.0517 - sparse_categorical_accuracy: 0.9824 - val_loss: 0.0934 - val_sparse_categorical_accuracy: 0.9635_categorical_accuracy\n",
      "Epoch 31/200\n",
      "384/384 [==============================] - 27s 70ms/step - loss: 0.0236 - sparse_categorical_accuracy: 0.9902 - val_loss: 0.0271 - val_sparse_categorical_accuracy: 0.9922\n",
      "Epoch 32/200\n",
      "384/384 [==============================] - 27s 70ms/step - loss: 0.0187 - sparse_categorical_accuracy: 0.9941 - val_loss: 0.2580 - val_sparse_categorical_accuracy: 0.9062\n",
      "Epoch 33/200\n",
      "384/384 [==============================] - 27s 70ms/step - loss: 0.0799 - sparse_categorical_accuracy: 0.9805 - val_loss: 0.0415 - val_sparse_categorical_accuracy: 0.9792\n",
      "Epoch 34/200\n",
      "384/384 [==============================] - 27s 70ms/step - loss: 0.0593 - sparse_categorical_accuracy: 0.9792 - val_loss: 0.0185 - val_sparse_categorical_accuracy: 0.9948\n",
      "Epoch 35/200\n",
      "384/384 [==============================] - 27s 70ms/step - loss: 0.0302 - sparse_categorical_accuracy: 0.9876 - val_loss: 0.0608 - val_sparse_categorical_accuracy: 0.9766\n",
      "12/12 [==============================] - 2s 94ms/step - loss: 0.0043 - sparse_categorical_accuracy: 1.0000\n",
      "block1a_ same\n",
      "block2a_ ((1, 1), (1, 1))\n",
      "block2a_ valid\n",
      "block2b_ same\n",
      "block3a_ ((2, 2), (2, 2))\n",
      "block3a_ valid\n",
      "block3b_ same\n",
      "block4a_ ((1, 1), (1, 1))\n",
      "block4a_ valid\n",
      "block4b_ same\n",
      "block4c_ same\n",
      "block5a_ same\n",
      "block5b_ same\n",
      "block5c_ same\n",
      "block6a_ ((2, 2), (2, 2))\n",
      "block6a_ valid\n",
      "block6b_ same\n",
      "block6c_ same\n",
      "block6d_ same\n",
      "block7a_ same\n",
      "Epoch 1/200\n",
      "384/384 [==============================] - 31s 73ms/step - loss: 1.2661 - sparse_categorical_accuracy: 0.5228 - val_loss: 1.1946 - val_sparse_categorical_accuracy: 0.6562\n",
      "Epoch 2/200\n",
      "384/384 [==============================] - 28s 72ms/step - loss: 0.7836 - sparse_categorical_accuracy: 0.7285 - val_loss: 0.6337 - val_sparse_categorical_accuracy: 0.7995\n",
      "Epoch 3/200\n",
      "384/384 [==============================] - 27s 72ms/step - loss: 0.5364 - sparse_categorical_accuracy: 0.8138 - val_loss: 0.5329 - val_sparse_categorical_accuracy: 0.8073\n",
      "Epoch 4/200\n",
      "384/384 [==============================] - 27s 71ms/step - loss: 0.3828 - sparse_categorical_accuracy: 0.8737 - val_loss: 0.1043 - val_sparse_categorical_accuracy: 0.9583\n",
      "Epoch 5/200\n",
      "384/384 [==============================] - 27s 71ms/step - loss: 0.3379 - sparse_categorical_accuracy: 0.8880 - val_loss: 0.5508 - val_sparse_categorical_accuracy: 0.8568\n",
      "Epoch 6/200\n",
      "384/384 [==============================] - 27s 71ms/step - loss: 0.2266 - sparse_categorical_accuracy: 0.9219 - val_loss: 0.0792 - val_sparse_categorical_accuracy: 0.9740\n",
      "Epoch 7/200\n",
      "384/384 [==============================] - 27s 71ms/step - loss: 0.2963 - sparse_categorical_accuracy: 0.8984 - val_loss: 0.2439 - val_sparse_categorical_accuracy: 0.9401\n",
      "Epoch 8/200\n",
      "384/384 [==============================] - 27s 70ms/step - loss: 0.1408 - sparse_categorical_accuracy: 0.9525 - val_loss: 0.0921 - val_sparse_categorical_accuracy: 0.9688\n",
      "Epoch 9/200\n",
      "384/384 [==============================] - 27s 70ms/step - loss: 0.1606 - sparse_categorical_accuracy: 0.9492 - val_loss: 0.1531 - val_sparse_categorical_accuracy: 0.9531\n",
      "Epoch 10/200\n",
      "384/384 [==============================] - 27s 70ms/step - loss: 0.1405 - sparse_categorical_accuracy: 0.9551 - val_loss: 0.2807 - val_sparse_categorical_accuracy: 0.9036\n",
      "Epoch 11/200\n",
      "384/384 [==============================] - 27s 71ms/step - loss: 0.1150 - sparse_categorical_accuracy: 0.9655 - val_loss: 0.1271 - val_sparse_categorical_accuracy: 0.9297\n",
      "Epoch 12/200\n",
      "384/384 [==============================] - 27s 71ms/step - loss: 0.0892 - sparse_categorical_accuracy: 0.9753 - val_loss: 0.1274 - val_sparse_categorical_accuracy: 0.9505\n",
      "Epoch 13/200\n",
      "384/384 [==============================] - 27s 71ms/step - loss: 0.1050 - sparse_categorical_accuracy: 0.9714 - val_loss: 0.5450 - val_sparse_categorical_accuracy: 0.8385\n",
      "Epoch 14/200\n",
      "384/384 [==============================] - 27s 71ms/step - loss: 0.1796 - sparse_categorical_accuracy: 0.9434 - val_loss: 0.1536 - val_sparse_categorical_accuracy: 0.9583\n",
      "Epoch 15/200\n",
      "384/384 [==============================] - 28s 72ms/step - loss: 0.1041 - sparse_categorical_accuracy: 0.9707 - val_loss: 0.0482 - val_sparse_categorical_accuracy: 0.9896\n",
      "Epoch 16/200\n",
      "384/384 [==============================] - 27s 71ms/step - loss: 0.0423 - sparse_categorical_accuracy: 0.9850 - val_loss: 0.0709 - val_sparse_categorical_accuracy: 0.9661\n",
      "Epoch 17/200\n",
      "384/384 [==============================] - 27s 71ms/step - loss: 0.1141 - sparse_categorical_accuracy: 0.9720 - val_loss: 0.2223 - val_sparse_categorical_accuracy: 0.9193: 2s - loss: 0.0976\n",
      "Epoch 18/200\n",
      "384/384 [==============================] - 28s 72ms/step - loss: 0.0671 - sparse_categorical_accuracy: 0.9805 - val_loss: 0.0221 - val_sparse_categorical_accuracy: 0.9948\n",
      "Epoch 19/200\n",
      "384/384 [==============================] - 27s 71ms/step - loss: 0.0884 - sparse_categorical_accuracy: 0.9668 - val_loss: 0.1771 - val_sparse_categorical_accuracy: 0.9323\n",
      "Epoch 20/200\n",
      "384/384 [==============================] - 27s 70ms/step - loss: 0.0612 - sparse_categorical_accuracy: 0.9792 - val_loss: 0.0159 - val_sparse_categorical_accuracy: 0.9948\n",
      "Epoch 21/200\n",
      "384/384 [==============================] - 27s 71ms/step - loss: 0.0493 - sparse_categorical_accuracy: 0.9863 - val_loss: 0.0115 - val_sparse_categorical_accuracy: 0.9974\n",
      "Epoch 22/200\n",
      "384/384 [==============================] - 27s 70ms/step - loss: 0.0823 - sparse_categorical_accuracy: 0.9740 - val_loss: 0.0129 - val_sparse_categorical_accuracy: 0.9974\n",
      "Epoch 23/200\n",
      "384/384 [==============================] - 27s 70ms/step - loss: 0.0451 - sparse_categorical_accuracy: 0.9850 - val_loss: 0.0259 - val_sparse_categorical_accuracy: 0.9922\n",
      "Epoch 24/200\n",
      "384/384 [==============================] - 27s 70ms/step - loss: 0.0702 - sparse_categorical_accuracy: 0.9792 - val_loss: 0.0300 - val_sparse_categorical_accuracy: 0.9896\n",
      "Epoch 25/200\n",
      "384/384 [==============================] - 27s 71ms/step - loss: 0.0674 - sparse_categorical_accuracy: 0.9837 - val_loss: 0.6336 - val_sparse_categorical_accuracy: 0.8203\n",
      "Epoch 26/200\n",
      "384/384 [==============================] - 27s 70ms/step - loss: 0.1372 - sparse_categorical_accuracy: 0.9564 - val_loss: 0.0323 - val_sparse_categorical_accuracy: 0.9870\n",
      "Epoch 27/200\n",
      "384/384 [==============================] - 27s 70ms/step - loss: 0.0146 - sparse_categorical_accuracy: 0.9948 - val_loss: 0.0133 - val_sparse_categorical_accuracy: 0.9896\n",
      "Epoch 28/200\n",
      "384/384 [==============================] - 27s 71ms/step - loss: 0.0774 - sparse_categorical_accuracy: 0.9779 - val_loss: 0.3495 - val_sparse_categorical_accuracy: 0.9089\n",
      "Epoch 29/200\n",
      "384/384 [==============================] - 27s 70ms/step - loss: 0.0582 - sparse_categorical_accuracy: 0.9831 - val_loss: 0.0120 - val_sparse_categorical_accuracy: 0.9948\n",
      "Epoch 30/200\n",
      "384/384 [==============================] - 27s 71ms/step - loss: 0.0117 - sparse_categorical_accuracy: 0.9974 - val_loss: 0.0012 - val_sparse_categorical_accuracy: 1.0000\n",
      "Epoch 31/200\n",
      "384/384 [==============================] - 27s 70ms/step - loss: 0.0350 - sparse_categorical_accuracy: 0.9909 - val_loss: 0.0859 - val_sparse_categorical_accuracy: 0.9766\n",
      "Epoch 32/200\n",
      "384/384 [==============================] - 27s 71ms/step - loss: 0.0617 - sparse_categorical_accuracy: 0.9831 - val_loss: 0.0200 - val_sparse_categorical_accuracy: 0.9948\n",
      "Epoch 33/200\n",
      "384/384 [==============================] - 27s 70ms/step - loss: 0.0804 - sparse_categorical_accuracy: 0.9779 - val_loss: 0.0092 - val_sparse_categorical_accuracy: 0.9974\n",
      "Epoch 34/200\n",
      "384/384 [==============================] - 27s 71ms/step - loss: 0.0358 - sparse_categorical_accuracy: 0.9863 - val_loss: 0.0259 - val_sparse_categorical_accuracy: 0.9922\n",
      "Epoch 35/200\n",
      "384/384 [==============================] - 27s 71ms/step - loss: 0.0248 - sparse_categorical_accuracy: 0.9928 - val_loss: 0.0177 - val_sparse_categorical_accuracy: 0.9896\n",
      "Epoch 36/200\n",
      "384/384 [==============================] - 27s 70ms/step - loss: 0.0793 - sparse_categorical_accuracy: 0.9772 - val_loss: 0.0100 - val_sparse_categorical_accuracy: 0.9974\n",
      "Epoch 37/200\n",
      "384/384 [==============================] - 27s 70ms/step - loss: 0.0405 - sparse_categorical_accuracy: 0.9883 - val_loss: 0.0166 - val_sparse_categorical_accuracy: 0.9948\n",
      "Epoch 38/200\n",
      "384/384 [==============================] - 27s 70ms/step - loss: 0.0298 - sparse_categorical_accuracy: 0.9935 - val_loss: 0.2795 - val_sparse_categorical_accuracy: 0.9141\n",
      "Epoch 39/200\n",
      "384/384 [==============================] - 27s 70ms/step - loss: 0.0598 - sparse_categorical_accuracy: 0.9857 - val_loss: 0.0283 - val_sparse_categorical_accuracy: 0.9922\n",
      "12/12 [==============================] - 2s 88ms/step - loss: 0.0012 - sparse_categorical_accuracy: 1.0000\n",
      "block1a_ same\n",
      "block2a_ ((1, 1), (1, 1))\n",
      "block2a_ valid\n",
      "block2b_ same\n",
      "block3a_ ((2, 2), (2, 2))\n",
      "block3a_ valid\n",
      "block3b_ same\n",
      "block4a_ ((1, 1), (1, 1))\n",
      "block4a_ valid\n",
      "block4b_ same\n",
      "block4c_ same\n",
      "block5a_ same\n",
      "block5b_ same\n",
      "block5c_ same\n",
      "block6a_ ((2, 2), (2, 2))\n",
      "block6a_ valid\n",
      "block6b_ same\n",
      "block6c_ same\n",
      "block6d_ same\n",
      "block7a_ same\n",
      "Epoch 1/200\n",
      "384/384 [==============================] - 31s 73ms/step - loss: 1.2597 - sparse_categorical_accuracy: 0.5293 - val_loss: 0.7051 - val_sparse_categorical_accuracy: 0.7865\n",
      "Epoch 2/200\n",
      "384/384 [==============================] - 27s 71ms/step - loss: 0.7322 - sparse_categorical_accuracy: 0.7318 - val_loss: 0.3926 - val_sparse_categorical_accuracy: 0.8568\n",
      "Epoch 3/200\n",
      "384/384 [==============================] - 27s 71ms/step - loss: 0.5228 - sparse_categorical_accuracy: 0.8151 - val_loss: 0.3977 - val_sparse_categorical_accuracy: 0.8333\n",
      "Epoch 4/200\n",
      "384/384 [==============================] - 27s 72ms/step - loss: 0.3693 - sparse_categorical_accuracy: 0.8730 - val_loss: 0.1781 - val_sparse_categorical_accuracy: 0.9089\n",
      "Epoch 5/200\n",
      "384/384 [==============================] - 27s 70ms/step - loss: 0.2728 - sparse_categorical_accuracy: 0.9173 - val_loss: 0.2445 - val_sparse_categorical_accuracy: 0.8906\n",
      "Epoch 6/200\n",
      "384/384 [==============================] - 27s 70ms/step - loss: 0.2581 - sparse_categorical_accuracy: 0.9115 - val_loss: 0.3296 - val_sparse_categorical_accuracy: 0.9089\n",
      "Epoch 7/200\n",
      "384/384 [==============================] - 27s 72ms/step - loss: 0.2206 - sparse_categorical_accuracy: 0.9329 - val_loss: 0.1673 - val_sparse_categorical_accuracy: 0.9453\n",
      "Epoch 8/200\n",
      "384/384 [==============================] - 27s 70ms/step - loss: 0.1863 - sparse_categorical_accuracy: 0.9447 - val_loss: 0.3116 - val_sparse_categorical_accuracy: 0.9010\n",
      "Epoch 9/200\n",
      "384/384 [==============================] - 27s 72ms/step - loss: 0.1185 - sparse_categorical_accuracy: 0.9609 - val_loss: 0.1117 - val_sparse_categorical_accuracy: 0.9688\n",
      "Epoch 10/200\n",
      "384/384 [==============================] - 27s 70ms/step - loss: 0.1084 - sparse_categorical_accuracy: 0.9681 - val_loss: 1.2743 - val_sparse_categorical_accuracy: 0.7943\n",
      "Epoch 11/200\n",
      "384/384 [==============================] - 27s 70ms/step - loss: 0.1762 - sparse_categorical_accuracy: 0.9388 - val_loss: 0.1545 - val_sparse_categorical_accuracy: 0.9557\n",
      "Epoch 12/200\n",
      "384/384 [==============================] - 27s 72ms/step - loss: 0.1215 - sparse_categorical_accuracy: 0.9603 - val_loss: 0.0405 - val_sparse_categorical_accuracy: 0.9870\n",
      "Epoch 13/200\n",
      "384/384 [==============================] - 27s 70ms/step - loss: 0.0921 - sparse_categorical_accuracy: 0.9714 - val_loss: 0.0896 - val_sparse_categorical_accuracy: 0.9688\n",
      "Epoch 14/200\n",
      "384/384 [==============================] - 27s 71ms/step - loss: 0.1392 - sparse_categorical_accuracy: 0.9590 - val_loss: 1.4228 - val_sparse_categorical_accuracy: 0.6380\n",
      "Epoch 15/200\n",
      "384/384 [==============================] - 27s 71ms/step - loss: 0.0829 - sparse_categorical_accuracy: 0.9727 - val_loss: 0.3160 - val_sparse_categorical_accuracy: 0.9062\n",
      "Epoch 16/200\n",
      "384/384 [==============================] - 27s 71ms/step - loss: 0.1094 - sparse_categorical_accuracy: 0.9694 - val_loss: 0.0813 - val_sparse_categorical_accuracy: 0.9714\n",
      "Epoch 17/200\n",
      "384/384 [==============================] - 27s 70ms/step - loss: 0.0796 - sparse_categorical_accuracy: 0.9740 - val_loss: 0.1220 - val_sparse_categorical_accuracy: 0.9740\n",
      "Epoch 18/200\n",
      "384/384 [==============================] - 28s 72ms/step - loss: 0.0418 - sparse_categorical_accuracy: 0.9883 - val_loss: 0.0363 - val_sparse_categorical_accuracy: 0.9896\n",
      "Epoch 19/200\n",
      "384/384 [==============================] - 27s 70ms/step - loss: 0.1358 - sparse_categorical_accuracy: 0.9596 - val_loss: 0.7333 - val_sparse_categorical_accuracy: 0.7760\n",
      "Epoch 20/200\n",
      "384/384 [==============================] - 27s 70ms/step - loss: 0.1161 - sparse_categorical_accuracy: 0.9590 - val_loss: 0.0469 - val_sparse_categorical_accuracy: 0.9844\n",
      "Epoch 21/200\n",
      "384/384 [==============================] - 28s 72ms/step - loss: 0.0789 - sparse_categorical_accuracy: 0.9759 - val_loss: 0.0283 - val_sparse_categorical_accuracy: 0.9922\n",
      "Epoch 22/200\n",
      "384/384 [==============================] - 27s 71ms/step - loss: 0.0135 - sparse_categorical_accuracy: 0.9980 - val_loss: 0.0643 - val_sparse_categorical_accuracy: 0.9818\n",
      "Epoch 23/200\n",
      "384/384 [==============================] - 27s 70ms/step - loss: 0.0884 - sparse_categorical_accuracy: 0.9720 - val_loss: 0.0689 - val_sparse_categorical_accuracy: 0.9792\n",
      "Epoch 24/200\n",
      "384/384 [==============================] - 27s 70ms/step - loss: 0.0767 - sparse_categorical_accuracy: 0.9779 - val_loss: 0.1322 - val_sparse_categorical_accuracy: 0.9609\n",
      "Epoch 25/200\n",
      "384/384 [==============================] - 27s 71ms/step - loss: 0.0457 - sparse_categorical_accuracy: 0.9870 - val_loss: 0.0150 - val_sparse_categorical_accuracy: 0.9922\n",
      "Epoch 26/200\n",
      "384/384 [==============================] - 27s 71ms/step - loss: 0.0662 - sparse_categorical_accuracy: 0.9824 - val_loss: 0.4169 - val_sparse_categorical_accuracy: 0.8646\n",
      "Epoch 27/200\n",
      "384/384 [==============================] - 28s 72ms/step - loss: 0.1040 - sparse_categorical_accuracy: 0.9688 - val_loss: 0.0157 - val_sparse_categorical_accuracy: 0.9948\n",
      "Epoch 28/200\n",
      "384/384 [==============================] - 27s 70ms/step - loss: 0.0212 - sparse_categorical_accuracy: 0.9922 - val_loss: 0.0259 - val_sparse_categorical_accuracy: 0.9922\n",
      "Epoch 29/200\n",
      "384/384 [==============================] - 27s 70ms/step - loss: 0.0443 - sparse_categorical_accuracy: 0.9844 - val_loss: 0.0232 - val_sparse_categorical_accuracy: 0.9922\n",
      "Epoch 30/200\n",
      "384/384 [==============================] - 27s 71ms/step - loss: 0.0529 - sparse_categorical_accuracy: 0.9844 - val_loss: 0.0222 - val_sparse_categorical_accuracy: 0.9922\n",
      "Epoch 31/200\n",
      "384/384 [==============================] - 27s 70ms/step - loss: 0.0267 - sparse_categorical_accuracy: 0.9941 - val_loss: 0.0122 - val_sparse_categorical_accuracy: 0.9948\n",
      "Epoch 32/200\n",
      "384/384 [==============================] - 26s 68ms/step - loss: 0.0172 - sparse_categorical_accuracy: 0.9954 - val_loss: 0.1740 - val_sparse_categorical_accuracy: 0.9635\n",
      "Epoch 33/200\n",
      "384/384 [==============================] - 26s 68ms/step - loss: 0.0658 - sparse_categorical_accuracy: 0.9818 - val_loss: 0.1738 - val_sparse_categorical_accuracy: 0.9635\n",
      "Epoch 34/200\n",
      "384/384 [==============================] - 26s 69ms/step - loss: 0.0470 - sparse_categorical_accuracy: 0.9850 - val_loss: 0.0430 - val_sparse_categorical_accuracy: 0.9844\n",
      "Epoch 35/200\n",
      "384/384 [==============================] - 27s 70ms/step - loss: 0.0312 - sparse_categorical_accuracy: 0.9896 - val_loss: 0.1017 - val_sparse_categorical_accuracy: 0.9635\n",
      "Epoch 36/200\n",
      "384/384 [==============================] - 27s 70ms/step - loss: 0.0703 - sparse_categorical_accuracy: 0.9746 - val_loss: 0.0866 - val_sparse_categorical_accuracy: 0.9635\n",
      "12/12 [==============================] - 2s 81ms/step - loss: 0.0157 - sparse_categorical_accuracy: 0.9948\n",
      "block1a_ same\n",
      "block2a_ ((1, 1), (1, 1))\n",
      "block2a_ valid\n",
      "block2b_ same\n",
      "block3a_ ((2, 2), (2, 2))\n",
      "block3a_ valid\n",
      "block3b_ same\n",
      "block4a_ ((1, 1), (1, 1))\n",
      "block4a_ valid\n",
      "block4b_ same\n",
      "block4c_ same\n",
      "block5a_ same\n",
      "block5b_ same\n",
      "block5c_ same\n",
      "block6a_ ((2, 2), (2, 2))\n",
      "block6a_ valid\n",
      "block6b_ same\n",
      "block6c_ same\n",
      "block6d_ same\n",
      "block7a_ same\n"
     ]
    }
   ],
   "source": [
    "# Train and evaluate the model using K-fold cross-validation\n",
    "scores = []\n",
    "training_accuracy = []\n",
    "validation_accuracy = []\n",
    "training_loss = []\n",
    "validation_loss = []\n",
    "\n",
    "## Initializing the model\n",
    "model_init()\n",
    "\n",
    "## counter for folds\n",
    "i = 1\n",
    "\n",
    "for train_idx, val_idx in kf.split(x_train_val):\n",
    "    X_train = tf.gather(x_train_val, train_idx)\n",
    "    y_train = tf.gather(y_train_val, train_idx)\n",
    "    X_val = tf.gather(x_train_val, val_idx)\n",
    "    y_val = tf.gather(y_train_val, val_idx)\n",
    "    \n",
    "    history = model.fit(X_train, y_train, validation_data=(X_val, y_val), epochs= config.model_epochs, verbose=1, batch_size=config.model_batch_size, \n",
    "                        callbacks=[early_stopping, checkpoint])\n",
    "\n",
    "    training_accuracy.append(history.history['sparse_categorical_accuracy'])\n",
    "    validation_accuracy.append(history.history['val_sparse_categorical_accuracy'])\n",
    "    training_loss.append(history.history['loss'])\n",
    "    validation_loss.append(history.history['val_loss'])\n",
    "    \n",
    "    model.load_weights('best_weights.h5')\n",
    "    score = model.evaluate(X_val, y_val)\n",
    "    scores.append(score[1])\n",
    "    \n",
    "    wandb.log({\"Best Validation Loss for Folds\": score[0]})\n",
    "    wandb.log({\"Best Validation Accuracy for Folds\" : score[1]})\n",
    "    \n",
    "    # Define the current and new file names\n",
    "    current_name = 'best_weights.h5'\n",
    "    new_name = 'fold_' + str(i) + '_best_model_weights.h5'\n",
    "    \n",
    "    i+=1\n",
    "\n",
    "    ## Rename the file\n",
    "    os.rename(current_name, new_name)\n",
    "    ## Log the model to wandb\n",
    "    wandb.save(new_name)\n",
    "    \n",
    "    ## Reseting the model for the next fold\n",
    "    model_init()"
   ]
  },
  {
   "cell_type": "code",
   "execution_count": 41,
   "id": "c3ae736d",
   "metadata": {
    "ExecuteTime": {
     "end_time": "2023-04-09T20:44:00.262059Z",
     "start_time": "2023-04-09T20:44:00.259248Z"
    },
    "tags": []
   },
   "outputs": [
    {
     "name": "stdout",
     "output_type": "stream",
     "text": [
      "Validation accuracy mean: 1.00 (std 0.00)\n"
     ]
    }
   ],
   "source": [
    "# Print the mean validation accuracy\n",
    "print('Validation accuracy mean: {:.2f} (std {:.2f})'.format(np.mean(scores), np.std(scores)))"
   ]
  },
  {
   "cell_type": "code",
   "execution_count": 42,
   "id": "36bb5a80-43a4-4af4-87f0-b5f2fe70db9a",
   "metadata": {
    "tags": []
   },
   "outputs": [],
   "source": [
    "wandb.log({\"Folds Validation Accuracy Mean\" : np.mean(scores),\n",
    "           \"Folds Validation Accuracy STD\": np.std(scores)})"
   ]
  },
  {
   "cell_type": "code",
   "execution_count": 43,
   "id": "380b7f7f-3f72-43b1-b0c7-271aacf6d261",
   "metadata": {
    "tags": []
   },
   "outputs": [
    {
     "data": {
      "text/plain": [
       "[0.9921875, 1.0, 1.0, 1.0, 0.9947916865348816]"
      ]
     },
     "execution_count": 43,
     "metadata": {},
     "output_type": "execute_result"
    }
   ],
   "source": [
    "scores"
   ]
  },
  {
   "cell_type": "markdown",
   "id": "013aa747-2788-4c43-a743-c29c8c378de4",
   "metadata": {},
   "source": [
    "Calculating the **1 - Cohen's kappa** score of the trained model on the trained dataset."
   ]
  },
  {
   "cell_type": "markdown",
   "id": "6b25d1dd-8f31-410a-b166-e4e76ab602ca",
   "metadata": {},
   "source": [
    "## Model with best validation accuracy"
   ]
  },
  {
   "cell_type": "code",
   "execution_count": 44,
   "id": "57622050-4496-4b58-be90-6290691d01d0",
   "metadata": {
    "tags": []
   },
   "outputs": [],
   "source": [
    "## select the model with the best fold's validation accuracy\n",
    "maximum = max(scores)\n",
    "index_of_maximum = scores.index(maximum)\n",
    "best_fold = index_of_maximum + 1\n",
    "\n",
    "model.load_weights('fold_' + str(best_fold) + '_best_model_weights.h5')"
   ]
  },
  {
   "cell_type": "markdown",
   "id": "49502a7c-6390-436e-9735-799cdebb246b",
   "metadata": {
    "tags": []
   },
   "source": [
    "### Model with best validation accuracy Kohen's Kappa Score"
   ]
  },
  {
   "cell_type": "code",
   "execution_count": 45,
   "id": "bb08a64b",
   "metadata": {
    "ExecuteTime": {
     "end_time": "2023-04-04T20:10:20.518612Z",
     "start_time": "2023-04-04T20:10:19.125881Z"
    },
    "tags": []
   },
   "outputs": [
    {
     "name": "stdout",
     "output_type": "stream",
     "text": [
      "Score: 0.4\n"
     ]
    }
   ],
   "source": [
    "predictions = np.zeros(len(y_test), dtype=np.int8)\n",
    "# inference loop\n",
    "for e, (image, target) in enumerate(zip(x_test, y_test)):\n",
    "    image = np.expand_dims(np.array(image), axis=0)\n",
    "    output = model.predict(image)\n",
    "    predictions[e] = np.squeeze(output).argmax()\n",
    "#Keras model score\n",
    "score_keras = cohen_kappa_score(y_test.numpy(), predictions)\n",
    "print(\"Score:\", score_keras)"
   ]
  },
  {
   "cell_type": "markdown",
   "id": "90bdf6d8-572a-4c1c-8923-0744bee1151f",
   "metadata": {
    "tags": []
   },
   "source": [
    "### Log Cohen Kappa Score for the model with the best validation accuracy (Unifeied Test Set)"
   ]
  },
  {
   "cell_type": "code",
   "execution_count": 46,
   "id": "b8332b8d-eaa4-437b-8e1b-ad922306c05a",
   "metadata": {
    "tags": []
   },
   "outputs": [],
   "source": [
    "wandb.log({\"Cohen Kappa Score for model with best validation accuracy (Unified Test Set)\": score_keras})"
   ]
  },
  {
   "cell_type": "markdown",
   "id": "79eba581-d390-470e-9a03-7add62fb9425",
   "metadata": {},
   "source": [
    "### Acuracy for model with best validation accuracy (Unified Test Set)"
   ]
  },
  {
   "cell_type": "code",
   "execution_count": 47,
   "id": "1f67616e-002a-46a0-9fed-d28104e756f6",
   "metadata": {
    "tags": []
   },
   "outputs": [
    {
     "name": "stdout",
     "output_type": "stream",
     "text": [
      "Accuracy:  0.475\n"
     ]
    }
   ],
   "source": [
    "# assuming you have two lists, predicted and actual\n",
    "correct = 0\n",
    "total = len(y_test.numpy())\n",
    "\n",
    "for pred, label in zip(predictions, y_test.numpy()):\n",
    "    if pred == label:\n",
    "        correct += 1\n",
    "\n",
    "accuracy = correct / total\n",
    "\n",
    "print(\"Accuracy: \", accuracy)"
   ]
  },
  {
   "cell_type": "markdown",
   "id": "d8bcfddf-9634-43fc-bc1e-068d1c7c04c1",
   "metadata": {
    "tags": []
   },
   "source": [
    "### Log Accuracy for the model with the best validation accuracy (Unifeied Test Set)"
   ]
  },
  {
   "cell_type": "code",
   "execution_count": 48,
   "id": "528570bb-2435-44ca-ac10-b8824ca2dde7",
   "metadata": {
    "tags": []
   },
   "outputs": [],
   "source": [
    "wandb.log({\"Accuracy for model with best validation accuracy (Unified Test Set)\": accuracy})"
   ]
  },
  {
   "cell_type": "markdown",
   "id": "4fa9ebb8-4d1c-434d-bf3e-d4c6cc942ee0",
   "metadata": {},
   "source": [
    "## Ensemble model from the k trained models"
   ]
  },
  {
   "cell_type": "code",
   "execution_count": 49,
   "id": "7df5c93d-bf69-4526-bf7a-dd469b15ac7e",
   "metadata": {
    "tags": []
   },
   "outputs": [
    {
     "name": "stdout",
     "output_type": "stream",
     "text": [
      "WARNING:tensorflow:5 out of the last 47 calls to <function Model.make_predict_function.<locals>.predict_function at 0x7fdc83497670> triggered tf.function retracing. Tracing is expensive and the excessive number of tracings could be due to (1) creating @tf.function repeatedly in a loop, (2) passing tensors with different shapes, (3) passing Python objects instead of tensors. For (1), please define your @tf.function outside of the loop. For (2), @tf.function has experimental_relax_shapes=True option that relaxes argument shapes that can avoid unnecessary retracing. For (3), please refer to https://www.tensorflow.org/guide/function#controlling_retracing and https://www.tensorflow.org/api_docs/python/tf/function for  more details.\n",
      "WARNING:tensorflow:6 out of the last 49 calls to <function Model.make_predict_function.<locals>.predict_function at 0x7fdc8347c430> triggered tf.function retracing. Tracing is expensive and the excessive number of tracings could be due to (1) creating @tf.function repeatedly in a loop, (2) passing tensors with different shapes, (3) passing Python objects instead of tensors. For (1), please define your @tf.function outside of the loop. For (2), @tf.function has experimental_relax_shapes=True option that relaxes argument shapes that can avoid unnecessary retracing. For (3), please refer to https://www.tensorflow.org/guide/function#controlling_retracing and https://www.tensorflow.org/api_docs/python/tf/function for  more details.\n"
     ]
    }
   ],
   "source": [
    "models = []\n",
    "for i in range(1, (config.cross_validation_k + 1)):\n",
    "    models.append(keras.models.load_model('fold_' + str(i) + '_best_model_weights.h5', custom_objects={'CustomLoss': custom_loss}))\n",
    "    # models.append(keras.models.load_model('fold_' + str(i) + '_best_model_weights.h5', custom_objects={'sparse_categorical_focal_loss': custom_loss}))\n",
    "    \n",
    "y_preds = []\n",
    "for model in models:\n",
    "    y_pred = model.predict(x_test)\n",
    "    y_preds.append(y_pred)\n",
    "    \n",
    "# combine the predictions using voting or averaging\n",
    "y_ensemble = sum(y_preds) / config.cross_validation_k"
   ]
  },
  {
   "cell_type": "markdown",
   "id": "ffd793b9-e56c-46c5-9f58-38a7d4bbb536",
   "metadata": {},
   "source": [
    "### Ensemble model Kohen's Kappa Score"
   ]
  },
  {
   "cell_type": "code",
   "execution_count": 50,
   "id": "0a78c7c3-6804-4eb8-9244-926403e59229",
   "metadata": {
    "tags": []
   },
   "outputs": [
    {
     "name": "stdout",
     "output_type": "stream",
     "text": [
      "Score: 0.5142857142857142\n"
     ]
    }
   ],
   "source": [
    "predictions = np.zeros(len(y_test), dtype=np.int8)\n",
    "# inference loop\n",
    "for e, (image, target) in enumerate(zip(x_test, y_test)):\n",
    "    image = np.expand_dims(np.array(image), axis=0)\n",
    "    output = y_ensemble[e]\n",
    "    predictions[e] = np.squeeze(output).argmax()\n",
    "#Keras model score\n",
    "score_keras = cohen_kappa_score(y_test.numpy(), predictions)\n",
    "print(\"Score:\",score_keras)"
   ]
  },
  {
   "cell_type": "markdown",
   "id": "941f04a6-9431-4b6b-8bdc-ac2c2e7e4b14",
   "metadata": {
    "tags": []
   },
   "source": [
    "### Log Cohen Kappa Score for the ensemble model (Unifeied Test Set)"
   ]
  },
  {
   "cell_type": "code",
   "execution_count": 51,
   "id": "12edc555-dfc8-46a5-b232-90f414bbb4bd",
   "metadata": {
    "tags": []
   },
   "outputs": [],
   "source": [
    "wandb.log({\"Cohen Kappa Score for the ensemble model (Unified Test Set)\": score_keras})"
   ]
  },
  {
   "cell_type": "markdown",
   "id": "982b1e1e-7720-4784-9af6-f7aa5bc35e38",
   "metadata": {
    "tags": []
   },
   "source": [
    "### Accuracy "
   ]
  },
  {
   "cell_type": "code",
   "execution_count": 52,
   "id": "52b23a82-f1c9-4955-a519-a85187b2e656",
   "metadata": {
    "tags": []
   },
   "outputs": [
    {
     "name": "stdout",
     "output_type": "stream",
     "text": [
      "Accuracy:  0.575\n"
     ]
    }
   ],
   "source": [
    "# assuming you have two lists, predicted and actual\n",
    "correct = 0\n",
    "total = len(y_test.numpy())\n",
    "\n",
    "for pred, label in zip(predictions, y_test.numpy()):\n",
    "    if pred == label:\n",
    "        correct += 1\n",
    "\n",
    "accuracy = correct / total\n",
    "\n",
    "print(\"Accuracy: \", accuracy)"
   ]
  },
  {
   "cell_type": "markdown",
   "id": "18f073c6-6366-4846-8275-13af9784ca1e",
   "metadata": {
    "tags": []
   },
   "source": [
    "### Log Accuracy for the ensemble model (Unifeied Test Set)"
   ]
  },
  {
   "cell_type": "code",
   "execution_count": 53,
   "id": "be5c349e-cd11-43a5-b0e3-1f16aec93037",
   "metadata": {
    "tags": []
   },
   "outputs": [],
   "source": [
    "wandb.log({\"Accuracy for the ensemble model (Unified Test Set)\": accuracy})"
   ]
  },
  {
   "cell_type": "markdown",
   "id": "a6b9b6db-0771-41f7-9c83-29e26f8a9318",
   "metadata": {},
   "source": [
    "## Train - Validation Visualization"
   ]
  },
  {
   "cell_type": "code",
   "execution_count": 54,
   "id": "eccf8e57-6fb7-443d-ba9a-adc43ba15c43",
   "metadata": {
    "tags": []
   },
   "outputs": [
    {
     "data": {
      "text/plain": [
       "[20, 31, 35, 39, 36]"
      ]
     },
     "execution_count": 54,
     "metadata": {},
     "output_type": "execute_result"
    }
   ],
   "source": [
    "eps_per_fold = [len(sub_list) for sub_list in training_accuracy]\n",
    "eps_per_fold"
   ]
  },
  {
   "cell_type": "code",
   "execution_count": 55,
   "id": "5865317a-83dc-42c1-a4f3-1abe577e63b8",
   "metadata": {
    "tags": []
   },
   "outputs": [],
   "source": [
    "eps_per_fold_cum = list(accumulate(eps_per_fold))"
   ]
  },
  {
   "cell_type": "code",
   "execution_count": 56,
   "id": "154f6fb9-0369-4090-983d-58a4d79f5410",
   "metadata": {
    "tags": []
   },
   "outputs": [],
   "source": [
    "training_accuracy = [element for sublist in training_accuracy for element in sublist]\n",
    "validation_accuracy = [element for sublist in validation_accuracy for element in sublist]\n",
    "training_loss = [element for sublist in training_loss for element in sublist]\n",
    "validation_loss = [element for sublist in validation_loss for element in sublist]"
   ]
  },
  {
   "cell_type": "code",
   "execution_count": 57,
   "id": "c84b0a9c-6f41-444e-ba23-cab449735fb1",
   "metadata": {
    "tags": []
   },
   "outputs": [
    {
     "data": {
      "text/plain": [
       "[20, 51, 86, 125, 161]"
      ]
     },
     "execution_count": 57,
     "metadata": {},
     "output_type": "execute_result"
    }
   ],
   "source": [
    "eps_per_fold_cum"
   ]
  },
  {
   "cell_type": "code",
   "execution_count": 58,
   "id": "a3bdaa28-fd23-4ffc-9174-f51aa4ad8f2a",
   "metadata": {
    "tags": []
   },
   "outputs": [],
   "source": [
    "xs = []\n",
    "ys = []\n",
    "for i in range(config.cross_validation_k):\n",
    "    xs.append(eps_per_fold_cum[i]+1)\n",
    "    ys.append(training_accuracy[eps_per_fold_cum[0]-1])\n",
    "# xs = [eps_per_fold_cum[0]+1, eps_per_fold_cum[1]+1, eps_per_fold_cum[2]+1, eps_per_fold_cum[3]+1, eps_per_fold_cum[4]+1]\n",
    "# ys = [training_accuracy[eps_per_fold_cum[0]-1], training_accuracy[eps_per_fold_cum[1]-1], training_accuracy[eps_per_fold_cum[2]-1],\n",
    "#          training_accuracy[eps_per_fold_cum[3]-1], training_accuracy[eps_per_fold_cum[4]-1]]"
   ]
  },
  {
   "cell_type": "code",
   "execution_count": 59,
   "id": "f5e2e0b8-4b97-430f-a553-5962477fa2e4",
   "metadata": {
    "tags": []
   },
   "outputs": [
    {
     "data": {
      "image/png": "[encoded data removed]",
      "text/plain": [
       "<Figure size 1500x600 with 1 Axes>"
      ]
     },
     "metadata": {},
     "output_type": "display_data"
    }
   ],
   "source": [
    "x1 = list(range(1, len(training_accuracy) + 1))\n",
    "x2 = list(range(1, len(validation_accuracy) + 1))\n",
    "\n",
    "fig = plt.figure(figsize=(15, 6))\n",
    "\n",
    "# Create the plot\n",
    "plt.plot(x1, training_accuracy, label='Training Accuracy')\n",
    "plt.plot(x2, validation_accuracy, label='Validation Accuracy')\n",
    "\n",
    "\n",
    "\n",
    "# Add points with labels\n",
    "for i in range(config.cross_validation_k-1):\n",
    "    plt.axvline(x=xs[i], color='red', linestyle='--')\n",
    "# plt.axvline(x=xs[0], color='red', linestyle='--')\n",
    "# plt.axvline(x=xs[1], color='red', linestyle='--')\n",
    "# plt.axvline(x=xs[2], color='red', linestyle='--')\n",
    "# plt.axvline(x=xs[3], color='red', linestyle='--')\n",
    "\n",
    "# Add annotations to the lines\n",
    "for i in range(config.cross_validation_k-1):\n",
    "    plt.annotate('Fold '+str(i+2), xy=(xs[i], 0.2), xytext=(xs[i]+1, 0.15),\n",
    "             arrowprops=dict(facecolor='black', arrowstyle='->'))\n",
    "\n",
    "# plt.annotate('Fold 2', xy=(xs[0], 0.5), xytext=(xs[0]+1, 0.4),\n",
    "#              arrowprops=dict(facecolor='black', arrowstyle='->'))\n",
    "# plt.annotate('Fold 3', xy=(xs[1], 0.5), xytext=(xs[1]+1, 0.4),\n",
    "#              arrowprops=dict(facecolor='black', arrowstyle='->'))\n",
    "# plt.annotate('Fold 4', xy=(xs[2], 0.5), xytext=(xs[2]+1, 0.4),\n",
    "#              arrowprops=dict(facecolor='black', arrowstyle='->'))\n",
    "# plt.annotate('Fold 5', xy=(xs[3], 0.5), xytext=(xs[3]+1, 0.4),\n",
    "#              arrowprops=dict(facecolor='black', arrowstyle='->'))\n",
    "# plt.axvline(x=xs[4], color='red', linestyle='--')\n",
    "# plt.scatter(xs, ys, color='red')\n",
    "# plt.annotate('Point 1', (2, 4), textcoords=\"offset points\", xytext=(0,10), ha='center')\n",
    "# plt.annotate('Point 2', (4, 8), textcoords=\"offset points\", xytext=(0,10), ha='center')\n",
    "\n",
    "\n",
    "# Add a legend\n",
    "plt.legend()\n",
    "\n",
    "# Enable the grid\n",
    "# plt.grid(True)\n",
    "\n",
    "## Log Train - Val Accuracy Curve\n",
    "wandb.log({'Train - Val Accuracy': wandb.Image(plt)})\n",
    "\n",
    "# Show the plot\n",
    "# plt.show()"
   ]
  },
  {
   "cell_type": "code",
   "execution_count": 60,
   "id": "0f09b955-43d2-4cec-9601-68f309c45c13",
   "metadata": {
    "tags": []
   },
   "outputs": [
    {
     "data": {
      "image/png": "[encoded data removed]",
      "text/plain": [
       "<Figure size 1500x600 with 1 Axes>"
      ]
     },
     "metadata": {},
     "output_type": "display_data"
    }
   ],
   "source": [
    "x1 = list(range(1, len(training_loss) + 1))\n",
    "x2 = list(range(1, len(validation_loss) + 1))\n",
    "\n",
    "fig = plt.figure(figsize=(15, 6))\n",
    "\n",
    "# Create the plot\n",
    "plt.plot(x1, training_loss, label='Training Loss')\n",
    "plt.plot(x2, validation_loss, label='Validation Loss')\n",
    "\n",
    "\n",
    "\n",
    "# Add points with labels\n",
    "for i in range(config.cross_validation_k-1):\n",
    "    plt.axvline(x=xs[i], color='red', linestyle='--')\n",
    "# plt.axvline(x=xs[0], color='red', linestyle='--')\n",
    "# plt.axvline(x=xs[1], color='red', linestyle='--')\n",
    "# plt.axvline(x=xs[2], color='red', linestyle='--')\n",
    "# plt.axvline(x=xs[3], color='red', linestyle='--')\n",
    "\n",
    "# Add annotations to the lines\n",
    "for i in range(config.cross_validation_k-1):\n",
    "    plt.annotate('Fold '+str(i+2), xy=(xs[i], 0), xytext=(xs[i]+1, 0),\n",
    "             arrowprops=dict(facecolor='black', arrowstyle='->'))\n",
    "\n",
    "# plt.annotate('Fold 2', xy=(xs[0], 0.5), xytext=(xs[0]+1, 0.4),\n",
    "#              arrowprops=dict(facecolor='black', arrowstyle='->'))\n",
    "# plt.annotate('Fold 3', xy=(xs[1], 0.5), xytext=(xs[1]+1, 0.4),\n",
    "#              arrowprops=dict(facecolor='black', arrowstyle='->'))\n",
    "# plt.annotate('Fold 4', xy=(xs[2], 0.5), xytext=(xs[2]+1, 0.4),\n",
    "#              arrowprops=dict(facecolor='black', arrowstyle='->'))\n",
    "# plt.annotate('Fold 5', xy=(xs[3], 0.5), xytext=(xs[3]+1, 0.4),\n",
    "#              arrowprops=dict(facecolor='black', arrowstyle='->'))\n",
    "# plt.axvline(x=xs[4], color='red', linestyle='--')\n",
    "# plt.scatter(xs, ys, color='red')\n",
    "# plt.annotate('Point 1', (2, 4), textcoords=\"offset points\", xytext=(0,10), ha='center')\n",
    "# plt.annotate('Point 2', (4, 8), textcoords=\"offset points\", xytext=(0,10), ha='center')\n",
    "\n",
    "\n",
    "# Add a legend\n",
    "plt.legend()\n",
    "\n",
    "# Enable the grid\n",
    "# plt.grid(True)\n",
    "\n",
    "## Log Train - Val Accuracy Curve\n",
    "wandb.log({'Train - Val Loss': wandb.Image(plt)})\n",
    "\n",
    "# Show the plot\n",
    "# plt.show()"
   ]
  },
  {
   "cell_type": "markdown",
   "id": "3f341c28-1ecf-42a6-b76f-710d8bc40fbf",
   "metadata": {},
   "source": [
    "## Log Unified Test Set and its predictions"
   ]
  },
  {
   "cell_type": "code",
   "execution_count": 61,
   "id": "bd3a4b92-6599-4f63-8e84-9404ff5ee6be",
   "metadata": {
    "tags": []
   },
   "outputs": [],
   "source": [
    "prediction_names = [class_name_label[num] for num in predictions]\n",
    "actual_names = [class_name_label[num] for num in y_test.numpy()]"
   ]
  },
  {
   "cell_type": "code",
   "execution_count": 62,
   "id": "e57e146b-c100-4338-a283-8c9ad2ee3641",
   "metadata": {
    "tags": []
   },
   "outputs": [],
   "source": [
    "pred_is_actual = [x == y for x, y in zip(prediction_names, actual_names)]"
   ]
  },
  {
   "cell_type": "markdown",
   "id": "3e3d1ad5-f57c-496a-9439-b6f70204ed37",
   "metadata": {},
   "source": [
    "### Log Correct and Wrong Predictions as Images"
   ]
  },
  {
   "cell_type": "code",
   "execution_count": 63,
   "id": "d02bdf7d-96b3-4f19-adeb-534865cc5c43",
   "metadata": {
    "tags": []
   },
   "outputs": [],
   "source": [
    "# assuming you have lists of images, predictions, and actual labels\n",
    "for i, (img, pred, label) in enumerate(zip(x_test, prediction_names, actual_names)):\n",
    "    wandb.log({'All Predictions - Unified Test Set': wandb.Image(img, caption='predicted: {}, actual: {}'.format(pred, label))})\n",
    "    \n",
    "    if(pred_is_actual[i]):\n",
    "        wandb.log({'Correct Predictions - Unified Test Set': wandb.Image(img, caption='predicted: {}, actual: {}'.format(pred, label))})\n",
    "    else:\n",
    "        wandb.log({'Wrong Predictions - Unified Test Set': wandb.Image(img, caption='predicted: {}, actual: {}'.format(pred, label))})"
   ]
  },
  {
   "cell_type": "markdown",
   "id": "f185f21c-183f-4a40-a006-7a9e584773c6",
   "metadata": {},
   "source": [
    "### Class accuracies"
   ]
  },
  {
   "cell_type": "code",
   "execution_count": 64,
   "id": "97ec4f49-6f4f-4e84-9202-d292727f66a1",
   "metadata": {},
   "outputs": [],
   "source": [
    "df_preds = pd.DataFrame({\"actual\": actual_names, \"prediction\": prediction_names, \"correct\": pred_is_actual})"
   ]
  },
  {
   "cell_type": "code",
   "execution_count": 65,
   "id": "d9f98010-5dca-4c8b-8d41-9707a3b88b36",
   "metadata": {
    "tags": []
   },
   "outputs": [],
   "source": [
    "# group the dataframe by the 'actual' column\n",
    "grouped = df_preds.groupby('actual')\n",
    "class_accuracy = pd.DataFrame(data={}, columns=['class', 'accuracy'])\n",
    "# calculate the accuracy for each group\n",
    "for name, group in grouped:\n",
    "    accuracy = accuracy_score(group['actual'], group['prediction'])\n",
    "    # print('Accuracy for class {}: {}'.format(name, accuracy))\n",
    "    new_row = {\"class\": name, 'accuracy': accuracy}\n",
    "    class_accuracy = pd.concat([class_accuracy, pd.DataFrame([new_row])], ignore_index=True)\n",
    "class_accuracy = class_accuracy.sort_values('accuracy', ascending=True).reset_index(drop = True)"
   ]
  },
  {
   "cell_type": "code",
   "execution_count": 66,
   "id": "bec8b796-108b-46eb-9960-dcd324c754c4",
   "metadata": {
    "tags": []
   },
   "outputs": [
    {
     "data": {
      "text/html": [
       "<div>\n",
       "<style scoped>\n",
       "    .dataframe tbody tr th:only-of-type {\n",
       "        vertical-align: middle;\n",
       "    }\n",
       "\n",
       "    .dataframe tbody tr th {\n",
       "        vertical-align: top;\n",
       "    }\n",
       "\n",
       "    .dataframe thead th {\n",
       "        text-align: right;\n",
       "    }\n",
       "</style>\n",
       "<table border=\"1\" class=\"dataframe\">\n",
       "  <thead>\n",
       "    <tr style=\"text-align: right;\">\n",
       "      <th></th>\n",
       "      <th>class</th>\n",
       "      <th>accuracy</th>\n",
       "    </tr>\n",
       "  </thead>\n",
       "  <tbody>\n",
       "    <tr>\n",
       "      <th>0</th>\n",
       "      <td>Natural</td>\n",
       "      <td>0.0</td>\n",
       "    </tr>\n",
       "    <tr>\n",
       "      <th>1</th>\n",
       "      <td>Cloud</td>\n",
       "      <td>0.4</td>\n",
       "    </tr>\n",
       "    <tr>\n",
       "      <th>2</th>\n",
       "      <td>Mountain</td>\n",
       "      <td>0.4</td>\n",
       "    </tr>\n",
       "    <tr>\n",
       "      <th>3</th>\n",
       "      <td>Agricultural</td>\n",
       "      <td>0.6</td>\n",
       "    </tr>\n",
       "    <tr>\n",
       "      <th>4</th>\n",
       "      <td>Snow</td>\n",
       "      <td>0.6</td>\n",
       "    </tr>\n",
       "    <tr>\n",
       "      <th>5</th>\n",
       "      <td>Sea_ice</td>\n",
       "      <td>0.8</td>\n",
       "    </tr>\n",
       "    <tr>\n",
       "      <th>6</th>\n",
       "      <td>Water</td>\n",
       "      <td>0.8</td>\n",
       "    </tr>\n",
       "    <tr>\n",
       "      <th>7</th>\n",
       "      <td>River</td>\n",
       "      <td>1.0</td>\n",
       "    </tr>\n",
       "  </tbody>\n",
       "</table>\n",
       "</div>"
      ],
      "text/plain": [
       "          class  accuracy\n",
       "0       Natural       0.0\n",
       "1         Cloud       0.4\n",
       "2      Mountain       0.4\n",
       "3  Agricultural       0.6\n",
       "4          Snow       0.6\n",
       "5       Sea_ice       0.8\n",
       "6         Water       0.8\n",
       "7         River       1.0"
      ]
     },
     "execution_count": 66,
     "metadata": {},
     "output_type": "execute_result"
    }
   ],
   "source": [
    "class_accuracy"
   ]
  },
  {
   "cell_type": "code",
   "execution_count": 67,
   "id": "6f9fb81b-ae64-431a-8b1c-d56011502aaa",
   "metadata": {
    "tags": []
   },
   "outputs": [],
   "source": [
    "# create a wandb.Table object from the dataframe\n",
    "table = wandb.Table(dataframe=class_accuracy)\n",
    "# log the table to wandb\n",
    "wandb.log({'Class Accuracies': table})"
   ]
  },
  {
   "cell_type": "code",
   "execution_count": 68,
   "id": "d86f03fa-fdd8-4861-b0ae-d9d079d9334a",
   "metadata": {
    "tags": []
   },
   "outputs": [
    {
     "data": {
      "text/html": [
       "Waiting for W&B process to finish... <strong style=\"color:green\">(success).</strong>"
      ],
      "text/plain": [
       "<IPython.core.display.HTML object>"
      ]
     },
     "metadata": {},
     "output_type": "display_data"
    },
    {
     "data": {
      "text/html": [
       "<style>\n",
       "    table.wandb td:nth-child(1) { padding: 0 10px; text-align: left ; width: auto;} td:nth-child(2) {text-align: left ; width: 100%}\n",
       "    .wandb-row { display: flex; flex-direction: row; flex-wrap: wrap; justify-content: flex-start; width: 100% }\n",
       "    .wandb-col { display: flex; flex-direction: column; flex-basis: 100%; flex: 1; padding: 10px; }\n",
       "    </style>\n",
       "<div class=\"wandb-row\"><div class=\"wandb-col\"><h3>Run history:</h3><br/><table class=\"wandb\"><tr><td>Accuracy for model with best validation accuracy (Unified Test Set)</td><td>▁</td></tr><tr><td>Accuracy for the ensemble model (Unified Test Set)</td><td>▁</td></tr><tr><td>Best Validation Accuracy for Folds</td><td>▁███▃</td></tr><tr><td>Best Validation Loss for Folds</td><td>█▃▂▁▅</td></tr><tr><td>Cohen Kappa Score for model with best validation accuracy (Unified Test Set)</td><td>▁</td></tr><tr><td>Cohen Kappa Score for the ensemble model (Unified Test Set)</td><td>▁</td></tr><tr><td>Folds Validation Accuracy Mean</td><td>▁</td></tr><tr><td>Folds Validation Accuracy STD</td><td>▁</td></tr><tr><td>Test Set Size</td><td>▁</td></tr><tr><td>Training Validation Set Size</td><td>▁</td></tr></table><br/></div><div class=\"wandb-col\"><h3>Run summary:</h3><br/><table class=\"wandb\"><tr><td>Accuracy for model with best validation accuracy (Unified Test Set)</td><td>0.475</td></tr><tr><td>Accuracy for the ensemble model (Unified Test Set)</td><td>0.575</td></tr><tr><td>Best Validation Accuracy for Folds</td><td>0.99479</td></tr><tr><td>Best Validation Loss for Folds</td><td>0.01571</td></tr><tr><td>Cohen Kappa Score for model with best validation accuracy (Unified Test Set)</td><td>0.4</td></tr><tr><td>Cohen Kappa Score for the ensemble model (Unified Test Set)</td><td>0.51429</td></tr><tr><td>Dataset Name</td><td>The OPS-SAT case dat...</td></tr><tr><td>Dataset Variation Description</td><td>Augmentation Variati...</td></tr><tr><td>Folds Validation Accuracy Mean</td><td>0.9974</td></tr><tr><td>Folds Validation Accuracy STD</td><td>0.00329</td></tr><tr><td>Test Set Path</td><td>/home/ramez/Politech...</td></tr><tr><td>Test Set Size</td><td>40</td></tr><tr><td>Train Val Set Path</td><td>/home/ramez/Politech...</td></tr><tr><td>Training Validation Set Size</td><td>1920</td></tr></table><br/></div></div>"
      ],
      "text/plain": [
       "<IPython.core.display.HTML object>"
      ]
     },
     "metadata": {},
     "output_type": "display_data"
    },
    {
     "data": {
      "text/html": [
       " View run <strong style=\"color:#cdcd00\">eager-spaceship-80</strong> at: <a href='https://wandb.ai/ramez/OPS-SAT-Thesis-Project/runs/o8tfn8ss' target=\"_blank\">https://wandb.ai/ramez/OPS-SAT-Thesis-Project/runs/o8tfn8ss</a><br/>Synced 6 W&B file(s), 83 media file(s), 1 artifact file(s) and 5 other file(s)"
      ],
      "text/plain": [
       "<IPython.core.display.HTML object>"
      ]
     },
     "metadata": {},
     "output_type": "display_data"
    },
    {
     "data": {
      "text/html": [
       "Find logs at: <code>./wandb/run-20230527_115910-o8tfn8ss/logs</code>"
      ],
      "text/plain": [
       "<IPython.core.display.HTML object>"
      ]
     },
     "metadata": {},
     "output_type": "display_data"
    }
   ],
   "source": [
    "wandb.finish()"
   ]
  },
  {
   "cell_type": "code",
   "execution_count": null,
   "id": "f1073ff0-8023-4446-9287-711b255c8486",
   "metadata": {},
   "outputs": [],
   "source": []
  },
  {
   "cell_type": "code",
   "execution_count": null,
   "id": "6914a879-ea49-4d8c-aa12-22231573d2e4",
   "metadata": {},
   "outputs": [],
   "source": []
  },
  {
   "cell_type": "code",
   "execution_count": null,
   "id": "488a741c-626d-4480-acf2-0e18892a05ab",
   "metadata": {},
   "outputs": [],
   "source": []
  },
  {
   "cell_type": "code",
   "execution_count": null,
   "id": "e4480c0e-72c2-418c-af05-2d47ae530e70",
   "metadata": {},
   "outputs": [],
   "source": []
  },
  {
   "cell_type": "code",
   "execution_count": null,
   "id": "ab82b9af-129b-4795-9411-60ba573f9656",
   "metadata": {},
   "outputs": [],
   "source": []
  },
  {
   "cell_type": "code",
   "execution_count": null,
   "id": "d718f5fc",
   "metadata": {
    "ExecuteTime": {
     "end_time": "2023-04-09T20:42:39.783353Z",
     "start_time": "2023-04-09T20:42:39.220320Z"
    },
    "tags": []
   },
   "outputs": [],
   "source": [
    "## Load the Model without any weight initialization\n",
    "# model = EfficientNetLiteB0(classes=num_classes, weights=None, input_shape=input_shape, classifier_activation=None)\n",
    "# model.summary()"
   ]
  },
  {
   "cell_type": "code",
   "execution_count": null,
   "id": "2c9ed0f4-bd3f-45bd-b135-b0332086e2f7",
   "metadata": {},
   "outputs": [],
   "source": []
  },
  {
   "cell_type": "code",
   "execution_count": null,
   "id": "00f6c73b",
   "metadata": {
    "ExecuteTime": {
     "end_time": "2022-10-30T19:46:06.491070Z",
     "start_time": "2022-10-30T19:46:06.274124Z"
    }
   },
   "outputs": [],
   "source": [
    "## Saving model\n",
    "# model.save_weights('/home/ramez/Politechnika_Slaska_MSc/Thesis/Competition/submission/submit_19.h5')"
   ]
  },
  {
   "cell_type": "code",
   "execution_count": null,
   "id": "8b0adb32",
   "metadata": {
    "ExecuteTime": {
     "end_time": "2022-10-30T19:40:44.823406Z",
     "start_time": "2022-10-30T19:40:43.780920Z"
    }
   },
   "outputs": [],
   "source": [
    "# model = EfficientNetLiteB0(classes=num_classes, weights=None, input_shape=input_shape, classifier_activation=None)\n",
    "# # model = EfficientNetLiteB0(include_top=False, classes=num_classes, weights='imagenet', input_shape=input_shape, classifier_activation=None)\n",
    "# model.load_weights('/home/ramez/Politechnika_Slaska_MSc/Thesis/Competition/submission/model_patterns_20epochs.h5')"
   ]
  },
  {
   "cell_type": "markdown",
   "id": "91d26b2b",
   "metadata": {},
   "source": [
    "The model will be now compiled and tested again. You should get the same score as before saving and loading. "
   ]
  },
  {
   "cell_type": "code",
   "execution_count": null,
   "id": "82416ca4",
   "metadata": {},
   "outputs": [],
   "source": []
  },
  {
   "cell_type": "code",
   "execution_count": null,
   "id": "14eedf3b",
   "metadata": {},
   "outputs": [],
   "source": []
  },
  {
   "cell_type": "code",
   "execution_count": null,
   "id": "786276ad",
   "metadata": {},
   "outputs": [],
   "source": []
  },
  {
   "cell_type": "code",
   "execution_count": null,
   "id": "bf1b71e6",
   "metadata": {
    "ExecuteTime": {
     "end_time": "2022-10-12T18:20:06.668315Z",
     "start_time": "2022-10-12T18:20:06.652610Z"
    }
   },
   "outputs": [],
   "source": []
  },
  {
   "cell_type": "code",
   "execution_count": null,
   "id": "e2dd4279",
   "metadata": {},
   "outputs": [],
   "source": []
  }
 ],
 "metadata": {
  "kernelspec": {
   "display_name": "Python 3 (ipykernel)",
   "language": "python",
   "name": "python3"
  },
  "language_info": {
   "codemirror_mode": {
    "name": "ipython",
    "version": 3
   },
   "file_extension": ".py",
   "mimetype": "text/x-python",
   "name": "python",
   "nbconvert_exporter": "python",
   "pygments_lexer": "ipython3",
   "version": "3.9.16"
  },
  "toc": {
   "base_numbering": 1,
   "nav_menu": {},
   "number_sections": true,
   "sideBar": true,
   "skip_h1_title": false,
   "title_cell": "Table of Contents",
   "title_sidebar": "Contents",
   "toc_cell": false,
   "toc_position": {},
   "toc_section_display": true,
   "toc_window_display": false
  }
 },
 "nbformat": 4,
 "nbformat_minor": 5
}
