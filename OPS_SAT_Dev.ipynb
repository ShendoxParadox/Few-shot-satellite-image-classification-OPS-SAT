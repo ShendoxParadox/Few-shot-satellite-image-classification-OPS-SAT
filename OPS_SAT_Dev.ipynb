{
 "cells": [
  {
   "cell_type": "markdown",
   "id": "fcdcd3ca",
   "metadata": {},
   "source": [
    "# OPS-SAT case starter-kit notebook"
   ]
  },
  {
   "cell_type": "markdown",
   "id": "a3ad0860",
   "metadata": {},
   "source": [
    "ESA's [Kelvins](https://kelvins.esa.int) competition \"[the OPS-SAT case](https://kelvins.esa.int/opssat/home/)\" is a novel data-centric challenge that asks you to work with the raw data of a satellite and very few provided labels to find the best parameters for a given machine learning model. Compared to previous competitions on Kelvins (like the [Pose Estimation](https://kelvins.esa.int/pose-estimation-2021/) or the [Proba-V Super-resolution challenge](https://kelvins.esa.int/proba-v-super-resolution/)) where the test-set is provided and the infered results are submitted, for the OPS-SAT case, we will run inference on the Kelvins server directly! This notebooks contains examples on how you can load your data and train an **EfficientNetLite0** model by only using the 80-labeled images provided. Therefore, the directory `images`, containing unlabeld patches and included in the training dataset is not used for this notebook. However, competitors are encouraged to use these patches to improve the model accuracy."
   ]
  },
  {
   "cell_type": "markdown",
   "id": "403eeb5a",
   "metadata": {},
   "source": [
    "# 1. Module imports"
   ]
  },
  {
   "cell_type": "markdown",
   "id": "91d88f44",
   "metadata": {},
   "source": [
    "If you do not have a GPU, uncomment and run the next commands.\n"
   ]
  },
  {
   "cell_type": "code",
   "execution_count": 1,
   "id": "1f3f6cde",
   "metadata": {
    "ExecuteTime": {
     "end_time": "2023-04-09T20:42:31.525217Z",
     "start_time": "2023-04-09T20:42:31.521341Z"
    },
    "scrolled": true,
    "tags": []
   },
   "outputs": [
    {
     "data": {
      "text/plain": [
       "'3.9.16 (main, Mar  8 2023, 14:00:05) \\n[GCC 11.2.0]'"
      ]
     },
     "execution_count": 1,
     "metadata": {},
     "output_type": "execute_result"
    }
   ],
   "source": [
    "import sys\n",
    "sys.version"
   ]
  },
  {
   "cell_type": "code",
   "execution_count": 2,
   "id": "c7c8f9d8",
   "metadata": {
    "ExecuteTime": {
     "end_time": "2023-04-09T20:42:31.887841Z",
     "start_time": "2023-04-09T20:42:31.711974Z"
    },
    "tags": []
   },
   "outputs": [
    {
     "name": "stdout",
     "output_type": "stream",
     "text": [
      "/usr/bin/zsh: /home/ramez/miniconda3/envs/thesis/lib/libtinfo.so.6: no version information available (required by /usr/bin/zsh)\n",
      "Python 3.9.16\n"
     ]
    }
   ],
   "source": [
    "! python --version"
   ]
  },
  {
   "cell_type": "code",
   "execution_count": 3,
   "id": "cb8fddce",
   "metadata": {
    "ExecuteTime": {
     "end_time": "2023-04-09T20:42:32.267814Z",
     "start_time": "2023-04-09T20:42:32.094731Z"
    },
    "tags": []
   },
   "outputs": [
    {
     "name": "stdout",
     "output_type": "stream",
     "text": [
      "/usr/bin/zsh: /home/ramez/miniconda3/envs/thesis/lib/libtinfo.so.6: no version information available (required by /usr/bin/zsh)\n",
      "/home/ramez/miniconda3/envs/thesis/bin/python\n"
     ]
    }
   ],
   "source": [
    "! which python"
   ]
  },
  {
   "cell_type": "code",
   "execution_count": 4,
   "id": "c3aecaa6",
   "metadata": {
    "ExecuteTime": {
     "end_time": "2023-04-09T20:42:33.914315Z",
     "start_time": "2023-04-09T20:42:33.911985Z"
    },
    "tags": []
   },
   "outputs": [],
   "source": [
    "import tensorflow as tf"
   ]
  },
  {
   "cell_type": "markdown",
   "id": "4fc1fd19-d4ef-4a54-877e-9d06a9049737",
   "metadata": {},
   "source": [
    "#### GPU Check"
   ]
  },
  {
   "cell_type": "code",
   "execution_count": 5,
   "id": "b1e02f8b",
   "metadata": {
    "ExecuteTime": {
     "end_time": "2023-04-09T20:42:36.255529Z",
     "start_time": "2023-04-09T20:42:34.328075Z"
    },
    "tags": []
   },
   "outputs": [
    {
     "name": "stdout",
     "output_type": "stream",
     "text": [
      "/usr/bin/zsh: /home/ramez/miniconda3/envs/thesis/lib/libtinfo.so.6: no version information available (required by /usr/bin/zsh)\n",
      "[PhysicalDevice(name='/physical_device:GPU:0', device_type='GPU')]\n"
     ]
    }
   ],
   "source": [
    "!python3 -c \"import tensorflow as tf; print(tf.config.list_physical_devices('GPU'))\""
   ]
  },
  {
   "cell_type": "code",
   "execution_count": 6,
   "id": "234eba6e",
   "metadata": {
    "ExecuteTime": {
     "end_time": "2023-04-09T20:42:36.260638Z",
     "start_time": "2023-04-09T20:42:36.257966Z"
    },
    "tags": []
   },
   "outputs": [],
   "source": [
    "from tensorflow import keras"
   ]
  },
  {
   "cell_type": "code",
   "execution_count": 7,
   "id": "ea21b9b7",
   "metadata": {
    "ExecuteTime": {
     "end_time": "2023-04-09T20:42:36.327202Z",
     "start_time": "2023-04-09T20:42:36.262029Z"
    },
    "tags": []
   },
   "outputs": [],
   "source": [
    "import numpy as np"
   ]
  },
  {
   "cell_type": "code",
   "execution_count": 8,
   "id": "f73af189",
   "metadata": {
    "ExecuteTime": {
     "end_time": "2023-04-09T20:42:36.336400Z",
     "start_time": "2023-04-09T20:42:36.333721Z"
    },
    "tags": []
   },
   "outputs": [],
   "source": [
    "from sklearn.metrics import cohen_kappa_score"
   ]
  },
  {
   "cell_type": "code",
   "execution_count": 9,
   "id": "80fbbb42",
   "metadata": {
    "ExecuteTime": {
     "end_time": "2023-04-09T20:42:36.345491Z",
     "start_time": "2023-04-09T20:42:36.343286Z"
    },
    "tags": []
   },
   "outputs": [],
   "source": [
    "## Local EfficientNetLite (Customized by the Competition)\n",
    "from efficientnet_lite import EfficientNetLiteB0"
   ]
  },
  {
   "cell_type": "code",
   "execution_count": 10,
   "id": "c6face98",
   "metadata": {
    "ExecuteTime": {
     "end_time": "2023-04-09T20:42:36.349008Z",
     "start_time": "2023-04-09T20:42:36.346850Z"
    },
    "tags": []
   },
   "outputs": [],
   "source": [
    "from sklearn.model_selection import KFold"
   ]
  },
  {
   "cell_type": "code",
   "execution_count": 11,
   "id": "fb004876",
   "metadata": {
    "ExecuteTime": {
     "end_time": "2023-04-09T20:42:36.353039Z",
     "start_time": "2023-04-09T20:42:36.350804Z"
    },
    "tags": []
   },
   "outputs": [],
   "source": [
    "from tensorflow.keras.models import Model\n",
    "from tensorflow.keras.layers import GlobalAveragePooling2D, Dense, Dropout"
   ]
  },
  {
   "cell_type": "code",
   "execution_count": 12,
   "id": "22d591c0",
   "metadata": {
    "ExecuteTime": {
     "end_time": "2023-04-09T20:42:36.719018Z",
     "start_time": "2023-04-09T20:42:36.716802Z"
    },
    "tags": []
   },
   "outputs": [],
   "source": [
    "from tensorflow.keras.callbacks import TensorBoard"
   ]
  },
  {
   "cell_type": "code",
   "execution_count": 13,
   "id": "a7cffd18-bb07-4455-8292-3cd846d3139e",
   "metadata": {
    "tags": []
   },
   "outputs": [],
   "source": [
    "from keras.callbacks import EarlyStopping, ModelCheckpoint"
   ]
  },
  {
   "cell_type": "code",
   "execution_count": 14,
   "id": "6d5167dd-ad8d-41ab-9c7c-ace8e0c7c765",
   "metadata": {
    "tags": []
   },
   "outputs": [],
   "source": [
    "import matplotlib.pyplot as plt"
   ]
  },
  {
   "cell_type": "code",
   "execution_count": 15,
   "id": "bdcaf42f-1499-4cde-a474-ee694d25d7eb",
   "metadata": {
    "tags": []
   },
   "outputs": [],
   "source": [
    "from itertools import accumulate"
   ]
  },
  {
   "cell_type": "code",
   "execution_count": 16,
   "id": "262ab8b0-57fa-4a40-9ebc-fd2e9809942f",
   "metadata": {},
   "outputs": [],
   "source": [
    "import os"
   ]
  },
  {
   "cell_type": "code",
   "execution_count": 17,
   "id": "6b4157e1-1449-4c49-84b0-4790c28e8930",
   "metadata": {
    "tags": []
   },
   "outputs": [],
   "source": [
    "import wandb\n",
    "from wandb.keras import WandbMetricsLogger, WandbModelCheckpoint"
   ]
  },
  {
   "cell_type": "code",
   "execution_count": 18,
   "id": "721d8519-b6c7-40a3-932b-3604ccee3a3e",
   "metadata": {
    "tags": []
   },
   "outputs": [],
   "source": [
    "import pandas as pd"
   ]
  },
  {
   "cell_type": "code",
   "execution_count": 19,
   "id": "d4f8aac5-9d4e-4fb7-a49e-e53896526633",
   "metadata": {
    "tags": []
   },
   "outputs": [],
   "source": [
    "from sklearn.metrics import accuracy_score"
   ]
  },
  {
   "cell_type": "markdown",
   "id": "539eda62",
   "metadata": {},
   "source": [
    "# 2. Utility Functions"
   ]
  },
  {
   "cell_type": "markdown",
   "id": "eec32f1b",
   "metadata": {},
   "source": [
    "You can use this function to load your training data."
   ]
  },
  {
   "cell_type": "code",
   "execution_count": 20,
   "id": "9f270337",
   "metadata": {
    "ExecuteTime": {
     "end_time": "2023-04-09T20:42:37.464808Z",
     "start_time": "2023-04-09T20:42:37.461420Z"
    },
    "tags": []
   },
   "outputs": [],
   "source": [
    "def get_images_from_path(dataset_path):\n",
    "    \"\"\" Get images from path and normalize them applying channel-level normalization. \"\"\"\n",
    "\n",
    "    # loading all images in one large batch\n",
    "    tf_eval_data = tf.keras.utils.image_dataset_from_directory(dataset_path, image_size=config.input_shape[:2], shuffle=False, \n",
    "                                                               batch_size=100000, label_mode='int')\n",
    "\n",
    "    # get the class names (folder names) from the dataset object\n",
    "    global class_names\n",
    "    class_names = tf_eval_data.class_names\n",
    "    \n",
    "    # extract images and targets\n",
    "    for tf_eval_images, tf_eval_targets in tf_eval_data:\n",
    "        break\n",
    "\n",
    "    return tf.convert_to_tensor(tf_eval_images), tf_eval_targets"
   ]
  },
  {
   "cell_type": "markdown",
   "id": "a6cec9e1",
   "metadata": {},
   "source": [
    "# 4. Loading data"
   ]
  },
  {
   "cell_type": "code",
   "execution_count": 21,
   "id": "3939168c",
   "metadata": {
    "ExecuteTime": {
     "end_time": "2023-04-09T20:42:42.576907Z",
     "start_time": "2023-04-09T20:42:42.574308Z"
    },
    "tags": []
   },
   "outputs": [],
   "source": [
    "## test Variation\n",
    "# dataset_path_train_val = \"/home/ramez/Politechnika_Slaska_MSc/Thesis/Competition/Data/ops_sat_train/\"\n",
    "dataset_path_train_val = \"/home/ramez/Politechnika_Slaska_MSc/Thesis/Competition/the_opssat_case_starter_kit-main/Data/Variation_Original/train/\""
   ]
  },
  {
   "cell_type": "code",
   "execution_count": 22,
   "id": "4e57cb03",
   "metadata": {
    "ExecuteTime": {
     "end_time": "2023-04-09T20:42:43.086890Z",
     "start_time": "2023-04-09T20:42:43.084818Z"
    },
    "tags": []
   },
   "outputs": [],
   "source": [
    "## Test Variation\n",
    "# dataset_path_test = \"/home/ramez/Politechnika_Slaska_MSc/Thesis/Competition/Data/ops_sat_test/\"\n",
    "dataset_path_test = \"/home/ramez/Politechnika_Slaska_MSc/Thesis/Competition/the_opssat_case_starter_kit-main/Data/Variation_Original/test/\""
   ]
  },
  {
   "cell_type": "markdown",
   "id": "ad7277b8",
   "metadata": {},
   "source": [
    "In this notebook, classical supervised learning is used. Therefore, remember to remove the subdirectory `images` containing unlabeled patches before loading the dataset to perform training correctly."
   ]
  },
  {
   "cell_type": "markdown",
   "id": "f3244374-4874-45b3-b37a-8447dad08e80",
   "metadata": {},
   "source": [
    "### Model Configuration"
   ]
  },
  {
   "cell_type": "code",
   "execution_count": 255,
   "id": "eab2f877-ebc7-42d1-b7a5-a4a3201206b1",
   "metadata": {
    "tags": []
   },
   "outputs": [
    {
     "data": {
      "text/html": [
       "wandb version 0.15.3 is available!  To upgrade, please run:\n",
       " $ pip install wandb --upgrade"
      ],
      "text/plain": [
       "<IPython.core.display.HTML object>"
      ]
     },
     "metadata": {},
     "output_type": "display_data"
    },
    {
     "data": {
      "text/html": [
       "Tracking run with wandb version 0.15.0"
      ],
      "text/plain": [
       "<IPython.core.display.HTML object>"
      ]
     },
     "metadata": {},
     "output_type": "display_data"
    },
    {
     "data": {
      "text/html": [
       "Run data is saved locally in <code>/home/ramez/Politechnika_Slaska_MSc/Thesis/Competition/the_opssat_case_starter_kit-main/OPS-SAT/wandb/run-20230526_212947-e8szvkh3</code>"
      ],
      "text/plain": [
       "<IPython.core.display.HTML object>"
      ]
     },
     "metadata": {},
     "output_type": "display_data"
    },
    {
     "data": {
      "text/html": [
       "Syncing run <strong><a href='https://wandb.ai/ramez/OPS-SAT-Thesis-Project/runs/e8szvkh3' target=\"_blank\">colorful-durian-74</a></strong> to <a href='https://wandb.ai/ramez/OPS-SAT-Thesis-Project' target=\"_blank\">Weights & Biases</a> (<a href='https://wandb.me/run' target=\"_blank\">docs</a>)<br/>"
      ],
      "text/plain": [
       "<IPython.core.display.HTML object>"
      ]
     },
     "metadata": {},
     "output_type": "display_data"
    },
    {
     "data": {
      "text/html": [
       " View project at <a href='https://wandb.ai/ramez/OPS-SAT-Thesis-Project' target=\"_blank\">https://wandb.ai/ramez/OPS-SAT-Thesis-Project</a>"
      ],
      "text/plain": [
       "<IPython.core.display.HTML object>"
      ]
     },
     "metadata": {},
     "output_type": "display_data"
    },
    {
     "data": {
      "text/html": [
       " View run at <a href='https://wandb.ai/ramez/OPS-SAT-Thesis-Project/runs/e8szvkh3' target=\"_blank\">https://wandb.ai/ramez/OPS-SAT-Thesis-Project/runs/e8szvkh3</a>"
      ],
      "text/plain": [
       "<IPython.core.display.HTML object>"
      ]
     },
     "metadata": {},
     "output_type": "display_data"
    }
   ],
   "source": [
    "# Start a run, tracking hyperparameters\n",
    "wandb.init(\n",
    "    # set the wandb project where this run will be logged\n",
    "    project=\"OPS-SAT-Thesis-Project\",\n",
    "\n",
    "    # track hyperparameters and run metadata with wandb.config\n",
    "    config={\n",
    "        \"dropout\": 0.5,\n",
    "        \"num_classes\": 8,\n",
    "        \"input_shape\": (200, 200, 3),\n",
    "        \"model_weights\": \"imagenet\",\n",
    "        \"output_layer_activation\": \"softmax\",\n",
    "        \"model_optimizer\": \"adam\",\n",
    "        \"loss_fun\": \"FocalLoss\",\n",
    "        # \"loss_fun\": \"SparseCategoricalCrossentropy\",\n",
    "        \"model_metrics\": [\"SparseCategoricalAccuracy\"],\n",
    "        \"early_stopping_monitor\": \"val_sparse_categorical_accuracy\",\n",
    "        \"early_stopping_patience\": 40,\n",
    "        \"model_checkpoint_monitor\": \"val_sparse_categorical_accuracy\",\n",
    "        \"cross_validation_k\": 5,\n",
    "        \"model_epochs\": 200,\n",
    "        \"model_batch_size\": 4,\n",
    "        \"alpha_focal_loss\": 0.2, # 0-1\n",
    "        \"gamma_focal_loss\": 3.0  # 1-5\n",
    "    }\n",
    ")\n",
    "\n",
    "config = wandb.config"
   ]
  },
  {
   "cell_type": "code",
   "execution_count": 256,
   "id": "5c7b1b00-0996-4944-873b-220cad229b36",
   "metadata": {
    "tags": []
   },
   "outputs": [],
   "source": [
    "class CustomLoss(tf.keras.losses.Loss):\n",
    "    def __init__(self, **kwargs):\n",
    "        super(CustomLoss, self).__init__(**kwargs)\n",
    "        self.scce = tf.keras.losses.SparseCategoricalCrossentropy(from_logits=False)\n",
    "\n",
    "    def call(self, y_true, y_pred):\n",
    "        return self.scce(y_true, y_pred)"
   ]
  },
  {
   "cell_type": "code",
   "execution_count": 257,
   "id": "dc7f65ec-694f-4acc-b159-cabba081471f",
   "metadata": {
    "tags": []
   },
   "outputs": [],
   "source": [
    "def sparse_categorical_focal_loss(y_true, y_pred, gamma=config.gamma_focal_loss, alpha=config.alpha_focal_loss):\n",
    "    # Convert target labels to one-hot encoding\n",
    "    y_true_one_hot = tf.one_hot(tf.cast(y_true, tf.int32), tf.shape(y_pred)[-1])\n",
    "\n",
    "    # Compute cross-entropy loss\n",
    "    cross_entropy = tf.keras.losses.SparseCategoricalCrossentropy(from_logits=False)(y_true, y_pred)\n",
    "\n",
    "    # Compute focal weights based on the probability predictions\n",
    "    p_t = tf.reduce_sum(y_true_one_hot * y_pred, axis=-1)\n",
    "    focal_weights = tf.pow(1 - p_t, gamma)\n",
    "\n",
    "    # Apply focal weights to the cross-entropy loss\n",
    "    loss = alpha * focal_weights * cross_entropy\n",
    "\n",
    "    return loss"
   ]
  },
  {
   "cell_type": "code",
   "execution_count": 258,
   "id": "ab6ef347-28fc-4fcc-bafa-5466b90353fd",
   "metadata": {
    "tags": []
   },
   "outputs": [],
   "source": [
    "custom_loss_functions = {\n",
    "    # 'SparseCategoricalCrossentropy': CustomLoss\n",
    "    'FocalLoss': sparse_categorical_focal_loss\n",
    "}"
   ]
  },
  {
   "cell_type": "code",
   "execution_count": 259,
   "id": "535d9f57",
   "metadata": {
    "ExecuteTime": {
     "end_time": "2023-04-09T20:42:44.029535Z",
     "start_time": "2023-04-09T20:42:43.904140Z"
    },
    "tags": []
   },
   "outputs": [
    {
     "name": "stdout",
     "output_type": "stream",
     "text": [
      "Found 40 files belonging to 8 classes.\n"
     ]
    }
   ],
   "source": [
    "#Loading dataset\n",
    "x_train_val, y_train_val = get_images_from_path(dataset_path_train_val)"
   ]
  },
  {
   "cell_type": "code",
   "execution_count": 260,
   "id": "870f0b93-ea52-4ae0-98f4-e90f8a3db249",
   "metadata": {
    "tags": []
   },
   "outputs": [],
   "source": [
    "## class_names_labels dict\n",
    "class_name_label = {}\n",
    "for i, class_name in enumerate(class_names):\n",
    "    class_name_label[i] = class_name"
   ]
  },
  {
   "cell_type": "code",
   "execution_count": 261,
   "id": "176ad7e8",
   "metadata": {
    "ExecuteTime": {
     "end_time": "2023-04-09T20:42:44.501742Z",
     "start_time": "2023-04-09T20:42:44.458845Z"
    },
    "tags": []
   },
   "outputs": [
    {
     "name": "stdout",
     "output_type": "stream",
     "text": [
      "Found 40 files belonging to 8 classes.\n"
     ]
    }
   ],
   "source": [
    "#Loading dataset\n",
    "x_test, y_test = get_images_from_path(dataset_path_test)"
   ]
  },
  {
   "cell_type": "code",
   "execution_count": 262,
   "id": "8029b003-175d-4b30-9f95-2b209090e08a",
   "metadata": {
    "tags": []
   },
   "outputs": [],
   "source": [
    "## class_names_labels dict\n",
    "class_name_label_test = {}\n",
    "for i, class_name in enumerate(class_names):\n",
    "    class_name_label_test[i] = class_name"
   ]
  },
  {
   "cell_type": "code",
   "execution_count": 263,
   "id": "71c45087-b178-4403-b8d8-b0f0204243b0",
   "metadata": {
    "tags": []
   },
   "outputs": [
    {
     "name": "stdout",
     "output_type": "stream",
     "text": [
      "Ok\n"
     ]
    }
   ],
   "source": [
    "## Check if classes are identical with labels in both splits\n",
    "if class_name_label == class_name_label_test:\n",
    "    print(\"Ok\")\n",
    "else:\n",
    "    print(\"Error - Class Mapping Are Mismatched\")"
   ]
  },
  {
   "cell_type": "markdown",
   "id": "501432e0-b414-4678-9c97-06fc5d9cac3d",
   "metadata": {},
   "source": [
    "### Logging Info about the Dataset"
   ]
  },
  {
   "cell_type": "code",
   "execution_count": 264,
   "id": "89a90a0b-b5f6-44e8-a9cc-66adbb3ae491",
   "metadata": {
    "tags": []
   },
   "outputs": [],
   "source": [
    "train_val_len = len(x_train_val)\n",
    "test_len = len(x_test)\n",
    "dataset_name = \"The OPS-SAT case dataset\"\n",
    "dataset_variation_description = \"Original Variation\"\n",
    "dataset_train_val_path = dataset_path_train_val"
   ]
  },
  {
   "cell_type": "code",
   "execution_count": 265,
   "id": "0b16a64b-ccb8-4f97-823b-443d87f3a99e",
   "metadata": {
    "tags": []
   },
   "outputs": [],
   "source": [
    "dataset_info = {\"Dataset Name\": dataset_name, \n",
    "                \"Training Validation Set Size\": train_val_len,\n",
    "                \"Test Set Size\": test_len,\n",
    "                \"Dataset Variation Description\": dataset_variation_description,\n",
    "                \"Train Val Set Path\":dataset_path_train_val,\n",
    "                \"Test Set Path\": dataset_path_test}\n",
    "# Log dictionary to wandb\n",
    "wandb.log(dataset_info)"
   ]
  },
  {
   "cell_type": "markdown",
   "id": "6ed865db",
   "metadata": {},
   "source": [
    "# 5. Model training"
   ]
  },
  {
   "cell_type": "markdown",
   "id": "55f4a84c-e53f-42e5-b7ea-12893a82a5d1",
   "metadata": {},
   "source": [
    "The network architecture used for OPS-SAT is **EfficientNetLite0**. We would like to thank Sebastian for making a Keras implementation of EfficientNetLite publicly available under the Apache 2.0 License: https://github.com/sebastian-sz/efficientnet-lite-keras. Our Version of this code has been modified to better fit our purposes. For example, we removed the ReLU \"stem_activation\" to better match a related efficientnet pytorch implementation. In any way, **you have to use the model architecture that we provide in our [starter-kit](https://gitlab.com/EuropeanSpaceAgency/the_opssat_case_starter_kit).**"
   ]
  },
  {
   "cell_type": "markdown",
   "id": "54a9bc3a-67ab-4e37-9a2f-aab98c8c5b25",
   "metadata": {},
   "source": [
    "### Load The Model With ImageNet Weights"
   ]
  },
  {
   "cell_type": "markdown",
   "id": "ba86fe85-998e-4704-bb76-18af67274166",
   "metadata": {
    "tags": []
   },
   "source": [
    "### Compile The model"
   ]
  },
  {
   "cell_type": "markdown",
   "id": "00c29753-9cbf-4149-a938-ceec8435dce0",
   "metadata": {},
   "source": [
    "### Early Stopping and Best Model Callbacks "
   ]
  },
  {
   "cell_type": "markdown",
   "id": "340a085b-c09c-4892-968a-8eeb2c556ce1",
   "metadata": {},
   "source": [
    "We provide now an example on how you can train your model by using standard supervised learning. Training loss (`SparseCategoricalCrossentropy`) and `Accuracy` are shown for simplicity and for an easier interpretation of the training outcome, despite your submission will be evaluated by using the metric **1 - Cohen's kappa** [metric](https://en.wikipedia.org/wiki/Cohen's_kappa). For more information on scoring, please refer to [Scoring](https://kelvins.esa.int/opssat/scoring/)."
   ]
  },
  {
   "cell_type": "code",
   "execution_count": 266,
   "id": "ba900174-6bb3-4c1b-9c75-07bba3dce2b1",
   "metadata": {
    "tags": []
   },
   "outputs": [],
   "source": [
    "# custom_loss = custom_loss_functions[config.loss_fun]()\n",
    "custom_loss = custom_loss_functions[config.loss_fun]"
   ]
  },
  {
   "cell_type": "code",
   "execution_count": 267,
   "id": "593c7f99-4e05-4b40-8cc7-e7c4b84e3452",
   "metadata": {},
   "outputs": [],
   "source": [
    "def model_init():\n",
    "    global model\n",
    "    global early_stopping\n",
    "    global checkpoint\n",
    "    \n",
    "    model = EfficientNetLiteB0(classes=config.num_classes, weights=config.model_weights, input_shape=config.input_shape, classifier_activation=None, include_top = False)\n",
    "    x = model.output\n",
    "    x = GlobalAveragePooling2D()(x)\n",
    "    x = Dropout(config.dropout)(x)\n",
    "    output_layer = Dense(config.num_classes, activation=config.output_layer_activation)(x)\n",
    "    model = Model(inputs=model.input, outputs=output_layer)\n",
    "    # model.summary()\n",
    "    \n",
    "    model.compile(optimizer=config.model_optimizer,\n",
    "                  # loss=\"sparse_categorical_crossentropy\",\n",
    "              # loss=tf.keras.losses.SparseCategoricalCrossentropy(from_logits=False), \n",
    "                  # loss=config.loss_fun,\n",
    "                  loss=custom_loss,\n",
    "                  # metrics=[keras.metrics.SparseCategoricalAccuracy()],\n",
    "                 metrics=config.model_metrics)\n",
    "    \n",
    "    early_stopping = EarlyStopping(monitor=config.early_stopping_monitor, patience=config.early_stopping_patience)\n",
    "    checkpoint = ModelCheckpoint('best_weights.h5', monitor=config.model_checkpoint_monitor, save_best_only=True)\n",
    "    \n",
    "# wandb_callback=wandb.keras.WandbCallback()"
   ]
  },
  {
   "cell_type": "markdown",
   "id": "8bc53411-de66-41a5-bdfe-47e6b2b94462",
   "metadata": {
    "tags": []
   },
   "source": [
    "### Without K fold Cross Validation but with TensorBoard (With Early Stopping)"
   ]
  },
  {
   "cell_type": "code",
   "execution_count": 268,
   "id": "9ae962a9",
   "metadata": {
    "ExecuteTime": {
     "end_time": "2023-04-09T20:42:49.259862Z",
     "start_time": "2023-04-09T20:42:49.257217Z"
    },
    "tags": []
   },
   "outputs": [],
   "source": [
    "# tensorboard_callback = TensorBoard(log_dir='./logs')"
   ]
  },
  {
   "cell_type": "code",
   "execution_count": 269,
   "id": "24568775",
   "metadata": {
    "ExecuteTime": {
     "end_time": "2023-04-09T20:43:38.960294Z",
     "start_time": "2023-04-09T20:42:50.924320Z"
    },
    "tags": []
   },
   "outputs": [],
   "source": [
    "# early_stopping = keras.callbacks.EarlyStopping(monitor='val_loss', patience=5)\n",
    "# history = model.fit(x_train_val, y_train_val, validation_data=(x_test, y_test), epochs= 100, verbose=1, batch_size=8, \n",
    "#                         callbacks=[early_stopping, tensorboard_callback])"
   ]
  },
  {
   "cell_type": "code",
   "execution_count": 270,
   "id": "faa7c10b",
   "metadata": {
    "ExecuteTime": {
     "end_time": "2023-04-09T20:45:36.527054Z",
     "start_time": "2023-04-09T20:44:17.923419Z"
    },
    "tags": []
   },
   "outputs": [],
   "source": [
    "# !tensorboard --logdir=./logs"
   ]
  },
  {
   "cell_type": "markdown",
   "id": "9c9899b0-587d-4c9a-b9b5-ec61295e2e48",
   "metadata": {},
   "source": [
    "### With K fold Cross Validation but without TensorBoard (With Early Stopping)"
   ]
  },
  {
   "cell_type": "code",
   "execution_count": 271,
   "id": "12efbbf9",
   "metadata": {
    "ExecuteTime": {
     "end_time": "2023-04-09T20:42:47.226837Z",
     "start_time": "2023-04-09T20:42:47.224186Z"
    },
    "tags": []
   },
   "outputs": [],
   "source": [
    "kf = KFold(n_splits=config.cross_validation_k, shuffle=True)"
   ]
  },
  {
   "cell_type": "code",
   "execution_count": 272,
   "id": "9a930432",
   "metadata": {
    "ExecuteTime": {
     "end_time": "2023-04-09T20:43:57.248568Z",
     "start_time": "2023-04-09T20:43:57.245137Z"
    },
    "tags": []
   },
   "outputs": [
    {
     "name": "stdout",
     "output_type": "stream",
     "text": [
      "block1a_ same\n",
      "block2a_ ((1, 1), (1, 1))\n",
      "block2a_ valid\n",
      "block2b_ same\n",
      "block3a_ ((2, 2), (2, 2))\n",
      "block3a_ valid\n",
      "block3b_ same\n",
      "block4a_ ((1, 1), (1, 1))\n",
      "block4a_ valid\n",
      "block4b_ same\n",
      "block4c_ same\n",
      "block5a_ same\n",
      "block5b_ same\n",
      "block5c_ same\n",
      "block6a_ ((2, 2), (2, 2))\n",
      "block6a_ valid\n",
      "block6b_ same\n",
      "block6c_ same\n",
      "block6d_ same\n",
      "block7a_ same\n",
      "Epoch 1/200\n",
      "8/8 [==============================] - ETA: 0s - loss: 0.2947 - sparse_categorical_accuracy: 0.0312   "
     ]
    },
    {
     "name": "stderr",
     "output_type": "stream",
     "text": [
      "/home/ramez/miniconda3/envs/thesis/lib/python3.9/site-packages/keras/engine/functional.py:1410: CustomMaskWarning: Custom mask layers require a config and must override get_config. When loading, the custom mask layer must be passed to the custom_objects argument.\n",
      "  layer_config = serialize_layer_fn(layer)\n"
     ]
    },
    {
     "name": "stdout",
     "output_type": "stream",
     "text": [
      "8/8 [==============================] - 5s 204ms/step - loss: 0.2947 - sparse_categorical_accuracy: 0.0312 - val_loss: 0.2917 - val_sparse_categorical_accuracy: 0.3750\n",
      "Epoch 2/200\n",
      "8/8 [==============================] - 1s 74ms/step - loss: 0.2029 - sparse_categorical_accuracy: 0.5000 - val_loss: 0.3522 - val_sparse_categorical_accuracy: 0.2500\n",
      "Epoch 3/200\n",
      "8/8 [==============================] - 1s 68ms/step - loss: 0.1485 - sparse_categorical_accuracy: 0.6250 - val_loss: 0.5844 - val_sparse_categorical_accuracy: 0.1250\n",
      "Epoch 4/200\n",
      "8/8 [==============================] - 1s 69ms/step - loss: 0.1239 - sparse_categorical_accuracy: 0.7188 - val_loss: 0.5039 - val_sparse_categorical_accuracy: 0.1250\n",
      "Epoch 5/200\n",
      "8/8 [==============================] - 1s 71ms/step - loss: 0.1446 - sparse_categorical_accuracy: 0.5312 - val_loss: 0.5871 - val_sparse_categorical_accuracy: 0.3750\n",
      "Epoch 6/200\n",
      "8/8 [==============================] - 1s 74ms/step - loss: 0.0938 - sparse_categorical_accuracy: 0.7812 - val_loss: 0.7728 - val_sparse_categorical_accuracy: 0.2500\n",
      "Epoch 7/200\n",
      "8/8 [==============================] - 1s 74ms/step - loss: 0.1030 - sparse_categorical_accuracy: 0.7812 - val_loss: 0.5626 - val_sparse_categorical_accuracy: 0.2500\n",
      "Epoch 8/200\n",
      "8/8 [==============================] - 1s 76ms/step - loss: 0.0728 - sparse_categorical_accuracy: 0.8750 - val_loss: 0.4395 - val_sparse_categorical_accuracy: 0.2500\n",
      "Epoch 9/200\n",
      "8/8 [==============================] - 1s 74ms/step - loss: 0.0613 - sparse_categorical_accuracy: 0.8750 - val_loss: 0.3609 - val_sparse_categorical_accuracy: 0.2500\n",
      "Epoch 10/200\n",
      "8/8 [==============================] - 1s 124ms/step - loss: 0.0642 - sparse_categorical_accuracy: 0.8438 - val_loss: 0.1847 - val_sparse_categorical_accuracy: 0.5000\n",
      "Epoch 11/200\n",
      "8/8 [==============================] - 1s 75ms/step - loss: 0.0535 - sparse_categorical_accuracy: 0.8438 - val_loss: 0.2055 - val_sparse_categorical_accuracy: 0.3750\n",
      "Epoch 12/200\n",
      "8/8 [==============================] - 1s 69ms/step - loss: 0.0809 - sparse_categorical_accuracy: 0.8125 - val_loss: 0.4327 - val_sparse_categorical_accuracy: 0.1250\n",
      "Epoch 13/200\n",
      "8/8 [==============================] - 1s 69ms/step - loss: 0.0366 - sparse_categorical_accuracy: 0.8750 - val_loss: 0.3628 - val_sparse_categorical_accuracy: 0.3750\n",
      "Epoch 14/200\n",
      "8/8 [==============================] - 1s 68ms/step - loss: 0.0484 - sparse_categorical_accuracy: 0.8438 - val_loss: 0.3322 - val_sparse_categorical_accuracy: 0.3750\n",
      "Epoch 15/200\n",
      "8/8 [==============================] - 1s 69ms/step - loss: 0.0379 - sparse_categorical_accuracy: 0.9375 - val_loss: 0.3646 - val_sparse_categorical_accuracy: 0.3750\n",
      "Epoch 16/200\n",
      "8/8 [==============================] - 1s 71ms/step - loss: 0.0316 - sparse_categorical_accuracy: 0.9375 - val_loss: 0.3245 - val_sparse_categorical_accuracy: 0.3750\n",
      "Epoch 17/200\n",
      "8/8 [==============================] - 1s 73ms/step - loss: 0.0460 - sparse_categorical_accuracy: 0.8438 - val_loss: 0.3157 - val_sparse_categorical_accuracy: 0.5000\n",
      "Epoch 18/200\n",
      "8/8 [==============================] - 1s 75ms/step - loss: 0.0259 - sparse_categorical_accuracy: 0.9688 - val_loss: 0.3059 - val_sparse_categorical_accuracy: 0.3750\n",
      "Epoch 19/200\n",
      "8/8 [==============================] - 1s 74ms/step - loss: 0.0139 - sparse_categorical_accuracy: 1.0000 - val_loss: 0.3165 - val_sparse_categorical_accuracy: 0.3750\n",
      "Epoch 20/200\n",
      "8/8 [==============================] - 1s 74ms/step - loss: 0.0177 - sparse_categorical_accuracy: 0.9688 - val_loss: 0.3172 - val_sparse_categorical_accuracy: 0.3750\n",
      "Epoch 21/200\n",
      "8/8 [==============================] - 1s 73ms/step - loss: 0.0103 - sparse_categorical_accuracy: 0.9688 - val_loss: 0.3231 - val_sparse_categorical_accuracy: 0.5000\n",
      "Epoch 22/200\n",
      "8/8 [==============================] - 1s 74ms/step - loss: 0.0215 - sparse_categorical_accuracy: 0.9688 - val_loss: 0.3665 - val_sparse_categorical_accuracy: 0.5000\n",
      "Epoch 23/200\n",
      "8/8 [==============================] - 1s 68ms/step - loss: 0.0245 - sparse_categorical_accuracy: 0.9375 - val_loss: 0.6483 - val_sparse_categorical_accuracy: 0.2500\n",
      "Epoch 24/200\n",
      "8/8 [==============================] - 1s 68ms/step - loss: 0.0338 - sparse_categorical_accuracy: 0.9375 - val_loss: 0.5264 - val_sparse_categorical_accuracy: 0.2500\n",
      "Epoch 25/200\n",
      "8/8 [==============================] - 1s 70ms/step - loss: 0.0339 - sparse_categorical_accuracy: 0.9688 - val_loss: 0.2609 - val_sparse_categorical_accuracy: 0.3750\n",
      "Epoch 26/200\n",
      "8/8 [==============================] - 1s 68ms/step - loss: 0.0402 - sparse_categorical_accuracy: 0.9375 - val_loss: 0.2700 - val_sparse_categorical_accuracy: 0.3750\n",
      "Epoch 27/200\n",
      "8/8 [==============================] - 1s 70ms/step - loss: 0.0585 - sparse_categorical_accuracy: 0.8750 - val_loss: 0.4723 - val_sparse_categorical_accuracy: 0.2500\n",
      "Epoch 28/200\n",
      "8/8 [==============================] - 1s 74ms/step - loss: 0.0550 - sparse_categorical_accuracy: 0.9062 - val_loss: 0.7211 - val_sparse_categorical_accuracy: 0.2500\n",
      "Epoch 29/200\n",
      "8/8 [==============================] - 1s 137ms/step - loss: 0.0663 - sparse_categorical_accuracy: 0.8438 - val_loss: 0.4786 - val_sparse_categorical_accuracy: 0.6250\n",
      "Epoch 30/200\n",
      "8/8 [==============================] - 1s 73ms/step - loss: 0.0528 - sparse_categorical_accuracy: 0.9062 - val_loss: 0.7111 - val_sparse_categorical_accuracy: 0.3750\n",
      "Epoch 31/200\n",
      "8/8 [==============================] - 1s 73ms/step - loss: 0.0275 - sparse_categorical_accuracy: 0.9375 - val_loss: 0.9444 - val_sparse_categorical_accuracy: 0.5000\n",
      "Epoch 32/200\n",
      "8/8 [==============================] - 1s 73ms/step - loss: 0.0468 - sparse_categorical_accuracy: 0.8750 - val_loss: 0.6028 - val_sparse_categorical_accuracy: 0.5000\n",
      "Epoch 33/200\n",
      "8/8 [==============================] - 1s 73ms/step - loss: 0.0368 - sparse_categorical_accuracy: 0.9062 - val_loss: 0.4206 - val_sparse_categorical_accuracy: 0.5000\n",
      "Epoch 34/200\n",
      "8/8 [==============================] - 1s 67ms/step - loss: 0.0473 - sparse_categorical_accuracy: 0.8750 - val_loss: 0.4677 - val_sparse_categorical_accuracy: 0.3750\n",
      "Epoch 35/200\n",
      "8/8 [==============================] - 1s 67ms/step - loss: 0.0444 - sparse_categorical_accuracy: 0.9375 - val_loss: 0.5069 - val_sparse_categorical_accuracy: 0.2500\n",
      "Epoch 36/200\n",
      "8/8 [==============================] - 1s 68ms/step - loss: 0.0534 - sparse_categorical_accuracy: 0.9062 - val_loss: 0.6067 - val_sparse_categorical_accuracy: 0.3750\n",
      "Epoch 37/200\n",
      "8/8 [==============================] - 1s 68ms/step - loss: 0.0296 - sparse_categorical_accuracy: 0.9375 - val_loss: 0.5030 - val_sparse_categorical_accuracy: 0.6250\n",
      "Epoch 38/200\n",
      "8/8 [==============================] - 1s 72ms/step - loss: 0.0214 - sparse_categorical_accuracy: 0.9688 - val_loss: 0.3685 - val_sparse_categorical_accuracy: 0.5000\n",
      "Epoch 39/200\n",
      "8/8 [==============================] - 1s 73ms/step - loss: 0.0458 - sparse_categorical_accuracy: 0.8750 - val_loss: 0.5155 - val_sparse_categorical_accuracy: 0.2500\n",
      "Epoch 40/200\n",
      "8/8 [==============================] - 1s 73ms/step - loss: 0.0299 - sparse_categorical_accuracy: 0.9375 - val_loss: 0.7993 - val_sparse_categorical_accuracy: 0.0000e+00\n",
      "Epoch 41/200\n",
      "8/8 [==============================] - 1s 73ms/step - loss: 0.0401 - sparse_categorical_accuracy: 0.9375 - val_loss: 0.5907 - val_sparse_categorical_accuracy: 0.0000e+00\n",
      "Epoch 42/200\n",
      "8/8 [==============================] - 1s 73ms/step - loss: 0.0610 - sparse_categorical_accuracy: 0.8438 - val_loss: 0.3273 - val_sparse_categorical_accuracy: 0.5000\n",
      "Epoch 43/200\n",
      "8/8 [==============================] - 1s 74ms/step - loss: 0.0263 - sparse_categorical_accuracy: 0.9688 - val_loss: 0.2101 - val_sparse_categorical_accuracy: 0.6250\n",
      "Epoch 44/200\n",
      "8/8 [==============================] - 1s 73ms/step - loss: 0.0278 - sparse_categorical_accuracy: 0.9062 - val_loss: 0.2952 - val_sparse_categorical_accuracy: 0.3750\n",
      "Epoch 45/200\n",
      "8/8 [==============================] - 1s 74ms/step - loss: 0.0191 - sparse_categorical_accuracy: 0.9688 - val_loss: 0.3567 - val_sparse_categorical_accuracy: 0.5000\n",
      "Epoch 46/200\n",
      "8/8 [==============================] - 1s 74ms/step - loss: 0.0231 - sparse_categorical_accuracy: 0.9375 - val_loss: 0.2857 - val_sparse_categorical_accuracy: 0.5000\n",
      "Epoch 47/200\n",
      "8/8 [==============================] - 1s 73ms/step - loss: 0.0144 - sparse_categorical_accuracy: 1.0000 - val_loss: 0.3870 - val_sparse_categorical_accuracy: 0.6250\n",
      "Epoch 48/200\n",
      "8/8 [==============================] - 1s 68ms/step - loss: 0.0744 - sparse_categorical_accuracy: 0.8750 - val_loss: 0.4305 - val_sparse_categorical_accuracy: 0.6250\n",
      "Epoch 49/200\n",
      "8/8 [==============================] - 1s 70ms/step - loss: 0.0567 - sparse_categorical_accuracy: 0.8438 - val_loss: 0.7143 - val_sparse_categorical_accuracy: 0.3750\n",
      "Epoch 50/200\n",
      "8/8 [==============================] - 1s 71ms/step - loss: 0.0521 - sparse_categorical_accuracy: 0.8750 - val_loss: 0.7833 - val_sparse_categorical_accuracy: 0.3750\n",
      "Epoch 51/200\n",
      "8/8 [==============================] - 1s 67ms/step - loss: 0.0255 - sparse_categorical_accuracy: 0.9688 - val_loss: 0.7248 - val_sparse_categorical_accuracy: 0.2500\n",
      "Epoch 52/200\n",
      "8/8 [==============================] - 1s 69ms/step - loss: 0.0503 - sparse_categorical_accuracy: 0.8750 - val_loss: 0.7106 - val_sparse_categorical_accuracy: 0.1250\n",
      "Epoch 53/200\n",
      "8/8 [==============================] - 1s 74ms/step - loss: 0.0514 - sparse_categorical_accuracy: 0.8750 - val_loss: 0.7296 - val_sparse_categorical_accuracy: 0.2500\n",
      "Epoch 54/200\n",
      "8/8 [==============================] - 1s 73ms/step - loss: 0.0162 - sparse_categorical_accuracy: 0.9688 - val_loss: 0.6192 - val_sparse_categorical_accuracy: 0.2500\n",
      "Epoch 55/200\n",
      "8/8 [==============================] - 1s 73ms/step - loss: 0.0163 - sparse_categorical_accuracy: 0.9688 - val_loss: 0.6322 - val_sparse_categorical_accuracy: 0.2500\n",
      "Epoch 56/200\n",
      "8/8 [==============================] - 1s 74ms/step - loss: 0.0108 - sparse_categorical_accuracy: 0.9688 - val_loss: 0.4630 - val_sparse_categorical_accuracy: 0.3750\n",
      "Epoch 57/200\n",
      "8/8 [==============================] - 1s 72ms/step - loss: 0.0281 - sparse_categorical_accuracy: 0.9375 - val_loss: 0.3977 - val_sparse_categorical_accuracy: 0.5000\n",
      "Epoch 58/200\n",
      "8/8 [==============================] - 1s 68ms/step - loss: 0.0046 - sparse_categorical_accuracy: 1.0000 - val_loss: 0.3433 - val_sparse_categorical_accuracy: 0.5000\n",
      "Epoch 59/200\n",
      "8/8 [==============================] - 1s 68ms/step - loss: 0.0056 - sparse_categorical_accuracy: 1.0000 - val_loss: 0.3538 - val_sparse_categorical_accuracy: 0.5000\n",
      "Epoch 60/200\n",
      "8/8 [==============================] - 1s 67ms/step - loss: 0.0127 - sparse_categorical_accuracy: 0.9688 - val_loss: 0.3461 - val_sparse_categorical_accuracy: 0.5000\n",
      "Epoch 61/200\n",
      "8/8 [==============================] - 1s 69ms/step - loss: 0.0457 - sparse_categorical_accuracy: 0.9375 - val_loss: 0.4153 - val_sparse_categorical_accuracy: 0.3750\n",
      "Epoch 62/200\n",
      "8/8 [==============================] - 1s 72ms/step - loss: 0.0383 - sparse_categorical_accuracy: 0.8750 - val_loss: 0.3506 - val_sparse_categorical_accuracy: 0.3750\n",
      "Epoch 63/200\n",
      "8/8 [==============================] - 1s 74ms/step - loss: 0.0142 - sparse_categorical_accuracy: 0.9375 - val_loss: 0.3082 - val_sparse_categorical_accuracy: 0.5000\n",
      "Epoch 64/200\n",
      "8/8 [==============================] - 1s 74ms/step - loss: 0.0186 - sparse_categorical_accuracy: 0.9688 - val_loss: 0.2929 - val_sparse_categorical_accuracy: 0.5000\n",
      "Epoch 65/200\n",
      "8/8 [==============================] - 1s 73ms/step - loss: 0.0146 - sparse_categorical_accuracy: 0.9688 - val_loss: 0.3097 - val_sparse_categorical_accuracy: 0.5000\n",
      "Epoch 66/200\n",
      "8/8 [==============================] - 1s 73ms/step - loss: 0.0038 - sparse_categorical_accuracy: 1.0000 - val_loss: 0.3125 - val_sparse_categorical_accuracy: 0.5000\n",
      "Epoch 67/200\n",
      "8/8 [==============================] - 1s 74ms/step - loss: 0.0052 - sparse_categorical_accuracy: 1.0000 - val_loss: 0.2921 - val_sparse_categorical_accuracy: 0.5000\n",
      "Epoch 68/200\n",
      "8/8 [==============================] - 1s 75ms/step - loss: 0.0033 - sparse_categorical_accuracy: 1.0000 - val_loss: 0.2630 - val_sparse_categorical_accuracy: 0.5000\n",
      "Epoch 69/200\n",
      "8/8 [==============================] - 1s 74ms/step - loss: 0.0057 - sparse_categorical_accuracy: 1.0000 - val_loss: 0.2409 - val_sparse_categorical_accuracy: 0.6250\n",
      "1/1 [==============================] - 1s 643ms/step - loss: 0.4540 - sparse_categorical_accuracy: 0.6250\n",
      "block1a_ same\n",
      "block2a_ ((1, 1), (1, 1))\n",
      "block2a_ valid\n",
      "block2b_ same\n",
      "block3a_ ((2, 2), (2, 2))\n",
      "block3a_ valid\n",
      "block3b_ same\n",
      "block4a_ ((1, 1), (1, 1))\n",
      "block4a_ valid\n",
      "block4b_ same\n",
      "block4c_ same\n",
      "block5a_ same\n",
      "block5b_ same\n",
      "block5c_ same\n",
      "block6a_ ((2, 2), (2, 2))\n",
      "block6a_ valid\n",
      "block6b_ same\n",
      "block6c_ same\n",
      "block6d_ same\n",
      "block7a_ same\n",
      "Epoch 1/200\n",
      "8/8 [==============================] - 5s 207ms/step - loss: 0.2974 - sparse_categorical_accuracy: 0.1250 - val_loss: 0.3903 - val_sparse_categorical_accuracy: 0.1250\n",
      "Epoch 2/200\n",
      "8/8 [==============================] - 1s 67ms/step - loss: 0.1928 - sparse_categorical_accuracy: 0.4062 - val_loss: 0.5307 - val_sparse_categorical_accuracy: 0.1250\n",
      "Epoch 3/200\n",
      "8/8 [==============================] - 1s 66ms/step - loss: 0.1776 - sparse_categorical_accuracy: 0.5000 - val_loss: 0.6073 - val_sparse_categorical_accuracy: 0.0000e+00\n",
      "Epoch 4/200\n",
      "8/8 [==============================] - 1s 68ms/step - loss: 0.1272 - sparse_categorical_accuracy: 0.6562 - val_loss: 0.6919 - val_sparse_categorical_accuracy: 0.1250\n",
      "Epoch 5/200\n",
      "8/8 [==============================] - 1s 72ms/step - loss: 0.1207 - sparse_categorical_accuracy: 0.7500 - val_loss: 0.9147 - val_sparse_categorical_accuracy: 0.1250\n",
      "Epoch 6/200\n",
      "8/8 [==============================] - 1s 73ms/step - loss: 0.0843 - sparse_categorical_accuracy: 0.7812 - val_loss: 0.9198 - val_sparse_categorical_accuracy: 0.1250\n",
      "Epoch 7/200\n",
      "8/8 [==============================] - 1s 73ms/step - loss: 0.1083 - sparse_categorical_accuracy: 0.6562 - val_loss: 0.9757 - val_sparse_categorical_accuracy: 0.1250\n",
      "Epoch 8/200\n",
      "8/8 [==============================] - 1s 74ms/step - loss: 0.1008 - sparse_categorical_accuracy: 0.6875 - val_loss: 1.4372 - val_sparse_categorical_accuracy: 0.0000e+00\n",
      "Epoch 9/200\n",
      "8/8 [==============================] - 1s 68ms/step - loss: 0.0664 - sparse_categorical_accuracy: 0.8125 - val_loss: 1.5998 - val_sparse_categorical_accuracy: 0.0000e+00\n",
      "Epoch 10/200\n",
      "8/8 [==============================] - 1s 66ms/step - loss: 0.0551 - sparse_categorical_accuracy: 0.8750 - val_loss: 1.6881 - val_sparse_categorical_accuracy: 0.0000e+00\n",
      "Epoch 11/200\n",
      "8/8 [==============================] - 1s 67ms/step - loss: 0.0671 - sparse_categorical_accuracy: 0.9688 - val_loss: 1.4644 - val_sparse_categorical_accuracy: 0.0000e+00\n",
      "Epoch 12/200\n",
      "8/8 [==============================] - 1s 66ms/step - loss: 0.0359 - sparse_categorical_accuracy: 0.9688 - val_loss: 0.9004 - val_sparse_categorical_accuracy: 0.1250\n",
      "Epoch 13/200\n",
      "8/8 [==============================] - 1s 68ms/step - loss: 0.0198 - sparse_categorical_accuracy: 0.9688 - val_loss: 0.9265 - val_sparse_categorical_accuracy: 0.1250\n",
      "Epoch 14/200\n",
      "8/8 [==============================] - 1s 72ms/step - loss: 0.0401 - sparse_categorical_accuracy: 0.9062 - val_loss: 1.1321 - val_sparse_categorical_accuracy: 0.1250\n",
      "Epoch 15/200\n",
      "8/8 [==============================] - 1s 74ms/step - loss: 0.0376 - sparse_categorical_accuracy: 0.9375 - val_loss: 1.2059 - val_sparse_categorical_accuracy: 0.0000e+00\n",
      "Epoch 16/200\n",
      "8/8 [==============================] - 1s 74ms/step - loss: 0.0621 - sparse_categorical_accuracy: 0.8438 - val_loss: 1.1225 - val_sparse_categorical_accuracy: 0.1250\n",
      "Epoch 17/200\n",
      "8/8 [==============================] - 1s 73ms/step - loss: 0.0435 - sparse_categorical_accuracy: 0.9062 - val_loss: 1.1929 - val_sparse_categorical_accuracy: 0.0000e+00\n",
      "Epoch 18/200\n",
      "8/8 [==============================] - 1s 68ms/step - loss: 0.0807 - sparse_categorical_accuracy: 0.8125 - val_loss: 1.3653 - val_sparse_categorical_accuracy: 0.0000e+00\n",
      "Epoch 19/200\n",
      "8/8 [==============================] - 1s 67ms/step - loss: 0.0550 - sparse_categorical_accuracy: 0.8125 - val_loss: 0.8541 - val_sparse_categorical_accuracy: 0.1250\n",
      "Epoch 20/200\n",
      "8/8 [==============================] - 1s 67ms/step - loss: 0.0841 - sparse_categorical_accuracy: 0.8125 - val_loss: 0.7406 - val_sparse_categorical_accuracy: 0.1250\n",
      "Epoch 21/200\n",
      "8/8 [==============================] - 1s 67ms/step - loss: 0.0613 - sparse_categorical_accuracy: 0.8438 - val_loss: 0.9233 - val_sparse_categorical_accuracy: 0.1250\n",
      "Epoch 22/200\n",
      "8/8 [==============================] - 1s 121ms/step - loss: 0.0376 - sparse_categorical_accuracy: 0.9375 - val_loss: 0.7921 - val_sparse_categorical_accuracy: 0.2500\n",
      "Epoch 23/200\n",
      "8/8 [==============================] - 1s 73ms/step - loss: 0.0336 - sparse_categorical_accuracy: 0.9688 - val_loss: 0.6933 - val_sparse_categorical_accuracy: 0.1250\n",
      "Epoch 24/200\n",
      "8/8 [==============================] - 1s 75ms/step - loss: 0.0541 - sparse_categorical_accuracy: 0.9062 - val_loss: 1.0806 - val_sparse_categorical_accuracy: 0.0000e+00\n",
      "Epoch 25/200\n",
      "8/8 [==============================] - 1s 73ms/step - loss: 0.0623 - sparse_categorical_accuracy: 0.9062 - val_loss: 1.4803 - val_sparse_categorical_accuracy: 0.0000e+00\n",
      "Epoch 26/200\n",
      "8/8 [==============================] - 1s 70ms/step - loss: 0.0612 - sparse_categorical_accuracy: 0.8750 - val_loss: 1.3398 - val_sparse_categorical_accuracy: 0.0000e+00\n",
      "Epoch 27/200\n",
      "8/8 [==============================] - 1s 70ms/step - loss: 0.0333 - sparse_categorical_accuracy: 0.9375 - val_loss: 0.8092 - val_sparse_categorical_accuracy: 0.0000e+00\n",
      "Epoch 28/200\n",
      "8/8 [==============================] - 1s 68ms/step - loss: 0.0325 - sparse_categorical_accuracy: 0.8750 - val_loss: 0.7242 - val_sparse_categorical_accuracy: 0.1250\n",
      "Epoch 29/200\n",
      "8/8 [==============================] - 1s 67ms/step - loss: 0.0647 - sparse_categorical_accuracy: 0.7812 - val_loss: 0.8838 - val_sparse_categorical_accuracy: 0.1250\n",
      "Epoch 30/200\n",
      "8/8 [==============================] - 1s 142ms/step - loss: 0.0373 - sparse_categorical_accuracy: 0.8438 - val_loss: 0.8157 - val_sparse_categorical_accuracy: 0.3750\n",
      "Epoch 31/200\n",
      "8/8 [==============================] - 1s 137ms/step - loss: 0.0343 - sparse_categorical_accuracy: 0.9062 - val_loss: 0.6233 - val_sparse_categorical_accuracy: 0.5000\n",
      "Epoch 32/200\n",
      "8/8 [==============================] - 1s 72ms/step - loss: 0.0234 - sparse_categorical_accuracy: 0.9688 - val_loss: 0.6017 - val_sparse_categorical_accuracy: 0.3750\n",
      "Epoch 33/200\n",
      "8/8 [==============================] - 1s 74ms/step - loss: 0.0541 - sparse_categorical_accuracy: 0.8438 - val_loss: 0.5076 - val_sparse_categorical_accuracy: 0.2500\n",
      "Epoch 34/200\n",
      "8/8 [==============================] - 1s 67ms/step - loss: 0.0411 - sparse_categorical_accuracy: 0.8750 - val_loss: 0.6426 - val_sparse_categorical_accuracy: 0.1250\n",
      "Epoch 35/200\n",
      "8/8 [==============================] - 1s 68ms/step - loss: 0.0173 - sparse_categorical_accuracy: 0.9375 - val_loss: 0.7196 - val_sparse_categorical_accuracy: 0.1250\n",
      "Epoch 36/200\n",
      "8/8 [==============================] - 1s 71ms/step - loss: 0.0377 - sparse_categorical_accuracy: 0.9375 - val_loss: 0.7256 - val_sparse_categorical_accuracy: 0.1250\n",
      "Epoch 37/200\n",
      "8/8 [==============================] - 1s 72ms/step - loss: 0.0409 - sparse_categorical_accuracy: 0.9688 - val_loss: 0.5531 - val_sparse_categorical_accuracy: 0.1250\n",
      "Epoch 38/200\n",
      "8/8 [==============================] - 1s 71ms/step - loss: 0.0264 - sparse_categorical_accuracy: 0.9375 - val_loss: 0.6683 - val_sparse_categorical_accuracy: 0.1250\n",
      "Epoch 39/200\n",
      "8/8 [==============================] - 1s 74ms/step - loss: 0.0500 - sparse_categorical_accuracy: 0.8125 - val_loss: 0.4328 - val_sparse_categorical_accuracy: 0.2500\n",
      "Epoch 40/200\n",
      "8/8 [==============================] - 1s 73ms/step - loss: 0.0440 - sparse_categorical_accuracy: 0.9062 - val_loss: 0.4241 - val_sparse_categorical_accuracy: 0.2500\n",
      "Epoch 41/200\n",
      "8/8 [==============================] - 1s 73ms/step - loss: 0.0398 - sparse_categorical_accuracy: 0.9375 - val_loss: 0.5107 - val_sparse_categorical_accuracy: 0.2500\n",
      "Epoch 42/200\n",
      "8/8 [==============================] - 1s 74ms/step - loss: 0.0190 - sparse_categorical_accuracy: 0.9688 - val_loss: 0.7280 - val_sparse_categorical_accuracy: 0.1250\n",
      "Epoch 43/200\n",
      "8/8 [==============================] - 1s 73ms/step - loss: 0.0362 - sparse_categorical_accuracy: 0.9375 - val_loss: 0.7458 - val_sparse_categorical_accuracy: 0.2500\n",
      "Epoch 44/200\n",
      "8/8 [==============================] - 1s 77ms/step - loss: 0.0375 - sparse_categorical_accuracy: 0.9062 - val_loss: 0.6371 - val_sparse_categorical_accuracy: 0.3750\n",
      "Epoch 45/200\n",
      "8/8 [==============================] - 1s 74ms/step - loss: 0.0266 - sparse_categorical_accuracy: 0.9375 - val_loss: 0.5784 - val_sparse_categorical_accuracy: 0.3750\n",
      "Epoch 46/200\n",
      "8/8 [==============================] - 1s 74ms/step - loss: 0.0340 - sparse_categorical_accuracy: 0.8438 - val_loss: 0.4878 - val_sparse_categorical_accuracy: 0.3750\n",
      "Epoch 47/200\n",
      "8/8 [==============================] - 1s 73ms/step - loss: 0.0202 - sparse_categorical_accuracy: 0.9688 - val_loss: 0.5502 - val_sparse_categorical_accuracy: 0.2500\n",
      "Epoch 48/200\n",
      "8/8 [==============================] - 1s 74ms/step - loss: 0.0155 - sparse_categorical_accuracy: 1.0000 - val_loss: 0.6586 - val_sparse_categorical_accuracy: 0.1250\n",
      "Epoch 49/200\n",
      "8/8 [==============================] - 1s 74ms/step - loss: 0.0085 - sparse_categorical_accuracy: 1.0000 - val_loss: 0.5996 - val_sparse_categorical_accuracy: 0.1250\n",
      "Epoch 50/200\n",
      "8/8 [==============================] - 1s 73ms/step - loss: 0.0072 - sparse_categorical_accuracy: 1.0000 - val_loss: 0.5438 - val_sparse_categorical_accuracy: 0.3750\n",
      "Epoch 51/200\n",
      "8/8 [==============================] - 1s 71ms/step - loss: 0.0034 - sparse_categorical_accuracy: 1.0000 - val_loss: 0.4914 - val_sparse_categorical_accuracy: 0.2500\n",
      "Epoch 52/200\n",
      "8/8 [==============================] - 1s 72ms/step - loss: 0.0103 - sparse_categorical_accuracy: 0.9688 - val_loss: 0.5535 - val_sparse_categorical_accuracy: 0.1250\n",
      "Epoch 53/200\n",
      "8/8 [==============================] - 1s 72ms/step - loss: 0.0026 - sparse_categorical_accuracy: 1.0000 - val_loss: 0.6166 - val_sparse_categorical_accuracy: 0.1250\n",
      "Epoch 54/200\n",
      "8/8 [==============================] - 1s 73ms/step - loss: 0.0044 - sparse_categorical_accuracy: 1.0000 - val_loss: 0.6014 - val_sparse_categorical_accuracy: 0.1250\n",
      "Epoch 55/200\n",
      "8/8 [==============================] - 1s 75ms/step - loss: 0.0156 - sparse_categorical_accuracy: 0.9688 - val_loss: 0.4494 - val_sparse_categorical_accuracy: 0.1250\n",
      "Epoch 56/200\n",
      "8/8 [==============================] - 1s 75ms/step - loss: 0.0011 - sparse_categorical_accuracy: 1.0000 - val_loss: 0.3992 - val_sparse_categorical_accuracy: 0.2500\n",
      "Epoch 57/200\n",
      "8/8 [==============================] - 1s 73ms/step - loss: 0.0135 - sparse_categorical_accuracy: 0.9375 - val_loss: 0.3475 - val_sparse_categorical_accuracy: 0.3750\n",
      "Epoch 58/200\n",
      "8/8 [==============================] - 1s 73ms/step - loss: 0.0062 - sparse_categorical_accuracy: 1.0000 - val_loss: 0.2962 - val_sparse_categorical_accuracy: 0.3750\n",
      "Epoch 59/200\n",
      "8/8 [==============================] - 1s 74ms/step - loss: 0.0047 - sparse_categorical_accuracy: 1.0000 - val_loss: 0.2613 - val_sparse_categorical_accuracy: 0.3750\n",
      "Epoch 60/200\n",
      "8/8 [==============================] - 1s 74ms/step - loss: 0.0054 - sparse_categorical_accuracy: 1.0000 - val_loss: 0.2641 - val_sparse_categorical_accuracy: 0.2500\n",
      "Epoch 61/200\n",
      "8/8 [==============================] - 1s 74ms/step - loss: 0.0019 - sparse_categorical_accuracy: 1.0000 - val_loss: 0.2747 - val_sparse_categorical_accuracy: 0.2500\n",
      "Epoch 62/200\n",
      "8/8 [==============================] - 1s 68ms/step - loss: 0.0040 - sparse_categorical_accuracy: 1.0000 - val_loss: 0.2894 - val_sparse_categorical_accuracy: 0.2500\n",
      "Epoch 63/200\n",
      "8/8 [==============================] - 1s 69ms/step - loss: 0.0015 - sparse_categorical_accuracy: 1.0000 - val_loss: 0.2830 - val_sparse_categorical_accuracy: 0.2500\n",
      "Epoch 64/200\n",
      "8/8 [==============================] - 1s 69ms/step - loss: 9.6793e-04 - sparse_categorical_accuracy: 1.0000 - val_loss: 0.2811 - val_sparse_categorical_accuracy: 0.5000\n",
      "Epoch 65/200\n",
      "8/8 [==============================] - 1s 69ms/step - loss: 0.0028 - sparse_categorical_accuracy: 1.0000 - val_loss: 0.3150 - val_sparse_categorical_accuracy: 0.3750\n",
      "Epoch 66/200\n",
      "8/8 [==============================] - 1s 73ms/step - loss: 7.5425e-04 - sparse_categorical_accuracy: 1.0000 - val_loss: 0.3353 - val_sparse_categorical_accuracy: 0.3750\n",
      "Epoch 67/200\n",
      "8/8 [==============================] - 1s 73ms/step - loss: 0.0079 - sparse_categorical_accuracy: 0.9688 - val_loss: 0.3971 - val_sparse_categorical_accuracy: 0.3750\n",
      "Epoch 68/200\n",
      "8/8 [==============================] - 1s 76ms/step - loss: 0.0017 - sparse_categorical_accuracy: 1.0000 - val_loss: 0.4111 - val_sparse_categorical_accuracy: 0.3750\n",
      "Epoch 69/200\n",
      "8/8 [==============================] - 1s 73ms/step - loss: 0.0064 - sparse_categorical_accuracy: 1.0000 - val_loss: 0.3873 - val_sparse_categorical_accuracy: 0.2500\n",
      "Epoch 70/200\n",
      "8/8 [==============================] - 1s 74ms/step - loss: 0.0036 - sparse_categorical_accuracy: 1.0000 - val_loss: 0.4047 - val_sparse_categorical_accuracy: 0.1250\n",
      "Epoch 71/200\n",
      "8/8 [==============================] - 1s 71ms/step - loss: 0.0044 - sparse_categorical_accuracy: 1.0000 - val_loss: 0.3460 - val_sparse_categorical_accuracy: 0.2500\n",
      "1/1 [==============================] - 1s 581ms/step - loss: 0.7118 - sparse_categorical_accuracy: 0.5000\n",
      "block1a_ same\n",
      "block2a_ ((1, 1), (1, 1))\n",
      "block2a_ valid\n",
      "block2b_ same\n",
      "block3a_ ((2, 2), (2, 2))\n",
      "block3a_ valid\n",
      "block3b_ same\n",
      "block4a_ ((1, 1), (1, 1))\n",
      "block4a_ valid\n",
      "block4b_ same\n",
      "block4c_ same\n",
      "block5a_ same\n",
      "block5b_ same\n",
      "block5c_ same\n",
      "block6a_ ((2, 2), (2, 2))\n",
      "block6a_ valid\n",
      "block6b_ same\n",
      "block6c_ same\n",
      "block6d_ same\n",
      "block7a_ same\n",
      "Epoch 1/200\n",
      "8/8 [==============================] - 5s 196ms/step - loss: 0.2755 - sparse_categorical_accuracy: 0.2500 - val_loss: 0.3282 - val_sparse_categorical_accuracy: 0.1250\n",
      "Epoch 2/200\n",
      "8/8 [==============================] - 1s 70ms/step - loss: 0.1902 - sparse_categorical_accuracy: 0.4688 - val_loss: 0.4042 - val_sparse_categorical_accuracy: 0.1250\n",
      "Epoch 3/200\n",
      "8/8 [==============================] - 1s 135ms/step - loss: 0.1636 - sparse_categorical_accuracy: 0.6250 - val_loss: 0.3919 - val_sparse_categorical_accuracy: 0.2500\n",
      "Epoch 4/200\n",
      "8/8 [==============================] - 1s 73ms/step - loss: 0.1253 - sparse_categorical_accuracy: 0.7500 - val_loss: 0.3474 - val_sparse_categorical_accuracy: 0.2500\n",
      "Epoch 5/200\n",
      "8/8 [==============================] - 1s 74ms/step - loss: 0.0991 - sparse_categorical_accuracy: 0.8438 - val_loss: 0.3476 - val_sparse_categorical_accuracy: 0.2500\n",
      "Epoch 6/200\n",
      "8/8 [==============================] - 1s 75ms/step - loss: 0.0892 - sparse_categorical_accuracy: 0.7812 - val_loss: 0.3480 - val_sparse_categorical_accuracy: 0.0000e+00\n",
      "Epoch 7/200\n",
      "8/8 [==============================] - 1s 74ms/step - loss: 0.0695 - sparse_categorical_accuracy: 0.8125 - val_loss: 0.4126 - val_sparse_categorical_accuracy: 0.1250\n",
      "Epoch 8/200\n",
      "8/8 [==============================] - 1s 73ms/step - loss: 0.0759 - sparse_categorical_accuracy: 0.8125 - val_loss: 0.3845 - val_sparse_categorical_accuracy: 0.1250\n",
      "Epoch 9/200\n",
      "8/8 [==============================] - 1s 73ms/step - loss: 0.0500 - sparse_categorical_accuracy: 0.8750 - val_loss: 0.3905 - val_sparse_categorical_accuracy: 0.2500\n",
      "Epoch 10/200\n",
      "8/8 [==============================] - 1s 123ms/step - loss: 0.0444 - sparse_categorical_accuracy: 0.9375 - val_loss: 0.4851 - val_sparse_categorical_accuracy: 0.3750\n",
      "Epoch 11/200\n",
      "8/8 [==============================] - 1s 70ms/step - loss: 0.0640 - sparse_categorical_accuracy: 0.8750 - val_loss: 0.4926 - val_sparse_categorical_accuracy: 0.2500\n",
      "Epoch 12/200\n",
      "8/8 [==============================] - 1s 71ms/step - loss: 0.0479 - sparse_categorical_accuracy: 0.9375 - val_loss: 0.4728 - val_sparse_categorical_accuracy: 0.3750\n",
      "Epoch 13/200\n",
      "8/8 [==============================] - 1s 70ms/step - loss: 0.0718 - sparse_categorical_accuracy: 0.8438 - val_loss: 0.3981 - val_sparse_categorical_accuracy: 0.3750\n",
      "Epoch 14/200\n",
      "8/8 [==============================] - 1s 70ms/step - loss: 0.0529 - sparse_categorical_accuracy: 0.8438 - val_loss: 0.4308 - val_sparse_categorical_accuracy: 0.2500\n",
      "Epoch 15/200\n",
      "8/8 [==============================] - 1s 73ms/step - loss: 0.0605 - sparse_categorical_accuracy: 0.9062 - val_loss: 0.4769 - val_sparse_categorical_accuracy: 0.2500\n",
      "Epoch 16/200\n",
      "8/8 [==============================] - 1s 74ms/step - loss: 0.0645 - sparse_categorical_accuracy: 0.8438 - val_loss: 0.5073 - val_sparse_categorical_accuracy: 0.1250\n",
      "Epoch 17/200\n",
      "8/8 [==============================] - 1s 74ms/step - loss: 0.0850 - sparse_categorical_accuracy: 0.7812 - val_loss: 0.5757 - val_sparse_categorical_accuracy: 0.2500\n",
      "Epoch 18/200\n",
      "8/8 [==============================] - 1s 73ms/step - loss: 0.0256 - sparse_categorical_accuracy: 0.9062 - val_loss: 0.5287 - val_sparse_categorical_accuracy: 0.3750\n",
      "Epoch 19/200\n",
      "8/8 [==============================] - 1s 74ms/step - loss: 0.0362 - sparse_categorical_accuracy: 0.9375 - val_loss: 0.4981 - val_sparse_categorical_accuracy: 0.2500\n",
      "Epoch 20/200\n",
      "8/8 [==============================] - 1s 73ms/step - loss: 0.0433 - sparse_categorical_accuracy: 0.9688 - val_loss: 0.6702 - val_sparse_categorical_accuracy: 0.2500\n",
      "Epoch 21/200\n",
      "8/8 [==============================] - 1s 74ms/step - loss: 0.0573 - sparse_categorical_accuracy: 0.9688 - val_loss: 0.8715 - val_sparse_categorical_accuracy: 0.1250\n",
      "Epoch 22/200\n",
      "8/8 [==============================] - 1s 74ms/step - loss: 0.0287 - sparse_categorical_accuracy: 0.9062 - val_loss: 0.6116 - val_sparse_categorical_accuracy: 0.1250\n",
      "Epoch 23/200\n",
      "8/8 [==============================] - 1s 73ms/step - loss: 0.0261 - sparse_categorical_accuracy: 0.9688 - val_loss: 0.5451 - val_sparse_categorical_accuracy: 0.2500\n",
      "Epoch 24/200\n",
      "8/8 [==============================] - 1s 74ms/step - loss: 0.0328 - sparse_categorical_accuracy: 0.9375 - val_loss: 0.4806 - val_sparse_categorical_accuracy: 0.2500\n",
      "Epoch 25/200\n",
      "8/8 [==============================] - 1s 74ms/step - loss: 0.0117 - sparse_categorical_accuracy: 0.9688 - val_loss: 0.4074 - val_sparse_categorical_accuracy: 0.2500\n",
      "Epoch 26/200\n",
      "8/8 [==============================] - 1s 73ms/step - loss: 0.0256 - sparse_categorical_accuracy: 0.9375 - val_loss: 0.3241 - val_sparse_categorical_accuracy: 0.3750\n",
      "Epoch 27/200\n",
      "8/8 [==============================] - 1s 73ms/step - loss: 0.0266 - sparse_categorical_accuracy: 0.9688 - val_loss: 0.2991 - val_sparse_categorical_accuracy: 0.2500\n",
      "Epoch 28/200\n",
      "8/8 [==============================] - 1s 74ms/step - loss: 0.0282 - sparse_categorical_accuracy: 0.9375 - val_loss: 0.3598 - val_sparse_categorical_accuracy: 0.2500\n",
      "Epoch 29/200\n",
      "8/8 [==============================] - 1s 72ms/step - loss: 0.0524 - sparse_categorical_accuracy: 0.8750 - val_loss: 0.4142 - val_sparse_categorical_accuracy: 0.3750\n",
      "Epoch 30/200\n",
      "8/8 [==============================] - 1s 69ms/step - loss: 0.0277 - sparse_categorical_accuracy: 0.9062 - val_loss: 0.5943 - val_sparse_categorical_accuracy: 0.2500\n",
      "Epoch 31/200\n",
      "8/8 [==============================] - 1s 69ms/step - loss: 0.0968 - sparse_categorical_accuracy: 0.8438 - val_loss: 0.8998 - val_sparse_categorical_accuracy: 0.1250\n",
      "Epoch 32/200\n",
      "8/8 [==============================] - 1s 70ms/step - loss: 0.0571 - sparse_categorical_accuracy: 0.9062 - val_loss: 0.9044 - val_sparse_categorical_accuracy: 0.1250\n",
      "Epoch 33/200\n",
      "8/8 [==============================] - 1s 70ms/step - loss: 0.0353 - sparse_categorical_accuracy: 0.8750 - val_loss: 0.8624 - val_sparse_categorical_accuracy: 0.1250\n",
      "Epoch 34/200\n",
      "8/8 [==============================] - 1s 75ms/step - loss: 0.0133 - sparse_categorical_accuracy: 1.0000 - val_loss: 0.6958 - val_sparse_categorical_accuracy: 0.1250\n",
      "Epoch 35/200\n",
      "8/8 [==============================] - 1s 74ms/step - loss: 0.0187 - sparse_categorical_accuracy: 0.9688 - val_loss: 0.7196 - val_sparse_categorical_accuracy: 0.2500\n",
      "Epoch 36/200\n",
      "8/8 [==============================] - 1s 75ms/step - loss: 0.0097 - sparse_categorical_accuracy: 1.0000 - val_loss: 0.6885 - val_sparse_categorical_accuracy: 0.2500\n",
      "Epoch 37/200\n",
      "8/8 [==============================] - 1s 73ms/step - loss: 0.0166 - sparse_categorical_accuracy: 0.9688 - val_loss: 0.6982 - val_sparse_categorical_accuracy: 0.1250\n",
      "Epoch 38/200\n",
      "8/8 [==============================] - 1s 74ms/step - loss: 0.0242 - sparse_categorical_accuracy: 0.9375 - val_loss: 0.8220 - val_sparse_categorical_accuracy: 0.1250\n",
      "Epoch 39/200\n",
      "8/8 [==============================] - 1s 74ms/step - loss: 0.0216 - sparse_categorical_accuracy: 0.9375 - val_loss: 0.9385 - val_sparse_categorical_accuracy: 0.2500\n",
      "Epoch 40/200\n",
      "8/8 [==============================] - 1s 74ms/step - loss: 0.0248 - sparse_categorical_accuracy: 0.9375 - val_loss: 0.9875 - val_sparse_categorical_accuracy: 0.2500\n",
      "Epoch 41/200\n",
      "8/8 [==============================] - 1s 71ms/step - loss: 0.0319 - sparse_categorical_accuracy: 0.9375 - val_loss: 0.7427 - val_sparse_categorical_accuracy: 0.1250\n",
      "Epoch 42/200\n",
      "8/8 [==============================] - 1s 70ms/step - loss: 0.0297 - sparse_categorical_accuracy: 0.8750 - val_loss: 0.7361 - val_sparse_categorical_accuracy: 0.2500\n",
      "Epoch 43/200\n",
      "8/8 [==============================] - 1s 70ms/step - loss: 0.0326 - sparse_categorical_accuracy: 0.8750 - val_loss: 0.7928 - val_sparse_categorical_accuracy: 0.2500\n",
      "Epoch 44/200\n",
      "8/8 [==============================] - 1s 70ms/step - loss: 0.0482 - sparse_categorical_accuracy: 0.8125 - val_loss: 0.5989 - val_sparse_categorical_accuracy: 0.1250\n",
      "Epoch 45/200\n",
      "8/8 [==============================] - 1s 71ms/step - loss: 0.0101 - sparse_categorical_accuracy: 1.0000 - val_loss: 0.5046 - val_sparse_categorical_accuracy: 0.2500\n",
      "Epoch 46/200\n",
      "8/8 [==============================] - 1s 74ms/step - loss: 0.0218 - sparse_categorical_accuracy: 0.9375 - val_loss: 0.5250 - val_sparse_categorical_accuracy: 0.2500\n",
      "Epoch 47/200\n",
      "8/8 [==============================] - 1s 73ms/step - loss: 0.0117 - sparse_categorical_accuracy: 1.0000 - val_loss: 0.6295 - val_sparse_categorical_accuracy: 0.1250\n",
      "Epoch 48/200\n",
      "8/8 [==============================] - 1s 73ms/step - loss: 0.0134 - sparse_categorical_accuracy: 0.9688 - val_loss: 0.6720 - val_sparse_categorical_accuracy: 0.1250\n",
      "Epoch 49/200\n",
      "8/8 [==============================] - 1s 73ms/step - loss: 0.0168 - sparse_categorical_accuracy: 1.0000 - val_loss: 0.6385 - val_sparse_categorical_accuracy: 0.0000e+00\n",
      "Epoch 50/200\n",
      "8/8 [==============================] - 1s 73ms/step - loss: 0.0125 - sparse_categorical_accuracy: 0.9688 - val_loss: 0.5069 - val_sparse_categorical_accuracy: 0.0000e+00\n",
      "1/1 [==============================] - 1s 617ms/step - loss: 0.4550 - sparse_categorical_accuracy: 0.3750\n",
      "block1a_ same\n",
      "block2a_ ((1, 1), (1, 1))\n",
      "block2a_ valid\n",
      "block2b_ same\n",
      "block3a_ ((2, 2), (2, 2))\n",
      "block3a_ valid\n",
      "block3b_ same\n",
      "block4a_ ((1, 1), (1, 1))\n",
      "block4a_ valid\n",
      "block4b_ same\n",
      "block4c_ same\n",
      "block5a_ same\n",
      "block5b_ same\n",
      "block5c_ same\n",
      "block6a_ ((2, 2), (2, 2))\n",
      "block6a_ valid\n",
      "block6b_ same\n",
      "block6c_ same\n",
      "block6d_ same\n",
      "block7a_ same\n",
      "Epoch 1/200\n",
      "8/8 [==============================] - 5s 272ms/step - loss: 0.2814 - sparse_categorical_accuracy: 0.1562 - val_loss: 0.2265 - val_sparse_categorical_accuracy: 0.1250\n",
      "Epoch 2/200\n",
      "8/8 [==============================] - 1s 70ms/step - loss: 0.2035 - sparse_categorical_accuracy: 0.4688 - val_loss: 0.2313 - val_sparse_categorical_accuracy: 0.1250\n",
      "Epoch 3/200\n",
      "8/8 [==============================] - 1s 70ms/step - loss: 0.1773 - sparse_categorical_accuracy: 0.4688 - val_loss: 0.2865 - val_sparse_categorical_accuracy: 0.1250\n",
      "Epoch 4/200\n",
      "8/8 [==============================] - 1s 71ms/step - loss: 0.1690 - sparse_categorical_accuracy: 0.5625 - val_loss: 0.3221 - val_sparse_categorical_accuracy: 0.1250\n",
      "Epoch 5/200\n",
      "8/8 [==============================] - 1s 140ms/step - loss: 0.1292 - sparse_categorical_accuracy: 0.7500 - val_loss: 0.3037 - val_sparse_categorical_accuracy: 0.2500\n",
      "Epoch 6/200\n",
      "8/8 [==============================] - 1s 75ms/step - loss: 0.0859 - sparse_categorical_accuracy: 0.9062 - val_loss: 0.3514 - val_sparse_categorical_accuracy: 0.0000e+00\n",
      "Epoch 7/200\n",
      "8/8 [==============================] - 1s 75ms/step - loss: 0.0879 - sparse_categorical_accuracy: 0.8125 - val_loss: 0.3176 - val_sparse_categorical_accuracy: 0.0000e+00\n",
      "Epoch 8/200\n",
      "8/8 [==============================] - 1s 75ms/step - loss: 0.0540 - sparse_categorical_accuracy: 0.9062 - val_loss: 0.2726 - val_sparse_categorical_accuracy: 0.2500\n",
      "Epoch 9/200\n",
      "8/8 [==============================] - 1s 125ms/step - loss: 0.0644 - sparse_categorical_accuracy: 0.8750 - val_loss: 0.2743 - val_sparse_categorical_accuracy: 0.3750\n",
      "Epoch 10/200\n",
      "8/8 [==============================] - 1s 75ms/step - loss: 0.0443 - sparse_categorical_accuracy: 0.9375 - val_loss: 0.3456 - val_sparse_categorical_accuracy: 0.3750\n",
      "Epoch 11/200\n",
      "8/8 [==============================] - 1s 74ms/step - loss: 0.0791 - sparse_categorical_accuracy: 0.7812 - val_loss: 0.3235 - val_sparse_categorical_accuracy: 0.3750\n",
      "Epoch 12/200\n",
      "8/8 [==============================] - 1s 74ms/step - loss: 0.0657 - sparse_categorical_accuracy: 0.8438 - val_loss: 0.2829 - val_sparse_categorical_accuracy: 0.3750\n",
      "Epoch 13/200\n",
      "8/8 [==============================] - 1s 74ms/step - loss: 0.0374 - sparse_categorical_accuracy: 0.9062 - val_loss: 0.3457 - val_sparse_categorical_accuracy: 0.3750\n",
      "Epoch 14/200\n",
      "8/8 [==============================] - 1s 74ms/step - loss: 0.0570 - sparse_categorical_accuracy: 0.9062 - val_loss: 0.3420 - val_sparse_categorical_accuracy: 0.3750\n",
      "Epoch 15/200\n",
      "8/8 [==============================] - 1s 126ms/step - loss: 0.0604 - sparse_categorical_accuracy: 0.9375 - val_loss: 0.2712 - val_sparse_categorical_accuracy: 0.5000\n",
      "Epoch 16/200\n",
      "8/8 [==============================] - 1s 75ms/step - loss: 0.0518 - sparse_categorical_accuracy: 0.8438 - val_loss: 0.2490 - val_sparse_categorical_accuracy: 0.3750\n",
      "Epoch 17/200\n",
      "8/8 [==============================] - 1s 70ms/step - loss: 0.0476 - sparse_categorical_accuracy: 0.9062 - val_loss: 0.2191 - val_sparse_categorical_accuracy: 0.2500\n",
      "Epoch 18/200\n",
      "8/8 [==============================] - 1s 71ms/step - loss: 0.0517 - sparse_categorical_accuracy: 0.8750 - val_loss: 0.3861 - val_sparse_categorical_accuracy: 0.1250\n",
      "Epoch 19/200\n",
      "8/8 [==============================] - 1s 72ms/step - loss: 0.0310 - sparse_categorical_accuracy: 0.9375 - val_loss: 0.5735 - val_sparse_categorical_accuracy: 0.1250\n",
      "Epoch 20/200\n",
      "8/8 [==============================] - 1s 70ms/step - loss: 0.0410 - sparse_categorical_accuracy: 0.8125 - val_loss: 0.8660 - val_sparse_categorical_accuracy: 0.2500\n",
      "Epoch 21/200\n",
      "8/8 [==============================] - 1s 73ms/step - loss: 0.0484 - sparse_categorical_accuracy: 0.9375 - val_loss: 0.9408 - val_sparse_categorical_accuracy: 0.2500\n",
      "Epoch 22/200\n",
      "8/8 [==============================] - 1s 75ms/step - loss: 0.0503 - sparse_categorical_accuracy: 0.8750 - val_loss: 0.5576 - val_sparse_categorical_accuracy: 0.3750\n",
      "Epoch 23/200\n",
      "8/8 [==============================] - 1s 74ms/step - loss: 0.0349 - sparse_categorical_accuracy: 0.9062 - val_loss: 0.6683 - val_sparse_categorical_accuracy: 0.3750\n",
      "Epoch 24/200\n",
      "8/8 [==============================] - 1s 73ms/step - loss: 0.0355 - sparse_categorical_accuracy: 0.9062 - val_loss: 0.6705 - val_sparse_categorical_accuracy: 0.3750\n",
      "Epoch 25/200\n",
      "8/8 [==============================] - 1s 74ms/step - loss: 0.0339 - sparse_categorical_accuracy: 0.9375 - val_loss: 0.6464 - val_sparse_categorical_accuracy: 0.3750\n",
      "Epoch 26/200\n",
      "8/8 [==============================] - 1s 75ms/step - loss: 0.0203 - sparse_categorical_accuracy: 1.0000 - val_loss: 0.6475 - val_sparse_categorical_accuracy: 0.5000\n",
      "Epoch 27/200\n",
      "8/8 [==============================] - 1s 74ms/step - loss: 0.0232 - sparse_categorical_accuracy: 0.9688 - val_loss: 0.8021 - val_sparse_categorical_accuracy: 0.3750\n",
      "Epoch 28/200\n",
      "8/8 [==============================] - 1s 76ms/step - loss: 0.0197 - sparse_categorical_accuracy: 0.9375 - val_loss: 0.8786 - val_sparse_categorical_accuracy: 0.2500\n",
      "Epoch 29/200\n",
      "8/8 [==============================] - 1s 75ms/step - loss: 0.0456 - sparse_categorical_accuracy: 0.8438 - val_loss: 0.9533 - val_sparse_categorical_accuracy: 0.1250\n",
      "Epoch 30/200\n",
      "8/8 [==============================] - 1s 71ms/step - loss: 0.0699 - sparse_categorical_accuracy: 0.8750 - val_loss: 0.2660 - val_sparse_categorical_accuracy: 0.2500\n",
      "Epoch 31/200\n",
      "8/8 [==============================] - 1s 71ms/step - loss: 0.0547 - sparse_categorical_accuracy: 0.8125 - val_loss: 0.4199 - val_sparse_categorical_accuracy: 0.3750\n",
      "Epoch 32/200\n",
      "8/8 [==============================] - 1s 71ms/step - loss: 0.0701 - sparse_categorical_accuracy: 0.8438 - val_loss: 0.5007 - val_sparse_categorical_accuracy: 0.1250\n",
      "Epoch 33/200\n",
      "8/8 [==============================] - 1s 74ms/step - loss: 0.0371 - sparse_categorical_accuracy: 0.9688 - val_loss: 0.8462 - val_sparse_categorical_accuracy: 0.3750\n",
      "Epoch 34/200\n",
      "8/8 [==============================] - 1s 75ms/step - loss: 0.0119 - sparse_categorical_accuracy: 1.0000 - val_loss: 1.0033 - val_sparse_categorical_accuracy: 0.3750\n",
      "Epoch 35/200\n",
      "8/8 [==============================] - 1s 74ms/step - loss: 0.0193 - sparse_categorical_accuracy: 1.0000 - val_loss: 0.9085 - val_sparse_categorical_accuracy: 0.1250\n",
      "Epoch 36/200\n",
      "8/8 [==============================] - 1s 75ms/step - loss: 0.0348 - sparse_categorical_accuracy: 0.9375 - val_loss: 1.2945 - val_sparse_categorical_accuracy: 0.1250\n",
      "Epoch 37/200\n",
      "8/8 [==============================] - 1s 73ms/step - loss: 0.0076 - sparse_categorical_accuracy: 1.0000 - val_loss: 1.3876 - val_sparse_categorical_accuracy: 0.1250\n",
      "Epoch 38/200\n",
      "8/8 [==============================] - 1s 75ms/step - loss: 0.0367 - sparse_categorical_accuracy: 0.9062 - val_loss: 1.3899 - val_sparse_categorical_accuracy: 0.0000e+00\n",
      "Epoch 39/200\n",
      "8/8 [==============================] - 1s 75ms/step - loss: 0.0113 - sparse_categorical_accuracy: 0.9688 - val_loss: 1.6400 - val_sparse_categorical_accuracy: 0.0000e+00\n",
      "Epoch 40/200\n",
      "8/8 [==============================] - 1s 75ms/step - loss: 0.0204 - sparse_categorical_accuracy: 0.9062 - val_loss: 1.9385 - val_sparse_categorical_accuracy: 0.0000e+00\n",
      "Epoch 41/200\n",
      "8/8 [==============================] - 1s 75ms/step - loss: 0.0184 - sparse_categorical_accuracy: 0.9688 - val_loss: 1.1979 - val_sparse_categorical_accuracy: 0.0000e+00\n",
      "Epoch 42/200\n",
      "8/8 [==============================] - 1s 75ms/step - loss: 0.0259 - sparse_categorical_accuracy: 0.9062 - val_loss: 1.1045 - val_sparse_categorical_accuracy: 0.1250\n",
      "Epoch 43/200\n",
      "8/8 [==============================] - 1s 70ms/step - loss: 0.0303 - sparse_categorical_accuracy: 0.9375 - val_loss: 0.9406 - val_sparse_categorical_accuracy: 0.1250\n",
      "Epoch 44/200\n",
      "8/8 [==============================] - 1s 70ms/step - loss: 0.0322 - sparse_categorical_accuracy: 0.9688 - val_loss: 0.9384 - val_sparse_categorical_accuracy: 0.1250\n",
      "Epoch 45/200\n",
      "8/8 [==============================] - 1s 69ms/step - loss: 0.0129 - sparse_categorical_accuracy: 0.9688 - val_loss: 1.2586 - val_sparse_categorical_accuracy: 0.1250\n",
      "Epoch 46/200\n",
      "8/8 [==============================] - 1s 70ms/step - loss: 0.0045 - sparse_categorical_accuracy: 1.0000 - val_loss: 1.5844 - val_sparse_categorical_accuracy: 0.1250\n",
      "Epoch 47/200\n",
      "8/8 [==============================] - 1s 74ms/step - loss: 0.0203 - sparse_categorical_accuracy: 0.9688 - val_loss: 1.6735 - val_sparse_categorical_accuracy: 0.1250\n",
      "Epoch 48/200\n",
      "8/8 [==============================] - 1s 74ms/step - loss: 0.0109 - sparse_categorical_accuracy: 1.0000 - val_loss: 1.2656 - val_sparse_categorical_accuracy: 0.1250\n",
      "Epoch 49/200\n",
      "8/8 [==============================] - 1s 74ms/step - loss: 0.0101 - sparse_categorical_accuracy: 1.0000 - val_loss: 0.9732 - val_sparse_categorical_accuracy: 0.2500\n",
      "Epoch 50/200\n",
      "8/8 [==============================] - 1s 75ms/step - loss: 0.0106 - sparse_categorical_accuracy: 0.9688 - val_loss: 1.1068 - val_sparse_categorical_accuracy: 0.2500\n",
      "Epoch 51/200\n",
      "8/8 [==============================] - 1s 74ms/step - loss: 0.0112 - sparse_categorical_accuracy: 0.9688 - val_loss: 0.9630 - val_sparse_categorical_accuracy: 0.2500\n",
      "Epoch 52/200\n",
      "8/8 [==============================] - 1s 77ms/step - loss: 0.0257 - sparse_categorical_accuracy: 0.9062 - val_loss: 1.5823 - val_sparse_categorical_accuracy: 0.2500\n",
      "Epoch 53/200\n",
      "8/8 [==============================] - 1s 77ms/step - loss: 0.0397 - sparse_categorical_accuracy: 0.9062 - val_loss: 1.2264 - val_sparse_categorical_accuracy: 0.2500\n",
      "Epoch 54/200\n",
      "8/8 [==============================] - 1s 73ms/step - loss: 0.0111 - sparse_categorical_accuracy: 0.9688 - val_loss: 1.4783 - val_sparse_categorical_accuracy: 0.3750\n",
      "Epoch 55/200\n",
      "8/8 [==============================] - 1s 71ms/step - loss: 0.0148 - sparse_categorical_accuracy: 1.0000 - val_loss: 1.9408 - val_sparse_categorical_accuracy: 0.3750\n",
      "1/1 [==============================] - 1s 655ms/step - loss: 0.2747 - sparse_categorical_accuracy: 0.5000\n",
      "block1a_ same\n",
      "block2a_ ((1, 1), (1, 1))\n",
      "block2a_ valid\n",
      "block2b_ same\n",
      "block3a_ ((2, 2), (2, 2))\n",
      "block3a_ valid\n",
      "block3b_ same\n",
      "block4a_ ((1, 1), (1, 1))\n",
      "block4a_ valid\n",
      "block4b_ same\n",
      "block4c_ same\n",
      "block5a_ same\n",
      "block5b_ same\n",
      "block5c_ same\n",
      "block6a_ ((2, 2), (2, 2))\n",
      "block6a_ valid\n",
      "block6b_ same\n",
      "block6c_ same\n",
      "block6d_ same\n",
      "block7a_ same\n",
      "Epoch 1/200\n",
      "8/8 [==============================] - 5s 209ms/step - loss: 0.2927 - sparse_categorical_accuracy: 0.0938 - val_loss: 0.4084 - val_sparse_categorical_accuracy: 0.0000e+00\n",
      "Epoch 2/200\n",
      "8/8 [==============================] - 1s 137ms/step - loss: 0.1806 - sparse_categorical_accuracy: 0.5312 - val_loss: 0.4799 - val_sparse_categorical_accuracy: 0.2500\n",
      "Epoch 3/200\n",
      "8/8 [==============================] - 1s 73ms/step - loss: 0.1469 - sparse_categorical_accuracy: 0.6875 - val_loss: 0.5893 - val_sparse_categorical_accuracy: 0.1250\n",
      "Epoch 4/200\n",
      "8/8 [==============================] - 1s 73ms/step - loss: 0.1379 - sparse_categorical_accuracy: 0.6875 - val_loss: 0.6063 - val_sparse_categorical_accuracy: 0.1250\n",
      "Epoch 5/200\n",
      "8/8 [==============================] - 1s 74ms/step - loss: 0.1159 - sparse_categorical_accuracy: 0.7500 - val_loss: 0.6992 - val_sparse_categorical_accuracy: 0.1250\n",
      "Epoch 6/200\n",
      "8/8 [==============================] - 1s 72ms/step - loss: 0.1089 - sparse_categorical_accuracy: 0.6562 - val_loss: 0.8035 - val_sparse_categorical_accuracy: 0.1250\n",
      "Epoch 7/200\n",
      "8/8 [==============================] - 1s 69ms/step - loss: 0.0750 - sparse_categorical_accuracy: 0.8750 - val_loss: 1.5649 - val_sparse_categorical_accuracy: 0.1250\n",
      "Epoch 8/200\n",
      "8/8 [==============================] - 1s 70ms/step - loss: 0.0658 - sparse_categorical_accuracy: 0.8750 - val_loss: 1.8266 - val_sparse_categorical_accuracy: 0.1250\n",
      "Epoch 9/200\n",
      "8/8 [==============================] - 1s 70ms/step - loss: 0.0576 - sparse_categorical_accuracy: 0.7812 - val_loss: 1.7875 - val_sparse_categorical_accuracy: 0.0000e+00\n",
      "Epoch 10/200\n",
      "8/8 [==============================] - 1s 70ms/step - loss: 0.0678 - sparse_categorical_accuracy: 0.8438 - val_loss: 1.3202 - val_sparse_categorical_accuracy: 0.1250\n",
      "Epoch 11/200\n",
      "8/8 [==============================] - 1s 74ms/step - loss: 0.0707 - sparse_categorical_accuracy: 0.8438 - val_loss: 1.0430 - val_sparse_categorical_accuracy: 0.1250\n",
      "Epoch 12/200\n",
      "8/8 [==============================] - 1s 75ms/step - loss: 0.0458 - sparse_categorical_accuracy: 0.8750 - val_loss: 0.5465 - val_sparse_categorical_accuracy: 0.1250\n",
      "Epoch 13/200\n",
      "8/8 [==============================] - 1s 73ms/step - loss: 0.0369 - sparse_categorical_accuracy: 0.9062 - val_loss: 0.5570 - val_sparse_categorical_accuracy: 0.0000e+00\n",
      "Epoch 14/200\n",
      "8/8 [==============================] - 1s 74ms/step - loss: 0.0458 - sparse_categorical_accuracy: 0.9375 - val_loss: 0.5949 - val_sparse_categorical_accuracy: 0.1250\n",
      "Epoch 15/200\n",
      "8/8 [==============================] - 1s 74ms/step - loss: 0.0168 - sparse_categorical_accuracy: 0.9688 - val_loss: 0.6163 - val_sparse_categorical_accuracy: 0.1250\n",
      "Epoch 16/200\n",
      "8/8 [==============================] - 1s 74ms/step - loss: 0.0209 - sparse_categorical_accuracy: 0.9688 - val_loss: 0.5884 - val_sparse_categorical_accuracy: 0.2500\n",
      "Epoch 17/200\n",
      "8/8 [==============================] - 1s 136ms/step - loss: 0.0523 - sparse_categorical_accuracy: 0.8438 - val_loss: 0.6373 - val_sparse_categorical_accuracy: 0.3750\n",
      "Epoch 18/200\n",
      "8/8 [==============================] - 1s 74ms/step - loss: 0.0195 - sparse_categorical_accuracy: 0.9688 - val_loss: 0.7438 - val_sparse_categorical_accuracy: 0.2500\n",
      "Epoch 19/200\n",
      "8/8 [==============================] - 1s 76ms/step - loss: 0.0230 - sparse_categorical_accuracy: 0.9688 - val_loss: 0.7888 - val_sparse_categorical_accuracy: 0.2500\n",
      "Epoch 20/200\n",
      "8/8 [==============================] - 1s 74ms/step - loss: 0.0486 - sparse_categorical_accuracy: 0.8438 - val_loss: 0.8857 - val_sparse_categorical_accuracy: 0.2500\n",
      "Epoch 21/200\n",
      "8/8 [==============================] - 1s 74ms/step - loss: 0.0364 - sparse_categorical_accuracy: 0.8750 - val_loss: 0.9031 - val_sparse_categorical_accuracy: 0.1250\n",
      "Epoch 22/200\n",
      "8/8 [==============================] - 1s 73ms/step - loss: 0.0216 - sparse_categorical_accuracy: 0.9688 - val_loss: 0.8702 - val_sparse_categorical_accuracy: 0.1250\n",
      "Epoch 23/200\n",
      "8/8 [==============================] - 1s 73ms/step - loss: 0.0653 - sparse_categorical_accuracy: 0.8438 - val_loss: 0.8190 - val_sparse_categorical_accuracy: 0.2500\n",
      "Epoch 24/200\n",
      "8/8 [==============================] - 1s 74ms/step - loss: 0.0204 - sparse_categorical_accuracy: 0.9688 - val_loss: 0.7848 - val_sparse_categorical_accuracy: 0.2500\n",
      "Epoch 25/200\n",
      "8/8 [==============================] - 1s 74ms/step - loss: 0.0345 - sparse_categorical_accuracy: 0.9375 - val_loss: 0.7842 - val_sparse_categorical_accuracy: 0.3750\n",
      "Epoch 26/200\n",
      "8/8 [==============================] - 1s 74ms/step - loss: 0.0497 - sparse_categorical_accuracy: 0.8750 - val_loss: 0.5459 - val_sparse_categorical_accuracy: 0.3750\n",
      "Epoch 27/200\n",
      "8/8 [==============================] - 1s 73ms/step - loss: 0.0421 - sparse_categorical_accuracy: 0.9062 - val_loss: 0.5747 - val_sparse_categorical_accuracy: 0.2500\n",
      "Epoch 28/200\n",
      "8/8 [==============================] - 1s 74ms/step - loss: 0.0283 - sparse_categorical_accuracy: 0.8438 - val_loss: 0.6452 - val_sparse_categorical_accuracy: 0.2500\n",
      "Epoch 29/200\n",
      "8/8 [==============================] - 1s 75ms/step - loss: 0.0168 - sparse_categorical_accuracy: 0.9688 - val_loss: 0.6929 - val_sparse_categorical_accuracy: 0.2500\n",
      "Epoch 30/200\n",
      "8/8 [==============================] - 1s 73ms/step - loss: 0.0452 - sparse_categorical_accuracy: 0.9375 - val_loss: 0.4331 - val_sparse_categorical_accuracy: 0.1250\n",
      "Epoch 31/200\n",
      "8/8 [==============================] - 1s 73ms/step - loss: 0.0568 - sparse_categorical_accuracy: 0.8438 - val_loss: 0.5491 - val_sparse_categorical_accuracy: 0.0000e+00\n",
      "Epoch 32/200\n",
      "8/8 [==============================] - 1s 73ms/step - loss: 0.0274 - sparse_categorical_accuracy: 0.9375 - val_loss: 0.8468 - val_sparse_categorical_accuracy: 0.0000e+00\n",
      "Epoch 33/200\n",
      "8/8 [==============================] - 1s 73ms/step - loss: 0.0958 - sparse_categorical_accuracy: 0.6875 - val_loss: 0.7149 - val_sparse_categorical_accuracy: 0.1250\n",
      "Epoch 34/200\n",
      "8/8 [==============================] - 1s 73ms/step - loss: 0.0306 - sparse_categorical_accuracy: 0.9062 - val_loss: 0.7107 - val_sparse_categorical_accuracy: 0.1250\n",
      "Epoch 35/200\n",
      "8/8 [==============================] - 1s 74ms/step - loss: 0.0435 - sparse_categorical_accuracy: 0.9062 - val_loss: 0.5994 - val_sparse_categorical_accuracy: 0.1250\n",
      "Epoch 36/200\n",
      "8/8 [==============================] - 1s 73ms/step - loss: 0.1142 - sparse_categorical_accuracy: 0.7812 - val_loss: 0.8558 - val_sparse_categorical_accuracy: 0.1250\n",
      "Epoch 37/200\n",
      "8/8 [==============================] - 1s 74ms/step - loss: 0.0287 - sparse_categorical_accuracy: 0.9375 - val_loss: 1.0558 - val_sparse_categorical_accuracy: 0.0000e+00\n",
      "Epoch 38/200\n",
      "8/8 [==============================] - 1s 73ms/step - loss: 0.0193 - sparse_categorical_accuracy: 0.9688 - val_loss: 1.0182 - val_sparse_categorical_accuracy: 0.1250\n",
      "Epoch 39/200\n",
      "8/8 [==============================] - 1s 73ms/step - loss: 0.0178 - sparse_categorical_accuracy: 0.9688 - val_loss: 0.9366 - val_sparse_categorical_accuracy: 0.1250\n",
      "Epoch 40/200\n",
      "8/8 [==============================] - 1s 73ms/step - loss: 0.0242 - sparse_categorical_accuracy: 0.9375 - val_loss: 0.9783 - val_sparse_categorical_accuracy: 0.1250\n",
      "Epoch 41/200\n",
      "8/8 [==============================] - 1s 70ms/step - loss: 0.0565 - sparse_categorical_accuracy: 0.8438 - val_loss: 0.8307 - val_sparse_categorical_accuracy: 0.3750\n",
      "Epoch 42/200\n",
      "8/8 [==============================] - 1s 70ms/step - loss: 0.0226 - sparse_categorical_accuracy: 0.9375 - val_loss: 0.9725 - val_sparse_categorical_accuracy: 0.3750\n",
      "Epoch 43/200\n",
      "8/8 [==============================] - 1s 138ms/step - loss: 0.0762 - sparse_categorical_accuracy: 0.8750 - val_loss: 0.7531 - val_sparse_categorical_accuracy: 0.5000\n",
      "Epoch 44/200\n",
      "8/8 [==============================] - 1s 69ms/step - loss: 0.0259 - sparse_categorical_accuracy: 0.9062 - val_loss: 0.8036 - val_sparse_categorical_accuracy: 0.3750\n",
      "Epoch 45/200\n",
      "8/8 [==============================] - 1s 73ms/step - loss: 0.0283 - sparse_categorical_accuracy: 0.9062 - val_loss: 0.6727 - val_sparse_categorical_accuracy: 0.3750\n",
      "Epoch 46/200\n",
      "8/8 [==============================] - 1s 73ms/step - loss: 0.0304 - sparse_categorical_accuracy: 0.9375 - val_loss: 0.7269 - val_sparse_categorical_accuracy: 0.3750\n",
      "Epoch 47/200\n",
      "8/8 [==============================] - 1s 73ms/step - loss: 0.0152 - sparse_categorical_accuracy: 0.9688 - val_loss: 0.8179 - val_sparse_categorical_accuracy: 0.1250\n",
      "Epoch 48/200\n",
      "8/8 [==============================] - 1s 73ms/step - loss: 0.0220 - sparse_categorical_accuracy: 0.9062 - val_loss: 0.8493 - val_sparse_categorical_accuracy: 0.1250\n",
      "Epoch 49/200\n",
      "8/8 [==============================] - 1s 73ms/step - loss: 0.0086 - sparse_categorical_accuracy: 1.0000 - val_loss: 0.9566 - val_sparse_categorical_accuracy: 0.1250\n",
      "Epoch 50/200\n",
      "8/8 [==============================] - 1s 72ms/step - loss: 0.0508 - sparse_categorical_accuracy: 0.9375 - val_loss: 0.8473 - val_sparse_categorical_accuracy: 0.1250\n",
      "Epoch 51/200\n",
      "8/8 [==============================] - 1s 69ms/step - loss: 0.0035 - sparse_categorical_accuracy: 1.0000 - val_loss: 0.7914 - val_sparse_categorical_accuracy: 0.2500\n",
      "Epoch 52/200\n",
      "8/8 [==============================] - 1s 69ms/step - loss: 0.0305 - sparse_categorical_accuracy: 0.9375 - val_loss: 0.8030 - val_sparse_categorical_accuracy: 0.2500\n",
      "Epoch 53/200\n",
      "8/8 [==============================] - 1s 70ms/step - loss: 0.0628 - sparse_categorical_accuracy: 0.9062 - val_loss: 0.4699 - val_sparse_categorical_accuracy: 0.2500\n",
      "Epoch 54/200\n",
      "8/8 [==============================] - 1s 70ms/step - loss: 0.0567 - sparse_categorical_accuracy: 0.8438 - val_loss: 0.3854 - val_sparse_categorical_accuracy: 0.1250\n",
      "Epoch 55/200\n",
      "8/8 [==============================] - 1s 73ms/step - loss: 0.0147 - sparse_categorical_accuracy: 1.0000 - val_loss: 0.4711 - val_sparse_categorical_accuracy: 0.2500\n",
      "Epoch 56/200\n",
      "8/8 [==============================] - 1s 74ms/step - loss: 0.0288 - sparse_categorical_accuracy: 0.9062 - val_loss: 0.6394 - val_sparse_categorical_accuracy: 0.0000e+00\n",
      "Epoch 57/200\n",
      "8/8 [==============================] - 1s 73ms/step - loss: 0.0296 - sparse_categorical_accuracy: 0.9375 - val_loss: 0.4533 - val_sparse_categorical_accuracy: 0.1250\n",
      "Epoch 58/200\n",
      "8/8 [==============================] - 1s 73ms/step - loss: 0.0177 - sparse_categorical_accuracy: 0.9375 - val_loss: 0.5858 - val_sparse_categorical_accuracy: 0.1250\n",
      "Epoch 59/200\n",
      "8/8 [==============================] - 1s 74ms/step - loss: 0.0509 - sparse_categorical_accuracy: 0.8750 - val_loss: 0.4755 - val_sparse_categorical_accuracy: 0.1250\n",
      "Epoch 60/200\n",
      "8/8 [==============================] - 1s 73ms/step - loss: 0.0362 - sparse_categorical_accuracy: 0.9375 - val_loss: 0.3276 - val_sparse_categorical_accuracy: 0.3750\n",
      "Epoch 61/200\n",
      "8/8 [==============================] - 1s 74ms/step - loss: 0.0146 - sparse_categorical_accuracy: 0.9688 - val_loss: 0.3486 - val_sparse_categorical_accuracy: 0.2500\n",
      "Epoch 62/200\n",
      "8/8 [==============================] - 1s 73ms/step - loss: 0.0426 - sparse_categorical_accuracy: 0.8750 - val_loss: 0.3735 - val_sparse_categorical_accuracy: 0.5000\n",
      "Epoch 63/200\n",
      "8/8 [==============================] - 1s 74ms/step - loss: 0.0354 - sparse_categorical_accuracy: 0.9375 - val_loss: 0.4509 - val_sparse_categorical_accuracy: 0.3750\n",
      "Epoch 64/200\n",
      "8/8 [==============================] - 1s 73ms/step - loss: 0.0197 - sparse_categorical_accuracy: 0.9688 - val_loss: 0.7063 - val_sparse_categorical_accuracy: 0.2500\n",
      "Epoch 65/200\n",
      "8/8 [==============================] - 1s 72ms/step - loss: 0.0090 - sparse_categorical_accuracy: 0.9688 - val_loss: 0.7977 - val_sparse_categorical_accuracy: 0.1250\n",
      "Epoch 66/200\n",
      "8/8 [==============================] - 1s 76ms/step - loss: 0.0139 - sparse_categorical_accuracy: 0.9688 - val_loss: 0.6723 - val_sparse_categorical_accuracy: 0.0000e+00\n",
      "Epoch 67/200\n",
      "8/8 [==============================] - 1s 73ms/step - loss: 0.0086 - sparse_categorical_accuracy: 1.0000 - val_loss: 0.5458 - val_sparse_categorical_accuracy: 0.1250\n",
      "Epoch 68/200\n",
      "8/8 [==============================] - 1s 73ms/step - loss: 0.0042 - sparse_categorical_accuracy: 1.0000 - val_loss: 0.4697 - val_sparse_categorical_accuracy: 0.1250\n",
      "Epoch 69/200\n",
      "8/8 [==============================] - 1s 74ms/step - loss: 0.0168 - sparse_categorical_accuracy: 0.9688 - val_loss: 0.4063 - val_sparse_categorical_accuracy: 0.2500\n",
      "Epoch 70/200\n",
      "8/8 [==============================] - 1s 72ms/step - loss: 0.0057 - sparse_categorical_accuracy: 1.0000 - val_loss: 0.3924 - val_sparse_categorical_accuracy: 0.3750\n",
      "Epoch 71/200\n",
      "8/8 [==============================] - 1s 69ms/step - loss: 0.0042 - sparse_categorical_accuracy: 1.0000 - val_loss: 0.3563 - val_sparse_categorical_accuracy: 0.2500\n",
      "Epoch 72/200\n",
      "8/8 [==============================] - 1s 70ms/step - loss: 0.0159 - sparse_categorical_accuracy: 0.9688 - val_loss: 0.4966 - val_sparse_categorical_accuracy: 0.2500\n",
      "Epoch 73/200\n",
      "8/8 [==============================] - 1s 69ms/step - loss: 0.0398 - sparse_categorical_accuracy: 0.9375 - val_loss: 0.3378 - val_sparse_categorical_accuracy: 0.3750\n",
      "Epoch 74/200\n",
      "8/8 [==============================] - 1s 71ms/step - loss: 0.0205 - sparse_categorical_accuracy: 0.9375 - val_loss: 0.2420 - val_sparse_categorical_accuracy: 0.5000\n",
      "Epoch 75/200\n",
      "8/8 [==============================] - 1s 74ms/step - loss: 0.0082 - sparse_categorical_accuracy: 0.9688 - val_loss: 0.2759 - val_sparse_categorical_accuracy: 0.3750\n",
      "Epoch 76/200\n",
      "8/8 [==============================] - 1s 74ms/step - loss: 0.0033 - sparse_categorical_accuracy: 1.0000 - val_loss: 0.3192 - val_sparse_categorical_accuracy: 0.3750\n",
      "Epoch 77/200\n",
      "8/8 [==============================] - 1s 73ms/step - loss: 0.0039 - sparse_categorical_accuracy: 1.0000 - val_loss: 0.3179 - val_sparse_categorical_accuracy: 0.2500\n",
      "Epoch 78/200\n",
      "8/8 [==============================] - 1s 74ms/step - loss: 0.0103 - sparse_categorical_accuracy: 0.9688 - val_loss: 0.2851 - val_sparse_categorical_accuracy: 0.2500\n",
      "Epoch 79/200\n",
      "8/8 [==============================] - 1s 74ms/step - loss: 0.0068 - sparse_categorical_accuracy: 1.0000 - val_loss: 0.2348 - val_sparse_categorical_accuracy: 0.5000\n",
      "Epoch 80/200\n",
      "8/8 [==============================] - 1s 73ms/step - loss: 0.0037 - sparse_categorical_accuracy: 1.0000 - val_loss: 0.2209 - val_sparse_categorical_accuracy: 0.5000\n",
      "Epoch 81/200\n",
      "8/8 [==============================] - 1s 74ms/step - loss: 0.0011 - sparse_categorical_accuracy: 1.0000 - val_loss: 0.2140 - val_sparse_categorical_accuracy: 0.5000\n",
      "Epoch 82/200\n",
      "8/8 [==============================] - 1s 70ms/step - loss: 0.0229 - sparse_categorical_accuracy: 0.9062 - val_loss: 0.2260 - val_sparse_categorical_accuracy: 0.5000\n",
      "Epoch 83/200\n",
      "8/8 [==============================] - 1s 70ms/step - loss: 0.0039 - sparse_categorical_accuracy: 1.0000 - val_loss: 0.2521 - val_sparse_categorical_accuracy: 0.5000\n",
      "1/1 [==============================] - 1s 622ms/step - loss: 0.8374 - sparse_categorical_accuracy: 0.5000\n",
      "block1a_ same\n",
      "block2a_ ((1, 1), (1, 1))\n",
      "block2a_ valid\n",
      "block2b_ same\n",
      "block3a_ ((2, 2), (2, 2))\n",
      "block3a_ valid\n",
      "block3b_ same\n",
      "block4a_ ((1, 1), (1, 1))\n",
      "block4a_ valid\n",
      "block4b_ same\n",
      "block4c_ same\n",
      "block5a_ same\n",
      "block5b_ same\n",
      "block5c_ same\n",
      "block6a_ ((2, 2), (2, 2))\n",
      "block6a_ valid\n",
      "block6b_ same\n",
      "block6c_ same\n",
      "block6d_ same\n",
      "block7a_ same\n"
     ]
    }
   ],
   "source": [
    "# Train and evaluate the model using K-fold cross-validation\n",
    "scores = []\n",
    "training_accuracy = []\n",
    "validation_accuracy = []\n",
    "training_loss = []\n",
    "validation_loss = []\n",
    "\n",
    "## Initializing the model\n",
    "model_init()\n",
    "\n",
    "## counter for folds\n",
    "i = 1\n",
    "\n",
    "for train_idx, val_idx in kf.split(x_train_val):\n",
    "    X_train = tf.gather(x_train_val, train_idx)\n",
    "    y_train = tf.gather(y_train_val, train_idx)\n",
    "    X_val = tf.gather(x_train_val, val_idx)\n",
    "    y_val = tf.gather(y_train_val, val_idx)\n",
    "    \n",
    "    history = model.fit(X_train, y_train, validation_data=(X_val, y_val), epochs= config.model_epochs, verbose=1, batch_size=config.model_batch_size, \n",
    "                        callbacks=[early_stopping, checkpoint])\n",
    "\n",
    "    training_accuracy.append(history.history['sparse_categorical_accuracy'])\n",
    "    validation_accuracy.append(history.history['val_sparse_categorical_accuracy'])\n",
    "    training_loss.append(history.history['loss'])\n",
    "    validation_loss.append(history.history['val_loss'])\n",
    "    \n",
    "    model.load_weights('best_weights.h5')\n",
    "    score = model.evaluate(X_val, y_val)\n",
    "    scores.append(score[1])\n",
    "    \n",
    "    wandb.log({\"Best Validation Loss for Folds\": score[0]})\n",
    "    wandb.log({\"Best Validation Accuracy for Folds\" : score[1]})\n",
    "    \n",
    "    # Define the current and new file names\n",
    "    current_name = 'best_weights.h5'\n",
    "    new_name = 'fold_' + str(i) + '_best_model_weights.h5'\n",
    "    \n",
    "    i+=1\n",
    "\n",
    "    ## Rename the file\n",
    "    os.rename(current_name, new_name)\n",
    "    ## Log the model to wandb\n",
    "    wandb.save(new_name)\n",
    "    \n",
    "    ## Reseting the model for the next fold\n",
    "    model_init()"
   ]
  },
  {
   "cell_type": "code",
   "execution_count": 273,
   "id": "c3ae736d",
   "metadata": {
    "ExecuteTime": {
     "end_time": "2023-04-09T20:44:00.262059Z",
     "start_time": "2023-04-09T20:44:00.259248Z"
    },
    "tags": []
   },
   "outputs": [
    {
     "name": "stdout",
     "output_type": "stream",
     "text": [
      "Validation accuracy mean: 0.50 (std 0.08)\n"
     ]
    }
   ],
   "source": [
    "# Print the mean validation accuracy\n",
    "print('Validation accuracy mean: {:.2f} (std {:.2f})'.format(np.mean(scores), np.std(scores)))"
   ]
  },
  {
   "cell_type": "code",
   "execution_count": 274,
   "id": "36bb5a80-43a4-4af4-87f0-b5f2fe70db9a",
   "metadata": {
    "tags": []
   },
   "outputs": [],
   "source": [
    "wandb.log({\"Folds Validation Accuracy Mean\" : np.mean(scores),\n",
    "           \"Folds Validation Accuracy STD\": np.std(scores)})"
   ]
  },
  {
   "cell_type": "code",
   "execution_count": 275,
   "id": "380b7f7f-3f72-43b1-b0c7-271aacf6d261",
   "metadata": {
    "tags": []
   },
   "outputs": [
    {
     "data": {
      "text/plain": [
       "[0.625, 0.5, 0.375, 0.5, 0.5]"
      ]
     },
     "execution_count": 275,
     "metadata": {},
     "output_type": "execute_result"
    }
   ],
   "source": [
    "scores"
   ]
  },
  {
   "cell_type": "markdown",
   "id": "013aa747-2788-4c43-a743-c29c8c378de4",
   "metadata": {},
   "source": [
    "Calculating the **1 - Cohen's kappa** score of the trained model on the trained dataset."
   ]
  },
  {
   "cell_type": "markdown",
   "id": "6b25d1dd-8f31-410a-b166-e4e76ab602ca",
   "metadata": {},
   "source": [
    "## Model with best validation accuracy"
   ]
  },
  {
   "cell_type": "code",
   "execution_count": 276,
   "id": "57622050-4496-4b58-be90-6290691d01d0",
   "metadata": {
    "tags": []
   },
   "outputs": [],
   "source": [
    "## select the model with the best fold's validation accuracy\n",
    "maximum = max(scores)\n",
    "index_of_maximum = scores.index(maximum)\n",
    "best_fold = index_of_maximum + 1\n",
    "\n",
    "model.load_weights('fold_' + str(best_fold) + '_best_model_weights.h5')"
   ]
  },
  {
   "cell_type": "markdown",
   "id": "49502a7c-6390-436e-9735-799cdebb246b",
   "metadata": {
    "tags": []
   },
   "source": [
    "### Model with best validation accuracy Kohen's Kappa Score"
   ]
  },
  {
   "cell_type": "code",
   "execution_count": 277,
   "id": "bb08a64b",
   "metadata": {
    "ExecuteTime": {
     "end_time": "2023-04-04T20:10:20.518612Z",
     "start_time": "2023-04-04T20:10:19.125881Z"
    },
    "tags": []
   },
   "outputs": [
    {
     "name": "stdout",
     "output_type": "stream",
     "text": [
      "Score: 0.37142857142857144\n"
     ]
    }
   ],
   "source": [
    "predictions = np.zeros(len(y_test), dtype=np.int8)\n",
    "# inference loop\n",
    "for e, (image, target) in enumerate(zip(x_test, y_test)):\n",
    "    image = np.expand_dims(np.array(image), axis=0)\n",
    "    output = model.predict(image)\n",
    "    predictions[e] = np.squeeze(output).argmax()\n",
    "#Keras model score\n",
    "score_keras = cohen_kappa_score(y_test.numpy(), predictions)\n",
    "print(\"Score:\", score_keras)"
   ]
  },
  {
   "cell_type": "markdown",
   "id": "90bdf6d8-572a-4c1c-8923-0744bee1151f",
   "metadata": {
    "tags": []
   },
   "source": [
    "### Log Cohen Kappa Score for the model with the best validation accuracy (Unifeied Test Set)"
   ]
  },
  {
   "cell_type": "code",
   "execution_count": 278,
   "id": "b8332b8d-eaa4-437b-8e1b-ad922306c05a",
   "metadata": {
    "tags": []
   },
   "outputs": [],
   "source": [
    "wandb.log({\"Cohen Kappa Score for model with best validation accuracy (Unified Test Set)\": score_keras})"
   ]
  },
  {
   "cell_type": "markdown",
   "id": "79eba581-d390-470e-9a03-7add62fb9425",
   "metadata": {},
   "source": [
    "### Acuracy for model with best validation accuracy (Unified Test Set)"
   ]
  },
  {
   "cell_type": "code",
   "execution_count": 279,
   "id": "1f67616e-002a-46a0-9fed-d28104e756f6",
   "metadata": {
    "tags": []
   },
   "outputs": [
    {
     "name": "stdout",
     "output_type": "stream",
     "text": [
      "Accuracy:  0.45\n"
     ]
    }
   ],
   "source": [
    "# assuming you have two lists, predicted and actual\n",
    "correct = 0\n",
    "total = len(y_test.numpy())\n",
    "\n",
    "for pred, label in zip(predictions, y_test.numpy()):\n",
    "    if pred == label:\n",
    "        correct += 1\n",
    "\n",
    "accuracy = correct / total\n",
    "\n",
    "print(\"Accuracy: \", accuracy)"
   ]
  },
  {
   "cell_type": "markdown",
   "id": "d8bcfddf-9634-43fc-bc1e-068d1c7c04c1",
   "metadata": {
    "tags": []
   },
   "source": [
    "### Log Accuracy for the model with the best validation accuracy (Unifeied Test Set)"
   ]
  },
  {
   "cell_type": "code",
   "execution_count": 280,
   "id": "528570bb-2435-44ca-ac10-b8824ca2dde7",
   "metadata": {
    "tags": []
   },
   "outputs": [],
   "source": [
    "wandb.log({\"Accuracy for model with best validation accuracy (Unified Test Set)\": accuracy})"
   ]
  },
  {
   "cell_type": "markdown",
   "id": "4fa9ebb8-4d1c-434d-bf3e-d4c6cc942ee0",
   "metadata": {},
   "source": [
    "## Ensemble model from the k trained models"
   ]
  },
  {
   "cell_type": "code",
   "execution_count": 281,
   "id": "7df5c93d-bf69-4526-bf7a-dd469b15ac7e",
   "metadata": {
    "tags": []
   },
   "outputs": [],
   "source": [
    "models = []\n",
    "for i in range(1, (config.cross_validation_k + 1)):\n",
    "    # models.append(keras.models.load_model('fold_' + str(i) + '_best_model_weights.h5', custom_objects={'CustomLoss': custom_loss}))\n",
    "    models.append(keras.models.load_model('fold_' + str(i) + '_best_model_weights.h5', custom_objects={'sparse_categorical_focal_loss': custom_loss}))\n",
    "    \n",
    "y_preds = []\n",
    "for model in models:\n",
    "    y_pred = model.predict(x_test)\n",
    "    y_preds.append(y_pred)\n",
    "    \n",
    "# combine the predictions using voting or averaging\n",
    "y_ensemble = sum(y_preds) / config.cross_validation_k"
   ]
  },
  {
   "cell_type": "markdown",
   "id": "ffd793b9-e56c-46c5-9f58-38a7d4bbb536",
   "metadata": {},
   "source": [
    "### Ensemble model Kohen's Kappa Score"
   ]
  },
  {
   "cell_type": "code",
   "execution_count": 282,
   "id": "0a78c7c3-6804-4eb8-9244-926403e59229",
   "metadata": {
    "tags": []
   },
   "outputs": [
    {
     "name": "stdout",
     "output_type": "stream",
     "text": [
      "Score: 0.48571428571428577\n"
     ]
    }
   ],
   "source": [
    "predictions = np.zeros(len(y_test), dtype=np.int8)\n",
    "# inference loop\n",
    "for e, (image, target) in enumerate(zip(x_test, y_test)):\n",
    "    image = np.expand_dims(np.array(image), axis=0)\n",
    "    output = y_ensemble[e]\n",
    "    predictions[e] = np.squeeze(output).argmax()\n",
    "#Keras model score\n",
    "score_keras = cohen_kappa_score(y_test.numpy(), predictions)\n",
    "print(\"Score:\",score_keras)"
   ]
  },
  {
   "cell_type": "markdown",
   "id": "941f04a6-9431-4b6b-8bdc-ac2c2e7e4b14",
   "metadata": {
    "tags": []
   },
   "source": [
    "### Log Cohen Kappa Score for the ensemble model (Unifeied Test Set)"
   ]
  },
  {
   "cell_type": "code",
   "execution_count": 283,
   "id": "12edc555-dfc8-46a5-b232-90f414bbb4bd",
   "metadata": {
    "tags": []
   },
   "outputs": [],
   "source": [
    "wandb.log({\"Cohen Kappa Score for the ensemble model (Unified Test Set)\": score_keras})"
   ]
  },
  {
   "cell_type": "markdown",
   "id": "982b1e1e-7720-4784-9af6-f7aa5bc35e38",
   "metadata": {
    "tags": []
   },
   "source": [
    "### Accuracy "
   ]
  },
  {
   "cell_type": "code",
   "execution_count": 284,
   "id": "52b23a82-f1c9-4955-a519-a85187b2e656",
   "metadata": {
    "tags": []
   },
   "outputs": [
    {
     "name": "stdout",
     "output_type": "stream",
     "text": [
      "Accuracy:  0.55\n"
     ]
    }
   ],
   "source": [
    "# assuming you have two lists, predicted and actual\n",
    "correct = 0\n",
    "total = len(y_test.numpy())\n",
    "\n",
    "for pred, label in zip(predictions, y_test.numpy()):\n",
    "    if pred == label:\n",
    "        correct += 1\n",
    "\n",
    "accuracy = correct / total\n",
    "\n",
    "print(\"Accuracy: \", accuracy)"
   ]
  },
  {
   "cell_type": "markdown",
   "id": "18f073c6-6366-4846-8275-13af9784ca1e",
   "metadata": {
    "tags": []
   },
   "source": [
    "### Log Accuracy for the ensemble model (Unifeied Test Set)"
   ]
  },
  {
   "cell_type": "code",
   "execution_count": 285,
   "id": "be5c349e-cd11-43a5-b0e3-1f16aec93037",
   "metadata": {
    "tags": []
   },
   "outputs": [],
   "source": [
    "wandb.log({\"Accuracy for the ensemble model (Unified Test Set)\": accuracy})"
   ]
  },
  {
   "cell_type": "markdown",
   "id": "a6b9b6db-0771-41f7-9c83-29e26f8a9318",
   "metadata": {},
   "source": [
    "## Train - Validation Visualization"
   ]
  },
  {
   "cell_type": "code",
   "execution_count": 286,
   "id": "eccf8e57-6fb7-443d-ba9a-adc43ba15c43",
   "metadata": {
    "tags": []
   },
   "outputs": [
    {
     "data": {
      "text/plain": [
       "[69, 71, 50, 55, 83]"
      ]
     },
     "execution_count": 286,
     "metadata": {},
     "output_type": "execute_result"
    }
   ],
   "source": [
    "eps_per_fold = [len(sub_list) for sub_list in training_accuracy]\n",
    "eps_per_fold"
   ]
  },
  {
   "cell_type": "code",
   "execution_count": 287,
   "id": "5865317a-83dc-42c1-a4f3-1abe577e63b8",
   "metadata": {
    "tags": []
   },
   "outputs": [],
   "source": [
    "eps_per_fold_cum = list(accumulate(eps_per_fold))"
   ]
  },
  {
   "cell_type": "code",
   "execution_count": 288,
   "id": "154f6fb9-0369-4090-983d-58a4d79f5410",
   "metadata": {
    "tags": []
   },
   "outputs": [],
   "source": [
    "training_accuracy = [element for sublist in training_accuracy for element in sublist]\n",
    "validation_accuracy = [element for sublist in validation_accuracy for element in sublist]\n",
    "training_loss = [element for sublist in training_loss for element in sublist]\n",
    "validation_loss = [element for sublist in validation_loss for element in sublist]"
   ]
  },
  {
   "cell_type": "code",
   "execution_count": 289,
   "id": "c84b0a9c-6f41-444e-ba23-cab449735fb1",
   "metadata": {
    "tags": []
   },
   "outputs": [
    {
     "data": {
      "text/plain": [
       "[69, 140, 190, 245, 328]"
      ]
     },
     "execution_count": 289,
     "metadata": {},
     "output_type": "execute_result"
    }
   ],
   "source": [
    "eps_per_fold_cum"
   ]
  },
  {
   "cell_type": "code",
   "execution_count": 290,
   "id": "a3bdaa28-fd23-4ffc-9174-f51aa4ad8f2a",
   "metadata": {
    "tags": []
   },
   "outputs": [],
   "source": [
    "xs = []\n",
    "ys = []\n",
    "for i in range(config.cross_validation_k):\n",
    "    xs.append(eps_per_fold_cum[i]+1)\n",
    "    ys.append(training_accuracy[eps_per_fold_cum[0]-1])\n",
    "# xs = [eps_per_fold_cum[0]+1, eps_per_fold_cum[1]+1, eps_per_fold_cum[2]+1, eps_per_fold_cum[3]+1, eps_per_fold_cum[4]+1]\n",
    "# ys = [training_accuracy[eps_per_fold_cum[0]-1], training_accuracy[eps_per_fold_cum[1]-1], training_accuracy[eps_per_fold_cum[2]-1],\n",
    "#          training_accuracy[eps_per_fold_cum[3]-1], training_accuracy[eps_per_fold_cum[4]-1]]"
   ]
  },
  {
   "cell_type": "code",
   "execution_count": 291,
   "id": "f5e2e0b8-4b97-430f-a553-5962477fa2e4",
   "metadata": {
    "tags": []
   },
   "outputs": [
    {
     "data": {
      "image/png": "[encoded data removed]",
      "text/plain": [
       "<Figure size 1500x600 with 1 Axes>"
      ]
     },
     "metadata": {},
     "output_type": "display_data"
    }
   ],
   "source": [
    "x1 = list(range(1, len(training_accuracy) + 1))\n",
    "x2 = list(range(1, len(validation_accuracy) + 1))\n",
    "\n",
    "fig = plt.figure(figsize=(15, 6))\n",
    "\n",
    "# Create the plot\n",
    "plt.plot(x1, training_accuracy, label='Training Accuracy')\n",
    "plt.plot(x2, validation_accuracy, label='Validation Accuracy')\n",
    "\n",
    "\n",
    "\n",
    "# Add points with labels\n",
    "for i in range(config.cross_validation_k-1):\n",
    "    plt.axvline(x=xs[i], color='red', linestyle='--')\n",
    "# plt.axvline(x=xs[0], color='red', linestyle='--')\n",
    "# plt.axvline(x=xs[1], color='red', linestyle='--')\n",
    "# plt.axvline(x=xs[2], color='red', linestyle='--')\n",
    "# plt.axvline(x=xs[3], color='red', linestyle='--')\n",
    "\n",
    "# Add annotations to the lines\n",
    "for i in range(config.cross_validation_k-1):\n",
    "    plt.annotate('Fold '+str(i+2), xy=(xs[i], 0.2), xytext=(xs[i]+1, 0.15),\n",
    "             arrowprops=dict(facecolor='black', arrowstyle='->'))\n",
    "\n",
    "# plt.annotate('Fold 2', xy=(xs[0], 0.5), xytext=(xs[0]+1, 0.4),\n",
    "#              arrowprops=dict(facecolor='black', arrowstyle='->'))\n",
    "# plt.annotate('Fold 3', xy=(xs[1], 0.5), xytext=(xs[1]+1, 0.4),\n",
    "#              arrowprops=dict(facecolor='black', arrowstyle='->'))\n",
    "# plt.annotate('Fold 4', xy=(xs[2], 0.5), xytext=(xs[2]+1, 0.4),\n",
    "#              arrowprops=dict(facecolor='black', arrowstyle='->'))\n",
    "# plt.annotate('Fold 5', xy=(xs[3], 0.5), xytext=(xs[3]+1, 0.4),\n",
    "#              arrowprops=dict(facecolor='black', arrowstyle='->'))\n",
    "# plt.axvline(x=xs[4], color='red', linestyle='--')\n",
    "# plt.scatter(xs, ys, color='red')\n",
    "# plt.annotate('Point 1', (2, 4), textcoords=\"offset points\", xytext=(0,10), ha='center')\n",
    "# plt.annotate('Point 2', (4, 8), textcoords=\"offset points\", xytext=(0,10), ha='center')\n",
    "\n",
    "\n",
    "# Add a legend\n",
    "plt.legend()\n",
    "\n",
    "# Enable the grid\n",
    "# plt.grid(True)\n",
    "\n",
    "## Log Train - Val Accuracy Curve\n",
    "wandb.log({'Train - Val Accuracy': wandb.Image(plt)})\n",
    "\n",
    "# Show the plot\n",
    "# plt.show()"
   ]
  },
  {
   "cell_type": "code",
   "execution_count": 292,
   "id": "0f09b955-43d2-4cec-9601-68f309c45c13",
   "metadata": {
    "tags": []
   },
   "outputs": [
    {
     "data": {
      "image/png": "[encoded data removed]",
      "text/plain": [
       "<Figure size 1500x600 with 1 Axes>"
      ]
     },
     "metadata": {},
     "output_type": "display_data"
    }
   ],
   "source": [
    "x1 = list(range(1, len(training_loss) + 1))\n",
    "x2 = list(range(1, len(validation_loss) + 1))\n",
    "\n",
    "fig = plt.figure(figsize=(15, 6))\n",
    "\n",
    "# Create the plot\n",
    "plt.plot(x1, training_loss, label='Training Loss')\n",
    "plt.plot(x2, validation_loss, label='Validation Loss')\n",
    "\n",
    "\n",
    "\n",
    "# Add points with labels\n",
    "for i in range(config.cross_validation_k-1):\n",
    "    plt.axvline(x=xs[i], color='red', linestyle='--')\n",
    "# plt.axvline(x=xs[0], color='red', linestyle='--')\n",
    "# plt.axvline(x=xs[1], color='red', linestyle='--')\n",
    "# plt.axvline(x=xs[2], color='red', linestyle='--')\n",
    "# plt.axvline(x=xs[3], color='red', linestyle='--')\n",
    "\n",
    "# Add annotations to the lines\n",
    "for i in range(config.cross_validation_k-1):\n",
    "    plt.annotate('Fold '+str(i+2), xy=(xs[i], 0), xytext=(xs[i]+1, 0),\n",
    "             arrowprops=dict(facecolor='black', arrowstyle='->'))\n",
    "\n",
    "# plt.annotate('Fold 2', xy=(xs[0], 0.5), xytext=(xs[0]+1, 0.4),\n",
    "#              arrowprops=dict(facecolor='black', arrowstyle='->'))\n",
    "# plt.annotate('Fold 3', xy=(xs[1], 0.5), xytext=(xs[1]+1, 0.4),\n",
    "#              arrowprops=dict(facecolor='black', arrowstyle='->'))\n",
    "# plt.annotate('Fold 4', xy=(xs[2], 0.5), xytext=(xs[2]+1, 0.4),\n",
    "#              arrowprops=dict(facecolor='black', arrowstyle='->'))\n",
    "# plt.annotate('Fold 5', xy=(xs[3], 0.5), xytext=(xs[3]+1, 0.4),\n",
    "#              arrowprops=dict(facecolor='black', arrowstyle='->'))\n",
    "# plt.axvline(x=xs[4], color='red', linestyle='--')\n",
    "# plt.scatter(xs, ys, color='red')\n",
    "# plt.annotate('Point 1', (2, 4), textcoords=\"offset points\", xytext=(0,10), ha='center')\n",
    "# plt.annotate('Point 2', (4, 8), textcoords=\"offset points\", xytext=(0,10), ha='center')\n",
    "\n",
    "\n",
    "# Add a legend\n",
    "plt.legend()\n",
    "\n",
    "# Enable the grid\n",
    "# plt.grid(True)\n",
    "\n",
    "## Log Train - Val Accuracy Curve\n",
    "wandb.log({'Train - Val Loss': wandb.Image(plt)})\n",
    "\n",
    "# Show the plot\n",
    "# plt.show()"
   ]
  },
  {
   "cell_type": "markdown",
   "id": "3f341c28-1ecf-42a6-b76f-710d8bc40fbf",
   "metadata": {},
   "source": [
    "## Log Unified Test Set and its predictions"
   ]
  },
  {
   "cell_type": "code",
   "execution_count": 293,
   "id": "bd3a4b92-6599-4f63-8e84-9404ff5ee6be",
   "metadata": {
    "tags": []
   },
   "outputs": [],
   "source": [
    "prediction_names = [class_name_label[num] for num in predictions]\n",
    "actual_names = [class_name_label[num] for num in y_test.numpy()]"
   ]
  },
  {
   "cell_type": "code",
   "execution_count": 294,
   "id": "e57e146b-c100-4338-a283-8c9ad2ee3641",
   "metadata": {
    "tags": []
   },
   "outputs": [],
   "source": [
    "pred_is_actual = [x == y for x, y in zip(prediction_names, actual_names)]"
   ]
  },
  {
   "cell_type": "markdown",
   "id": "3e3d1ad5-f57c-496a-9439-b6f70204ed37",
   "metadata": {},
   "source": [
    "### Log Correct and Wrong Predictions as Images"
   ]
  },
  {
   "cell_type": "code",
   "execution_count": 295,
   "id": "d02bdf7d-96b3-4f19-adeb-534865cc5c43",
   "metadata": {
    "tags": []
   },
   "outputs": [],
   "source": [
    "# assuming you have lists of images, predictions, and actual labels\n",
    "for i, (img, pred, label) in enumerate(zip(x_test, prediction_names, actual_names)):\n",
    "    wandb.log({'All Predictions - Unified Test Set': wandb.Image(img, caption='predicted: {}, actual: {}'.format(pred, label))})\n",
    "    \n",
    "    if(pred_is_actual[i]):\n",
    "        wandb.log({'Correct Predictions - Unified Test Set': wandb.Image(img, caption='predicted: {}, actual: {}'.format(pred, label))})\n",
    "    else:\n",
    "        wandb.log({'Wrong Predictions - Unified Test Set': wandb.Image(img, caption='predicted: {}, actual: {}'.format(pred, label))})"
   ]
  },
  {
   "cell_type": "markdown",
   "id": "f185f21c-183f-4a40-a006-7a9e584773c6",
   "metadata": {},
   "source": [
    "### Class accuracies"
   ]
  },
  {
   "cell_type": "code",
   "execution_count": 296,
   "id": "97ec4f49-6f4f-4e84-9202-d292727f66a1",
   "metadata": {},
   "outputs": [],
   "source": [
    "df_preds = pd.DataFrame({\"actual\": actual_names, \"prediction\": prediction_names, \"correct\": pred_is_actual})"
   ]
  },
  {
   "cell_type": "code",
   "execution_count": 297,
   "id": "d9f98010-5dca-4c8b-8d41-9707a3b88b36",
   "metadata": {
    "tags": []
   },
   "outputs": [],
   "source": [
    "# group the dataframe by the 'actual' column\n",
    "grouped = df_preds.groupby('actual')\n",
    "class_accuracy = pd.DataFrame(data={}, columns=['class', 'accuracy'])\n",
    "# calculate the accuracy for each group\n",
    "for name, group in grouped:\n",
    "    accuracy = accuracy_score(group['actual'], group['prediction'])\n",
    "    # print('Accuracy for class {}: {}'.format(name, accuracy))\n",
    "    new_row = {\"class\": name, 'accuracy': accuracy}\n",
    "    class_accuracy = pd.concat([class_accuracy, pd.DataFrame([new_row])], ignore_index=True)\n",
    "class_accuracy = class_accuracy.sort_values('accuracy', ascending=True).reset_index(drop = True)"
   ]
  },
  {
   "cell_type": "code",
   "execution_count": 298,
   "id": "bec8b796-108b-46eb-9960-dcd324c754c4",
   "metadata": {
    "tags": []
   },
   "outputs": [
    {
     "data": {
      "text/html": [
       "<div>\n",
       "<style scoped>\n",
       "    .dataframe tbody tr th:only-of-type {\n",
       "        vertical-align: middle;\n",
       "    }\n",
       "\n",
       "    .dataframe tbody tr th {\n",
       "        vertical-align: top;\n",
       "    }\n",
       "\n",
       "    .dataframe thead th {\n",
       "        text-align: right;\n",
       "    }\n",
       "</style>\n",
       "<table border=\"1\" class=\"dataframe\">\n",
       "  <thead>\n",
       "    <tr style=\"text-align: right;\">\n",
       "      <th></th>\n",
       "      <th>class</th>\n",
       "      <th>accuracy</th>\n",
       "    </tr>\n",
       "  </thead>\n",
       "  <tbody>\n",
       "    <tr>\n",
       "      <th>0</th>\n",
       "      <td>Agricultural</td>\n",
       "      <td>0.0</td>\n",
       "    </tr>\n",
       "    <tr>\n",
       "      <th>1</th>\n",
       "      <td>Water</td>\n",
       "      <td>0.2</td>\n",
       "    </tr>\n",
       "    <tr>\n",
       "      <th>2</th>\n",
       "      <td>Mountain</td>\n",
       "      <td>0.4</td>\n",
       "    </tr>\n",
       "    <tr>\n",
       "      <th>3</th>\n",
       "      <td>Snow</td>\n",
       "      <td>0.4</td>\n",
       "    </tr>\n",
       "    <tr>\n",
       "      <th>4</th>\n",
       "      <td>Cloud</td>\n",
       "      <td>0.8</td>\n",
       "    </tr>\n",
       "    <tr>\n",
       "      <th>5</th>\n",
       "      <td>Natural</td>\n",
       "      <td>0.8</td>\n",
       "    </tr>\n",
       "    <tr>\n",
       "      <th>6</th>\n",
       "      <td>Sea_ice</td>\n",
       "      <td>0.8</td>\n",
       "    </tr>\n",
       "    <tr>\n",
       "      <th>7</th>\n",
       "      <td>River</td>\n",
       "      <td>1.0</td>\n",
       "    </tr>\n",
       "  </tbody>\n",
       "</table>\n",
       "</div>"
      ],
      "text/plain": [
       "          class  accuracy\n",
       "0  Agricultural       0.0\n",
       "1         Water       0.2\n",
       "2      Mountain       0.4\n",
       "3          Snow       0.4\n",
       "4         Cloud       0.8\n",
       "5       Natural       0.8\n",
       "6       Sea_ice       0.8\n",
       "7         River       1.0"
      ]
     },
     "execution_count": 298,
     "metadata": {},
     "output_type": "execute_result"
    }
   ],
   "source": [
    "class_accuracy"
   ]
  },
  {
   "cell_type": "code",
   "execution_count": 299,
   "id": "6f9fb81b-ae64-431a-8b1c-d56011502aaa",
   "metadata": {
    "tags": []
   },
   "outputs": [],
   "source": [
    "# create a wandb.Table object from the dataframe\n",
    "table = wandb.Table(dataframe=class_accuracy)\n",
    "# log the table to wandb\n",
    "wandb.log({'Class Accuracies': table})"
   ]
  },
  {
   "cell_type": "code",
   "execution_count": 300,
   "id": "d86f03fa-fdd8-4861-b0ae-d9d079d9334a",
   "metadata": {
    "tags": []
   },
   "outputs": [
    {
     "data": {
      "text/html": [
       "Waiting for W&B process to finish... <strong style=\"color:green\">(success).</strong>"
      ],
      "text/plain": [
       "<IPython.core.display.HTML object>"
      ]
     },
     "metadata": {},
     "output_type": "display_data"
    },
    {
     "data": {
      "text/html": [
       "<style>\n",
       "    table.wandb td:nth-child(1) { padding: 0 10px; text-align: left ; width: auto;} td:nth-child(2) {text-align: left ; width: 100%}\n",
       "    .wandb-row { display: flex; flex-direction: row; flex-wrap: wrap; justify-content: flex-start; width: 100% }\n",
       "    .wandb-col { display: flex; flex-direction: column; flex-basis: 100%; flex: 1; padding: 10px; }\n",
       "    </style>\n",
       "<div class=\"wandb-row\"><div class=\"wandb-col\"><h3>Run history:</h3><br/><table class=\"wandb\"><tr><td>Accuracy for model with best validation accuracy (Unified Test Set)</td><td>▁</td></tr><tr><td>Accuracy for the ensemble model (Unified Test Set)</td><td>▁</td></tr><tr><td>Best Validation Accuracy for Folds</td><td>█▅▁▅▅</td></tr><tr><td>Best Validation Loss for Folds</td><td>▃▆▃▁█</td></tr><tr><td>Cohen Kappa Score for model with best validation accuracy (Unified Test Set)</td><td>▁</td></tr><tr><td>Cohen Kappa Score for the ensemble model (Unified Test Set)</td><td>▁</td></tr><tr><td>Folds Validation Accuracy Mean</td><td>▁</td></tr><tr><td>Folds Validation Accuracy STD</td><td>▁</td></tr><tr><td>Test Set Size</td><td>▁</td></tr><tr><td>Training Validation Set Size</td><td>▁</td></tr></table><br/></div><div class=\"wandb-col\"><h3>Run summary:</h3><br/><table class=\"wandb\"><tr><td>Accuracy for model with best validation accuracy (Unified Test Set)</td><td>0.45</td></tr><tr><td>Accuracy for the ensemble model (Unified Test Set)</td><td>0.55</td></tr><tr><td>Best Validation Accuracy for Folds</td><td>0.5</td></tr><tr><td>Best Validation Loss for Folds</td><td>0.83741</td></tr><tr><td>Cohen Kappa Score for model with best validation accuracy (Unified Test Set)</td><td>0.37143</td></tr><tr><td>Cohen Kappa Score for the ensemble model (Unified Test Set)</td><td>0.48571</td></tr><tr><td>Dataset Name</td><td>The OPS-SAT case dat...</td></tr><tr><td>Dataset Variation Description</td><td>Original Variation</td></tr><tr><td>Folds Validation Accuracy Mean</td><td>0.5</td></tr><tr><td>Folds Validation Accuracy STD</td><td>0.07906</td></tr><tr><td>Test Set Path</td><td>/home/ramez/Politech...</td></tr><tr><td>Test Set Size</td><td>40</td></tr><tr><td>Train Val Set Path</td><td>/home/ramez/Politech...</td></tr><tr><td>Training Validation Set Size</td><td>40</td></tr></table><br/></div></div>"
      ],
      "text/plain": [
       "<IPython.core.display.HTML object>"
      ]
     },
     "metadata": {},
     "output_type": "display_data"
    },
    {
     "data": {
      "text/html": [
       " View run <strong style=\"color:#cdcd00\">colorful-durian-74</strong> at: <a href='https://wandb.ai/ramez/OPS-SAT-Thesis-Project/runs/e8szvkh3' target=\"_blank\">https://wandb.ai/ramez/OPS-SAT-Thesis-Project/runs/e8szvkh3</a><br/>Synced 6 W&B file(s), 83 media file(s), 1 artifact file(s) and 5 other file(s)"
      ],
      "text/plain": [
       "<IPython.core.display.HTML object>"
      ]
     },
     "metadata": {},
     "output_type": "display_data"
    },
    {
     "data": {
      "text/html": [
       "Find logs at: <code>./wandb/run-20230526_212947-e8szvkh3/logs</code>"
      ],
      "text/plain": [
       "<IPython.core.display.HTML object>"
      ]
     },
     "metadata": {},
     "output_type": "display_data"
    }
   ],
   "source": [
    "wandb.finish()"
   ]
  },
  {
   "cell_type": "code",
   "execution_count": null,
   "id": "f1073ff0-8023-4446-9287-711b255c8486",
   "metadata": {},
   "outputs": [],
   "source": []
  },
  {
   "cell_type": "code",
   "execution_count": null,
   "id": "6914a879-ea49-4d8c-aa12-22231573d2e4",
   "metadata": {},
   "outputs": [],
   "source": []
  },
  {
   "cell_type": "code",
   "execution_count": null,
   "id": "488a741c-626d-4480-acf2-0e18892a05ab",
   "metadata": {},
   "outputs": [],
   "source": []
  },
  {
   "cell_type": "code",
   "execution_count": null,
   "id": "e4480c0e-72c2-418c-af05-2d47ae530e70",
   "metadata": {},
   "outputs": [],
   "source": []
  },
  {
   "cell_type": "code",
   "execution_count": null,
   "id": "ab82b9af-129b-4795-9411-60ba573f9656",
   "metadata": {},
   "outputs": [],
   "source": []
  },
  {
   "cell_type": "code",
   "execution_count": null,
   "id": "d718f5fc",
   "metadata": {
    "ExecuteTime": {
     "end_time": "2023-04-09T20:42:39.783353Z",
     "start_time": "2023-04-09T20:42:39.220320Z"
    },
    "tags": []
   },
   "outputs": [],
   "source": [
    "## Load the Model without any weight initialization\n",
    "# model = EfficientNetLiteB0(classes=num_classes, weights=None, input_shape=input_shape, classifier_activation=None)\n",
    "# model.summary()"
   ]
  },
  {
   "cell_type": "code",
   "execution_count": null,
   "id": "2c9ed0f4-bd3f-45bd-b135-b0332086e2f7",
   "metadata": {},
   "outputs": [],
   "source": []
  },
  {
   "cell_type": "code",
   "execution_count": null,
   "id": "00f6c73b",
   "metadata": {
    "ExecuteTime": {
     "end_time": "2022-10-30T19:46:06.491070Z",
     "start_time": "2022-10-30T19:46:06.274124Z"
    }
   },
   "outputs": [],
   "source": [
    "## Saving model\n",
    "# model.save_weights('/home/ramez/Politechnika_Slaska_MSc/Thesis/Competition/submission/submit_19.h5')"
   ]
  },
  {
   "cell_type": "code",
   "execution_count": null,
   "id": "8b0adb32",
   "metadata": {
    "ExecuteTime": {
     "end_time": "2022-10-30T19:40:44.823406Z",
     "start_time": "2022-10-30T19:40:43.780920Z"
    }
   },
   "outputs": [],
   "source": [
    "# model = EfficientNetLiteB0(classes=num_classes, weights=None, input_shape=input_shape, classifier_activation=None)\n",
    "# # model = EfficientNetLiteB0(include_top=False, classes=num_classes, weights='imagenet', input_shape=input_shape, classifier_activation=None)\n",
    "# model.load_weights('/home/ramez/Politechnika_Slaska_MSc/Thesis/Competition/submission/model_patterns_20epochs.h5')"
   ]
  },
  {
   "cell_type": "markdown",
   "id": "91d26b2b",
   "metadata": {},
   "source": [
    "The model will be now compiled and tested again. You should get the same score as before saving and loading. "
   ]
  },
  {
   "cell_type": "code",
   "execution_count": null,
   "id": "82416ca4",
   "metadata": {},
   "outputs": [],
   "source": []
  },
  {
   "cell_type": "code",
   "execution_count": null,
   "id": "14eedf3b",
   "metadata": {},
   "outputs": [],
   "source": []
  },
  {
   "cell_type": "code",
   "execution_count": null,
   "id": "786276ad",
   "metadata": {},
   "outputs": [],
   "source": []
  },
  {
   "cell_type": "code",
   "execution_count": null,
   "id": "bf1b71e6",
   "metadata": {
    "ExecuteTime": {
     "end_time": "2022-10-12T18:20:06.668315Z",
     "start_time": "2022-10-12T18:20:06.652610Z"
    }
   },
   "outputs": [],
   "source": []
  },
  {
   "cell_type": "code",
   "execution_count": null,
   "id": "e2dd4279",
   "metadata": {},
   "outputs": [],
   "source": []
  }
 ],
 "metadata": {
  "kernelspec": {
   "display_name": "Python 3 (ipykernel)",
   "language": "python",
   "name": "python3"
  },
  "language_info": {
   "codemirror_mode": {
    "name": "ipython",
    "version": 3
   },
   "file_extension": ".py",
   "mimetype": "text/x-python",
   "name": "python",
   "nbconvert_exporter": "python",
   "pygments_lexer": "ipython3",
   "version": "3.9.16"
  },
  "toc": {
   "base_numbering": 1,
   "nav_menu": {},
   "number_sections": true,
   "sideBar": true,
   "skip_h1_title": false,
   "title_cell": "Table of Contents",
   "title_sidebar": "Contents",
   "toc_cell": false,
   "toc_position": {},
   "toc_section_display": true,
   "toc_window_display": false
  }
 },
 "nbformat": 4,
 "nbformat_minor": 5
}
